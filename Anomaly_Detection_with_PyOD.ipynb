{
  "nbformat": 4,
  "nbformat_minor": 0,
  "metadata": {
    "colab": {
      "name": "Anomaly Detection with PyOD.ipynb",
      "provenance": [],
      "collapsed_sections": [],
      "authorship_tag": "ABX9TyMkHjav4xcyx3g71NGdMXlj",
      "include_colab_link": true
    },
    "kernelspec": {
      "name": "python3",
      "display_name": "Python 3"
    },
    "language_info": {
      "name": "python"
    },
    "accelerator": "GPU"
  },
  "cells": [
    {
      "cell_type": "markdown",
      "metadata": {
        "id": "view-in-github",
        "colab_type": "text"
      },
      "source": [
        "<a href=\"https://colab.research.google.com/github/myconcordia/A2I2/blob/main/Anomaly_Detection_with_PyOD.ipynb\" target=\"_parent\"><img src=\"https://colab.research.google.com/assets/colab-badge.svg\" alt=\"Open In Colab\"/></a>"
      ]
    },
    {
      "cell_type": "markdown",
      "metadata": {
        "id": "HTHTUdomQiVs"
      },
      "source": [
        "#**Anomaly Detection with PyOD**"
      ]
    },
    {
      "cell_type": "markdown",
      "metadata": {
        "id": "ZUwWDn2IMYPD"
      },
      "source": [
        "Check Python Version in Jupyter Notebook"
      ]
    },
    {
      "cell_type": "code",
      "metadata": {
        "colab": {
          "base_uri": "https://localhost:8080/",
          "height": 35
        },
        "id": "iy9wdHoezi74",
        "outputId": "4875486a-3c07-4c96-c930-0cabcf48bee4"
      },
      "source": [
        "from platform import python_version\n",
        "python_version()"
      ],
      "execution_count": 1,
      "outputs": [
        {
          "output_type": "execute_result",
          "data": {
            "application/vnd.google.colaboratory.intrinsic+json": {
              "type": "string"
            },
            "text/plain": [
              "'3.7.12'"
            ]
          },
          "metadata": {},
          "execution_count": 1
        }
      ]
    },
    {
      "cell_type": "markdown",
      "metadata": {
        "id": "ZHiyy5Ubf5I1"
      },
      "source": [
        "**Import Libraries**"
      ]
    },
    {
      "cell_type": "code",
      "metadata": {
        "id": "4N37Pegcf4ft"
      },
      "source": [
        "import numpy as np\n",
        "import matplotlib.pyplot as plt\n",
        "import seaborn as sns\n",
        "sns.set_theme(style=\"darkgrid\")\n",
        "import pandas as pd\n",
        "plt.rcParams['figure.figsize'] = (12,8)"
      ],
      "execution_count": 2,
      "outputs": []
    },
    {
      "cell_type": "markdown",
      "metadata": {
        "id": "jNo8n9cvP9or"
      },
      "source": [
        "**Dataset**\n",
        "\n",
        "This is simple data set of US superstore from 2014-2018."
      ]
    },
    {
      "cell_type": "code",
      "metadata": {
        "colab": {
          "base_uri": "https://localhost:8080/",
          "height": 556
        },
        "id": "8aN7mI-2e7z1",
        "outputId": "46e4d3b4-2b16-420f-98c3-8d6f00ea542f"
      },
      "source": [
        "#read cvs file into dataframe\n",
        "df = pd.read_csv('https://raw.githubusercontent.com/myconcordia/A2I2/main/Superstore.csv')\n",
        "df.head()"
      ],
      "execution_count": 3,
      "outputs": [
        {
          "output_type": "execute_result",
          "data": {
            "text/html": [
              "<div>\n",
              "<style scoped>\n",
              "    .dataframe tbody tr th:only-of-type {\n",
              "        vertical-align: middle;\n",
              "    }\n",
              "\n",
              "    .dataframe tbody tr th {\n",
              "        vertical-align: top;\n",
              "    }\n",
              "\n",
              "    .dataframe thead th {\n",
              "        text-align: right;\n",
              "    }\n",
              "</style>\n",
              "<table border=\"1\" class=\"dataframe\">\n",
              "  <thead>\n",
              "    <tr style=\"text-align: right;\">\n",
              "      <th></th>\n",
              "      <th>Row ID</th>\n",
              "      <th>Order ID</th>\n",
              "      <th>Order Date</th>\n",
              "      <th>Ship Date</th>\n",
              "      <th>Ship Mode</th>\n",
              "      <th>Customer ID</th>\n",
              "      <th>Customer Name</th>\n",
              "      <th>Segment</th>\n",
              "      <th>Country</th>\n",
              "      <th>City</th>\n",
              "      <th>State</th>\n",
              "      <th>Postal Code</th>\n",
              "      <th>Region</th>\n",
              "      <th>Product ID</th>\n",
              "      <th>Category</th>\n",
              "      <th>Sub-Category</th>\n",
              "      <th>Product Name</th>\n",
              "      <th>Sales</th>\n",
              "      <th>Quantity</th>\n",
              "      <th>Discount</th>\n",
              "      <th>Profit</th>\n",
              "    </tr>\n",
              "  </thead>\n",
              "  <tbody>\n",
              "    <tr>\n",
              "      <th>0</th>\n",
              "      <td>1</td>\n",
              "      <td>CA-2016-152156</td>\n",
              "      <td>2016-11-08</td>\n",
              "      <td>2016-11-11</td>\n",
              "      <td>Second Class</td>\n",
              "      <td>CG-12520</td>\n",
              "      <td>Claire Gute</td>\n",
              "      <td>Consumer</td>\n",
              "      <td>United States</td>\n",
              "      <td>Henderson</td>\n",
              "      <td>Kentucky</td>\n",
              "      <td>42420</td>\n",
              "      <td>South</td>\n",
              "      <td>FUR-BO-10001798</td>\n",
              "      <td>Furniture</td>\n",
              "      <td>Bookcases</td>\n",
              "      <td>Bush Somerset Collection Bookcase</td>\n",
              "      <td>261.9600</td>\n",
              "      <td>2</td>\n",
              "      <td>0.00</td>\n",
              "      <td>41.9136</td>\n",
              "    </tr>\n",
              "    <tr>\n",
              "      <th>1</th>\n",
              "      <td>2</td>\n",
              "      <td>CA-2016-152156</td>\n",
              "      <td>2016-11-08</td>\n",
              "      <td>2016-11-11</td>\n",
              "      <td>Second Class</td>\n",
              "      <td>CG-12520</td>\n",
              "      <td>Claire Gute</td>\n",
              "      <td>Consumer</td>\n",
              "      <td>United States</td>\n",
              "      <td>Henderson</td>\n",
              "      <td>Kentucky</td>\n",
              "      <td>42420</td>\n",
              "      <td>South</td>\n",
              "      <td>FUR-CH-10000454</td>\n",
              "      <td>Furniture</td>\n",
              "      <td>Chairs</td>\n",
              "      <td>Hon Deluxe Fabric Upholstered Stacking Chairs,...</td>\n",
              "      <td>731.9400</td>\n",
              "      <td>3</td>\n",
              "      <td>0.00</td>\n",
              "      <td>219.5820</td>\n",
              "    </tr>\n",
              "    <tr>\n",
              "      <th>2</th>\n",
              "      <td>3</td>\n",
              "      <td>CA-2016-138688</td>\n",
              "      <td>2016-06-12</td>\n",
              "      <td>2016-06-16</td>\n",
              "      <td>Second Class</td>\n",
              "      <td>DV-13045</td>\n",
              "      <td>Darrin Van Huff</td>\n",
              "      <td>Corporate</td>\n",
              "      <td>United States</td>\n",
              "      <td>Los Angeles</td>\n",
              "      <td>California</td>\n",
              "      <td>90036</td>\n",
              "      <td>West</td>\n",
              "      <td>OFF-LA-10000240</td>\n",
              "      <td>Office Supplies</td>\n",
              "      <td>Labels</td>\n",
              "      <td>Self-Adhesive Address Labels for Typewriters b...</td>\n",
              "      <td>14.6200</td>\n",
              "      <td>2</td>\n",
              "      <td>0.00</td>\n",
              "      <td>6.8714</td>\n",
              "    </tr>\n",
              "    <tr>\n",
              "      <th>3</th>\n",
              "      <td>4</td>\n",
              "      <td>US-2015-108966</td>\n",
              "      <td>2015-10-11</td>\n",
              "      <td>2015-10-18</td>\n",
              "      <td>Standard Class</td>\n",
              "      <td>SO-20335</td>\n",
              "      <td>Sean O'Donnell</td>\n",
              "      <td>Consumer</td>\n",
              "      <td>United States</td>\n",
              "      <td>Fort Lauderdale</td>\n",
              "      <td>Florida</td>\n",
              "      <td>33311</td>\n",
              "      <td>South</td>\n",
              "      <td>FUR-TA-10000577</td>\n",
              "      <td>Furniture</td>\n",
              "      <td>Tables</td>\n",
              "      <td>Bretford CR4500 Series Slim Rectangular Table</td>\n",
              "      <td>957.5775</td>\n",
              "      <td>5</td>\n",
              "      <td>0.45</td>\n",
              "      <td>-383.0310</td>\n",
              "    </tr>\n",
              "    <tr>\n",
              "      <th>4</th>\n",
              "      <td>5</td>\n",
              "      <td>US-2015-108966</td>\n",
              "      <td>2015-10-11</td>\n",
              "      <td>2015-10-18</td>\n",
              "      <td>Standard Class</td>\n",
              "      <td>SO-20335</td>\n",
              "      <td>Sean O'Donnell</td>\n",
              "      <td>Consumer</td>\n",
              "      <td>United States</td>\n",
              "      <td>Fort Lauderdale</td>\n",
              "      <td>Florida</td>\n",
              "      <td>33311</td>\n",
              "      <td>South</td>\n",
              "      <td>OFF-ST-10000760</td>\n",
              "      <td>Office Supplies</td>\n",
              "      <td>Storage</td>\n",
              "      <td>Eldon Fold 'N Roll Cart System</td>\n",
              "      <td>22.3680</td>\n",
              "      <td>2</td>\n",
              "      <td>0.20</td>\n",
              "      <td>2.5164</td>\n",
              "    </tr>\n",
              "  </tbody>\n",
              "</table>\n",
              "</div>"
            ],
            "text/plain": [
              "   Row ID        Order ID  Order Date  ... Quantity Discount    Profit\n",
              "0       1  CA-2016-152156  2016-11-08  ...        2     0.00   41.9136\n",
              "1       2  CA-2016-152156  2016-11-08  ...        3     0.00  219.5820\n",
              "2       3  CA-2016-138688  2016-06-12  ...        2     0.00    6.8714\n",
              "3       4  US-2015-108966  2015-10-11  ...        5     0.45 -383.0310\n",
              "4       5  US-2015-108966  2015-10-11  ...        2     0.20    2.5164\n",
              "\n",
              "[5 rows x 21 columns]"
            ]
          },
          "metadata": {},
          "execution_count": 3
        }
      ]
    },
    {
      "cell_type": "code",
      "metadata": {
        "colab": {
          "base_uri": "https://localhost:8080/"
        },
        "id": "6OYopyWLgJs0",
        "outputId": "a90d30c1-badc-46f8-fb5d-ddc626140582"
      },
      "source": [
        "df.info()"
      ],
      "execution_count": 4,
      "outputs": [
        {
          "output_type": "stream",
          "name": "stdout",
          "text": [
            "<class 'pandas.core.frame.DataFrame'>\n",
            "RangeIndex: 9994 entries, 0 to 9993\n",
            "Data columns (total 21 columns):\n",
            " #   Column         Non-Null Count  Dtype  \n",
            "---  ------         --------------  -----  \n",
            " 0   Row ID         9994 non-null   int64  \n",
            " 1   Order ID       9994 non-null   object \n",
            " 2   Order Date     9994 non-null   object \n",
            " 3   Ship Date      9994 non-null   object \n",
            " 4   Ship Mode      9994 non-null   object \n",
            " 5   Customer ID    9994 non-null   object \n",
            " 6   Customer Name  9994 non-null   object \n",
            " 7   Segment        9994 non-null   object \n",
            " 8   Country        9994 non-null   object \n",
            " 9   City           9994 non-null   object \n",
            " 10  State          9994 non-null   object \n",
            " 11  Postal Code    9994 non-null   int64  \n",
            " 12  Region         9994 non-null   object \n",
            " 13  Product ID     9994 non-null   object \n",
            " 14  Category       9994 non-null   object \n",
            " 15  Sub-Category   9994 non-null   object \n",
            " 16  Product Name   9994 non-null   object \n",
            " 17  Sales          9994 non-null   float64\n",
            " 18  Quantity       9994 non-null   int64  \n",
            " 19  Discount       9994 non-null   float64\n",
            " 20  Profit         9994 non-null   float64\n",
            "dtypes: float64(3), int64(3), object(15)\n",
            "memory usage: 1.6+ MB\n"
          ]
        }
      ]
    },
    {
      "cell_type": "code",
      "metadata": {
        "colab": {
          "base_uri": "https://localhost:8080/",
          "height": 237
        },
        "id": "bhMhCDniz1NR",
        "outputId": "8f8a2e44-e68e-4072-c509-bd29eb294884"
      },
      "source": [
        "df.describe().transpose()"
      ],
      "execution_count": 5,
      "outputs": [
        {
          "output_type": "execute_result",
          "data": {
            "text/html": [
              "<div>\n",
              "<style scoped>\n",
              "    .dataframe tbody tr th:only-of-type {\n",
              "        vertical-align: middle;\n",
              "    }\n",
              "\n",
              "    .dataframe tbody tr th {\n",
              "        vertical-align: top;\n",
              "    }\n",
              "\n",
              "    .dataframe thead th {\n",
              "        text-align: right;\n",
              "    }\n",
              "</style>\n",
              "<table border=\"1\" class=\"dataframe\">\n",
              "  <thead>\n",
              "    <tr style=\"text-align: right;\">\n",
              "      <th></th>\n",
              "      <th>count</th>\n",
              "      <th>mean</th>\n",
              "      <th>std</th>\n",
              "      <th>min</th>\n",
              "      <th>25%</th>\n",
              "      <th>50%</th>\n",
              "      <th>75%</th>\n",
              "      <th>max</th>\n",
              "    </tr>\n",
              "  </thead>\n",
              "  <tbody>\n",
              "    <tr>\n",
              "      <th>Row ID</th>\n",
              "      <td>9994.0</td>\n",
              "      <td>4997.500000</td>\n",
              "      <td>2885.163629</td>\n",
              "      <td>1.000</td>\n",
              "      <td>2499.25000</td>\n",
              "      <td>4997.5000</td>\n",
              "      <td>7495.750</td>\n",
              "      <td>9994.000</td>\n",
              "    </tr>\n",
              "    <tr>\n",
              "      <th>Postal Code</th>\n",
              "      <td>9994.0</td>\n",
              "      <td>55190.379428</td>\n",
              "      <td>32063.693350</td>\n",
              "      <td>1040.000</td>\n",
              "      <td>23223.00000</td>\n",
              "      <td>56430.5000</td>\n",
              "      <td>90008.000</td>\n",
              "      <td>99301.000</td>\n",
              "    </tr>\n",
              "    <tr>\n",
              "      <th>Sales</th>\n",
              "      <td>9994.0</td>\n",
              "      <td>229.858001</td>\n",
              "      <td>623.245101</td>\n",
              "      <td>0.444</td>\n",
              "      <td>17.28000</td>\n",
              "      <td>54.4900</td>\n",
              "      <td>209.940</td>\n",
              "      <td>22638.480</td>\n",
              "    </tr>\n",
              "    <tr>\n",
              "      <th>Quantity</th>\n",
              "      <td>9994.0</td>\n",
              "      <td>3.789574</td>\n",
              "      <td>2.225110</td>\n",
              "      <td>1.000</td>\n",
              "      <td>2.00000</td>\n",
              "      <td>3.0000</td>\n",
              "      <td>5.000</td>\n",
              "      <td>14.000</td>\n",
              "    </tr>\n",
              "    <tr>\n",
              "      <th>Discount</th>\n",
              "      <td>9994.0</td>\n",
              "      <td>0.156203</td>\n",
              "      <td>0.206452</td>\n",
              "      <td>0.000</td>\n",
              "      <td>0.00000</td>\n",
              "      <td>0.2000</td>\n",
              "      <td>0.200</td>\n",
              "      <td>0.800</td>\n",
              "    </tr>\n",
              "    <tr>\n",
              "      <th>Profit</th>\n",
              "      <td>9994.0</td>\n",
              "      <td>28.656896</td>\n",
              "      <td>234.260108</td>\n",
              "      <td>-6599.978</td>\n",
              "      <td>1.72875</td>\n",
              "      <td>8.6665</td>\n",
              "      <td>29.364</td>\n",
              "      <td>8399.976</td>\n",
              "    </tr>\n",
              "  </tbody>\n",
              "</table>\n",
              "</div>"
            ],
            "text/plain": [
              "              count          mean  ...        75%        max\n",
              "Row ID       9994.0   4997.500000  ...   7495.750   9994.000\n",
              "Postal Code  9994.0  55190.379428  ...  90008.000  99301.000\n",
              "Sales        9994.0    229.858001  ...    209.940  22638.480\n",
              "Quantity     9994.0      3.789574  ...      5.000     14.000\n",
              "Discount     9994.0      0.156203  ...      0.200      0.800\n",
              "Profit       9994.0     28.656896  ...     29.364   8399.976\n",
              "\n",
              "[6 rows x 8 columns]"
            ]
          },
          "metadata": {},
          "execution_count": 5
        }
      ]
    },
    {
      "cell_type": "markdown",
      "metadata": {
        "id": "uKF_KENJMuWK"
      },
      "source": [
        "Notice that the data is not standardizd."
      ]
    },
    {
      "cell_type": "code",
      "metadata": {
        "colab": {
          "base_uri": "https://localhost:8080/",
          "height": 483
        },
        "id": "vTss3iAWhKMl",
        "outputId": "3a50ff2d-a1f8-4988-cf45-ecdac2cb5de2"
      },
      "source": [
        "# Pie Chart for Sub-Category\n",
        "\n",
        "plt.figure.figsize = (20,20)\n",
        "sub_cat_val = df.groupby('Sub-Category')['Sales'].sum()\n",
        "\n",
        "sub_cat_val.plot(kind = 'pie', autopct='%1.1f%%', label = 'sub_cat_val.index' )"
      ],
      "execution_count": 6,
      "outputs": [
        {
          "output_type": "execute_result",
          "data": {
            "text/plain": [
              "<matplotlib.axes._subplots.AxesSubplot at 0x7f7ae8643c50>"
            ]
          },
          "metadata": {},
          "execution_count": 6
        },
        {
          "output_type": "display_data",
          "data": {
            "image/png": "[encoded data removed]",
            "text/plain": [
              "<Figure size 864x576 with 1 Axes>"
            ]
          },
          "metadata": {}
        }
      ]
    },
    {
      "cell_type": "code",
      "metadata": {
        "colab": {
          "base_uri": "https://localhost:8080/",
          "height": 611
        },
        "id": "yE8XrZErhb9e",
        "outputId": "58653241-b356-4c12-f8f1-2f9f27ee1b5c"
      },
      "source": [
        "# group by Sub-Category\n",
        "df.groupby('Sub-Category')['Sales', 'Profit'].sum().plot.bar();"
      ],
      "execution_count": 7,
      "outputs": [
        {
          "output_type": "stream",
          "name": "stderr",
          "text": [
            "/usr/local/lib/python3.7/dist-packages/ipykernel_launcher.py:2: FutureWarning: Indexing with multiple keys (implicitly converted to a tuple of keys) will be deprecated, use a list instead.\n",
            "  \n"
          ]
        },
        {
          "output_type": "display_data",
          "data": {
            "image/png": "[encoded data removed]",
            "text/plain": [
              "<Figure size 864x576 with 1 Axes>"
            ]
          },
          "metadata": {}
        }
      ]
    },
    {
      "cell_type": "code",
      "metadata": {
        "colab": {
          "base_uri": "https://localhost:8080/",
          "height": 518
        },
        "id": "zqbid_07h9Yf",
        "outputId": "ce4fcd1e-5ca5-407c-9d4a-b5d7dbfc5a61"
      },
      "source": [
        "# lets check Sales\n",
        "sales_sorted = np.sort(df['Sales'].values)\n",
        "\n",
        "plt.scatter(range(df.shape[0]), sales_sorted)\n",
        "plt.xlabel('Index')\n",
        "plt.ylabel('Sales')\n",
        "plt.title('Sales distribution');"
      ],
      "execution_count": 8,
      "outputs": [
        {
          "output_type": "display_data",
          "data": {
            "image/png": "[encoded data removed]",
            "text/plain": [
              "<Figure size 864x576 with 1 Axes>"
            ]
          },
          "metadata": {}
        }
      ]
    },
    {
      "cell_type": "markdown",
      "metadata": {
        "id": "wQX80ehEiHTO"
      },
      "source": [
        "**Observations:**\n",
        "\n",
        "(1) Any Sales more than 10000 should be considered as outlier.\n",
        "\n",
        "(2) Phones generate the maximum revenew but copier bring more profit."
      ]
    },
    {
      "cell_type": "code",
      "metadata": {
        "colab": {
          "base_uri": "https://localhost:8080/",
          "height": 572
        },
        "id": "kExddAIBiDpe",
        "outputId": "eaacc882-7103-4c98-e5d3-92f6b03d4cf4"
      },
      "source": [
        "#histogram\n",
        "sns.distplot(df['Sales'])\n",
        "plt.title('Sales distribution');"
      ],
      "execution_count": 9,
      "outputs": [
        {
          "output_type": "stream",
          "name": "stderr",
          "text": [
            "/usr/local/lib/python3.7/dist-packages/seaborn/distributions.py:2619: FutureWarning: `distplot` is a deprecated function and will be removed in a future version. Please adapt your code to use either `displot` (a figure-level function with similar flexibility) or `histplot` (an axes-level function for histograms).\n",
            "  warnings.warn(msg, FutureWarning)\n"
          ]
        },
        {
          "output_type": "display_data",
          "data": {
            "image/png": "[encoded data removed]",
            "text/plain": [
              "<Figure size 864x576 with 1 Axes>"
            ]
          },
          "metadata": {}
        }
      ]
    },
    {
      "cell_type": "code",
      "metadata": {
        "colab": {
          "base_uri": "https://localhost:8080/"
        },
        "id": "v0cdTuIGiRze",
        "outputId": "caa12a32-0cf3-4fd9-f459-f4106375e7ee"
      },
      "source": [
        "# check skewness and Kurtosis\n",
        "print('Skewness is :',df['Sales'].skew())\n",
        "print('Kurtosis is :',df['Sales'].kurt())"
      ],
      "execution_count": null,
      "outputs": [
        {
          "output_type": "stream",
          "name": "stdout",
          "text": [
            "Skewness is : 12.97275234181623\n",
            "Kurtosis is : 305.311753246823\n"
          ]
        }
      ]
    },
    {
      "cell_type": "markdown",
      "metadata": {
        "id": "WK9c6m-qibdW"
      },
      "source": [
        "Skewness assesses the extent to which a variable’s distribution is symmetrical. If the distribution of responses for a variable stretches toward the right or left tail of the distribution, then the distribution is referred to as skewed. Kurtosis is a measure of whether the distribution is too peaked (a very narrow distribution with most of the responses in the center)."
      ]
    },
    {
      "cell_type": "markdown",
      "metadata": {
        "id": "tBM0LsSWisue"
      },
      "source": [
        "#**Univariate Anomaly Detection**\n",
        "\n",
        "**Isolation Forest**\n",
        "\n",
        "(1) Similiar to Random Forest as it is build on an ensemble of trees.\n",
        "\n",
        "(2) Good for large dataset\n",
        "\n",
        "(3) Outlier will have its own leaf. Isolation forest detects that leaf."
      ]
    },
    {
      "cell_type": "code",
      "metadata": {
        "colab": {
          "base_uri": "https://localhost:8080/"
        },
        "id": "P65WB7Y9i1J-",
        "outputId": "1b1b3947-8f7e-4193-f821-982c59ae4864"
      },
      "source": [
        "from sklearn.ensemble import IsolationForest\n",
        "\n",
        "# IsloationForest on sales\n",
        "clf = IsolationForest(n_estimators = 100)\n",
        "# Fit the model\n",
        "clf.fit(df['Sales'].values.reshape(-1,1))"
      ],
      "execution_count": null,
      "outputs": [
        {
          "output_type": "execute_result",
          "data": {
            "text/plain": [
              "IsolationForest()"
            ]
          },
          "metadata": {},
          "execution_count": 11
        }
      ]
    },
    {
      "cell_type": "code",
      "metadata": {
        "colab": {
          "base_uri": "https://localhost:8080/",
          "height": 611
        },
        "id": "9MO-HbU1jGze",
        "outputId": "049789de-57b0-4904-cf67-e3194f7c3448"
      },
      "source": [
        "xx = np.linspace(df['Sales'].min(), df['Sales'].max(), len(df)).reshape(-1,1)\n",
        "anomaly_score = clf.decision_function(xx)\n",
        "outlier = clf.predict(xx)\n",
        "plt.figure(figsize=(20,10))\n",
        "plt.plot(xx, anomaly_score, color= 'r', linewidth =3, label='anomaly score')\n",
        "plt.fill_between(xx.T[0], np.min(anomaly_score), np.max(anomaly_score),\n",
        "                alpha = 0.4, where = outlier == -1,\n",
        "                label = 'outlier_region')\n",
        "plt.legend()\n",
        "plt.ylabel('anomaly score')\n",
        "plt.xlabel('Sales')\n",
        "plt.show()"
      ],
      "execution_count": null,
      "outputs": [
        {
          "output_type": "display_data",
          "data": {
            "image/png": "[encoded data removed]",
            "text/plain": [
              "<Figure size 1440x720 with 1 Axes>"
            ]
          },
          "metadata": {}
        }
      ]
    },
    {
      "cell_type": "markdown",
      "metadata": {
        "id": "Rsjx7HCJjdpe"
      },
      "source": [
        "#**Multivariate Anomaly Detection**"
      ]
    },
    {
      "cell_type": "code",
      "metadata": {
        "colab": {
          "base_uri": "https://localhost:8080/",
          "height": 206
        },
        "id": "NC9cyuQSly3D",
        "outputId": "d3d053c4-8d16-4f63-b48d-b85de4fa9bb6"
      },
      "source": [
        "# keeping only Sales and Profit\n",
        "cols = ['Sales', 'Profit']\n",
        "df[cols].head()"
      ],
      "execution_count": 10,
      "outputs": [
        {
          "output_type": "execute_result",
          "data": {
            "text/html": [
              "<div>\n",
              "<style scoped>\n",
              "    .dataframe tbody tr th:only-of-type {\n",
              "        vertical-align: middle;\n",
              "    }\n",
              "\n",
              "    .dataframe tbody tr th {\n",
              "        vertical-align: top;\n",
              "    }\n",
              "\n",
              "    .dataframe thead th {\n",
              "        text-align: right;\n",
              "    }\n",
              "</style>\n",
              "<table border=\"1\" class=\"dataframe\">\n",
              "  <thead>\n",
              "    <tr style=\"text-align: right;\">\n",
              "      <th></th>\n",
              "      <th>Sales</th>\n",
              "      <th>Profit</th>\n",
              "    </tr>\n",
              "  </thead>\n",
              "  <tbody>\n",
              "    <tr>\n",
              "      <th>0</th>\n",
              "      <td>261.9600</td>\n",
              "      <td>41.9136</td>\n",
              "    </tr>\n",
              "    <tr>\n",
              "      <th>1</th>\n",
              "      <td>731.9400</td>\n",
              "      <td>219.5820</td>\n",
              "    </tr>\n",
              "    <tr>\n",
              "      <th>2</th>\n",
              "      <td>14.6200</td>\n",
              "      <td>6.8714</td>\n",
              "    </tr>\n",
              "    <tr>\n",
              "      <th>3</th>\n",
              "      <td>957.5775</td>\n",
              "      <td>-383.0310</td>\n",
              "    </tr>\n",
              "    <tr>\n",
              "      <th>4</th>\n",
              "      <td>22.3680</td>\n",
              "      <td>2.5164</td>\n",
              "    </tr>\n",
              "  </tbody>\n",
              "</table>\n",
              "</div>"
            ],
            "text/plain": [
              "      Sales    Profit\n",
              "0  261.9600   41.9136\n",
              "1  731.9400  219.5820\n",
              "2   14.6200    6.8714\n",
              "3  957.5775 -383.0310\n",
              "4   22.3680    2.5164"
            ]
          },
          "metadata": {},
          "execution_count": 10
        }
      ]
    },
    {
      "cell_type": "code",
      "metadata": {
        "colab": {
          "base_uri": "https://localhost:8080/",
          "height": 206
        },
        "id": "fhpVwhwbl3fp",
        "outputId": "80fbaa41-2a5b-4a6a-d226-39ff8a0072b5"
      },
      "source": [
        "from sklearn.preprocessing import MinMaxScaler\n",
        "\n",
        "# Scale features\n",
        "minmax = MinMaxScaler(feature_range = (0, 1))\n",
        "df[['Sales', 'Profit']] = minmax.fit_transform(df[['Sales', 'Profit']])\n",
        "df[['Sales', 'Profit']].head()"
      ],
      "execution_count": 11,
      "outputs": [
        {
          "output_type": "execute_result",
          "data": {
            "text/html": [
              "<div>\n",
              "<style scoped>\n",
              "    .dataframe tbody tr th:only-of-type {\n",
              "        vertical-align: middle;\n",
              "    }\n",
              "\n",
              "    .dataframe tbody tr th {\n",
              "        vertical-align: top;\n",
              "    }\n",
              "\n",
              "    .dataframe thead th {\n",
              "        text-align: right;\n",
              "    }\n",
              "</style>\n",
              "<table border=\"1\" class=\"dataframe\">\n",
              "  <thead>\n",
              "    <tr style=\"text-align: right;\">\n",
              "      <th></th>\n",
              "      <th>Sales</th>\n",
              "      <th>Profit</th>\n",
              "    </tr>\n",
              "  </thead>\n",
              "  <tbody>\n",
              "    <tr>\n",
              "      <th>0</th>\n",
              "      <td>0.011552</td>\n",
              "      <td>0.442794</td>\n",
              "    </tr>\n",
              "    <tr>\n",
              "      <th>1</th>\n",
              "      <td>0.032313</td>\n",
              "      <td>0.454639</td>\n",
              "    </tr>\n",
              "    <tr>\n",
              "      <th>2</th>\n",
              "      <td>0.000626</td>\n",
              "      <td>0.440458</td>\n",
              "    </tr>\n",
              "    <tr>\n",
              "      <th>3</th>\n",
              "      <td>0.042280</td>\n",
              "      <td>0.414464</td>\n",
              "    </tr>\n",
              "    <tr>\n",
              "      <th>4</th>\n",
              "      <td>0.000968</td>\n",
              "      <td>0.440168</td>\n",
              "    </tr>\n",
              "  </tbody>\n",
              "</table>\n",
              "</div>"
            ],
            "text/plain": [
              "      Sales    Profit\n",
              "0  0.011552  0.442794\n",
              "1  0.032313  0.454639\n",
              "2  0.000626  0.440458\n",
              "3  0.042280  0.414464\n",
              "4  0.000968  0.440168"
            ]
          },
          "metadata": {},
          "execution_count": 11
        }
      ]
    },
    {
      "cell_type": "code",
      "metadata": {
        "colab": {
          "base_uri": "https://localhost:8080/",
          "height": 237
        },
        "id": "YChhnDNFNG2S",
        "outputId": "fab2a512-f9f0-4c11-bb6a-4f052fce3489"
      },
      "source": [
        "df.describe().transpose()"
      ],
      "execution_count": 12,
      "outputs": [
        {
          "output_type": "execute_result",
          "data": {
            "text/html": [
              "<div>\n",
              "<style scoped>\n",
              "    .dataframe tbody tr th:only-of-type {\n",
              "        vertical-align: middle;\n",
              "    }\n",
              "\n",
              "    .dataframe tbody tr th {\n",
              "        vertical-align: top;\n",
              "    }\n",
              "\n",
              "    .dataframe thead th {\n",
              "        text-align: right;\n",
              "    }\n",
              "</style>\n",
              "<table border=\"1\" class=\"dataframe\">\n",
              "  <thead>\n",
              "    <tr style=\"text-align: right;\">\n",
              "      <th></th>\n",
              "      <th>count</th>\n",
              "      <th>mean</th>\n",
              "      <th>std</th>\n",
              "      <th>min</th>\n",
              "      <th>25%</th>\n",
              "      <th>50%</th>\n",
              "      <th>75%</th>\n",
              "      <th>max</th>\n",
              "    </tr>\n",
              "  </thead>\n",
              "  <tbody>\n",
              "    <tr>\n",
              "      <th>Row ID</th>\n",
              "      <td>9994.0</td>\n",
              "      <td>4997.500000</td>\n",
              "      <td>2885.163629</td>\n",
              "      <td>1.0</td>\n",
              "      <td>2499.250000</td>\n",
              "      <td>4997.500000</td>\n",
              "      <td>7495.750000</td>\n",
              "      <td>9994.0</td>\n",
              "    </tr>\n",
              "    <tr>\n",
              "      <th>Postal Code</th>\n",
              "      <td>9994.0</td>\n",
              "      <td>55190.379428</td>\n",
              "      <td>32063.693350</td>\n",
              "      <td>1040.0</td>\n",
              "      <td>23223.000000</td>\n",
              "      <td>56430.500000</td>\n",
              "      <td>90008.000000</td>\n",
              "      <td>99301.0</td>\n",
              "    </tr>\n",
              "    <tr>\n",
              "      <th>Sales</th>\n",
              "      <td>9994.0</td>\n",
              "      <td>0.010134</td>\n",
              "      <td>0.027531</td>\n",
              "      <td>0.0</td>\n",
              "      <td>0.000744</td>\n",
              "      <td>0.002387</td>\n",
              "      <td>0.009254</td>\n",
              "      <td>1.0</td>\n",
              "    </tr>\n",
              "    <tr>\n",
              "      <th>Quantity</th>\n",
              "      <td>9994.0</td>\n",
              "      <td>3.789574</td>\n",
              "      <td>2.225110</td>\n",
              "      <td>1.0</td>\n",
              "      <td>2.000000</td>\n",
              "      <td>3.000000</td>\n",
              "      <td>5.000000</td>\n",
              "      <td>14.0</td>\n",
              "    </tr>\n",
              "    <tr>\n",
              "      <th>Discount</th>\n",
              "      <td>9994.0</td>\n",
              "      <td>0.156203</td>\n",
              "      <td>0.206452</td>\n",
              "      <td>0.0</td>\n",
              "      <td>0.000000</td>\n",
              "      <td>0.200000</td>\n",
              "      <td>0.200000</td>\n",
              "      <td>0.8</td>\n",
              "    </tr>\n",
              "    <tr>\n",
              "      <th>Profit</th>\n",
              "      <td>9994.0</td>\n",
              "      <td>0.441910</td>\n",
              "      <td>0.015617</td>\n",
              "      <td>0.0</td>\n",
              "      <td>0.440115</td>\n",
              "      <td>0.440578</td>\n",
              "      <td>0.441957</td>\n",
              "      <td>1.0</td>\n",
              "    </tr>\n",
              "  </tbody>\n",
              "</table>\n",
              "</div>"
            ],
            "text/plain": [
              "              count          mean  ...           75%      max\n",
              "Row ID       9994.0   4997.500000  ...   7495.750000   9994.0\n",
              "Postal Code  9994.0  55190.379428  ...  90008.000000  99301.0\n",
              "Sales        9994.0      0.010134  ...      0.009254      1.0\n",
              "Quantity     9994.0      3.789574  ...      5.000000     14.0\n",
              "Discount     9994.0      0.156203  ...      0.200000      0.8\n",
              "Profit       9994.0      0.441910  ...      0.441957      1.0\n",
              "\n",
              "[6 rows x 8 columns]"
            ]
          },
          "metadata": {},
          "execution_count": 12
        }
      ]
    },
    {
      "cell_type": "markdown",
      "metadata": {
        "id": "5_5OANluNP0S"
      },
      "source": [
        "Notice that the data (Sales and Profit) are now standardized."
      ]
    },
    {
      "cell_type": "code",
      "metadata": {
        "colab": {
          "base_uri": "https://localhost:8080/",
          "height": 502
        },
        "id": "vSkRp8bPmIkh",
        "outputId": "e376f1a6-3e1a-4d60-d5e4-1d65d404012a"
      },
      "source": [
        "# Multivariate Analysis using Sales and Profit\n",
        "sns.regplot(x = 'Sales', y = 'Profit', data = df)\n",
        "sns.despine();"
      ],
      "execution_count": 13,
      "outputs": [
        {
          "output_type": "display_data",
          "data": {
            "image/png": "[encoded data removed]",
            "text/plain": [
              "<Figure size 864x576 with 1 Axes>"
            ]
          },
          "metadata": {}
        }
      ]
    },
    {
      "cell_type": "code",
      "metadata": {
        "id": "SQOEsniLmV7p",
        "colab": {
          "base_uri": "https://localhost:8080/"
        },
        "outputId": "356b5a4a-8ba1-4838-a3e1-1c373335e3ee"
      },
      "source": [
        "X1 = df['Sales'].values.reshape(-1,1)\n",
        "X2 = df['Profit'].values.reshape(-1,1)\n",
        "X = np.concatenate((X1,X2),axis=1)\n",
        "X"
      ],
      "execution_count": 14,
      "outputs": [
        {
          "output_type": "execute_result",
          "data": {
            "text/plain": [
              "array([[0.01155206, 0.44279413],\n",
              "       [0.0323127 , 0.45463873],\n",
              "       [0.0006262 , 0.44045798],\n",
              "       ...,\n",
              "       [0.01140258, 0.44129277],\n",
              "       [0.00128792, 0.44088789],\n",
              "       [0.0107216 , 0.4448631 ]])"
            ]
          },
          "metadata": {},
          "execution_count": 14
        }
      ]
    },
    {
      "cell_type": "markdown",
      "metadata": {
        "id": "JnPOb8gTPv1z"
      },
      "source": [
        "**Installing PyOD**\n",
        "\n",
        "PyOD is a comprehensive and scalable Python toolkit for detecting outlying objects in multivariate data. "
      ]
    },
    {
      "cell_type": "code",
      "metadata": {
        "id": "7VQCplo2PUdi",
        "colab": {
          "base_uri": "https://localhost:8080/"
        },
        "outputId": "c78abdd9-ec55-43e0-fd42-085eeb9de1f3"
      },
      "source": [
        "!pip3 install pyod"
      ],
      "execution_count": 15,
      "outputs": [
        {
          "output_type": "stream",
          "name": "stdout",
          "text": [
            "Collecting pyod\n",
            "  Downloading pyod-0.9.5.tar.gz (113 kB)\n",
            "\u001b[?25l\r\u001b[K     |██▉                             | 10 kB 22.1 MB/s eta 0:00:01\r\u001b[K     |█████▊                          | 20 kB 20.4 MB/s eta 0:00:01\r\u001b[K     |████████▋                       | 30 kB 11.5 MB/s eta 0:00:01\r\u001b[K     |███████████▌                    | 40 kB 8.5 MB/s eta 0:00:01\r\u001b[K     |██████████████▍                 | 51 kB 5.3 MB/s eta 0:00:01\r\u001b[K     |█████████████████▎              | 61 kB 5.8 MB/s eta 0:00:01\r\u001b[K     |████████████████████▏           | 71 kB 5.6 MB/s eta 0:00:01\r\u001b[K     |███████████████████████         | 81 kB 6.3 MB/s eta 0:00:01\r\u001b[K     |██████████████████████████      | 92 kB 6.2 MB/s eta 0:00:01\r\u001b[K     |████████████████████████████▉   | 102 kB 5.2 MB/s eta 0:00:01\r\u001b[K     |███████████████████████████████▊| 112 kB 5.2 MB/s eta 0:00:01\r\u001b[K     |████████████████████████████████| 113 kB 5.2 MB/s \n",
            "\u001b[?25hRequirement already satisfied: joblib in /usr/local/lib/python3.7/dist-packages (from pyod) (1.1.0)\n",
            "Requirement already satisfied: matplotlib in /usr/local/lib/python3.7/dist-packages (from pyod) (3.2.2)\n",
            "Requirement already satisfied: numpy>=1.13 in /usr/local/lib/python3.7/dist-packages (from pyod) (1.19.5)\n",
            "Requirement already satisfied: numba>=0.35 in /usr/local/lib/python3.7/dist-packages (from pyod) (0.51.2)\n",
            "Requirement already satisfied: scipy>=1.3.1 in /usr/local/lib/python3.7/dist-packages (from pyod) (1.4.1)\n",
            "Requirement already satisfied: scikit_learn>=0.20.0 in /usr/local/lib/python3.7/dist-packages (from pyod) (1.0.1)\n",
            "Requirement already satisfied: six in /usr/local/lib/python3.7/dist-packages (from pyod) (1.15.0)\n",
            "Requirement already satisfied: statsmodels in /usr/local/lib/python3.7/dist-packages (from pyod) (0.10.2)\n",
            "Requirement already satisfied: llvmlite<0.35,>=0.34.0.dev0 in /usr/local/lib/python3.7/dist-packages (from numba>=0.35->pyod) (0.34.0)\n",
            "Requirement already satisfied: setuptools in /usr/local/lib/python3.7/dist-packages (from numba>=0.35->pyod) (57.4.0)\n",
            "Requirement already satisfied: threadpoolctl>=2.0.0 in /usr/local/lib/python3.7/dist-packages (from scikit_learn>=0.20.0->pyod) (3.0.0)\n",
            "Requirement already satisfied: python-dateutil>=2.1 in /usr/local/lib/python3.7/dist-packages (from matplotlib->pyod) (2.8.2)\n",
            "Requirement already satisfied: cycler>=0.10 in /usr/local/lib/python3.7/dist-packages (from matplotlib->pyod) (0.11.0)\n",
            "Requirement already satisfied: pyparsing!=2.0.4,!=2.1.2,!=2.1.6,>=2.0.1 in /usr/local/lib/python3.7/dist-packages (from matplotlib->pyod) (3.0.6)\n",
            "Requirement already satisfied: kiwisolver>=1.0.1 in /usr/local/lib/python3.7/dist-packages (from matplotlib->pyod) (1.3.2)\n",
            "Requirement already satisfied: pandas>=0.19 in /usr/local/lib/python3.7/dist-packages (from statsmodels->pyod) (1.1.5)\n",
            "Requirement already satisfied: patsy>=0.4.0 in /usr/local/lib/python3.7/dist-packages (from statsmodels->pyod) (0.5.2)\n",
            "Requirement already satisfied: pytz>=2017.2 in /usr/local/lib/python3.7/dist-packages (from pandas>=0.19->statsmodels->pyod) (2018.9)\n",
            "Building wheels for collected packages: pyod\n",
            "  Building wheel for pyod (setup.py) ... \u001b[?25l\u001b[?25hdone\n",
            "  Created wheel for pyod: filename=pyod-0.9.5-py3-none-any.whl size=132699 sha256=24dd85875be142b3b09858265e6b21cc57e243f3643813721bf2ebf18fa342c6\n",
            "  Stored in directory: /root/.cache/pip/wheels/3d/bb/b7/62b60fb451b33b0df1ab8006697fba7a6a49709a629055cf77\n",
            "Successfully built pyod\n",
            "Installing collected packages: pyod\n",
            "Successfully installed pyod-0.9.5\n"
          ]
        }
      ]
    },
    {
      "cell_type": "markdown",
      "source": [
        "**Import some anomaly detectors from PyOD**"
      ],
      "metadata": {
        "id": "GV3mv8StkTk7"
      }
    },
    {
      "cell_type": "code",
      "source": [
        "from pyod.models.abod import ABOD\n",
        "from pyod.models.cblof import CBLOF\n",
        "from pyod.models.hbos import HBOS\n",
        "from pyod.models.iforest import IForest\n",
        "from pyod.models.knn import KNN\n",
        "from pyod.models.lof import LOF"
      ],
      "metadata": {
        "id": "1bAwRuRskS3c"
      },
      "execution_count": 16,
      "outputs": []
    },
    {
      "cell_type": "markdown",
      "metadata": {
        "id": "bLC-dZ1YmgfQ"
      },
      "source": [
        "**Isolation forest**\n",
        "\n",
        "Isolate observations through random feature selection\n",
        "\n",
        "Random select a split value between max and min values of selected feature"
      ]
    },
    {
      "cell_type": "code",
      "metadata": {
        "colab": {
          "base_uri": "https://localhost:8080/",
          "height": 518
        },
        "id": "P_8OMTEqmuro",
        "outputId": "cf9eec66-5ff5-4756-d96a-8ed48d930d78"
      },
      "source": [
        "outliers_fraction = 0.05\n",
        "xx , yy = np.meshgrid(np.linspace(0, 1, 100), np.linspace(0, 1, 100))\n",
        "clf = IForest(contamination=outliers_fraction,random_state=0)\n",
        "clf.fit(X)\n",
        "scores_pred = clf.decision_function(X) * -1\n",
        "\n",
        "y = clf.predict(X)  #Labels\n",
        "n_inliers = len(y) - np.count_nonzero(y)\n",
        "n_outliers = np.count_nonzero(y == 1)\n",
        "plt.figure(figsize=(8, 8))\n",
        "\n",
        "df1 = df\n",
        "df1['outlier'] = y.tolist()\n",
        "    \n",
        "# sales - inlier feature 1,  profit - inlier feature 2\n",
        "inliers_sales = np.array(df1['Sales'][df1['outlier'] == 0]).reshape(-1,1)\n",
        "inliers_profit = np.array(df1['Profit'][df1['outlier'] == 0]).reshape(-1,1)\n",
        "    \n",
        "# sales - outlier feature 1, profit - outlier feature 2\n",
        "outliers_sales = df1['Sales'][df1['outlier'] == 1].values.reshape(-1,1)\n",
        "outliers_profit = df1['Profit'][df1['outlier'] == 1].values.reshape(-1,1)\n",
        "         \n",
        "print('OUTLIERS: ',n_outliers,'INLIERS: ',n_inliers)\n",
        "\n",
        "threshold = np.percentile(scores_pred, 100 * outliers_fraction)\n",
        "Z = clf.decision_function(np.c_[xx.ravel(), yy.ravel()]) * -1\n",
        "Z = Z.reshape(xx.shape)\n",
        "plt.contourf(xx, yy, Z, levels=np.linspace(Z.min(), threshold, 7),cmap=plt.cm.Blues_r)\n",
        "a = plt.contour(xx, yy, Z, levels=[threshold],linewidths=2, colors='red')\n",
        "plt.contourf(xx, yy, Z, levels=[threshold, Z.max()],colors='orange')\n",
        "b = plt.scatter(inliers_sales, inliers_profit, c='white',s=20, edgecolor='k')\n",
        "    \n",
        "c = plt.scatter(outliers_sales, outliers_profit, c='black',s=20, edgecolor='k')\n",
        "       \n",
        "plt.axis('tight')     \n",
        "plt.legend([a.collections[0], b,c], ['learned decision function', 'inliers','outliers'],loc='lower right')  \n",
        "plt.xlim((0, 1))\n",
        "plt.ylim((0, 1))\n",
        "plt.title('Isolation Forest')\n",
        "plt.show();"
      ],
      "execution_count": 17,
      "outputs": [
        {
          "output_type": "stream",
          "name": "stdout",
          "text": [
            "OUTLIERS:  499 INLIERS:  9495\n"
          ]
        },
        {
          "output_type": "display_data",
          "data": {
            "image/png": "[encoded data removed]",
            "text/plain": [
              "<Figure size 576x576 with 1 Axes>"
            ]
          },
          "metadata": {}
        }
      ]
    },
    {
      "cell_type": "code",
      "metadata": {
        "colab": {
          "base_uri": "https://localhost:8080/",
          "height": 1000
        },
        "id": "0kvISIMm2R-B",
        "outputId": "9b022591-9e83-438d-9aec-992026ca59ee"
      },
      "source": [
        "from pyod.models.auto_encoder import AutoEncoder\n",
        "\n",
        "outliers_fraction = 0.05\n",
        "xx , yy = np.meshgrid(np.linspace(0, 1, 100), np.linspace(0, 1, 100))\n",
        "clf = AutoEncoder(hidden_neurons =[25,10,2,10,25],hidden_activation='relu',output_activation='sigmoid',\n",
        "                  loss='mean_squared_error',optimizer='adam',dropout_rate=0.2,\n",
        "                  epochs=100,batch_size=32,l2_regularizer=0.1,validation_size=0.1,contamination=outliers_fraction)\n",
        "clf.fit(X)\n",
        "scores_pred = clf.decision_function(X) * -1\n",
        "\n",
        "y = clf.predict(X)  #Labels\n",
        "n_inliers = len(y) - np.count_nonzero(y)\n",
        "n_outliers = np.count_nonzero(y == 1)\n",
        "plt.figure(figsize=(8, 8))\n",
        "\n",
        "df1 = df\n",
        "df1['outlier'] = y.tolist()\n",
        "    \n",
        "# sales - inlier feature 1,  profit - inlier feature 2\n",
        "inliers_sales = np.array(df1['Sales'][df1['outlier'] == 0]).reshape(-1,1)\n",
        "inliers_profit = np.array(df1['Profit'][df1['outlier'] == 0]).reshape(-1,1)\n",
        "    \n",
        "# sales - outlier feature 1, profit - outlier feature 2\n",
        "outliers_sales = df1['Sales'][df1['outlier'] == 1].values.reshape(-1,1)\n",
        "outliers_profit = df1['Profit'][df1['outlier'] == 1].values.reshape(-1,1)\n",
        "         \n",
        "print('OUTLIERS: ',n_outliers,'INLIERS: ',n_inliers)\n",
        "\n",
        "threshold = np.percentile(scores_pred, 100 * outliers_fraction)\n",
        "Z = clf.decision_function(np.c_[xx.ravel(), yy.ravel()]) * -1\n",
        "Z = Z.reshape(xx.shape)\n",
        "plt.contourf(xx, yy, Z, levels=np.linspace(Z.min(), threshold, 7),cmap=plt.cm.Blues_r)\n",
        "a = plt.contour(xx, yy, Z, levels=[threshold],linewidths=2, colors='red')\n",
        "plt.contourf(xx, yy, Z, levels=[threshold, Z.max()],colors='orange')\n",
        "b = plt.scatter(inliers_sales, inliers_profit, c='white',s=20, edgecolor='k')\n",
        "    \n",
        "c = plt.scatter(outliers_sales, outliers_profit, c='black',s=20, edgecolor='k')\n",
        "       \n",
        "plt.axis('tight')\n",
        "plt.legend([a.collections[0], b,c], ['learned decision function', 'inliers','outliers'], loc='lower right')      \n",
        "plt.xlim((0, 1))\n",
        "plt.ylim((0, 1))\n",
        "plt.title('Autoencoder')\n",
        "plt.show();"
      ],
      "execution_count": null,
      "outputs": [
        {
          "output_type": "stream",
          "name": "stdout",
          "text": [
            "Model: \"sequential\"\n",
            "_________________________________________________________________\n",
            " Layer (type)                Output Shape              Param #   \n",
            "=================================================================\n",
            " dense (Dense)               (None, 2)                 6         \n",
            "                                                                 \n",
            " dropout (Dropout)           (None, 2)                 0         \n",
            "                                                                 \n",
            " dense_1 (Dense)             (None, 2)                 6         \n",
            "                                                                 \n",
            " dropout_1 (Dropout)         (None, 2)                 0         \n",
            "                                                                 \n",
            " dense_2 (Dense)             (None, 25)                75        \n",
            "                                                                 \n",
            " dropout_2 (Dropout)         (None, 25)                0         \n",
            "                                                                 \n",
            " dense_3 (Dense)             (None, 10)                260       \n",
            "                                                                 \n",
            " dropout_3 (Dropout)         (None, 10)                0         \n",
            "                                                                 \n",
            " dense_4 (Dense)             (None, 2)                 22        \n",
            "                                                                 \n",
            " dropout_4 (Dropout)         (None, 2)                 0         \n",
            "                                                                 \n",
            " dense_5 (Dense)             (None, 10)                30        \n",
            "                                                                 \n",
            " dropout_5 (Dropout)         (None, 10)                0         \n",
            "                                                                 \n",
            " dense_6 (Dense)             (None, 25)                275       \n",
            "                                                                 \n",
            " dropout_6 (Dropout)         (None, 25)                0         \n",
            "                                                                 \n",
            " dense_7 (Dense)             (None, 2)                 52        \n",
            "                                                                 \n",
            "=================================================================\n",
            "Total params: 726\n",
            "Trainable params: 726\n",
            "Non-trainable params: 0\n",
            "_________________________________________________________________\n",
            "None\n",
            "Epoch 1/100\n",
            "282/282 [==============================] - 6s 8ms/step - loss: 1.2129 - val_loss: 1.1523\n",
            "Epoch 2/100\n",
            "282/282 [==============================] - 2s 7ms/step - loss: 1.1057 - val_loss: 1.1097\n",
            "Epoch 3/100\n",
            "282/282 [==============================] - 2s 7ms/step - loss: 1.0725 - val_loss: 1.0912\n",
            "Epoch 4/100\n",
            "282/282 [==============================] - 2s 7ms/step - loss: 1.0553 - val_loss: 1.0798\n",
            "Epoch 5/100\n",
            "282/282 [==============================] - 2s 7ms/step - loss: 1.0451 - val_loss: 1.0722\n",
            "Epoch 6/100\n",
            "282/282 [==============================] - 2s 7ms/step - loss: 1.0354 - val_loss: 1.0658\n",
            "Epoch 7/100\n",
            "282/282 [==============================] - 2s 7ms/step - loss: 1.0277 - val_loss: 1.0613\n",
            "Epoch 8/100\n",
            "282/282 [==============================] - 2s 7ms/step - loss: 1.0239 - val_loss: 1.0586\n",
            "Epoch 9/100\n",
            "282/282 [==============================] - 2s 7ms/step - loss: 1.0208 - val_loss: 1.0553\n",
            "Epoch 10/100\n",
            "282/282 [==============================] - 2s 7ms/step - loss: 1.0175 - val_loss: 1.0528\n",
            "Epoch 11/100\n",
            "282/282 [==============================] - 2s 7ms/step - loss: 1.0140 - val_loss: 1.0510\n",
            "Epoch 12/100\n",
            "282/282 [==============================] - 2s 7ms/step - loss: 1.0130 - val_loss: 1.0498\n",
            "Epoch 13/100\n",
            "282/282 [==============================] - 2s 7ms/step - loss: 1.0109 - val_loss: 1.0484\n",
            "Epoch 14/100\n",
            "282/282 [==============================] - 2s 7ms/step - loss: 1.0092 - val_loss: 1.0474\n",
            "Epoch 15/100\n",
            "282/282 [==============================] - 2s 7ms/step - loss: 1.0079 - val_loss: 1.0458\n",
            "Epoch 16/100\n",
            "282/282 [==============================] - 2s 7ms/step - loss: 1.0070 - val_loss: 1.0451\n",
            "Epoch 17/100\n",
            "282/282 [==============================] - 2s 7ms/step - loss: 1.0055 - val_loss: 1.0445\n",
            "Epoch 18/100\n",
            "282/282 [==============================] - 2s 7ms/step - loss: 1.0048 - val_loss: 1.0440\n",
            "Epoch 19/100\n",
            "282/282 [==============================] - 2s 7ms/step - loss: 1.0038 - val_loss: 1.0432\n",
            "Epoch 20/100\n",
            "282/282 [==============================] - 2s 7ms/step - loss: 1.0031 - val_loss: 1.0430\n",
            "Epoch 21/100\n",
            "282/282 [==============================] - 2s 7ms/step - loss: 1.0023 - val_loss: 1.0419\n",
            "Epoch 22/100\n",
            "282/282 [==============================] - 2s 8ms/step - loss: 1.0020 - val_loss: 1.0420\n",
            "Epoch 23/100\n",
            "282/282 [==============================] - 2s 7ms/step - loss: 1.0011 - val_loss: 1.0415\n",
            "Epoch 24/100\n",
            "282/282 [==============================] - 2s 7ms/step - loss: 1.0010 - val_loss: 1.0414\n",
            "Epoch 25/100\n",
            "282/282 [==============================] - 2s 7ms/step - loss: 1.0003 - val_loss: 1.0410\n",
            "Epoch 26/100\n",
            "282/282 [==============================] - 2s 7ms/step - loss: 1.0000 - val_loss: 1.0408\n",
            "Epoch 27/100\n",
            "282/282 [==============================] - 2s 7ms/step - loss: 0.9997 - val_loss: 1.0405\n",
            "Epoch 28/100\n",
            "282/282 [==============================] - 2s 7ms/step - loss: 0.9991 - val_loss: 1.0405\n",
            "Epoch 29/100\n",
            "282/282 [==============================] - 2s 7ms/step - loss: 0.9991 - val_loss: 1.0400\n",
            "Epoch 30/100\n",
            "282/282 [==============================] - 2s 7ms/step - loss: 0.9986 - val_loss: 1.0402\n",
            "Epoch 31/100\n",
            "282/282 [==============================] - 2s 7ms/step - loss: 0.9983 - val_loss: 1.0401\n",
            "Epoch 32/100\n",
            "282/282 [==============================] - 2s 7ms/step - loss: 0.9982 - val_loss: 1.0396\n",
            "Epoch 33/100\n",
            "282/282 [==============================] - 2s 7ms/step - loss: 0.9981 - val_loss: 1.0396\n",
            "Epoch 34/100\n",
            "282/282 [==============================] - 2s 7ms/step - loss: 0.9979 - val_loss: 1.0394\n",
            "Epoch 35/100\n",
            "282/282 [==============================] - 2s 7ms/step - loss: 0.9977 - val_loss: 1.0395\n",
            "Epoch 36/100\n",
            "282/282 [==============================] - 2s 7ms/step - loss: 0.9976 - val_loss: 1.0395\n",
            "Epoch 37/100\n",
            "282/282 [==============================] - 2s 7ms/step - loss: 0.9974 - val_loss: 1.0396\n",
            "Epoch 38/100\n",
            "282/282 [==============================] - 2s 7ms/step - loss: 0.9973 - val_loss: 1.0390\n",
            "Epoch 39/100\n",
            "282/282 [==============================] - 2s 7ms/step - loss: 0.9971 - val_loss: 1.0391\n",
            "Epoch 40/100\n",
            "282/282 [==============================] - 2s 7ms/step - loss: 0.9971 - val_loss: 1.0390\n",
            "Epoch 41/100\n",
            "282/282 [==============================] - 2s 7ms/step - loss: 0.9969 - val_loss: 1.0392\n",
            "Epoch 42/100\n",
            "282/282 [==============================] - 2s 7ms/step - loss: 0.9969 - val_loss: 1.0393\n",
            "Epoch 43/100\n",
            "282/282 [==============================] - 2s 8ms/step - loss: 0.9967 - val_loss: 1.0393\n",
            "Epoch 44/100\n",
            "282/282 [==============================] - 2s 7ms/step - loss: 0.9967 - val_loss: 1.0392\n",
            "Epoch 45/100\n",
            "282/282 [==============================] - 2s 7ms/step - loss: 0.9966 - val_loss: 1.0393\n",
            "Epoch 46/100\n",
            "282/282 [==============================] - 2s 7ms/step - loss: 0.9966 - val_loss: 1.0393\n",
            "Epoch 47/100\n",
            "282/282 [==============================] - 2s 7ms/step - loss: 0.9966 - val_loss: 1.0390\n",
            "Epoch 48/100\n",
            "282/282 [==============================] - 2s 7ms/step - loss: 0.9965 - val_loss: 1.0391\n",
            "Epoch 49/100\n",
            "282/282 [==============================] - 2s 7ms/step - loss: 0.9965 - val_loss: 1.0391\n",
            "Epoch 50/100\n",
            "282/282 [==============================] - 2s 7ms/step - loss: 0.9964 - val_loss: 1.0390\n",
            "Epoch 51/100\n",
            "282/282 [==============================] - 2s 8ms/step - loss: 0.9964 - val_loss: 1.0391\n",
            "Epoch 52/100\n",
            "282/282 [==============================] - 2s 7ms/step - loss: 0.9963 - val_loss: 1.0391\n",
            "Epoch 53/100\n",
            "282/282 [==============================] - 2s 7ms/step - loss: 0.9963 - val_loss: 1.0391\n",
            "Epoch 54/100\n",
            "282/282 [==============================] - 2s 7ms/step - loss: 0.9964 - val_loss: 1.0389\n",
            "Epoch 55/100\n",
            "282/282 [==============================] - 2s 7ms/step - loss: 0.9964 - val_loss: 1.0389\n",
            "Epoch 56/100\n",
            "282/282 [==============================] - 2s 7ms/step - loss: 0.9963 - val_loss: 1.0389\n",
            "Epoch 57/100\n",
            "282/282 [==============================] - 2s 7ms/step - loss: 0.9963 - val_loss: 1.0389\n",
            "Epoch 58/100\n",
            "282/282 [==============================] - 2s 7ms/step - loss: 0.9963 - val_loss: 1.0389\n",
            "Epoch 59/100\n",
            "282/282 [==============================] - 2s 7ms/step - loss: 0.9962 - val_loss: 1.0389\n",
            "Epoch 60/100\n",
            "282/282 [==============================] - 2s 7ms/step - loss: 0.9962 - val_loss: 1.0389\n",
            "Epoch 61/100\n",
            "282/282 [==============================] - 2s 7ms/step - loss: 0.9962 - val_loss: 1.0389\n",
            "Epoch 62/100\n",
            "282/282 [==============================] - 2s 7ms/step - loss: 0.9962 - val_loss: 1.0389\n",
            "Epoch 63/100\n",
            "282/282 [==============================] - 2s 7ms/step - loss: 0.9961 - val_loss: 1.0389\n",
            "Epoch 64/100\n",
            "282/282 [==============================] - 2s 7ms/step - loss: 0.9961 - val_loss: 1.0389\n",
            "Epoch 65/100\n",
            "282/282 [==============================] - 2s 8ms/step - loss: 0.9961 - val_loss: 1.0389\n",
            "Epoch 66/100\n",
            "282/282 [==============================] - 2s 8ms/step - loss: 0.9960 - val_loss: 1.0389\n",
            "Epoch 67/100\n",
            "282/282 [==============================] - 2s 7ms/step - loss: 0.9960 - val_loss: 1.0389\n",
            "Epoch 68/100\n",
            "282/282 [==============================] - 2s 8ms/step - loss: 0.9960 - val_loss: 1.0390\n",
            "Epoch 69/100\n",
            "282/282 [==============================] - 2s 8ms/step - loss: 0.9960 - val_loss: 1.0390\n",
            "Epoch 70/100\n",
            "282/282 [==============================] - 2s 7ms/step - loss: 0.9959 - val_loss: 1.0390\n",
            "Epoch 71/100\n",
            "282/282 [==============================] - 2s 7ms/step - loss: 0.9959 - val_loss: 1.0390\n",
            "Epoch 72/100\n",
            "282/282 [==============================] - 2s 8ms/step - loss: 0.9959 - val_loss: 1.0390\n",
            "Epoch 73/100\n",
            "282/282 [==============================] - 2s 7ms/step - loss: 0.9959 - val_loss: 1.0390\n",
            "Epoch 74/100\n",
            "282/282 [==============================] - 2s 7ms/step - loss: 0.9959 - val_loss: 1.0390\n",
            "Epoch 75/100\n",
            "282/282 [==============================] - 2s 8ms/step - loss: 0.9959 - val_loss: 1.0390\n",
            "Epoch 76/100\n",
            "282/282 [==============================] - 2s 7ms/step - loss: 0.9959 - val_loss: 1.0391\n",
            "Epoch 77/100\n",
            "282/282 [==============================] - 2s 7ms/step - loss: 0.9958 - val_loss: 1.0391\n",
            "Epoch 78/100\n",
            "282/282 [==============================] - 2s 7ms/step - loss: 0.9958 - val_loss: 1.0391\n",
            "Epoch 79/100\n",
            "282/282 [==============================] - 2s 7ms/step - loss: 0.9958 - val_loss: 1.0391\n",
            "Epoch 80/100\n",
            "282/282 [==============================] - 2s 7ms/step - loss: 0.9958 - val_loss: 1.0391\n",
            "Epoch 81/100\n",
            "282/282 [==============================] - 2s 7ms/step - loss: 0.9958 - val_loss: 1.0391\n",
            "Epoch 82/100\n",
            "282/282 [==============================] - 2s 7ms/step - loss: 0.9958 - val_loss: 1.0391\n",
            "Epoch 83/100\n",
            "282/282 [==============================] - 2s 7ms/step - loss: 0.9958 - val_loss: 1.0391\n",
            "Epoch 84/100\n",
            "282/282 [==============================] - 2s 7ms/step - loss: 0.9958 - val_loss: 1.0391\n",
            "Epoch 85/100\n",
            "282/282 [==============================] - 2s 7ms/step - loss: 0.9958 - val_loss: 1.0391\n",
            "Epoch 86/100\n",
            "282/282 [==============================] - 2s 7ms/step - loss: 0.9958 - val_loss: 1.0392\n",
            "Epoch 87/100\n",
            "282/282 [==============================] - 2s 7ms/step - loss: 0.9958 - val_loss: 1.0392\n",
            "Epoch 88/100\n",
            "282/282 [==============================] - 2s 7ms/step - loss: 0.9958 - val_loss: 1.0392\n",
            "Epoch 89/100\n",
            "282/282 [==============================] - 2s 7ms/step - loss: 0.9958 - val_loss: 1.0392\n",
            "Epoch 90/100\n",
            "282/282 [==============================] - 2s 7ms/step - loss: 0.9958 - val_loss: 1.0392\n",
            "Epoch 91/100\n",
            "282/282 [==============================] - 2s 7ms/step - loss: 0.9958 - val_loss: 1.0392\n",
            "Epoch 92/100\n",
            "282/282 [==============================] - 2s 7ms/step - loss: 0.9957 - val_loss: 1.0392\n",
            "Epoch 93/100\n",
            "282/282 [==============================] - 2s 7ms/step - loss: 0.9957 - val_loss: 1.0392\n",
            "Epoch 94/100\n",
            "282/282 [==============================] - 2s 7ms/step - loss: 0.9957 - val_loss: 1.0392\n",
            "Epoch 95/100\n",
            "282/282 [==============================] - 2s 7ms/step - loss: 0.9957 - val_loss: 1.0392\n",
            "Epoch 96/100\n",
            "282/282 [==============================] - 2s 7ms/step - loss: 0.9957 - val_loss: 1.0392\n",
            "Epoch 97/100\n",
            "282/282 [==============================] - 2s 7ms/step - loss: 0.9957 - val_loss: 1.0392\n",
            "Epoch 98/100\n",
            "282/282 [==============================] - 2s 7ms/step - loss: 0.9957 - val_loss: 1.0392\n",
            "Epoch 99/100\n",
            "282/282 [==============================] - 2s 7ms/step - loss: 0.9957 - val_loss: 1.0393\n",
            "Epoch 100/100\n",
            "282/282 [==============================] - 2s 7ms/step - loss: 0.9957 - val_loss: 1.0393\n",
            "OUTLIERS:  500 INLIERS:  9494\n"
          ]
        },
        {
          "output_type": "display_data",
          "data": {
            "image/png": "[encoded data removed]",
            "text/plain": [
              "<Figure size 576x576 with 1 Axes>"
            ]
          },
          "metadata": {}
        }
      ]
    },
    {
      "cell_type": "markdown",
      "metadata": {
        "id": "ZY1IpV-4o-rm"
      },
      "source": [
        "**Labels**"
      ]
    },
    {
      "cell_type": "code",
      "metadata": {
        "colab": {
          "base_uri": "https://localhost:8080/"
        },
        "id": "IBk2rp9XoNgn",
        "outputId": "efa3bce8-eb5f-438c-8c08-3763b46c0f10"
      },
      "source": [
        "y"
      ],
      "execution_count": 18,
      "outputs": [
        {
          "output_type": "execute_result",
          "data": {
            "text/plain": [
              "array([0, 0, 0, ..., 0, 0, 0])"
            ]
          },
          "metadata": {},
          "execution_count": 18
        }
      ]
    },
    {
      "cell_type": "code",
      "metadata": {
        "id": "t2YvXjStknzH",
        "colab": {
          "base_uri": "https://localhost:8080/"
        },
        "outputId": "315b2d8e-9839-435d-c62f-3d6f257c1859"
      },
      "source": [
        "#Determine the number of anomalous and normal instances in the dataset.\n",
        "anomalous = y[y == 1]\n",
        "normal = y[y == 0]\n",
        "outlier_fraction = len(anomalous)/float(len(normal))\n",
        "\n",
        "#Now let us print the outlier fraction and number of anomalous and normal instances\n",
        "print(outlier_fraction)\n",
        "print(\"Anomalous Instances : {}\".format(len(anomalous)))\n",
        "print(\"Normal Instances : {}\".format(len(normal)))"
      ],
      "execution_count": 19,
      "outputs": [
        {
          "output_type": "stream",
          "name": "stdout",
          "text": [
            "0.05255397577672459\n",
            "Anomalous Instances : 499\n",
            "Normal Instances : 9495\n"
          ]
        }
      ]
    },
    {
      "cell_type": "markdown",
      "metadata": {
        "id": "UEzatlmaaE95"
      },
      "source": [
        "Show the counts of observations in each categorical bin using bars."
      ]
    },
    {
      "cell_type": "code",
      "metadata": {
        "colab": {
          "base_uri": "https://localhost:8080/",
          "height": 502
        },
        "id": "sAF0tWcGTzGn",
        "outputId": "ecdcd42e-7b10-464d-b1d4-e9e3e83ed760"
      },
      "source": [
        "sns.countplot(x = y, data = pd.DataFrame(y))"
      ],
      "execution_count": 20,
      "outputs": [
        {
          "output_type": "execute_result",
          "data": {
            "text/plain": [
              "<matplotlib.axes._subplots.AxesSubplot at 0x7f7acccc6190>"
            ]
          },
          "metadata": {},
          "execution_count": 20
        },
        {
          "output_type": "display_data",
          "data": {
            "image/png": "[encoded data removed]",
            "text/plain": [
              "<Figure size 864x576 with 1 Axes>"
            ]
          },
          "metadata": {}
        }
      ]
    },
    {
      "cell_type": "code",
      "metadata": {
        "colab": {
          "base_uri": "https://localhost:8080/",
          "height": 556
        },
        "id": "wp4d5dEk3ZAa",
        "outputId": "21aff627-ce34-4312-f598-ed746d1c6293"
      },
      "source": [
        "# add outlier_scores column: outlier_scores do not change when outliers_fraction changes\n",
        "df['outlier_scores'] = scores_pred\n",
        "df.head()"
      ],
      "execution_count": 21,
      "outputs": [
        {
          "output_type": "execute_result",
          "data": {
            "text/html": [
              "<div>\n",
              "<style scoped>\n",
              "    .dataframe tbody tr th:only-of-type {\n",
              "        vertical-align: middle;\n",
              "    }\n",
              "\n",
              "    .dataframe tbody tr th {\n",
              "        vertical-align: top;\n",
              "    }\n",
              "\n",
              "    .dataframe thead th {\n",
              "        text-align: right;\n",
              "    }\n",
              "</style>\n",
              "<table border=\"1\" class=\"dataframe\">\n",
              "  <thead>\n",
              "    <tr style=\"text-align: right;\">\n",
              "      <th></th>\n",
              "      <th>Row ID</th>\n",
              "      <th>Order ID</th>\n",
              "      <th>Order Date</th>\n",
              "      <th>Ship Date</th>\n",
              "      <th>Ship Mode</th>\n",
              "      <th>Customer ID</th>\n",
              "      <th>Customer Name</th>\n",
              "      <th>Segment</th>\n",
              "      <th>Country</th>\n",
              "      <th>City</th>\n",
              "      <th>State</th>\n",
              "      <th>Postal Code</th>\n",
              "      <th>Region</th>\n",
              "      <th>Product ID</th>\n",
              "      <th>Category</th>\n",
              "      <th>Sub-Category</th>\n",
              "      <th>Product Name</th>\n",
              "      <th>Sales</th>\n",
              "      <th>Quantity</th>\n",
              "      <th>Discount</th>\n",
              "      <th>Profit</th>\n",
              "      <th>outlier</th>\n",
              "      <th>outlier_scores</th>\n",
              "    </tr>\n",
              "  </thead>\n",
              "  <tbody>\n",
              "    <tr>\n",
              "      <th>0</th>\n",
              "      <td>1</td>\n",
              "      <td>CA-2016-152156</td>\n",
              "      <td>2016-11-08</td>\n",
              "      <td>2016-11-11</td>\n",
              "      <td>Second Class</td>\n",
              "      <td>CG-12520</td>\n",
              "      <td>Claire Gute</td>\n",
              "      <td>Consumer</td>\n",
              "      <td>United States</td>\n",
              "      <td>Henderson</td>\n",
              "      <td>Kentucky</td>\n",
              "      <td>42420</td>\n",
              "      <td>South</td>\n",
              "      <td>FUR-BO-10001798</td>\n",
              "      <td>Furniture</td>\n",
              "      <td>Bookcases</td>\n",
              "      <td>Bush Somerset Collection Bookcase</td>\n",
              "      <td>0.011552</td>\n",
              "      <td>2</td>\n",
              "      <td>0.00</td>\n",
              "      <td>0.442794</td>\n",
              "      <td>0</td>\n",
              "      <td>0.175812</td>\n",
              "    </tr>\n",
              "    <tr>\n",
              "      <th>1</th>\n",
              "      <td>2</td>\n",
              "      <td>CA-2016-152156</td>\n",
              "      <td>2016-11-08</td>\n",
              "      <td>2016-11-11</td>\n",
              "      <td>Second Class</td>\n",
              "      <td>CG-12520</td>\n",
              "      <td>Claire Gute</td>\n",
              "      <td>Consumer</td>\n",
              "      <td>United States</td>\n",
              "      <td>Henderson</td>\n",
              "      <td>Kentucky</td>\n",
              "      <td>42420</td>\n",
              "      <td>South</td>\n",
              "      <td>FUR-CH-10000454</td>\n",
              "      <td>Furniture</td>\n",
              "      <td>Chairs</td>\n",
              "      <td>Hon Deluxe Fabric Upholstered Stacking Chairs,...</td>\n",
              "      <td>0.032313</td>\n",
              "      <td>3</td>\n",
              "      <td>0.00</td>\n",
              "      <td>0.454639</td>\n",
              "      <td>0</td>\n",
              "      <td>0.060506</td>\n",
              "    </tr>\n",
              "    <tr>\n",
              "      <th>2</th>\n",
              "      <td>3</td>\n",
              "      <td>CA-2016-138688</td>\n",
              "      <td>2016-06-12</td>\n",
              "      <td>2016-06-16</td>\n",
              "      <td>Second Class</td>\n",
              "      <td>DV-13045</td>\n",
              "      <td>Darrin Van Huff</td>\n",
              "      <td>Corporate</td>\n",
              "      <td>United States</td>\n",
              "      <td>Los Angeles</td>\n",
              "      <td>California</td>\n",
              "      <td>90036</td>\n",
              "      <td>West</td>\n",
              "      <td>OFF-LA-10000240</td>\n",
              "      <td>Office Supplies</td>\n",
              "      <td>Labels</td>\n",
              "      <td>Self-Adhesive Address Labels for Typewriters b...</td>\n",
              "      <td>0.000626</td>\n",
              "      <td>2</td>\n",
              "      <td>0.00</td>\n",
              "      <td>0.440458</td>\n",
              "      <td>0</td>\n",
              "      <td>0.248910</td>\n",
              "    </tr>\n",
              "    <tr>\n",
              "      <th>3</th>\n",
              "      <td>4</td>\n",
              "      <td>US-2015-108966</td>\n",
              "      <td>2015-10-11</td>\n",
              "      <td>2015-10-18</td>\n",
              "      <td>Standard Class</td>\n",
              "      <td>SO-20335</td>\n",
              "      <td>Sean O'Donnell</td>\n",
              "      <td>Consumer</td>\n",
              "      <td>United States</td>\n",
              "      <td>Fort Lauderdale</td>\n",
              "      <td>Florida</td>\n",
              "      <td>33311</td>\n",
              "      <td>South</td>\n",
              "      <td>FUR-TA-10000577</td>\n",
              "      <td>Furniture</td>\n",
              "      <td>Tables</td>\n",
              "      <td>Bretford CR4500 Series Slim Rectangular Table</td>\n",
              "      <td>0.042280</td>\n",
              "      <td>5</td>\n",
              "      <td>0.45</td>\n",
              "      <td>0.414464</td>\n",
              "      <td>1</td>\n",
              "      <td>-0.068032</td>\n",
              "    </tr>\n",
              "    <tr>\n",
              "      <th>4</th>\n",
              "      <td>5</td>\n",
              "      <td>US-2015-108966</td>\n",
              "      <td>2015-10-11</td>\n",
              "      <td>2015-10-18</td>\n",
              "      <td>Standard Class</td>\n",
              "      <td>SO-20335</td>\n",
              "      <td>Sean O'Donnell</td>\n",
              "      <td>Consumer</td>\n",
              "      <td>United States</td>\n",
              "      <td>Fort Lauderdale</td>\n",
              "      <td>Florida</td>\n",
              "      <td>33311</td>\n",
              "      <td>South</td>\n",
              "      <td>OFF-ST-10000760</td>\n",
              "      <td>Office Supplies</td>\n",
              "      <td>Storage</td>\n",
              "      <td>Eldon Fold 'N Roll Cart System</td>\n",
              "      <td>0.000968</td>\n",
              "      <td>2</td>\n",
              "      <td>0.20</td>\n",
              "      <td>0.440168</td>\n",
              "      <td>0</td>\n",
              "      <td>0.249224</td>\n",
              "    </tr>\n",
              "  </tbody>\n",
              "</table>\n",
              "</div>"
            ],
            "text/plain": [
              "   Row ID        Order ID  Order Date  ...    Profit outlier outlier_scores\n",
              "0       1  CA-2016-152156  2016-11-08  ...  0.442794       0       0.175812\n",
              "1       2  CA-2016-152156  2016-11-08  ...  0.454639       0       0.060506\n",
              "2       3  CA-2016-138688  2016-06-12  ...  0.440458       0       0.248910\n",
              "3       4  US-2015-108966  2015-10-11  ...  0.414464       1      -0.068032\n",
              "4       5  US-2015-108966  2015-10-11  ...  0.440168       0       0.249224\n",
              "\n",
              "[5 rows x 23 columns]"
            ]
          },
          "metadata": {},
          "execution_count": 21
        }
      ]
    },
    {
      "cell_type": "code",
      "metadata": {
        "id": "mUcBFzGSmyCv"
      },
      "source": [
        "# split into independent variables and target variable \n",
        "X = df[['Sales','Profit']]\n",
        "y = df['outlier']"
      ],
      "execution_count": 22,
      "outputs": []
    },
    {
      "cell_type": "markdown",
      "metadata": {
        "id": "kel0P9MKjAzw"
      },
      "source": [
        "**Check Anomalies**"
      ]
    },
    {
      "cell_type": "code",
      "metadata": {
        "colab": {
          "base_uri": "https://localhost:8080/",
          "height": 556
        },
        "id": "2Sy6II9-ZVSo",
        "outputId": "1b8607e1-9f4e-49d1-f8ab-ff37d62170b1"
      },
      "source": [
        "df[df['outlier'] == 1].head()"
      ],
      "execution_count": 23,
      "outputs": [
        {
          "output_type": "execute_result",
          "data": {
            "text/html": [
              "<div>\n",
              "<style scoped>\n",
              "    .dataframe tbody tr th:only-of-type {\n",
              "        vertical-align: middle;\n",
              "    }\n",
              "\n",
              "    .dataframe tbody tr th {\n",
              "        vertical-align: top;\n",
              "    }\n",
              "\n",
              "    .dataframe thead th {\n",
              "        text-align: right;\n",
              "    }\n",
              "</style>\n",
              "<table border=\"1\" class=\"dataframe\">\n",
              "  <thead>\n",
              "    <tr style=\"text-align: right;\">\n",
              "      <th></th>\n",
              "      <th>Row ID</th>\n",
              "      <th>Order ID</th>\n",
              "      <th>Order Date</th>\n",
              "      <th>Ship Date</th>\n",
              "      <th>Ship Mode</th>\n",
              "      <th>Customer ID</th>\n",
              "      <th>Customer Name</th>\n",
              "      <th>Segment</th>\n",
              "      <th>Country</th>\n",
              "      <th>City</th>\n",
              "      <th>State</th>\n",
              "      <th>Postal Code</th>\n",
              "      <th>Region</th>\n",
              "      <th>Product ID</th>\n",
              "      <th>Category</th>\n",
              "      <th>Sub-Category</th>\n",
              "      <th>Product Name</th>\n",
              "      <th>Sales</th>\n",
              "      <th>Quantity</th>\n",
              "      <th>Discount</th>\n",
              "      <th>Profit</th>\n",
              "      <th>outlier</th>\n",
              "      <th>outlier_scores</th>\n",
              "    </tr>\n",
              "  </thead>\n",
              "  <tbody>\n",
              "    <tr>\n",
              "      <th>3</th>\n",
              "      <td>4</td>\n",
              "      <td>US-2015-108966</td>\n",
              "      <td>2015-10-11</td>\n",
              "      <td>2015-10-18</td>\n",
              "      <td>Standard Class</td>\n",
              "      <td>SO-20335</td>\n",
              "      <td>Sean O'Donnell</td>\n",
              "      <td>Consumer</td>\n",
              "      <td>United States</td>\n",
              "      <td>Fort Lauderdale</td>\n",
              "      <td>Florida</td>\n",
              "      <td>33311</td>\n",
              "      <td>South</td>\n",
              "      <td>FUR-TA-10000577</td>\n",
              "      <td>Furniture</td>\n",
              "      <td>Tables</td>\n",
              "      <td>Bretford CR4500 Series Slim Rectangular Table</td>\n",
              "      <td>0.042280</td>\n",
              "      <td>5</td>\n",
              "      <td>0.45</td>\n",
              "      <td>0.414464</td>\n",
              "      <td>1</td>\n",
              "      <td>-0.068032</td>\n",
              "    </tr>\n",
              "    <tr>\n",
              "      <th>10</th>\n",
              "      <td>11</td>\n",
              "      <td>CA-2014-115812</td>\n",
              "      <td>2014-06-09</td>\n",
              "      <td>2014-06-14</td>\n",
              "      <td>Standard Class</td>\n",
              "      <td>BH-11710</td>\n",
              "      <td>Brosina Hoffman</td>\n",
              "      <td>Consumer</td>\n",
              "      <td>United States</td>\n",
              "      <td>Los Angeles</td>\n",
              "      <td>California</td>\n",
              "      <td>90032</td>\n",
              "      <td>West</td>\n",
              "      <td>FUR-TA-10001539</td>\n",
              "      <td>Furniture</td>\n",
              "      <td>Tables</td>\n",
              "      <td>Chromcraft Rectangular Conference Tables</td>\n",
              "      <td>0.075348</td>\n",
              "      <td>9</td>\n",
              "      <td>0.20</td>\n",
              "      <td>0.445687</td>\n",
              "      <td>1</td>\n",
              "      <td>-0.030613</td>\n",
              "    </tr>\n",
              "    <tr>\n",
              "      <th>27</th>\n",
              "      <td>28</td>\n",
              "      <td>US-2015-150630</td>\n",
              "      <td>2015-09-17</td>\n",
              "      <td>2015-09-21</td>\n",
              "      <td>Standard Class</td>\n",
              "      <td>TB-21520</td>\n",
              "      <td>Tracy Blumstein</td>\n",
              "      <td>Consumer</td>\n",
              "      <td>United States</td>\n",
              "      <td>Philadelphia</td>\n",
              "      <td>Pennsylvania</td>\n",
              "      <td>19140</td>\n",
              "      <td>East</td>\n",
              "      <td>FUR-BO-10004834</td>\n",
              "      <td>Furniture</td>\n",
              "      <td>Bookcases</td>\n",
              "      <td>Riverside Palais Royal Lawyers Bookcase, Royal...</td>\n",
              "      <td>0.136186</td>\n",
              "      <td>7</td>\n",
              "      <td>0.50</td>\n",
              "      <td>0.328996</td>\n",
              "      <td>1</td>\n",
              "      <td>-0.200797</td>\n",
              "    </tr>\n",
              "    <tr>\n",
              "      <th>54</th>\n",
              "      <td>55</td>\n",
              "      <td>CA-2016-105816</td>\n",
              "      <td>2016-12-11</td>\n",
              "      <td>2016-12-17</td>\n",
              "      <td>Standard Class</td>\n",
              "      <td>JM-15265</td>\n",
              "      <td>Janet Molinari</td>\n",
              "      <td>Corporate</td>\n",
              "      <td>United States</td>\n",
              "      <td>New York City</td>\n",
              "      <td>New York</td>\n",
              "      <td>10024</td>\n",
              "      <td>East</td>\n",
              "      <td>TEC-PH-10002447</td>\n",
              "      <td>Technology</td>\n",
              "      <td>Phones</td>\n",
              "      <td>AT&amp;T CL83451 4-Handset Telephone</td>\n",
              "      <td>0.045477</td>\n",
              "      <td>5</td>\n",
              "      <td>0.00</td>\n",
              "      <td>0.459912</td>\n",
              "      <td>1</td>\n",
              "      <td>-0.003867</td>\n",
              "    </tr>\n",
              "    <tr>\n",
              "      <th>125</th>\n",
              "      <td>126</td>\n",
              "      <td>US-2014-134614</td>\n",
              "      <td>2014-09-20</td>\n",
              "      <td>2014-09-25</td>\n",
              "      <td>Standard Class</td>\n",
              "      <td>PF-19165</td>\n",
              "      <td>Philip Fox</td>\n",
              "      <td>Consumer</td>\n",
              "      <td>United States</td>\n",
              "      <td>Bloomington</td>\n",
              "      <td>Illinois</td>\n",
              "      <td>61701</td>\n",
              "      <td>Central</td>\n",
              "      <td>FUR-TA-10004534</td>\n",
              "      <td>Furniture</td>\n",
              "      <td>Tables</td>\n",
              "      <td>Bevis 44 x 96 Conference Tables</td>\n",
              "      <td>0.027266</td>\n",
              "      <td>6</td>\n",
              "      <td>0.50</td>\n",
              "      <td>0.412821</td>\n",
              "      <td>1</td>\n",
              "      <td>-0.065826</td>\n",
              "    </tr>\n",
              "  </tbody>\n",
              "</table>\n",
              "</div>"
            ],
            "text/plain": [
              "     Row ID        Order ID  Order Date  ...    Profit outlier outlier_scores\n",
              "3         4  US-2015-108966  2015-10-11  ...  0.414464       1      -0.068032\n",
              "10       11  CA-2014-115812  2014-06-09  ...  0.445687       1      -0.030613\n",
              "27       28  US-2015-150630  2015-09-17  ...  0.328996       1      -0.200797\n",
              "54       55  CA-2016-105816  2016-12-11  ...  0.459912       1      -0.003867\n",
              "125     126  US-2014-134614  2014-09-20  ...  0.412821       1      -0.065826\n",
              "\n",
              "[5 rows x 23 columns]"
            ]
          },
          "metadata": {},
          "execution_count": 23
        }
      ]
    },
    {
      "cell_type": "markdown",
      "metadata": {
        "id": "7OfqNNdFXbBw"
      },
      "source": [
        "#**Data Splitting with Labels**"
      ]
    },
    {
      "cell_type": "code",
      "metadata": {
        "colab": {
          "base_uri": "https://localhost:8080/"
        },
        "id": "VTHiSkIXWWcH",
        "outputId": "ea829c6d-8694-4f0a-9fed-be9fba006fcb"
      },
      "source": [
        "from sklearn.model_selection import train_test_split\n",
        "\n",
        "X_train, X_test, y_train, y_test = train_test_split(X, y, test_size = 0.3, random_state = 21)\n",
        "\n",
        "print('Training Data for Modeling: ' + str(X_train.shape))\n",
        "print('Test Data For Predictions: ' + str(X_test.shape))"
      ],
      "execution_count": 24,
      "outputs": [
        {
          "output_type": "stream",
          "name": "stdout",
          "text": [
            "Training Data for Modeling: (6995, 2)\n",
            "Test Data For Predictions: (2999, 2)\n"
          ]
        }
      ]
    },
    {
      "cell_type": "code",
      "metadata": {
        "colab": {
          "base_uri": "https://localhost:8080/"
        },
        "id": "DrHIBrKbxFjR",
        "outputId": "fa0f9d46-97a8-43dd-8738-b5b3d8277ce9"
      },
      "source": [
        "from pyod.models.auto_encoder import AutoEncoder\n",
        "clf_name = 'Autoencoder'\n",
        "#[25, 10, 2, 10, 25]. There are three hidden layers with 10, 2, 10 neurons respectively.\n",
        "clf = AutoEncoder(hidden_neurons =[25,10,2,10,25],hidden_activation='relu',output_activation='sigmoid',\n",
        "                  loss='mean_squared_error',optimizer='adam',dropout_rate=0.2,\n",
        "                  epochs=100,batch_size=32,l2_regularizer=0.1,validation_size=0.1,contamination=outliers_fraction)\n",
        "clf.fit(X_train)"
      ],
      "execution_count": null,
      "outputs": [
        {
          "output_type": "stream",
          "name": "stdout",
          "text": [
            "Model: \"sequential\"\n",
            "_________________________________________________________________\n",
            " Layer (type)                Output Shape              Param #   \n",
            "=================================================================\n",
            " dense_2 (Dense)             (None, 2)                 6         \n",
            "                                                                 \n",
            " dropout (Dropout)           (None, 2)                 0         \n",
            "                                                                 \n",
            " dense_3 (Dense)             (None, 2)                 6         \n",
            "                                                                 \n",
            " dropout_1 (Dropout)         (None, 2)                 0         \n",
            "                                                                 \n",
            " dense_4 (Dense)             (None, 25)                75        \n",
            "                                                                 \n",
            " dropout_2 (Dropout)         (None, 25)                0         \n",
            "                                                                 \n",
            " dense_5 (Dense)             (None, 10)                260       \n",
            "                                                                 \n",
            " dropout_3 (Dropout)         (None, 10)                0         \n",
            "                                                                 \n",
            " dense_6 (Dense)             (None, 2)                 22        \n",
            "                                                                 \n",
            " dropout_4 (Dropout)         (None, 2)                 0         \n",
            "                                                                 \n",
            " dense_7 (Dense)             (None, 10)                30        \n",
            "                                                                 \n",
            " dropout_5 (Dropout)         (None, 10)                0         \n",
            "                                                                 \n",
            " dense_8 (Dense)             (None, 25)                275       \n",
            "                                                                 \n",
            " dropout_6 (Dropout)         (None, 25)                0         \n",
            "                                                                 \n",
            " dense_9 (Dense)             (None, 2)                 52        \n",
            "                                                                 \n",
            "=================================================================\n",
            "Total params: 726\n",
            "Trainable params: 726\n",
            "Non-trainable params: 0\n",
            "_________________________________________________________________\n",
            "None\n",
            "Epoch 1/100\n",
            "197/197 [==============================] - 3s 9ms/step - loss: 1.4052 - val_loss: 0.9617\n",
            "Epoch 2/100\n",
            "197/197 [==============================] - 2s 8ms/step - loss: 1.2788 - val_loss: 0.8978\n",
            "Epoch 3/100\n",
            "197/197 [==============================] - 1s 7ms/step - loss: 1.2224 - val_loss: 0.8667\n",
            "Epoch 4/100\n",
            "197/197 [==============================] - 2s 8ms/step - loss: 1.1865 - val_loss: 0.8417\n",
            "Epoch 5/100\n",
            "197/197 [==============================] - 2s 8ms/step - loss: 1.1594 - val_loss: 0.8238\n",
            "Epoch 6/100\n",
            "197/197 [==============================] - 1s 7ms/step - loss: 1.1369 - val_loss: 0.8123\n",
            "Epoch 7/100\n",
            "197/197 [==============================] - 2s 8ms/step - loss: 1.1194 - val_loss: 0.7985\n",
            "Epoch 8/100\n",
            "197/197 [==============================] - 2s 8ms/step - loss: 1.1037 - val_loss: 0.7911\n",
            "Epoch 9/100\n",
            "197/197 [==============================] - 1s 7ms/step - loss: 1.0921 - val_loss: 0.7856\n",
            "Epoch 10/100\n",
            "197/197 [==============================] - 2s 8ms/step - loss: 1.0822 - val_loss: 0.7767\n",
            "Epoch 11/100\n",
            "197/197 [==============================] - 1s 7ms/step - loss: 1.0728 - val_loss: 0.7719\n",
            "Epoch 12/100\n",
            "197/197 [==============================] - 1s 7ms/step - loss: 1.0661 - val_loss: 0.7651\n",
            "Epoch 13/100\n",
            "197/197 [==============================] - 1s 7ms/step - loss: 1.0601 - val_loss: 0.7637\n",
            "Epoch 14/100\n",
            "197/197 [==============================] - 2s 8ms/step - loss: 1.0553 - val_loss: 0.7580\n",
            "Epoch 15/100\n",
            "197/197 [==============================] - 2s 8ms/step - loss: 1.0513 - val_loss: 0.7534\n",
            "Epoch 16/100\n",
            "197/197 [==============================] - 2s 8ms/step - loss: 1.0484 - val_loss: 0.7550\n",
            "Epoch 17/100\n",
            "197/197 [==============================] - 2s 8ms/step - loss: 1.0452 - val_loss: 0.7489\n",
            "Epoch 18/100\n",
            "197/197 [==============================] - 1s 7ms/step - loss: 1.0421 - val_loss: 0.7429\n",
            "Epoch 19/100\n",
            "197/197 [==============================] - 1s 8ms/step - loss: 1.0393 - val_loss: 0.7417\n",
            "Epoch 20/100\n",
            "197/197 [==============================] - 1s 8ms/step - loss: 1.0390 - val_loss: 0.7436\n",
            "Epoch 21/100\n",
            "197/197 [==============================] - 1s 7ms/step - loss: 1.0362 - val_loss: 0.7381\n",
            "Epoch 22/100\n",
            "197/197 [==============================] - 1s 8ms/step - loss: 1.0348 - val_loss: 0.7415\n",
            "Epoch 23/100\n",
            "197/197 [==============================] - 2s 8ms/step - loss: 1.0332 - val_loss: 0.7315\n",
            "Epoch 24/100\n",
            "197/197 [==============================] - 2s 8ms/step - loss: 1.0317 - val_loss: 0.7305\n",
            "Epoch 25/100\n",
            "197/197 [==============================] - 2s 8ms/step - loss: 1.0296 - val_loss: 0.7282\n",
            "Epoch 26/100\n",
            "197/197 [==============================] - 1s 7ms/step - loss: 1.0286 - val_loss: 0.7256\n",
            "Epoch 27/100\n",
            "197/197 [==============================] - 2s 8ms/step - loss: 1.0257 - val_loss: 0.7248\n",
            "Epoch 28/100\n",
            "197/197 [==============================] - 2s 8ms/step - loss: 1.0254 - val_loss: 0.7146\n",
            "Epoch 29/100\n",
            "197/197 [==============================] - 1s 7ms/step - loss: 1.0247 - val_loss: 0.7131\n",
            "Epoch 30/100\n",
            "197/197 [==============================] - 2s 8ms/step - loss: 1.0243 - val_loss: 0.7140\n",
            "Epoch 31/100\n",
            "197/197 [==============================] - 2s 8ms/step - loss: 1.0232 - val_loss: 0.7094\n",
            "Epoch 32/100\n",
            "197/197 [==============================] - 1s 8ms/step - loss: 1.0215 - val_loss: 0.7093\n",
            "Epoch 33/100\n",
            "197/197 [==============================] - 2s 8ms/step - loss: 1.0206 - val_loss: 0.7082\n",
            "Epoch 34/100\n",
            "197/197 [==============================] - 2s 8ms/step - loss: 1.0211 - val_loss: 0.7065\n",
            "Epoch 35/100\n",
            "197/197 [==============================] - 1s 7ms/step - loss: 1.0185 - val_loss: 0.7046\n",
            "Epoch 36/100\n",
            "197/197 [==============================] - 2s 8ms/step - loss: 1.0191 - val_loss: 0.7073\n",
            "Epoch 37/100\n",
            "197/197 [==============================] - 1s 7ms/step - loss: 1.0161 - val_loss: 0.7038\n",
            "Epoch 38/100\n",
            "197/197 [==============================] - 2s 8ms/step - loss: 1.0173 - val_loss: 0.7063\n",
            "Epoch 39/100\n",
            "197/197 [==============================] - 2s 8ms/step - loss: 1.0200 - val_loss: 0.7119\n",
            "Epoch 40/100\n",
            "197/197 [==============================] - 1s 8ms/step - loss: 1.0176 - val_loss: 0.7045\n",
            "Epoch 41/100\n",
            "197/197 [==============================] - 2s 8ms/step - loss: 1.0164 - val_loss: 0.7047\n",
            "Epoch 42/100\n",
            "197/197 [==============================] - 2s 8ms/step - loss: 1.0184 - val_loss: 0.7005\n",
            "Epoch 43/100\n",
            "197/197 [==============================] - 1s 7ms/step - loss: 1.0153 - val_loss: 0.7033\n",
            "Epoch 44/100\n",
            "197/197 [==============================] - 2s 8ms/step - loss: 1.0160 - val_loss: 0.7008\n",
            "Epoch 45/100\n",
            "197/197 [==============================] - 2s 8ms/step - loss: 1.0154 - val_loss: 0.7062\n",
            "Epoch 46/100\n",
            "197/197 [==============================] - 2s 8ms/step - loss: 1.0127 - val_loss: 0.6985\n",
            "Epoch 47/100\n",
            "197/197 [==============================] - 2s 8ms/step - loss: 1.0137 - val_loss: 0.6980\n",
            "Epoch 48/100\n",
            "197/197 [==============================] - 1s 8ms/step - loss: 1.0155 - val_loss: 0.7067\n",
            "Epoch 49/100\n",
            "197/197 [==============================] - 1s 7ms/step - loss: 1.0150 - val_loss: 0.6966\n",
            "Epoch 50/100\n",
            "197/197 [==============================] - 2s 8ms/step - loss: 1.0119 - val_loss: 0.6959\n",
            "Epoch 51/100\n",
            "197/197 [==============================] - 2s 8ms/step - loss: 1.0125 - val_loss: 0.7055\n",
            "Epoch 52/100\n",
            "197/197 [==============================] - 1s 7ms/step - loss: 1.0120 - val_loss: 0.6945\n",
            "Epoch 53/100\n",
            "197/197 [==============================] - 2s 8ms/step - loss: 1.0124 - val_loss: 0.6981\n",
            "Epoch 54/100\n",
            "197/197 [==============================] - 1s 7ms/step - loss: 1.0134 - val_loss: 0.6931\n",
            "Epoch 55/100\n",
            "197/197 [==============================] - 2s 8ms/step - loss: 1.0162 - val_loss: 0.6973\n",
            "Epoch 56/100\n",
            "197/197 [==============================] - 2s 8ms/step - loss: 1.0141 - val_loss: 0.6936\n",
            "Epoch 57/100\n",
            "197/197 [==============================] - 2s 8ms/step - loss: 1.0116 - val_loss: 0.6938\n",
            "Epoch 58/100\n",
            "197/197 [==============================] - 2s 8ms/step - loss: 1.0119 - val_loss: 0.6942\n",
            "Epoch 59/100\n",
            "197/197 [==============================] - 2s 8ms/step - loss: 1.0121 - val_loss: 0.6967\n",
            "Epoch 60/100\n",
            "197/197 [==============================] - 1s 7ms/step - loss: 1.0152 - val_loss: 0.6922\n",
            "Epoch 61/100\n",
            "197/197 [==============================] - 2s 8ms/step - loss: 1.0117 - val_loss: 0.6932\n",
            "Epoch 62/100\n",
            "197/197 [==============================] - 2s 8ms/step - loss: 1.0112 - val_loss: 0.6956\n",
            "Epoch 63/100\n",
            "197/197 [==============================] - 2s 8ms/step - loss: 1.0125 - val_loss: 0.6916\n",
            "Epoch 64/100\n",
            "197/197 [==============================] - 2s 8ms/step - loss: 1.0119 - val_loss: 0.6966\n",
            "Epoch 65/100\n",
            "197/197 [==============================] - 1s 7ms/step - loss: 1.0107 - val_loss: 0.6976\n",
            "Epoch 66/100\n",
            "197/197 [==============================] - 2s 8ms/step - loss: 1.0101 - val_loss: 0.6947\n",
            "Epoch 67/100\n",
            "197/197 [==============================] - 2s 8ms/step - loss: 1.0097 - val_loss: 0.6894\n",
            "Epoch 68/100\n",
            "197/197 [==============================] - 2s 8ms/step - loss: 1.0094 - val_loss: 0.6911\n",
            "Epoch 69/100\n",
            "197/197 [==============================] - 2s 8ms/step - loss: 1.0100 - val_loss: 0.6894\n",
            "Epoch 70/100\n",
            "197/197 [==============================] - 1s 7ms/step - loss: 1.0128 - val_loss: 0.6888\n",
            "Epoch 71/100\n",
            "197/197 [==============================] - 1s 7ms/step - loss: 1.0099 - val_loss: 0.6878\n",
            "Epoch 72/100\n",
            "197/197 [==============================] - 1s 7ms/step - loss: 1.0110 - val_loss: 0.6947\n",
            "Epoch 73/100\n",
            "197/197 [==============================] - 2s 8ms/step - loss: 1.0126 - val_loss: 0.6982\n",
            "Epoch 74/100\n",
            "197/197 [==============================] - 2s 8ms/step - loss: 1.0088 - val_loss: 0.6973\n",
            "Epoch 75/100\n",
            "197/197 [==============================] - 1s 8ms/step - loss: 1.0133 - val_loss: 0.6897\n",
            "Epoch 76/100\n",
            "197/197 [==============================] - 2s 8ms/step - loss: 1.0093 - val_loss: 0.6973\n",
            "Epoch 77/100\n",
            "197/197 [==============================] - 2s 8ms/step - loss: 1.0119 - val_loss: 0.6867\n",
            "Epoch 78/100\n",
            "197/197 [==============================] - 2s 8ms/step - loss: 1.0083 - val_loss: 0.6887\n",
            "Epoch 79/100\n",
            "197/197 [==============================] - 1s 7ms/step - loss: 1.0089 - val_loss: 0.6854\n",
            "Epoch 80/100\n",
            "197/197 [==============================] - 1s 7ms/step - loss: 1.0083 - val_loss: 0.6896\n",
            "Epoch 81/100\n",
            "197/197 [==============================] - 2s 8ms/step - loss: 1.0087 - val_loss: 0.6902\n",
            "Epoch 82/100\n",
            "197/197 [==============================] - 1s 7ms/step - loss: 1.0114 - val_loss: 0.6887\n",
            "Epoch 83/100\n",
            "197/197 [==============================] - 2s 8ms/step - loss: 1.0103 - val_loss: 0.6875\n",
            "Epoch 84/100\n",
            "197/197 [==============================] - 2s 8ms/step - loss: 1.0108 - val_loss: 0.6848\n",
            "Epoch 85/100\n",
            "197/197 [==============================] - 2s 9ms/step - loss: 1.0075 - val_loss: 0.6838\n",
            "Epoch 86/100\n",
            "197/197 [==============================] - 2s 8ms/step - loss: 1.0069 - val_loss: 0.6839\n",
            "Epoch 87/100\n",
            "197/197 [==============================] - 2s 8ms/step - loss: 1.0091 - val_loss: 0.6913\n",
            "Epoch 88/100\n",
            "197/197 [==============================] - 1s 7ms/step - loss: 1.0079 - val_loss: 0.6831\n",
            "Epoch 89/100\n",
            "197/197 [==============================] - 1s 7ms/step - loss: 1.0074 - val_loss: 0.6888\n",
            "Epoch 90/100\n",
            "197/197 [==============================] - 2s 8ms/step - loss: 1.0131 - val_loss: 0.6838\n",
            "Epoch 91/100\n",
            "197/197 [==============================] - 2s 8ms/step - loss: 1.0096 - val_loss: 0.6932\n",
            "Epoch 92/100\n",
            "197/197 [==============================] - 1s 7ms/step - loss: 1.0075 - val_loss: 0.6841\n",
            "Epoch 93/100\n",
            "197/197 [==============================] - 1s 7ms/step - loss: 1.0077 - val_loss: 0.6827\n",
            "Epoch 94/100\n",
            "197/197 [==============================] - 1s 7ms/step - loss: 1.0058 - val_loss: 0.6887\n",
            "Epoch 95/100\n",
            "197/197 [==============================] - 2s 8ms/step - loss: 1.0080 - val_loss: 0.6830\n",
            "Epoch 96/100\n",
            "197/197 [==============================] - 2s 8ms/step - loss: 1.0107 - val_loss: 0.6878\n",
            "Epoch 97/100\n",
            "197/197 [==============================] - 2s 8ms/step - loss: 1.0094 - val_loss: 0.6970\n",
            "Epoch 98/100\n",
            "197/197 [==============================] - 2s 8ms/step - loss: 1.0101 - val_loss: 0.6891\n",
            "Epoch 99/100\n",
            "197/197 [==============================] - 2s 8ms/step - loss: 1.0093 - val_loss: 0.6842\n",
            "Epoch 100/100\n",
            "197/197 [==============================] - 2s 8ms/step - loss: 1.0100 - val_loss: 0.6973\n"
          ]
        },
        {
          "output_type": "execute_result",
          "data": {
            "text/plain": [
              "AutoEncoder(batch_size=32, contamination=0.05, dropout_rate=0.2, epochs=100,\n",
              "      hidden_activation='relu', hidden_neurons=[25, 10, 2, 10, 25],\n",
              "      l2_regularizer=0.1, loss='mean_squared_error', optimizer='adam',\n",
              "      output_activation='sigmoid', preprocessing=True, random_state=None,\n",
              "      validation_size=0.1, verbose=1)"
            ]
          },
          "metadata": {},
          "execution_count": 67
        }
      ]
    },
    {
      "cell_type": "markdown",
      "metadata": {
        "id": "Kc0-AYcsOy-m"
      },
      "source": [
        "**Visualize the model**"
      ]
    },
    {
      "cell_type": "code",
      "metadata": {
        "colab": {
          "base_uri": "https://localhost:8080/",
          "height": 1000
        },
        "id": "w4B0MW0RPcx2",
        "outputId": "c75f1296-015c-4045-eaee-8b802567757c"
      },
      "source": [
        "from IPython.display import SVG\n",
        "from keras.utils.vis_utils import model_to_dot\n",
        "\n",
        "SVG(model_to_dot(clf.model_, show_shapes= True, show_layer_names=True, dpi=65).create(prog='dot', format='svg'))"
      ],
      "execution_count": null,
      "outputs": [
        {
          "output_type": "execute_result",
          "data": {
            "text/plain": [
              "<IPython.core.display.SVG object>"
            ],
            "image/svg+xml": "<svg height=\"1174pt\" viewBox=\"0.00 0.00 328.00 1300.00\" width=\"296pt\" xmlns=\"http://www.w3.org/2000/svg\" xmlns:xlink=\"http://www.w3.org/1999/xlink\">\n<g class=\"graph\" id=\"graph0\" transform=\"scale(.9028 .9028) rotate(0) translate(4 1296)\">\n<title>G</title>\n<polygon fill=\"#ffffff\" points=\"-4,4 -4,-1296 324,-1296 324,4 -4,4\" stroke=\"transparent\"/>\n<!-- 140405052383696 -->\n<g class=\"node\" id=\"node1\">\n<title>140405052383696</title>\n<polygon fill=\"none\" points=\"0,-1245.5 0,-1291.5 320,-1291.5 320,-1245.5 0,-1245.5\" stroke=\"#000000\"/>\n<text fill=\"#000000\" font-family=\"Times,serif\" font-size=\"14.00\" text-anchor=\"middle\" x=\"50.5\" y=\"-1264.8\">dense_2_input</text>\n<polyline fill=\"none\" points=\"101,-1245.5 101,-1291.5 \" stroke=\"#000000\"/>\n<text fill=\"#000000\" font-family=\"Times,serif\" font-size=\"14.00\" text-anchor=\"middle\" x=\"141\" y=\"-1264.8\">InputLayer</text>\n<polyline fill=\"none\" points=\"181,-1245.5 181,-1291.5 \" stroke=\"#000000\"/>\n<text fill=\"#000000\" font-family=\"Times,serif\" font-size=\"14.00\" text-anchor=\"middle\" x=\"210\" y=\"-1276.3\">input:</text>\n<polyline fill=\"none\" points=\"181,-1268.5 239,-1268.5 \" stroke=\"#000000\"/>\n<text fill=\"#000000\" font-family=\"Times,serif\" font-size=\"14.00\" text-anchor=\"middle\" x=\"210\" y=\"-1253.3\">output:</text>\n<polyline fill=\"none\" points=\"239,-1245.5 239,-1291.5 \" stroke=\"#000000\"/>\n<text fill=\"#000000\" font-family=\"Times,serif\" font-size=\"14.00\" text-anchor=\"middle\" x=\"279.5\" y=\"-1276.3\">[(None, 2)]</text>\n<polyline fill=\"none\" points=\"239,-1268.5 320,-1268.5 \" stroke=\"#000000\"/>\n<text fill=\"#000000\" font-family=\"Times,serif\" font-size=\"14.00\" text-anchor=\"middle\" x=\"279.5\" y=\"-1253.3\">[(None, 2)]</text>\n</g>\n<!-- 140405058286544 -->\n<g class=\"node\" id=\"node2\">\n<title>140405058286544</title>\n<polygon fill=\"none\" points=\"37,-1162.5 37,-1208.5 283,-1208.5 283,-1162.5 37,-1162.5\" stroke=\"#000000\"/>\n<text fill=\"#000000\" font-family=\"Times,serif\" font-size=\"14.00\" text-anchor=\"middle\" x=\"69\" y=\"-1181.8\">dense_2</text>\n<polyline fill=\"none\" points=\"101,-1162.5 101,-1208.5 \" stroke=\"#000000\"/>\n<text fill=\"#000000\" font-family=\"Times,serif\" font-size=\"14.00\" text-anchor=\"middle\" x=\"127\" y=\"-1181.8\">Dense</text>\n<polyline fill=\"none\" points=\"153,-1162.5 153,-1208.5 \" stroke=\"#000000\"/>\n<text fill=\"#000000\" font-family=\"Times,serif\" font-size=\"14.00\" text-anchor=\"middle\" x=\"182\" y=\"-1193.3\">input:</text>\n<polyline fill=\"none\" points=\"153,-1185.5 211,-1185.5 \" stroke=\"#000000\"/>\n<text fill=\"#000000\" font-family=\"Times,serif\" font-size=\"14.00\" text-anchor=\"middle\" x=\"182\" y=\"-1170.3\">output:</text>\n<polyline fill=\"none\" points=\"211,-1162.5 211,-1208.5 \" stroke=\"#000000\"/>\n<text fill=\"#000000\" font-family=\"Times,serif\" font-size=\"14.00\" text-anchor=\"middle\" x=\"247\" y=\"-1193.3\">(None, 2)</text>\n<polyline fill=\"none\" points=\"211,-1185.5 283,-1185.5 \" stroke=\"#000000\"/>\n<text fill=\"#000000\" font-family=\"Times,serif\" font-size=\"14.00\" text-anchor=\"middle\" x=\"247\" y=\"-1170.3\">(None, 2)</text>\n</g>\n<!-- 140405052383696&#45;&gt;140405058286544 -->\n<g class=\"edge\" id=\"edge1\">\n<title>140405052383696-&gt;140405058286544</title>\n<path d=\"M160,-1245.3799C160,-1237.1745 160,-1227.7679 160,-1218.8786\" fill=\"none\" stroke=\"#000000\"/>\n<polygon fill=\"#000000\" points=\"163.5001,-1218.784 160,-1208.784 156.5001,-1218.784 163.5001,-1218.784\" stroke=\"#000000\"/>\n</g>\n<!-- 140405055588816 -->\n<g class=\"node\" id=\"node3\">\n<title>140405055588816</title>\n<polygon fill=\"none\" points=\"31.5,-1079.5 31.5,-1125.5 288.5,-1125.5 288.5,-1079.5 31.5,-1079.5\" stroke=\"#000000\"/>\n<text fill=\"#000000\" font-family=\"Times,serif\" font-size=\"14.00\" text-anchor=\"middle\" x=\"62.5\" y=\"-1098.8\">dropout</text>\n<polyline fill=\"none\" points=\"93.5,-1079.5 93.5,-1125.5 \" stroke=\"#000000\"/>\n<text fill=\"#000000\" font-family=\"Times,serif\" font-size=\"14.00\" text-anchor=\"middle\" x=\"126\" y=\"-1098.8\">Dropout</text>\n<polyline fill=\"none\" points=\"158.5,-1079.5 158.5,-1125.5 \" stroke=\"#000000\"/>\n<text fill=\"#000000\" font-family=\"Times,serif\" font-size=\"14.00\" text-anchor=\"middle\" x=\"187.5\" y=\"-1110.3\">input:</text>\n<polyline fill=\"none\" points=\"158.5,-1102.5 216.5,-1102.5 \" stroke=\"#000000\"/>\n<text fill=\"#000000\" font-family=\"Times,serif\" font-size=\"14.00\" text-anchor=\"middle\" x=\"187.5\" y=\"-1087.3\">output:</text>\n<polyline fill=\"none\" points=\"216.5,-1079.5 216.5,-1125.5 \" stroke=\"#000000\"/>\n<text fill=\"#000000\" font-family=\"Times,serif\" font-size=\"14.00\" text-anchor=\"middle\" x=\"252.5\" y=\"-1110.3\">(None, 2)</text>\n<polyline fill=\"none\" points=\"216.5,-1102.5 288.5,-1102.5 \" stroke=\"#000000\"/>\n<text fill=\"#000000\" font-family=\"Times,serif\" font-size=\"14.00\" text-anchor=\"middle\" x=\"252.5\" y=\"-1087.3\">(None, 2)</text>\n</g>\n<!-- 140405058286544&#45;&gt;140405055588816 -->\n<g class=\"edge\" id=\"edge2\">\n<title>140405058286544-&gt;140405055588816</title>\n<path d=\"M160,-1162.3799C160,-1154.1745 160,-1144.7679 160,-1135.8786\" fill=\"none\" stroke=\"#000000\"/>\n<polygon fill=\"#000000\" points=\"163.5001,-1135.784 160,-1125.784 156.5001,-1135.784 163.5001,-1135.784\" stroke=\"#000000\"/>\n</g>\n<!-- 140405052385808 -->\n<g class=\"node\" id=\"node4\">\n<title>140405052385808</title>\n<polygon fill=\"none\" points=\"37,-996.5 37,-1042.5 283,-1042.5 283,-996.5 37,-996.5\" stroke=\"#000000\"/>\n<text fill=\"#000000\" font-family=\"Times,serif\" font-size=\"14.00\" text-anchor=\"middle\" x=\"69\" y=\"-1015.8\">dense_3</text>\n<polyline fill=\"none\" points=\"101,-996.5 101,-1042.5 \" stroke=\"#000000\"/>\n<text fill=\"#000000\" font-family=\"Times,serif\" font-size=\"14.00\" text-anchor=\"middle\" x=\"127\" y=\"-1015.8\">Dense</text>\n<polyline fill=\"none\" points=\"153,-996.5 153,-1042.5 \" stroke=\"#000000\"/>\n<text fill=\"#000000\" font-family=\"Times,serif\" font-size=\"14.00\" text-anchor=\"middle\" x=\"182\" y=\"-1027.3\">input:</text>\n<polyline fill=\"none\" points=\"153,-1019.5 211,-1019.5 \" stroke=\"#000000\"/>\n<text fill=\"#000000\" font-family=\"Times,serif\" font-size=\"14.00\" text-anchor=\"middle\" x=\"182\" y=\"-1004.3\">output:</text>\n<polyline fill=\"none\" points=\"211,-996.5 211,-1042.5 \" stroke=\"#000000\"/>\n<text fill=\"#000000\" font-family=\"Times,serif\" font-size=\"14.00\" text-anchor=\"middle\" x=\"247\" y=\"-1027.3\">(None, 2)</text>\n<polyline fill=\"none\" points=\"211,-1019.5 283,-1019.5 \" stroke=\"#000000\"/>\n<text fill=\"#000000\" font-family=\"Times,serif\" font-size=\"14.00\" text-anchor=\"middle\" x=\"247\" y=\"-1004.3\">(None, 2)</text>\n</g>\n<!-- 140405055588816&#45;&gt;140405052385808 -->\n<g class=\"edge\" id=\"edge3\">\n<title>140405055588816-&gt;140405052385808</title>\n<path d=\"M160,-1079.3799C160,-1071.1745 160,-1061.7679 160,-1052.8786\" fill=\"none\" stroke=\"#000000\"/>\n<polygon fill=\"#000000\" points=\"163.5001,-1052.784 160,-1042.784 156.5001,-1052.784 163.5001,-1052.784\" stroke=\"#000000\"/>\n</g>\n<!-- 140407049376016 -->\n<g class=\"node\" id=\"node5\">\n<title>140407049376016</title>\n<polygon fill=\"none\" points=\"24,-913.5 24,-959.5 296,-959.5 296,-913.5 24,-913.5\" stroke=\"#000000\"/>\n<text fill=\"#000000\" font-family=\"Times,serif\" font-size=\"14.00\" text-anchor=\"middle\" x=\"62.5\" y=\"-932.8\">dropout_1</text>\n<polyline fill=\"none\" points=\"101,-913.5 101,-959.5 \" stroke=\"#000000\"/>\n<text fill=\"#000000\" font-family=\"Times,serif\" font-size=\"14.00\" text-anchor=\"middle\" x=\"133.5\" y=\"-932.8\">Dropout</text>\n<polyline fill=\"none\" points=\"166,-913.5 166,-959.5 \" stroke=\"#000000\"/>\n<text fill=\"#000000\" font-family=\"Times,serif\" font-size=\"14.00\" text-anchor=\"middle\" x=\"195\" y=\"-944.3\">input:</text>\n<polyline fill=\"none\" points=\"166,-936.5 224,-936.5 \" stroke=\"#000000\"/>\n<text fill=\"#000000\" font-family=\"Times,serif\" font-size=\"14.00\" text-anchor=\"middle\" x=\"195\" y=\"-921.3\">output:</text>\n<polyline fill=\"none\" points=\"224,-913.5 224,-959.5 \" stroke=\"#000000\"/>\n<text fill=\"#000000\" font-family=\"Times,serif\" font-size=\"14.00\" text-anchor=\"middle\" x=\"260\" y=\"-944.3\">(None, 2)</text>\n<polyline fill=\"none\" points=\"224,-936.5 296,-936.5 \" stroke=\"#000000\"/>\n<text fill=\"#000000\" font-family=\"Times,serif\" font-size=\"14.00\" text-anchor=\"middle\" x=\"260\" y=\"-921.3\">(None, 2)</text>\n</g>\n<!-- 140405052385808&#45;&gt;140407049376016 -->\n<g class=\"edge\" id=\"edge4\">\n<title>140405052385808-&gt;140407049376016</title>\n<path d=\"M160,-996.3799C160,-988.1745 160,-978.7679 160,-969.8786\" fill=\"none\" stroke=\"#000000\"/>\n<polygon fill=\"#000000\" points=\"163.5001,-969.784 160,-959.784 156.5001,-969.784 163.5001,-969.784\" stroke=\"#000000\"/>\n</g>\n<!-- 140407049376336 -->\n<g class=\"node\" id=\"node6\">\n<title>140407049376336</title>\n<polygon fill=\"none\" points=\"33,-830.5 33,-876.5 287,-876.5 287,-830.5 33,-830.5\" stroke=\"#000000\"/>\n<text fill=\"#000000\" font-family=\"Times,serif\" font-size=\"14.00\" text-anchor=\"middle\" x=\"65\" y=\"-849.8\">dense_4</text>\n<polyline fill=\"none\" points=\"97,-830.5 97,-876.5 \" stroke=\"#000000\"/>\n<text fill=\"#000000\" font-family=\"Times,serif\" font-size=\"14.00\" text-anchor=\"middle\" x=\"123\" y=\"-849.8\">Dense</text>\n<polyline fill=\"none\" points=\"149,-830.5 149,-876.5 \" stroke=\"#000000\"/>\n<text fill=\"#000000\" font-family=\"Times,serif\" font-size=\"14.00\" text-anchor=\"middle\" x=\"178\" y=\"-861.3\">input:</text>\n<polyline fill=\"none\" points=\"149,-853.5 207,-853.5 \" stroke=\"#000000\"/>\n<text fill=\"#000000\" font-family=\"Times,serif\" font-size=\"14.00\" text-anchor=\"middle\" x=\"178\" y=\"-838.3\">output:</text>\n<polyline fill=\"none\" points=\"207,-830.5 207,-876.5 \" stroke=\"#000000\"/>\n<text fill=\"#000000\" font-family=\"Times,serif\" font-size=\"14.00\" text-anchor=\"middle\" x=\"247\" y=\"-861.3\">(None, 2)</text>\n<polyline fill=\"none\" points=\"207,-853.5 287,-853.5 \" stroke=\"#000000\"/>\n<text fill=\"#000000\" font-family=\"Times,serif\" font-size=\"14.00\" text-anchor=\"middle\" x=\"247\" y=\"-838.3\">(None, 25)</text>\n</g>\n<!-- 140407049376016&#45;&gt;140407049376336 -->\n<g class=\"edge\" id=\"edge5\">\n<title>140407049376016-&gt;140407049376336</title>\n<path d=\"M160,-913.3799C160,-905.1745 160,-895.7679 160,-886.8786\" fill=\"none\" stroke=\"#000000\"/>\n<polygon fill=\"#000000\" points=\"163.5001,-886.784 160,-876.784 156.5001,-886.784 163.5001,-886.784\" stroke=\"#000000\"/>\n</g>\n<!-- 140405052348880 -->\n<g class=\"node\" id=\"node7\">\n<title>140405052348880</title>\n<polygon fill=\"none\" points=\"20,-747.5 20,-793.5 300,-793.5 300,-747.5 20,-747.5\" stroke=\"#000000\"/>\n<text fill=\"#000000\" font-family=\"Times,serif\" font-size=\"14.00\" text-anchor=\"middle\" x=\"58.5\" y=\"-766.8\">dropout_2</text>\n<polyline fill=\"none\" points=\"97,-747.5 97,-793.5 \" stroke=\"#000000\"/>\n<text fill=\"#000000\" font-family=\"Times,serif\" font-size=\"14.00\" text-anchor=\"middle\" x=\"129.5\" y=\"-766.8\">Dropout</text>\n<polyline fill=\"none\" points=\"162,-747.5 162,-793.5 \" stroke=\"#000000\"/>\n<text fill=\"#000000\" font-family=\"Times,serif\" font-size=\"14.00\" text-anchor=\"middle\" x=\"191\" y=\"-778.3\">input:</text>\n<polyline fill=\"none\" points=\"162,-770.5 220,-770.5 \" stroke=\"#000000\"/>\n<text fill=\"#000000\" font-family=\"Times,serif\" font-size=\"14.00\" text-anchor=\"middle\" x=\"191\" y=\"-755.3\">output:</text>\n<polyline fill=\"none\" points=\"220,-747.5 220,-793.5 \" stroke=\"#000000\"/>\n<text fill=\"#000000\" font-family=\"Times,serif\" font-size=\"14.00\" text-anchor=\"middle\" x=\"260\" y=\"-778.3\">(None, 25)</text>\n<polyline fill=\"none\" points=\"220,-770.5 300,-770.5 \" stroke=\"#000000\"/>\n<text fill=\"#000000\" font-family=\"Times,serif\" font-size=\"14.00\" text-anchor=\"middle\" x=\"260\" y=\"-755.3\">(None, 25)</text>\n</g>\n<!-- 140407049376336&#45;&gt;140405052348880 -->\n<g class=\"edge\" id=\"edge6\">\n<title>140407049376336-&gt;140405052348880</title>\n<path d=\"M160,-830.3799C160,-822.1745 160,-812.7679 160,-803.8786\" fill=\"none\" stroke=\"#000000\"/>\n<polygon fill=\"#000000\" points=\"163.5001,-803.784 160,-793.784 156.5001,-803.784 163.5001,-803.784\" stroke=\"#000000\"/>\n</g>\n<!-- 140405050094480 -->\n<g class=\"node\" id=\"node8\">\n<title>140405050094480</title>\n<polygon fill=\"none\" points=\"33,-664.5 33,-710.5 287,-710.5 287,-664.5 33,-664.5\" stroke=\"#000000\"/>\n<text fill=\"#000000\" font-family=\"Times,serif\" font-size=\"14.00\" text-anchor=\"middle\" x=\"65\" y=\"-683.8\">dense_5</text>\n<polyline fill=\"none\" points=\"97,-664.5 97,-710.5 \" stroke=\"#000000\"/>\n<text fill=\"#000000\" font-family=\"Times,serif\" font-size=\"14.00\" text-anchor=\"middle\" x=\"123\" y=\"-683.8\">Dense</text>\n<polyline fill=\"none\" points=\"149,-664.5 149,-710.5 \" stroke=\"#000000\"/>\n<text fill=\"#000000\" font-family=\"Times,serif\" font-size=\"14.00\" text-anchor=\"middle\" x=\"178\" y=\"-695.3\">input:</text>\n<polyline fill=\"none\" points=\"149,-687.5 207,-687.5 \" stroke=\"#000000\"/>\n<text fill=\"#000000\" font-family=\"Times,serif\" font-size=\"14.00\" text-anchor=\"middle\" x=\"178\" y=\"-672.3\">output:</text>\n<polyline fill=\"none\" points=\"207,-664.5 207,-710.5 \" stroke=\"#000000\"/>\n<text fill=\"#000000\" font-family=\"Times,serif\" font-size=\"14.00\" text-anchor=\"middle\" x=\"247\" y=\"-695.3\">(None, 25)</text>\n<polyline fill=\"none\" points=\"207,-687.5 287,-687.5 \" stroke=\"#000000\"/>\n<text fill=\"#000000\" font-family=\"Times,serif\" font-size=\"14.00\" text-anchor=\"middle\" x=\"247\" y=\"-672.3\">(None, 10)</text>\n</g>\n<!-- 140405052348880&#45;&gt;140405050094480 -->\n<g class=\"edge\" id=\"edge7\">\n<title>140405052348880-&gt;140405050094480</title>\n<path d=\"M160,-747.3799C160,-739.1745 160,-729.7679 160,-720.8786\" fill=\"none\" stroke=\"#000000\"/>\n<polygon fill=\"#000000\" points=\"163.5001,-720.784 160,-710.784 156.5001,-720.784 163.5001,-720.784\" stroke=\"#000000\"/>\n</g>\n<!-- 140405052546192 -->\n<g class=\"node\" id=\"node9\">\n<title>140405052546192</title>\n<polygon fill=\"none\" points=\"20,-581.5 20,-627.5 300,-627.5 300,-581.5 20,-581.5\" stroke=\"#000000\"/>\n<text fill=\"#000000\" font-family=\"Times,serif\" font-size=\"14.00\" text-anchor=\"middle\" x=\"58.5\" y=\"-600.8\">dropout_3</text>\n<polyline fill=\"none\" points=\"97,-581.5 97,-627.5 \" stroke=\"#000000\"/>\n<text fill=\"#000000\" font-family=\"Times,serif\" font-size=\"14.00\" text-anchor=\"middle\" x=\"129.5\" y=\"-600.8\">Dropout</text>\n<polyline fill=\"none\" points=\"162,-581.5 162,-627.5 \" stroke=\"#000000\"/>\n<text fill=\"#000000\" font-family=\"Times,serif\" font-size=\"14.00\" text-anchor=\"middle\" x=\"191\" y=\"-612.3\">input:</text>\n<polyline fill=\"none\" points=\"162,-604.5 220,-604.5 \" stroke=\"#000000\"/>\n<text fill=\"#000000\" font-family=\"Times,serif\" font-size=\"14.00\" text-anchor=\"middle\" x=\"191\" y=\"-589.3\">output:</text>\n<polyline fill=\"none\" points=\"220,-581.5 220,-627.5 \" stroke=\"#000000\"/>\n<text fill=\"#000000\" font-family=\"Times,serif\" font-size=\"14.00\" text-anchor=\"middle\" x=\"260\" y=\"-612.3\">(None, 10)</text>\n<polyline fill=\"none\" points=\"220,-604.5 300,-604.5 \" stroke=\"#000000\"/>\n<text fill=\"#000000\" font-family=\"Times,serif\" font-size=\"14.00\" text-anchor=\"middle\" x=\"260\" y=\"-589.3\">(None, 10)</text>\n</g>\n<!-- 140405050094480&#45;&gt;140405052546192 -->\n<g class=\"edge\" id=\"edge8\">\n<title>140405050094480-&gt;140405052546192</title>\n<path d=\"M160,-664.3799C160,-656.1745 160,-646.7679 160,-637.8786\" fill=\"none\" stroke=\"#000000\"/>\n<polygon fill=\"#000000\" points=\"163.5001,-637.784 160,-627.784 156.5001,-637.784 163.5001,-637.784\" stroke=\"#000000\"/>\n</g>\n<!-- 140405050096976 -->\n<g class=\"node\" id=\"node10\">\n<title>140405050096976</title>\n<polygon fill=\"none\" points=\"33,-498.5 33,-544.5 287,-544.5 287,-498.5 33,-498.5\" stroke=\"#000000\"/>\n<text fill=\"#000000\" font-family=\"Times,serif\" font-size=\"14.00\" text-anchor=\"middle\" x=\"65\" y=\"-517.8\">dense_6</text>\n<polyline fill=\"none\" points=\"97,-498.5 97,-544.5 \" stroke=\"#000000\"/>\n<text fill=\"#000000\" font-family=\"Times,serif\" font-size=\"14.00\" text-anchor=\"middle\" x=\"123\" y=\"-517.8\">Dense</text>\n<polyline fill=\"none\" points=\"149,-498.5 149,-544.5 \" stroke=\"#000000\"/>\n<text fill=\"#000000\" font-family=\"Times,serif\" font-size=\"14.00\" text-anchor=\"middle\" x=\"178\" y=\"-529.3\">input:</text>\n<polyline fill=\"none\" points=\"149,-521.5 207,-521.5 \" stroke=\"#000000\"/>\n<text fill=\"#000000\" font-family=\"Times,serif\" font-size=\"14.00\" text-anchor=\"middle\" x=\"178\" y=\"-506.3\">output:</text>\n<polyline fill=\"none\" points=\"207,-498.5 207,-544.5 \" stroke=\"#000000\"/>\n<text fill=\"#000000\" font-family=\"Times,serif\" font-size=\"14.00\" text-anchor=\"middle\" x=\"247\" y=\"-529.3\">(None, 10)</text>\n<polyline fill=\"none\" points=\"207,-521.5 287,-521.5 \" stroke=\"#000000\"/>\n<text fill=\"#000000\" font-family=\"Times,serif\" font-size=\"14.00\" text-anchor=\"middle\" x=\"247\" y=\"-506.3\">(None, 2)</text>\n</g>\n<!-- 140405052546192&#45;&gt;140405050096976 -->\n<g class=\"edge\" id=\"edge9\">\n<title>140405052546192-&gt;140405050096976</title>\n<path d=\"M160,-581.3799C160,-573.1745 160,-563.7679 160,-554.8786\" fill=\"none\" stroke=\"#000000\"/>\n<polygon fill=\"#000000\" points=\"163.5001,-554.784 160,-544.784 156.5001,-554.784 163.5001,-554.784\" stroke=\"#000000\"/>\n</g>\n<!-- 140405054935888 -->\n<g class=\"node\" id=\"node11\">\n<title>140405054935888</title>\n<polygon fill=\"none\" points=\"24,-415.5 24,-461.5 296,-461.5 296,-415.5 24,-415.5\" stroke=\"#000000\"/>\n<text fill=\"#000000\" font-family=\"Times,serif\" font-size=\"14.00\" text-anchor=\"middle\" x=\"62.5\" y=\"-434.8\">dropout_4</text>\n<polyline fill=\"none\" points=\"101,-415.5 101,-461.5 \" stroke=\"#000000\"/>\n<text fill=\"#000000\" font-family=\"Times,serif\" font-size=\"14.00\" text-anchor=\"middle\" x=\"133.5\" y=\"-434.8\">Dropout</text>\n<polyline fill=\"none\" points=\"166,-415.5 166,-461.5 \" stroke=\"#000000\"/>\n<text fill=\"#000000\" font-family=\"Times,serif\" font-size=\"14.00\" text-anchor=\"middle\" x=\"195\" y=\"-446.3\">input:</text>\n<polyline fill=\"none\" points=\"166,-438.5 224,-438.5 \" stroke=\"#000000\"/>\n<text fill=\"#000000\" font-family=\"Times,serif\" font-size=\"14.00\" text-anchor=\"middle\" x=\"195\" y=\"-423.3\">output:</text>\n<polyline fill=\"none\" points=\"224,-415.5 224,-461.5 \" stroke=\"#000000\"/>\n<text fill=\"#000000\" font-family=\"Times,serif\" font-size=\"14.00\" text-anchor=\"middle\" x=\"260\" y=\"-446.3\">(None, 2)</text>\n<polyline fill=\"none\" points=\"224,-438.5 296,-438.5 \" stroke=\"#000000\"/>\n<text fill=\"#000000\" font-family=\"Times,serif\" font-size=\"14.00\" text-anchor=\"middle\" x=\"260\" y=\"-423.3\">(None, 2)</text>\n</g>\n<!-- 140405050096976&#45;&gt;140405054935888 -->\n<g class=\"edge\" id=\"edge10\">\n<title>140405050096976-&gt;140405054935888</title>\n<path d=\"M160,-498.3799C160,-490.1745 160,-480.7679 160,-471.8786\" fill=\"none\" stroke=\"#000000\"/>\n<polygon fill=\"#000000\" points=\"163.5001,-471.784 160,-461.784 156.5001,-471.784 163.5001,-471.784\" stroke=\"#000000\"/>\n</g>\n<!-- 140405049345808 -->\n<g class=\"node\" id=\"node12\">\n<title>140405049345808</title>\n<polygon fill=\"none\" points=\"33,-332.5 33,-378.5 287,-378.5 287,-332.5 33,-332.5\" stroke=\"#000000\"/>\n<text fill=\"#000000\" font-family=\"Times,serif\" font-size=\"14.00\" text-anchor=\"middle\" x=\"65\" y=\"-351.8\">dense_7</text>\n<polyline fill=\"none\" points=\"97,-332.5 97,-378.5 \" stroke=\"#000000\"/>\n<text fill=\"#000000\" font-family=\"Times,serif\" font-size=\"14.00\" text-anchor=\"middle\" x=\"123\" y=\"-351.8\">Dense</text>\n<polyline fill=\"none\" points=\"149,-332.5 149,-378.5 \" stroke=\"#000000\"/>\n<text fill=\"#000000\" font-family=\"Times,serif\" font-size=\"14.00\" text-anchor=\"middle\" x=\"178\" y=\"-363.3\">input:</text>\n<polyline fill=\"none\" points=\"149,-355.5 207,-355.5 \" stroke=\"#000000\"/>\n<text fill=\"#000000\" font-family=\"Times,serif\" font-size=\"14.00\" text-anchor=\"middle\" x=\"178\" y=\"-340.3\">output:</text>\n<polyline fill=\"none\" points=\"207,-332.5 207,-378.5 \" stroke=\"#000000\"/>\n<text fill=\"#000000\" font-family=\"Times,serif\" font-size=\"14.00\" text-anchor=\"middle\" x=\"247\" y=\"-363.3\">(None, 2)</text>\n<polyline fill=\"none\" points=\"207,-355.5 287,-355.5 \" stroke=\"#000000\"/>\n<text fill=\"#000000\" font-family=\"Times,serif\" font-size=\"14.00\" text-anchor=\"middle\" x=\"247\" y=\"-340.3\">(None, 10)</text>\n</g>\n<!-- 140405054935888&#45;&gt;140405049345808 -->\n<g class=\"edge\" id=\"edge11\">\n<title>140405054935888-&gt;140405049345808</title>\n<path d=\"M160,-415.3799C160,-407.1745 160,-397.7679 160,-388.8786\" fill=\"none\" stroke=\"#000000\"/>\n<polygon fill=\"#000000\" points=\"163.5001,-388.784 160,-378.784 156.5001,-388.784 163.5001,-388.784\" stroke=\"#000000\"/>\n</g>\n<!-- 140405049434576 -->\n<g class=\"node\" id=\"node13\">\n<title>140405049434576</title>\n<polygon fill=\"none\" points=\"20,-249.5 20,-295.5 300,-295.5 300,-249.5 20,-249.5\" stroke=\"#000000\"/>\n<text fill=\"#000000\" font-family=\"Times,serif\" font-size=\"14.00\" text-anchor=\"middle\" x=\"58.5\" y=\"-268.8\">dropout_5</text>\n<polyline fill=\"none\" points=\"97,-249.5 97,-295.5 \" stroke=\"#000000\"/>\n<text fill=\"#000000\" font-family=\"Times,serif\" font-size=\"14.00\" text-anchor=\"middle\" x=\"129.5\" y=\"-268.8\">Dropout</text>\n<polyline fill=\"none\" points=\"162,-249.5 162,-295.5 \" stroke=\"#000000\"/>\n<text fill=\"#000000\" font-family=\"Times,serif\" font-size=\"14.00\" text-anchor=\"middle\" x=\"191\" y=\"-280.3\">input:</text>\n<polyline fill=\"none\" points=\"162,-272.5 220,-272.5 \" stroke=\"#000000\"/>\n<text fill=\"#000000\" font-family=\"Times,serif\" font-size=\"14.00\" text-anchor=\"middle\" x=\"191\" y=\"-257.3\">output:</text>\n<polyline fill=\"none\" points=\"220,-249.5 220,-295.5 \" stroke=\"#000000\"/>\n<text fill=\"#000000\" font-family=\"Times,serif\" font-size=\"14.00\" text-anchor=\"middle\" x=\"260\" y=\"-280.3\">(None, 10)</text>\n<polyline fill=\"none\" points=\"220,-272.5 300,-272.5 \" stroke=\"#000000\"/>\n<text fill=\"#000000\" font-family=\"Times,serif\" font-size=\"14.00\" text-anchor=\"middle\" x=\"260\" y=\"-257.3\">(None, 10)</text>\n</g>\n<!-- 140405049345808&#45;&gt;140405049434576 -->\n<g class=\"edge\" id=\"edge12\">\n<title>140405049345808-&gt;140405049434576</title>\n<path d=\"M160,-332.3799C160,-324.1745 160,-314.7679 160,-305.8786\" fill=\"none\" stroke=\"#000000\"/>\n<polygon fill=\"#000000\" points=\"163.5001,-305.784 160,-295.784 156.5001,-305.784 163.5001,-305.784\" stroke=\"#000000\"/>\n</g>\n<!-- 140405049619408 -->\n<g class=\"node\" id=\"node14\">\n<title>140405049619408</title>\n<polygon fill=\"none\" points=\"33,-166.5 33,-212.5 287,-212.5 287,-166.5 33,-166.5\" stroke=\"#000000\"/>\n<text fill=\"#000000\" font-family=\"Times,serif\" font-size=\"14.00\" text-anchor=\"middle\" x=\"65\" y=\"-185.8\">dense_8</text>\n<polyline fill=\"none\" points=\"97,-166.5 97,-212.5 \" stroke=\"#000000\"/>\n<text fill=\"#000000\" font-family=\"Times,serif\" font-size=\"14.00\" text-anchor=\"middle\" x=\"123\" y=\"-185.8\">Dense</text>\n<polyline fill=\"none\" points=\"149,-166.5 149,-212.5 \" stroke=\"#000000\"/>\n<text fill=\"#000000\" font-family=\"Times,serif\" font-size=\"14.00\" text-anchor=\"middle\" x=\"178\" y=\"-197.3\">input:</text>\n<polyline fill=\"none\" points=\"149,-189.5 207,-189.5 \" stroke=\"#000000\"/>\n<text fill=\"#000000\" font-family=\"Times,serif\" font-size=\"14.00\" text-anchor=\"middle\" x=\"178\" y=\"-174.3\">output:</text>\n<polyline fill=\"none\" points=\"207,-166.5 207,-212.5 \" stroke=\"#000000\"/>\n<text fill=\"#000000\" font-family=\"Times,serif\" font-size=\"14.00\" text-anchor=\"middle\" x=\"247\" y=\"-197.3\">(None, 10)</text>\n<polyline fill=\"none\" points=\"207,-189.5 287,-189.5 \" stroke=\"#000000\"/>\n<text fill=\"#000000\" font-family=\"Times,serif\" font-size=\"14.00\" text-anchor=\"middle\" x=\"247\" y=\"-174.3\">(None, 25)</text>\n</g>\n<!-- 140405049434576&#45;&gt;140405049619408 -->\n<g class=\"edge\" id=\"edge13\">\n<title>140405049434576-&gt;140405049619408</title>\n<path d=\"M160,-249.3799C160,-241.1745 160,-231.7679 160,-222.8786\" fill=\"none\" stroke=\"#000000\"/>\n<polygon fill=\"#000000\" points=\"163.5001,-222.784 160,-212.784 156.5001,-222.784 163.5001,-222.784\" stroke=\"#000000\"/>\n</g>\n<!-- 140405049347216 -->\n<g class=\"node\" id=\"node15\">\n<title>140405049347216</title>\n<polygon fill=\"none\" points=\"20,-83.5 20,-129.5 300,-129.5 300,-83.5 20,-83.5\" stroke=\"#000000\"/>\n<text fill=\"#000000\" font-family=\"Times,serif\" font-size=\"14.00\" text-anchor=\"middle\" x=\"58.5\" y=\"-102.8\">dropout_6</text>\n<polyline fill=\"none\" points=\"97,-83.5 97,-129.5 \" stroke=\"#000000\"/>\n<text fill=\"#000000\" font-family=\"Times,serif\" font-size=\"14.00\" text-anchor=\"middle\" x=\"129.5\" y=\"-102.8\">Dropout</text>\n<polyline fill=\"none\" points=\"162,-83.5 162,-129.5 \" stroke=\"#000000\"/>\n<text fill=\"#000000\" font-family=\"Times,serif\" font-size=\"14.00\" text-anchor=\"middle\" x=\"191\" y=\"-114.3\">input:</text>\n<polyline fill=\"none\" points=\"162,-106.5 220,-106.5 \" stroke=\"#000000\"/>\n<text fill=\"#000000\" font-family=\"Times,serif\" font-size=\"14.00\" text-anchor=\"middle\" x=\"191\" y=\"-91.3\">output:</text>\n<polyline fill=\"none\" points=\"220,-83.5 220,-129.5 \" stroke=\"#000000\"/>\n<text fill=\"#000000\" font-family=\"Times,serif\" font-size=\"14.00\" text-anchor=\"middle\" x=\"260\" y=\"-114.3\">(None, 25)</text>\n<polyline fill=\"none\" points=\"220,-106.5 300,-106.5 \" stroke=\"#000000\"/>\n<text fill=\"#000000\" font-family=\"Times,serif\" font-size=\"14.00\" text-anchor=\"middle\" x=\"260\" y=\"-91.3\">(None, 25)</text>\n</g>\n<!-- 140405049619408&#45;&gt;140405049347216 -->\n<g class=\"edge\" id=\"edge14\">\n<title>140405049619408-&gt;140405049347216</title>\n<path d=\"M160,-166.3799C160,-158.1745 160,-148.7679 160,-139.8786\" fill=\"none\" stroke=\"#000000\"/>\n<polygon fill=\"#000000\" points=\"163.5001,-139.784 160,-129.784 156.5001,-139.784 163.5001,-139.784\" stroke=\"#000000\"/>\n</g>\n<!-- 140405048727632 -->\n<g class=\"node\" id=\"node16\">\n<title>140405048727632</title>\n<polygon fill=\"none\" points=\"33,-.5 33,-46.5 287,-46.5 287,-.5 33,-.5\" stroke=\"#000000\"/>\n<text fill=\"#000000\" font-family=\"Times,serif\" font-size=\"14.00\" text-anchor=\"middle\" x=\"65\" y=\"-19.8\">dense_9</text>\n<polyline fill=\"none\" points=\"97,-.5 97,-46.5 \" stroke=\"#000000\"/>\n<text fill=\"#000000\" font-family=\"Times,serif\" font-size=\"14.00\" text-anchor=\"middle\" x=\"123\" y=\"-19.8\">Dense</text>\n<polyline fill=\"none\" points=\"149,-.5 149,-46.5 \" stroke=\"#000000\"/>\n<text fill=\"#000000\" font-family=\"Times,serif\" font-size=\"14.00\" text-anchor=\"middle\" x=\"178\" y=\"-31.3\">input:</text>\n<polyline fill=\"none\" points=\"149,-23.5 207,-23.5 \" stroke=\"#000000\"/>\n<text fill=\"#000000\" font-family=\"Times,serif\" font-size=\"14.00\" text-anchor=\"middle\" x=\"178\" y=\"-8.3\">output:</text>\n<polyline fill=\"none\" points=\"207,-.5 207,-46.5 \" stroke=\"#000000\"/>\n<text fill=\"#000000\" font-family=\"Times,serif\" font-size=\"14.00\" text-anchor=\"middle\" x=\"247\" y=\"-31.3\">(None, 25)</text>\n<polyline fill=\"none\" points=\"207,-23.5 287,-23.5 \" stroke=\"#000000\"/>\n<text fill=\"#000000\" font-family=\"Times,serif\" font-size=\"14.00\" text-anchor=\"middle\" x=\"247\" y=\"-8.3\">(None, 2)</text>\n</g>\n<!-- 140405049347216&#45;&gt;140405048727632 -->\n<g class=\"edge\" id=\"edge15\">\n<title>140405049347216-&gt;140405048727632</title>\n<path d=\"M160,-83.3799C160,-75.1745 160,-65.7679 160,-56.8786\" fill=\"none\" stroke=\"#000000\"/>\n<polygon fill=\"#000000\" points=\"163.5001,-56.784 160,-46.784 156.5001,-56.784 163.5001,-56.784\" stroke=\"#000000\"/>\n</g>\n</g>\n</svg>"
          },
          "metadata": {},
          "execution_count": 68
        }
      ]
    },
    {
      "cell_type": "markdown",
      "metadata": {
        "id": "XjCeWAZgQahO"
      },
      "source": [
        "**Plot the Loss Functions**"
      ]
    },
    {
      "cell_type": "code",
      "metadata": {
        "colab": {
          "base_uri": "https://localhost:8080/",
          "height": 502
        },
        "id": "O-hfwoEqP--d",
        "outputId": "50947b77-3121-4fe0-aa2b-e439827b4f8c"
      },
      "source": [
        "history = clf.history_\n",
        "plt.plot(history['loss'], linewidth = 3)\n",
        "plt.plot(history['val_loss'], linewidth = 3)\n",
        "#plt.title('model loss')\n",
        "plt.ylabel('loss')\n",
        "plt.xlabel('epoch')\n",
        "plt.legend(['training', 'test'], loc='upper right')\n",
        "plt.show()"
      ],
      "execution_count": null,
      "outputs": [
        {
          "output_type": "display_data",
          "data": {
            "image/png": "[encoded data removed]",
            "text/plain": [
              "<Figure size 864x576 with 1 Axes>"
            ]
          },
          "metadata": {}
        }
      ]
    },
    {
      "cell_type": "code",
      "metadata": {
        "id": "2-eYSTEQxU-p"
      },
      "source": [
        "# get the prediction labels and outlier scores of the training data\n",
        "y_train_pred = clf.labels_  # binary labels (0: inliers, 1: outliers)\n",
        "y_train_scores = clf.decision_scores_  # anomaly scores"
      ],
      "execution_count": null,
      "outputs": []
    },
    {
      "cell_type": "code",
      "metadata": {
        "colab": {
          "base_uri": "https://localhost:8080/"
        },
        "id": "q0m_Hl9DRI6m",
        "outputId": "194a93bd-b735-4e45-8b65-8800d5154108"
      },
      "source": [
        "y_train_pred"
      ],
      "execution_count": null,
      "outputs": [
        {
          "output_type": "execute_result",
          "data": {
            "text/plain": [
              "array([0, 1, 0, ..., 0, 0, 0])"
            ]
          },
          "metadata": {},
          "execution_count": 71
        }
      ]
    },
    {
      "cell_type": "code",
      "metadata": {
        "colab": {
          "base_uri": "https://localhost:8080/"
        },
        "id": "kiBA4zCFRKgG",
        "outputId": "6f93cd0d-24e6-4607-fe65-2e12a9c03cbb"
      },
      "source": [
        "y_train_scores"
      ],
      "execution_count": null,
      "outputs": [
        {
          "output_type": "execute_result",
          "data": {
            "text/plain": [
              "array([0.26669672, 1.78640487, 0.32552037, ..., 0.6700993 , 0.22629572,\n",
              "       0.36447926])"
            ]
          },
          "metadata": {},
          "execution_count": 72
        }
      ]
    },
    {
      "cell_type": "markdown",
      "metadata": {
        "id": "wJAFImZdRcHW"
      },
      "source": [
        "**Plot Anomaly Scores**"
      ]
    },
    {
      "cell_type": "code",
      "metadata": {
        "colab": {
          "base_uri": "https://localhost:8080/"
        },
        "id": "AhwTpk9oTm29",
        "outputId": "4f8a2234-2766-4755-f48e-f8939a221a8a"
      },
      "source": [
        "# calculate threshold\n",
        "clf.threshold_"
      ],
      "execution_count": null,
      "outputs": [
        {
          "output_type": "execute_result",
          "data": {
            "text/plain": [
              "1.4423239333212363"
            ]
          },
          "metadata": {},
          "execution_count": 73
        }
      ]
    },
    {
      "cell_type": "code",
      "metadata": {
        "colab": {
          "base_uri": "https://localhost:8080/",
          "height": 501
        },
        "id": "Xi7eE-XQRe3-",
        "outputId": "6fcfc0c9-3f45-4efd-db68-b0d13ee7be5b"
      },
      "source": [
        "plt.plot(y_train_scores);\n",
        "plt.axhline(y=clf.threshold_, c='r', ls='dotted', label='threshoold');\n",
        "plt.title('Anomaly Scores with automatically calculated threshold');"
      ],
      "execution_count": null,
      "outputs": [
        {
          "output_type": "display_data",
          "data": {
            "image/png": "[encoded data removed]",
            "text/plain": [
              "<Figure size 864x576 with 1 Axes>"
            ]
          },
          "metadata": {}
        }
      ]
    },
    {
      "cell_type": "code",
      "metadata": {
        "id": "ezeJSFE4tzih",
        "colab": {
          "base_uri": "https://localhost:8080/"
        },
        "outputId": "c8d6deff-2cd4-4912-c42a-76155dabb678"
      },
      "source": [
        "!pip3 install scikit-plot"
      ],
      "execution_count": null,
      "outputs": [
        {
          "output_type": "stream",
          "name": "stdout",
          "text": [
            "Collecting scikit-plot\n",
            "  Downloading scikit_plot-0.3.7-py3-none-any.whl (33 kB)\n",
            "Requirement already satisfied: joblib>=0.10 in /usr/local/lib/python3.7/dist-packages (from scikit-plot) (1.1.0)\n",
            "Requirement already satisfied: matplotlib>=1.4.0 in /usr/local/lib/python3.7/dist-packages (from scikit-plot) (3.2.2)\n",
            "Requirement already satisfied: scikit-learn>=0.18 in /usr/local/lib/python3.7/dist-packages (from scikit-plot) (1.0.1)\n",
            "Requirement already satisfied: scipy>=0.9 in /usr/local/lib/python3.7/dist-packages (from scikit-plot) (1.4.1)\n",
            "Requirement already satisfied: pyparsing!=2.0.4,!=2.1.2,!=2.1.6,>=2.0.1 in /usr/local/lib/python3.7/dist-packages (from matplotlib>=1.4.0->scikit-plot) (3.0.6)\n",
            "Requirement already satisfied: cycler>=0.10 in /usr/local/lib/python3.7/dist-packages (from matplotlib>=1.4.0->scikit-plot) (0.11.0)\n",
            "Requirement already satisfied: numpy>=1.11 in /usr/local/lib/python3.7/dist-packages (from matplotlib>=1.4.0->scikit-plot) (1.19.5)\n",
            "Requirement already satisfied: kiwisolver>=1.0.1 in /usr/local/lib/python3.7/dist-packages (from matplotlib>=1.4.0->scikit-plot) (1.3.2)\n",
            "Requirement already satisfied: python-dateutil>=2.1 in /usr/local/lib/python3.7/dist-packages (from matplotlib>=1.4.0->scikit-plot) (2.8.2)\n",
            "Requirement already satisfied: six>=1.5 in /usr/local/lib/python3.7/dist-packages (from python-dateutil>=2.1->matplotlib>=1.4.0->scikit-plot) (1.15.0)\n",
            "Requirement already satisfied: threadpoolctl>=2.0.0 in /usr/local/lib/python3.7/dist-packages (from scikit-learn>=0.18->scikit-plot) (3.0.0)\n",
            "Installing collected packages: scikit-plot\n",
            "Successfully installed scikit-plot-0.3.7\n"
          ]
        }
      ]
    },
    {
      "cell_type": "code",
      "metadata": {
        "colab": {
          "base_uri": "https://localhost:8080/",
          "height": 522
        },
        "id": "d8IJhusxsvzY",
        "outputId": "9b1b919b-7fb3-4644-cf39-2a157972a8a2"
      },
      "source": [
        "import scikitplot as skplt\n",
        "\n",
        "# plot the comfusion matrix in the training set \n",
        "skplt.metrics.plot_confusion_matrix(y_train,y_train_pred, normalize=False, title=\"Consfusion Matrix on Training Set\")\n",
        "plt.show()"
      ],
      "execution_count": null,
      "outputs": [
        {
          "output_type": "display_data",
          "data": {
            "image/png": "[encoded data removed]",
            "text/plain": [
              "<Figure size 864x576 with 2 Axes>"
            ]
          },
          "metadata": {}
        }
      ]
    },
    {
      "cell_type": "code",
      "metadata": {
        "colab": {
          "base_uri": "https://localhost:8080/"
        },
        "id": "ZHfTuFaqz-Qd",
        "outputId": "ded0fa5f-0a0d-4f45-87d1-109a8e98816e"
      },
      "source": [
        "import warnings\n",
        "warnings.filterwarnings('ignore')\n",
        "\n",
        "# get the prediction on the test data\n",
        "y_test_pred = clf.predict(X_test)  # outlier labels (0 or 1)\n",
        "y_test_scores = clf.decision_function(X_test)  # outlier scores\n",
        "y_test_pred"
      ],
      "execution_count": null,
      "outputs": [
        {
          "output_type": "execute_result",
          "data": {
            "text/plain": [
              "array([0, 0, 0, ..., 0, 0, 0])"
            ]
          },
          "metadata": {},
          "execution_count": 76
        }
      ]
    },
    {
      "cell_type": "code",
      "metadata": {
        "colab": {
          "base_uri": "https://localhost:8080/"
        },
        "id": "Lzup3lOr0LmV",
        "outputId": "6e97d7a0-0961-4558-c42e-cc5ff3436a40"
      },
      "source": [
        "from pyod.utils.data import evaluate_print\n",
        "# evaluate and print the results\n",
        "print(\"\\nOn Training Data:\")\n",
        "evaluate_print(clf_name, y_train, y_train_scores)\n",
        "print(\"\\nOn Test Data:\")\n",
        "evaluate_print(clf_name, y_test, y_test_scores)"
      ],
      "execution_count": null,
      "outputs": [
        {
          "output_type": "stream",
          "name": "stdout",
          "text": [
            "\n",
            "On Training Data:\n",
            "Autoencoder ROC:0.9988, precision @ rank n:0.9193\n",
            "\n",
            "On Test Data:\n",
            "Autoencoder ROC:0.9989, precision @ rank n:0.9211\n"
          ]
        }
      ]
    },
    {
      "cell_type": "code",
      "metadata": {
        "colab": {
          "base_uri": "https://localhost:8080/",
          "height": 522
        },
        "id": "7VTWV-XUsoWY",
        "outputId": "d88130c4-3150-410f-acda-e4d31f5b0415"
      },
      "source": [
        "import scikitplot as skplt\n",
        "\n",
        "# plot the comfusion matrix in the test set \n",
        "skplt.metrics.plot_confusion_matrix(y_test,y_test_pred, normalize=False, title=\"Consfusion Matrix on Test Set\")\n",
        "plt.show()"
      ],
      "execution_count": null,
      "outputs": [
        {
          "output_type": "display_data",
          "data": {
            "image/png": "[encoded data removed]",
            "text/plain": [
              "<Figure size 864x576 with 2 Axes>"
            ]
          },
          "metadata": {}
        }
      ]
    },
    {
      "cell_type": "code",
      "metadata": {
        "colab": {
          "base_uri": "https://localhost:8080/",
          "height": 646
        },
        "id": "nL_DrbLR1Y9a",
        "outputId": "cbd0616c-27cd-4607-8f5c-cbadf6487c38"
      },
      "source": [
        "from pyod.utils.example import visualize\n",
        "\n",
        "#Visualize the outliers\n",
        "visualize(clf_name, X_train, y_train, X_test, y_test, y_train_pred,\n",
        "          y_test_pred, show_figure=True, save_figure=False)"
      ],
      "execution_count": null,
      "outputs": [
        {
          "output_type": "display_data",
          "data": {
            "image/png": "[encoded data removed]",
            "text/plain": [
              "<Figure size 864x720 with 4 Axes>"
            ]
          },
          "metadata": {}
        }
      ]
    },
    {
      "cell_type": "markdown",
      "source": [
        "#**Deep Support Vector Data Description (Deep-SVDD)**"
      ],
      "metadata": {
        "id": "Gz3Pfo_i8Brs"
      }
    },
    {
      "cell_type": "code",
      "source": [
        "from pyod.models.deep_svdd import DeepSVDD"
      ],
      "metadata": {
        "id": "7hoSu7495igM"
      },
      "execution_count": 62,
      "outputs": []
    },
    {
      "cell_type": "code",
      "source": [
        "clf_name = 'DeepSVD'\n",
        "clf = DeepSVDD()\n",
        "clf.fit(X_train)"
      ],
      "metadata": {
        "colab": {
          "base_uri": "https://localhost:8080/"
        },
        "id": "WXDOZ_lj6QmE",
        "outputId": "7c69ae3d-a480-42bc-f6eb-0d5d2ff918f1"
      },
      "execution_count": 63,
      "outputs": [
        {
          "output_type": "stream",
          "name": "stdout",
          "text": [
            "Model: \"model_8\"\n",
            "_________________________________________________________________\n",
            " Layer (type)                Output Shape              Param #   \n",
            "=================================================================\n",
            " input_6 (InputLayer)        [(None, 2)]               0         \n",
            "                                                                 \n",
            " dense_5 (Dense)             (None, 64)                192       \n",
            "                                                                 \n",
            " net_output (Dense)          (None, 32)                2080      \n",
            "                                                                 \n",
            " tf.math.subtract_5 (TFOpLam  (None, 32)               0         \n",
            " bda)                                                            \n",
            "                                                                 \n",
            " tf.math.pow_5 (TFOpLambda)  (None, 32)                0         \n",
            "                                                                 \n",
            " tf.math.reduce_sum_5 (TFOpL  (None,)                  0         \n",
            " ambda)                                                          \n",
            "                                                                 \n",
            " tf.math.reduce_mean_5 (TFOp  ()                       0         \n",
            " Lambda)                                                         \n",
            "                                                                 \n",
            " tf.__operators__.add_5 (TFO  ()                       0         \n",
            " pLambda)                                                        \n",
            "                                                                 \n",
            " add_loss_5 (AddLoss)        ()                        0         \n",
            "                                                                 \n",
            "=================================================================\n",
            "Total params: 2,272\n",
            "Trainable params: 2,272\n",
            "Non-trainable params: 0\n",
            "_________________________________________________________________\n",
            "None\n",
            "Epoch 1/100\n",
            "197/197 [==============================] - 1s 4ms/step - loss: 0.2920 - val_loss: 0.1781\n",
            "Epoch 2/100\n",
            "197/197 [==============================] - 1s 4ms/step - loss: 0.1390 - val_loss: 0.1205\n",
            "Epoch 3/100\n",
            "197/197 [==============================] - 1s 4ms/step - loss: 0.0953 - val_loss: 0.1007\n",
            "Epoch 4/100\n",
            "197/197 [==============================] - 1s 4ms/step - loss: 0.0689 - val_loss: 0.0789\n",
            "Epoch 5/100\n",
            "197/197 [==============================] - 1s 4ms/step - loss: 0.0566 - val_loss: 0.0620\n",
            "Epoch 6/100\n",
            "197/197 [==============================] - 1s 4ms/step - loss: 0.0456 - val_loss: 0.0548\n",
            "Epoch 7/100\n",
            "197/197 [==============================] - 1s 4ms/step - loss: 0.0425 - val_loss: 0.0498\n",
            "Epoch 8/100\n",
            "197/197 [==============================] - 1s 4ms/step - loss: 0.0359 - val_loss: 0.0370\n",
            "Epoch 9/100\n",
            "197/197 [==============================] - 1s 4ms/step - loss: 0.0296 - val_loss: 0.0338\n",
            "Epoch 10/100\n",
            "197/197 [==============================] - 1s 4ms/step - loss: 0.0284 - val_loss: 0.0314\n",
            "Epoch 11/100\n",
            "197/197 [==============================] - 1s 4ms/step - loss: 0.0274 - val_loss: 0.0294\n",
            "Epoch 12/100\n",
            "197/197 [==============================] - 1s 4ms/step - loss: 0.0266 - val_loss: 0.0281\n",
            "Epoch 13/100\n",
            "197/197 [==============================] - 1s 4ms/step - loss: 0.0260 - val_loss: 0.0269\n",
            "Epoch 14/100\n",
            "197/197 [==============================] - 1s 4ms/step - loss: 0.0255 - val_loss: 0.0262\n",
            "Epoch 15/100\n",
            "197/197 [==============================] - 1s 4ms/step - loss: 0.0251 - val_loss: 0.0254\n",
            "Epoch 16/100\n",
            "197/197 [==============================] - 1s 4ms/step - loss: 0.0247 - val_loss: 0.0248\n",
            "Epoch 17/100\n",
            "197/197 [==============================] - 1s 4ms/step - loss: 0.0245 - val_loss: 0.0246\n",
            "Epoch 18/100\n",
            "197/197 [==============================] - 1s 4ms/step - loss: 0.0243 - val_loss: 0.0242\n",
            "Epoch 19/100\n",
            "197/197 [==============================] - 1s 4ms/step - loss: 0.0241 - val_loss: 0.0240\n",
            "Epoch 20/100\n",
            "197/197 [==============================] - 1s 4ms/step - loss: 0.0240 - val_loss: 0.0239\n",
            "Epoch 21/100\n",
            "197/197 [==============================] - 1s 4ms/step - loss: 0.0239 - val_loss: 0.0238\n",
            "Epoch 22/100\n",
            "197/197 [==============================] - 1s 4ms/step - loss: 0.0238 - val_loss: 0.0237\n",
            "Epoch 23/100\n",
            "197/197 [==============================] - 1s 4ms/step - loss: 0.0237 - val_loss: 0.0236\n",
            "Epoch 24/100\n",
            "197/197 [==============================] - 1s 4ms/step - loss: 0.0237 - val_loss: 0.0237\n",
            "Epoch 25/100\n",
            "197/197 [==============================] - 1s 4ms/step - loss: 0.0237 - val_loss: 0.0236\n",
            "Epoch 26/100\n",
            "197/197 [==============================] - 1s 4ms/step - loss: 0.0237 - val_loss: 0.0237\n",
            "Epoch 27/100\n",
            "197/197 [==============================] - 1s 4ms/step - loss: 0.0237 - val_loss: 0.0236\n",
            "Epoch 28/100\n",
            "197/197 [==============================] - 1s 4ms/step - loss: 0.0236 - val_loss: 0.0236\n",
            "Epoch 29/100\n",
            "197/197 [==============================] - 1s 4ms/step - loss: 0.0236 - val_loss: 0.0236\n",
            "Epoch 30/100\n",
            "197/197 [==============================] - 1s 4ms/step - loss: 0.0236 - val_loss: 0.0236\n",
            "Epoch 31/100\n",
            "197/197 [==============================] - 1s 4ms/step - loss: 0.0236 - val_loss: 0.0236\n",
            "Epoch 32/100\n",
            "197/197 [==============================] - 1s 4ms/step - loss: 0.0236 - val_loss: 0.0236\n",
            "Epoch 33/100\n",
            "197/197 [==============================] - 1s 4ms/step - loss: 0.0236 - val_loss: 0.0236\n",
            "Epoch 34/100\n",
            "197/197 [==============================] - 1s 4ms/step - loss: 0.0236 - val_loss: 0.0236\n",
            "Epoch 35/100\n",
            "197/197 [==============================] - 1s 4ms/step - loss: 0.0236 - val_loss: 0.0236\n",
            "Epoch 36/100\n",
            "197/197 [==============================] - 1s 4ms/step - loss: 0.0236 - val_loss: 0.0236\n",
            "Epoch 37/100\n",
            "197/197 [==============================] - 1s 4ms/step - loss: 0.0236 - val_loss: 0.0236\n",
            "Epoch 38/100\n",
            "197/197 [==============================] - 1s 4ms/step - loss: 0.0236 - val_loss: 0.0236\n",
            "Epoch 39/100\n",
            "197/197 [==============================] - 1s 4ms/step - loss: 0.0236 - val_loss: 0.0236\n",
            "Epoch 40/100\n",
            "197/197 [==============================] - 1s 4ms/step - loss: 0.0236 - val_loss: 0.0236\n",
            "Epoch 41/100\n",
            "197/197 [==============================] - 1s 4ms/step - loss: 0.0236 - val_loss: 0.0236\n",
            "Epoch 42/100\n",
            "197/197 [==============================] - 1s 4ms/step - loss: 0.0236 - val_loss: 0.0236\n",
            "Epoch 43/100\n",
            "197/197 [==============================] - 1s 4ms/step - loss: 0.0236 - val_loss: 0.0236\n",
            "Epoch 44/100\n",
            "197/197 [==============================] - 1s 4ms/step - loss: 0.0236 - val_loss: 0.0236\n",
            "Epoch 45/100\n",
            "197/197 [==============================] - 1s 4ms/step - loss: 0.0236 - val_loss: 0.0236\n",
            "Epoch 46/100\n",
            "197/197 [==============================] - 1s 4ms/step - loss: 0.0236 - val_loss: 0.0236\n",
            "Epoch 47/100\n",
            "197/197 [==============================] - 1s 4ms/step - loss: 0.0236 - val_loss: 0.0236\n",
            "Epoch 48/100\n",
            "197/197 [==============================] - 1s 4ms/step - loss: 0.0236 - val_loss: 0.0236\n",
            "Epoch 49/100\n",
            "197/197 [==============================] - 1s 4ms/step - loss: 0.0236 - val_loss: 0.0236\n",
            "Epoch 50/100\n",
            "197/197 [==============================] - 1s 4ms/step - loss: 0.0236 - val_loss: 0.0236\n",
            "Epoch 51/100\n",
            "197/197 [==============================] - 1s 4ms/step - loss: 0.0236 - val_loss: 0.0236\n",
            "Epoch 52/100\n",
            "197/197 [==============================] - 1s 4ms/step - loss: 0.0236 - val_loss: 0.0236\n",
            "Epoch 53/100\n",
            "197/197 [==============================] - 1s 4ms/step - loss: 0.0236 - val_loss: 0.0236\n",
            "Epoch 54/100\n",
            "197/197 [==============================] - 1s 4ms/step - loss: 0.0236 - val_loss: 0.0236\n",
            "Epoch 55/100\n",
            "197/197 [==============================] - 1s 4ms/step - loss: 0.0236 - val_loss: 0.0236\n",
            "Epoch 56/100\n",
            "197/197 [==============================] - 1s 4ms/step - loss: 0.0236 - val_loss: 0.0236\n",
            "Epoch 57/100\n",
            "197/197 [==============================] - 1s 4ms/step - loss: 0.0236 - val_loss: 0.0236\n",
            "Epoch 58/100\n",
            "197/197 [==============================] - 1s 4ms/step - loss: 0.0236 - val_loss: 0.0236\n",
            "Epoch 59/100\n",
            "197/197 [==============================] - 1s 4ms/step - loss: 0.0236 - val_loss: 0.0236\n",
            "Epoch 60/100\n",
            "197/197 [==============================] - 1s 4ms/step - loss: 0.0236 - val_loss: 0.0236\n",
            "Epoch 61/100\n",
            "197/197 [==============================] - 1s 4ms/step - loss: 0.0236 - val_loss: 0.0236\n",
            "Epoch 62/100\n",
            "197/197 [==============================] - 1s 4ms/step - loss: 0.0236 - val_loss: 0.0236\n",
            "Epoch 63/100\n",
            "197/197 [==============================] - 1s 4ms/step - loss: 0.0236 - val_loss: 0.0236\n",
            "Epoch 64/100\n",
            "197/197 [==============================] - 1s 4ms/step - loss: 0.0236 - val_loss: 0.0236\n",
            "Epoch 65/100\n",
            "197/197 [==============================] - 1s 4ms/step - loss: 0.0236 - val_loss: 0.0236\n",
            "Epoch 66/100\n",
            "197/197 [==============================] - 1s 4ms/step - loss: 0.0236 - val_loss: 0.0236\n",
            "Epoch 67/100\n",
            "197/197 [==============================] - 1s 4ms/step - loss: 0.0236 - val_loss: 0.0236\n",
            "Epoch 68/100\n",
            "197/197 [==============================] - 1s 4ms/step - loss: 0.0236 - val_loss: 0.0236\n",
            "Epoch 69/100\n",
            "197/197 [==============================] - 1s 4ms/step - loss: 0.0236 - val_loss: 0.0236\n",
            "Epoch 70/100\n",
            "197/197 [==============================] - 1s 4ms/step - loss: 0.0236 - val_loss: 0.0236\n",
            "Epoch 71/100\n",
            "197/197 [==============================] - 1s 4ms/step - loss: 0.0236 - val_loss: 0.0236\n",
            "Epoch 72/100\n",
            "197/197 [==============================] - 1s 4ms/step - loss: 0.0236 - val_loss: 0.0236\n",
            "Epoch 73/100\n",
            "197/197 [==============================] - 1s 4ms/step - loss: 0.0236 - val_loss: 0.0236\n",
            "Epoch 74/100\n",
            "197/197 [==============================] - 1s 4ms/step - loss: 0.0236 - val_loss: 0.0236\n",
            "Epoch 75/100\n",
            "197/197 [==============================] - 1s 4ms/step - loss: 0.0236 - val_loss: 0.0236\n",
            "Epoch 76/100\n",
            "197/197 [==============================] - 1s 4ms/step - loss: 0.0236 - val_loss: 0.0236\n",
            "Epoch 77/100\n",
            "197/197 [==============================] - 1s 4ms/step - loss: 0.0236 - val_loss: 0.0236\n",
            "Epoch 78/100\n",
            "197/197 [==============================] - 1s 4ms/step - loss: 0.0236 - val_loss: 0.0236\n",
            "Epoch 79/100\n",
            "197/197 [==============================] - 1s 4ms/step - loss: 0.0236 - val_loss: 0.0236\n",
            "Epoch 80/100\n",
            "197/197 [==============================] - 1s 4ms/step - loss: 0.0236 - val_loss: 0.0236\n",
            "Epoch 81/100\n",
            "197/197 [==============================] - 1s 4ms/step - loss: 0.0236 - val_loss: 0.0236\n",
            "Epoch 82/100\n",
            "197/197 [==============================] - 1s 4ms/step - loss: 0.0236 - val_loss: 0.0236\n",
            "Epoch 83/100\n",
            "197/197 [==============================] - 1s 4ms/step - loss: 0.0236 - val_loss: 0.0236\n",
            "Epoch 84/100\n",
            "197/197 [==============================] - 1s 4ms/step - loss: 0.0236 - val_loss: 0.0236\n",
            "Epoch 85/100\n",
            "197/197 [==============================] - 1s 4ms/step - loss: 0.0236 - val_loss: 0.0236\n",
            "Epoch 86/100\n",
            "197/197 [==============================] - 1s 4ms/step - loss: 0.0236 - val_loss: 0.0236\n",
            "Epoch 87/100\n",
            "197/197 [==============================] - 1s 4ms/step - loss: 0.0236 - val_loss: 0.0236\n",
            "Epoch 88/100\n",
            "197/197 [==============================] - 1s 4ms/step - loss: 0.0236 - val_loss: 0.0236\n",
            "Epoch 89/100\n",
            "197/197 [==============================] - 1s 4ms/step - loss: 0.0236 - val_loss: 0.0236\n",
            "Epoch 90/100\n",
            "197/197 [==============================] - 1s 4ms/step - loss: 0.0236 - val_loss: 0.0236\n",
            "Epoch 91/100\n",
            "197/197 [==============================] - 1s 4ms/step - loss: 0.0236 - val_loss: 0.0236\n",
            "Epoch 92/100\n",
            "197/197 [==============================] - 1s 4ms/step - loss: 0.0236 - val_loss: 0.0236\n",
            "Epoch 93/100\n",
            "197/197 [==============================] - 1s 4ms/step - loss: 0.0236 - val_loss: 0.0236\n",
            "Epoch 94/100\n",
            "197/197 [==============================] - 1s 4ms/step - loss: 0.0236 - val_loss: 0.0236\n",
            "Epoch 95/100\n",
            "197/197 [==============================] - 1s 4ms/step - loss: 0.0236 - val_loss: 0.0236\n",
            "Epoch 96/100\n",
            "197/197 [==============================] - 1s 4ms/step - loss: 0.0236 - val_loss: 0.0236\n",
            "Epoch 97/100\n",
            "197/197 [==============================] - 1s 4ms/step - loss: 0.0236 - val_loss: 0.0236\n",
            "Epoch 98/100\n",
            "197/197 [==============================] - 1s 4ms/step - loss: 0.0236 - val_loss: 0.0236\n",
            "Epoch 99/100\n",
            "197/197 [==============================] - 1s 4ms/step - loss: 0.0236 - val_loss: 0.0236\n",
            "Epoch 100/100\n",
            "197/197 [==============================] - 1s 4ms/step - loss: 0.0236 - val_loss: 0.0236\n"
          ]
        },
        {
          "output_type": "execute_result",
          "data": {
            "text/plain": [
              "DeepSVDD(batch_size=32,\n",
              "     c=array([0.     , 0.1    , 0.1    , 0.1    , 0.1    , 0.1    , 0.1    ,\n",
              "       0.     , 0.1    , 0.1    , 0.1    , 0.1    , 0.1    , 0.1    ,\n",
              "       0.1    , 0.1    , 0.1    , 0.     , 0.1    , 0.     , 0.     ,\n",
              "       0.1    , 0.     , 0.1    , 0.13886, 0.1    , 0.1    , 0.1    ,\n",
              "       0.1    , 0.     , 0.1    , 0.1    ], dtype=float32),\n",
              "     contamination=0.1, dropout_rate=0.2, epochs=100,\n",
              "     hidden_activation='relu', hidden_neurons=[64, 32], l2_regularizer=0.1,\n",
              "     optimizer='adam', output_activation='sigmoid', preprocessing=True,\n",
              "     random_state=None, use_ae=False, validation_size=0.1, verbose=1)"
            ]
          },
          "metadata": {},
          "execution_count": 63
        }
      ]
    },
    {
      "cell_type": "code",
      "source": [
        "from IPython.display import SVG\n",
        "from keras.utils.vis_utils import model_to_dot\n",
        "\n",
        "SVG(model_to_dot(clf.model_, show_shapes= True, show_layer_names=True, dpi=65).create(prog='dot', format='svg'))"
      ],
      "metadata": {
        "colab": {
          "base_uri": "https://localhost:8080/",
          "height": 886
        },
        "id": "SzTrnZ4u2iY2",
        "outputId": "b94e05b8-1638-4c2b-e4cf-1c4e945eb56a"
      },
      "execution_count": 64,
      "outputs": [
        {
          "output_type": "execute_result",
          "data": {
            "text/plain": [
              "<IPython.core.display.SVG object>"
            ],
            "image/svg+xml": "<svg height=\"649pt\" viewBox=\"0.00 0.00 390.00 719.00\" width=\"352pt\" xmlns=\"http://www.w3.org/2000/svg\" xmlns:xlink=\"http://www.w3.org/1999/xlink\">\n<g class=\"graph\" id=\"graph0\" transform=\"scale(.9028 .9028) rotate(0) translate(4 715)\">\n<title>G</title>\n<polygon fill=\"#ffffff\" points=\"-4,4 -4,-715 386,-715 386,4 -4,4\" stroke=\"transparent\"/>\n<!-- 140161602298256 -->\n<g class=\"node\" id=\"node1\">\n<title>140161602298256</title>\n<polygon fill=\"none\" points=\"50.5,-664.5 50.5,-710.5 331.5,-710.5 331.5,-664.5 50.5,-664.5\" stroke=\"#000000\"/>\n<text fill=\"#000000\" font-family=\"Times,serif\" font-size=\"14.00\" text-anchor=\"middle\" x=\"81.5\" y=\"-683.8\">input_6</text>\n<polyline fill=\"none\" points=\"112.5,-664.5 112.5,-710.5 \" stroke=\"#000000\"/>\n<text fill=\"#000000\" font-family=\"Times,serif\" font-size=\"14.00\" text-anchor=\"middle\" x=\"152.5\" y=\"-683.8\">InputLayer</text>\n<polyline fill=\"none\" points=\"192.5,-664.5 192.5,-710.5 \" stroke=\"#000000\"/>\n<text fill=\"#000000\" font-family=\"Times,serif\" font-size=\"14.00\" text-anchor=\"middle\" x=\"221.5\" y=\"-695.3\">input:</text>\n<polyline fill=\"none\" points=\"192.5,-687.5 250.5,-687.5 \" stroke=\"#000000\"/>\n<text fill=\"#000000\" font-family=\"Times,serif\" font-size=\"14.00\" text-anchor=\"middle\" x=\"221.5\" y=\"-672.3\">output:</text>\n<polyline fill=\"none\" points=\"250.5,-664.5 250.5,-710.5 \" stroke=\"#000000\"/>\n<text fill=\"#000000\" font-family=\"Times,serif\" font-size=\"14.00\" text-anchor=\"middle\" x=\"291\" y=\"-695.3\">[(None, 2)]</text>\n<polyline fill=\"none\" points=\"250.5,-687.5 331.5,-687.5 \" stroke=\"#000000\"/>\n<text fill=\"#000000\" font-family=\"Times,serif\" font-size=\"14.00\" text-anchor=\"middle\" x=\"291\" y=\"-672.3\">[(None, 2)]</text>\n</g>\n<!-- 140161602042704 -->\n<g class=\"node\" id=\"node2\">\n<title>140161602042704</title>\n<polygon fill=\"none\" points=\"64,-581.5 64,-627.5 318,-627.5 318,-581.5 64,-581.5\" stroke=\"#000000\"/>\n<text fill=\"#000000\" font-family=\"Times,serif\" font-size=\"14.00\" text-anchor=\"middle\" x=\"96\" y=\"-600.8\">dense_5</text>\n<polyline fill=\"none\" points=\"128,-581.5 128,-627.5 \" stroke=\"#000000\"/>\n<text fill=\"#000000\" font-family=\"Times,serif\" font-size=\"14.00\" text-anchor=\"middle\" x=\"154\" y=\"-600.8\">Dense</text>\n<polyline fill=\"none\" points=\"180,-581.5 180,-627.5 \" stroke=\"#000000\"/>\n<text fill=\"#000000\" font-family=\"Times,serif\" font-size=\"14.00\" text-anchor=\"middle\" x=\"209\" y=\"-612.3\">input:</text>\n<polyline fill=\"none\" points=\"180,-604.5 238,-604.5 \" stroke=\"#000000\"/>\n<text fill=\"#000000\" font-family=\"Times,serif\" font-size=\"14.00\" text-anchor=\"middle\" x=\"209\" y=\"-589.3\">output:</text>\n<polyline fill=\"none\" points=\"238,-581.5 238,-627.5 \" stroke=\"#000000\"/>\n<text fill=\"#000000\" font-family=\"Times,serif\" font-size=\"14.00\" text-anchor=\"middle\" x=\"278\" y=\"-612.3\">(None, 2)</text>\n<polyline fill=\"none\" points=\"238,-604.5 318,-604.5 \" stroke=\"#000000\"/>\n<text fill=\"#000000\" font-family=\"Times,serif\" font-size=\"14.00\" text-anchor=\"middle\" x=\"278\" y=\"-589.3\">(None, 64)</text>\n</g>\n<!-- 140161602298256&#45;&gt;140161602042704 -->\n<g class=\"edge\" id=\"edge1\">\n<title>140161602298256-&gt;140161602042704</title>\n<path d=\"M191,-664.3799C191,-656.1745 191,-646.7679 191,-637.8786\" fill=\"none\" stroke=\"#000000\"/>\n<polygon fill=\"#000000\" points=\"194.5001,-637.784 191,-627.784 187.5001,-637.784 194.5001,-637.784\" stroke=\"#000000\"/>\n</g>\n<!-- 140161601993680 -->\n<g class=\"node\" id=\"node3\">\n<title>140161601993680</title>\n<polygon fill=\"none\" points=\"56.5,-498.5 56.5,-544.5 325.5,-544.5 325.5,-498.5 56.5,-498.5\" stroke=\"#000000\"/>\n<text fill=\"#000000\" font-family=\"Times,serif\" font-size=\"14.00\" text-anchor=\"middle\" x=\"96\" y=\"-517.8\">net_output</text>\n<polyline fill=\"none\" points=\"135.5,-498.5 135.5,-544.5 \" stroke=\"#000000\"/>\n<text fill=\"#000000\" font-family=\"Times,serif\" font-size=\"14.00\" text-anchor=\"middle\" x=\"161.5\" y=\"-517.8\">Dense</text>\n<polyline fill=\"none\" points=\"187.5,-498.5 187.5,-544.5 \" stroke=\"#000000\"/>\n<text fill=\"#000000\" font-family=\"Times,serif\" font-size=\"14.00\" text-anchor=\"middle\" x=\"216.5\" y=\"-529.3\">input:</text>\n<polyline fill=\"none\" points=\"187.5,-521.5 245.5,-521.5 \" stroke=\"#000000\"/>\n<text fill=\"#000000\" font-family=\"Times,serif\" font-size=\"14.00\" text-anchor=\"middle\" x=\"216.5\" y=\"-506.3\">output:</text>\n<polyline fill=\"none\" points=\"245.5,-498.5 245.5,-544.5 \" stroke=\"#000000\"/>\n<text fill=\"#000000\" font-family=\"Times,serif\" font-size=\"14.00\" text-anchor=\"middle\" x=\"285.5\" y=\"-529.3\">(None, 64)</text>\n<polyline fill=\"none\" points=\"245.5,-521.5 325.5,-521.5 \" stroke=\"#000000\"/>\n<text fill=\"#000000\" font-family=\"Times,serif\" font-size=\"14.00\" text-anchor=\"middle\" x=\"285.5\" y=\"-506.3\">(None, 32)</text>\n</g>\n<!-- 140161602042704&#45;&gt;140161601993680 -->\n<g class=\"edge\" id=\"edge2\">\n<title>140161602042704-&gt;140161601993680</title>\n<path d=\"M191,-581.3799C191,-573.1745 191,-563.7679 191,-554.8786\" fill=\"none\" stroke=\"#000000\"/>\n<polygon fill=\"#000000\" points=\"194.5001,-554.784 191,-544.784 187.5001,-554.784 194.5001,-554.784\" stroke=\"#000000\"/>\n</g>\n<!-- 140161601666192 -->\n<g class=\"node\" id=\"node4\">\n<title>140161601666192</title>\n<polygon fill=\"none\" points=\"12.5,-415.5 12.5,-461.5 369.5,-461.5 369.5,-415.5 12.5,-415.5\" stroke=\"#000000\"/>\n<text fill=\"#000000\" font-family=\"Times,serif\" font-size=\"14.00\" text-anchor=\"middle\" x=\"72.5\" y=\"-434.8\">tf.math.subtract_5</text>\n<polyline fill=\"none\" points=\"132.5,-415.5 132.5,-461.5 \" stroke=\"#000000\"/>\n<text fill=\"#000000\" font-family=\"Times,serif\" font-size=\"14.00\" text-anchor=\"middle\" x=\"182\" y=\"-434.8\">TFOpLambda</text>\n<polyline fill=\"none\" points=\"231.5,-415.5 231.5,-461.5 \" stroke=\"#000000\"/>\n<text fill=\"#000000\" font-family=\"Times,serif\" font-size=\"14.00\" text-anchor=\"middle\" x=\"260.5\" y=\"-446.3\">input:</text>\n<polyline fill=\"none\" points=\"231.5,-438.5 289.5,-438.5 \" stroke=\"#000000\"/>\n<text fill=\"#000000\" font-family=\"Times,serif\" font-size=\"14.00\" text-anchor=\"middle\" x=\"260.5\" y=\"-423.3\">output:</text>\n<polyline fill=\"none\" points=\"289.5,-415.5 289.5,-461.5 \" stroke=\"#000000\"/>\n<text fill=\"#000000\" font-family=\"Times,serif\" font-size=\"14.00\" text-anchor=\"middle\" x=\"329.5\" y=\"-446.3\">(None, 32)</text>\n<polyline fill=\"none\" points=\"289.5,-438.5 369.5,-438.5 \" stroke=\"#000000\"/>\n<text fill=\"#000000\" font-family=\"Times,serif\" font-size=\"14.00\" text-anchor=\"middle\" x=\"329.5\" y=\"-423.3\">(None, 32)</text>\n</g>\n<!-- 140161601993680&#45;&gt;140161601666192 -->\n<g class=\"edge\" id=\"edge3\">\n<title>140161601993680-&gt;140161601666192</title>\n<path d=\"M191,-498.3799C191,-490.1745 191,-480.7679 191,-471.8786\" fill=\"none\" stroke=\"#000000\"/>\n<polygon fill=\"#000000\" points=\"194.5001,-471.784 191,-461.784 187.5001,-471.784 194.5001,-471.784\" stroke=\"#000000\"/>\n</g>\n<!-- 140161601677904 -->\n<g class=\"node\" id=\"node5\">\n<title>140161601677904</title>\n<polygon fill=\"none\" points=\"22,-332.5 22,-378.5 360,-378.5 360,-332.5 22,-332.5\" stroke=\"#000000\"/>\n<text fill=\"#000000\" font-family=\"Times,serif\" font-size=\"14.00\" text-anchor=\"middle\" x=\"72.5\" y=\"-351.8\">tf.math.pow_5</text>\n<polyline fill=\"none\" points=\"123,-332.5 123,-378.5 \" stroke=\"#000000\"/>\n<text fill=\"#000000\" font-family=\"Times,serif\" font-size=\"14.00\" text-anchor=\"middle\" x=\"172.5\" y=\"-351.8\">TFOpLambda</text>\n<polyline fill=\"none\" points=\"222,-332.5 222,-378.5 \" stroke=\"#000000\"/>\n<text fill=\"#000000\" font-family=\"Times,serif\" font-size=\"14.00\" text-anchor=\"middle\" x=\"251\" y=\"-363.3\">input:</text>\n<polyline fill=\"none\" points=\"222,-355.5 280,-355.5 \" stroke=\"#000000\"/>\n<text fill=\"#000000\" font-family=\"Times,serif\" font-size=\"14.00\" text-anchor=\"middle\" x=\"251\" y=\"-340.3\">output:</text>\n<polyline fill=\"none\" points=\"280,-332.5 280,-378.5 \" stroke=\"#000000\"/>\n<text fill=\"#000000\" font-family=\"Times,serif\" font-size=\"14.00\" text-anchor=\"middle\" x=\"320\" y=\"-363.3\">(None, 32)</text>\n<polyline fill=\"none\" points=\"280,-355.5 360,-355.5 \" stroke=\"#000000\"/>\n<text fill=\"#000000\" font-family=\"Times,serif\" font-size=\"14.00\" text-anchor=\"middle\" x=\"320\" y=\"-340.3\">(None, 32)</text>\n</g>\n<!-- 140161601666192&#45;&gt;140161601677904 -->\n<g class=\"edge\" id=\"edge4\">\n<title>140161601666192-&gt;140161601677904</title>\n<path d=\"M191,-415.3799C191,-407.1745 191,-397.7679 191,-388.8786\" fill=\"none\" stroke=\"#000000\"/>\n<polygon fill=\"#000000\" points=\"194.5001,-388.784 191,-378.784 187.5001,-388.784 194.5001,-388.784\" stroke=\"#000000\"/>\n</g>\n<!-- 140161601608848 -->\n<g class=\"node\" id=\"node6\">\n<title>140161601608848</title>\n<polygon fill=\"none\" points=\"0,-249.5 0,-295.5 382,-295.5 382,-249.5 0,-249.5\" stroke=\"#000000\"/>\n<text fill=\"#000000\" font-family=\"Times,serif\" font-size=\"14.00\" text-anchor=\"middle\" x=\"72.5\" y=\"-268.8\">tf.math.reduce_sum_5</text>\n<polyline fill=\"none\" points=\"145,-249.5 145,-295.5 \" stroke=\"#000000\"/>\n<text fill=\"#000000\" font-family=\"Times,serif\" font-size=\"14.00\" text-anchor=\"middle\" x=\"194.5\" y=\"-268.8\">TFOpLambda</text>\n<polyline fill=\"none\" points=\"244,-249.5 244,-295.5 \" stroke=\"#000000\"/>\n<text fill=\"#000000\" font-family=\"Times,serif\" font-size=\"14.00\" text-anchor=\"middle\" x=\"273\" y=\"-280.3\">input:</text>\n<polyline fill=\"none\" points=\"244,-272.5 302,-272.5 \" stroke=\"#000000\"/>\n<text fill=\"#000000\" font-family=\"Times,serif\" font-size=\"14.00\" text-anchor=\"middle\" x=\"273\" y=\"-257.3\">output:</text>\n<polyline fill=\"none\" points=\"302,-249.5 302,-295.5 \" stroke=\"#000000\"/>\n<text fill=\"#000000\" font-family=\"Times,serif\" font-size=\"14.00\" text-anchor=\"middle\" x=\"342\" y=\"-280.3\">(None, 32)</text>\n<polyline fill=\"none\" points=\"302,-272.5 382,-272.5 \" stroke=\"#000000\"/>\n<text fill=\"#000000\" font-family=\"Times,serif\" font-size=\"14.00\" text-anchor=\"middle\" x=\"342\" y=\"-257.3\">(None,)</text>\n</g>\n<!-- 140161601677904&#45;&gt;140161601608848 -->\n<g class=\"edge\" id=\"edge5\">\n<title>140161601677904-&gt;140161601608848</title>\n<path d=\"M191,-332.3799C191,-324.1745 191,-314.7679 191,-305.8786\" fill=\"none\" stroke=\"#000000\"/>\n<polygon fill=\"#000000\" points=\"194.5001,-305.784 191,-295.784 187.5001,-305.784 194.5001,-305.784\" stroke=\"#000000\"/>\n</g>\n<!-- 140161601294224 -->\n<g class=\"node\" id=\"node7\">\n<title>140161601294224</title>\n<polygon fill=\"none\" points=\"12.5,-166.5 12.5,-212.5 369.5,-212.5 369.5,-166.5 12.5,-166.5\" stroke=\"#000000\"/>\n<text fill=\"#000000\" font-family=\"Times,serif\" font-size=\"14.00\" text-anchor=\"middle\" x=\"88.5\" y=\"-185.8\">tf.math.reduce_mean_5</text>\n<polyline fill=\"none\" points=\"164.5,-166.5 164.5,-212.5 \" stroke=\"#000000\"/>\n<text fill=\"#000000\" font-family=\"Times,serif\" font-size=\"14.00\" text-anchor=\"middle\" x=\"214\" y=\"-185.8\">TFOpLambda</text>\n<polyline fill=\"none\" points=\"263.5,-166.5 263.5,-212.5 \" stroke=\"#000000\"/>\n<text fill=\"#000000\" font-family=\"Times,serif\" font-size=\"14.00\" text-anchor=\"middle\" x=\"292.5\" y=\"-197.3\">input:</text>\n<polyline fill=\"none\" points=\"263.5,-189.5 321.5,-189.5 \" stroke=\"#000000\"/>\n<text fill=\"#000000\" font-family=\"Times,serif\" font-size=\"14.00\" text-anchor=\"middle\" x=\"292.5\" y=\"-174.3\">output:</text>\n<polyline fill=\"none\" points=\"321.5,-166.5 321.5,-212.5 \" stroke=\"#000000\"/>\n<text fill=\"#000000\" font-family=\"Times,serif\" font-size=\"14.00\" text-anchor=\"middle\" x=\"345.5\" y=\"-197.3\">None</text>\n<polyline fill=\"none\" points=\"321.5,-189.5 369.5,-189.5 \" stroke=\"#000000\"/>\n<text fill=\"#000000\" font-family=\"Times,serif\" font-size=\"14.00\" text-anchor=\"middle\" x=\"345.5\" y=\"-174.3\">()</text>\n</g>\n<!-- 140161601608848&#45;&gt;140161601294224 -->\n<g class=\"edge\" id=\"edge6\">\n<title>140161601608848-&gt;140161601294224</title>\n<path d=\"M191,-249.3799C191,-241.1745 191,-231.7679 191,-222.8786\" fill=\"none\" stroke=\"#000000\"/>\n<polygon fill=\"#000000\" points=\"194.5001,-222.784 191,-212.784 187.5001,-222.784 194.5001,-222.784\" stroke=\"#000000\"/>\n</g>\n<!-- 140161601782224 -->\n<g class=\"node\" id=\"node8\">\n<title>140161601782224</title>\n<polygon fill=\"none\" points=\"24,-83.5 24,-129.5 358,-129.5 358,-83.5 24,-83.5\" stroke=\"#000000\"/>\n<text fill=\"#000000\" font-family=\"Times,serif\" font-size=\"14.00\" text-anchor=\"middle\" x=\"99.5\" y=\"-102.8\">tf.__operators__.add_5</text>\n<polyline fill=\"none\" points=\"175,-83.5 175,-129.5 \" stroke=\"#000000\"/>\n<text fill=\"#000000\" font-family=\"Times,serif\" font-size=\"14.00\" text-anchor=\"middle\" x=\"224.5\" y=\"-102.8\">TFOpLambda</text>\n<polyline fill=\"none\" points=\"274,-83.5 274,-129.5 \" stroke=\"#000000\"/>\n<text fill=\"#000000\" font-family=\"Times,serif\" font-size=\"14.00\" text-anchor=\"middle\" x=\"303\" y=\"-114.3\">input:</text>\n<polyline fill=\"none\" points=\"274,-106.5 332,-106.5 \" stroke=\"#000000\"/>\n<text fill=\"#000000\" font-family=\"Times,serif\" font-size=\"14.00\" text-anchor=\"middle\" x=\"303\" y=\"-91.3\">output:</text>\n<polyline fill=\"none\" points=\"332,-83.5 332,-129.5 \" stroke=\"#000000\"/>\n<text fill=\"#000000\" font-family=\"Times,serif\" font-size=\"14.00\" text-anchor=\"middle\" x=\"345\" y=\"-114.3\">()</text>\n<polyline fill=\"none\" points=\"332,-106.5 358,-106.5 \" stroke=\"#000000\"/>\n<text fill=\"#000000\" font-family=\"Times,serif\" font-size=\"14.00\" text-anchor=\"middle\" x=\"345\" y=\"-91.3\">()</text>\n</g>\n<!-- 140161601294224&#45;&gt;140161601782224 -->\n<g class=\"edge\" id=\"edge7\">\n<title>140161601294224-&gt;140161601782224</title>\n<path d=\"M191,-166.3799C191,-158.1745 191,-148.7679 191,-139.8786\" fill=\"none\" stroke=\"#000000\"/>\n<polygon fill=\"#000000\" points=\"194.5001,-139.784 191,-129.784 187.5001,-139.784 194.5001,-139.784\" stroke=\"#000000\"/>\n</g>\n<!-- 140161601784400 -->\n<g class=\"node\" id=\"node9\">\n<title>140161601784400</title>\n<polygon fill=\"none\" points=\"73.5,-.5 73.5,-46.5 308.5,-46.5 308.5,-.5 73.5,-.5\" stroke=\"#000000\"/>\n<text fill=\"#000000\" font-family=\"Times,serif\" font-size=\"14.00\" text-anchor=\"middle\" x=\"114.5\" y=\"-19.8\">add_loss_5</text>\n<polyline fill=\"none\" points=\"155.5,-.5 155.5,-46.5 \" stroke=\"#000000\"/>\n<text fill=\"#000000\" font-family=\"Times,serif\" font-size=\"14.00\" text-anchor=\"middle\" x=\"190\" y=\"-19.8\">AddLoss</text>\n<polyline fill=\"none\" points=\"224.5,-.5 224.5,-46.5 \" stroke=\"#000000\"/>\n<text fill=\"#000000\" font-family=\"Times,serif\" font-size=\"14.00\" text-anchor=\"middle\" x=\"253.5\" y=\"-31.3\">input:</text>\n<polyline fill=\"none\" points=\"224.5,-23.5 282.5,-23.5 \" stroke=\"#000000\"/>\n<text fill=\"#000000\" font-family=\"Times,serif\" font-size=\"14.00\" text-anchor=\"middle\" x=\"253.5\" y=\"-8.3\">output:</text>\n<polyline fill=\"none\" points=\"282.5,-.5 282.5,-46.5 \" stroke=\"#000000\"/>\n<text fill=\"#000000\" font-family=\"Times,serif\" font-size=\"14.00\" text-anchor=\"middle\" x=\"295.5\" y=\"-31.3\">()</text>\n<polyline fill=\"none\" points=\"282.5,-23.5 308.5,-23.5 \" stroke=\"#000000\"/>\n<text fill=\"#000000\" font-family=\"Times,serif\" font-size=\"14.00\" text-anchor=\"middle\" x=\"295.5\" y=\"-8.3\">()</text>\n</g>\n<!-- 140161601782224&#45;&gt;140161601784400 -->\n<g class=\"edge\" id=\"edge8\">\n<title>140161601782224-&gt;140161601784400</title>\n<path d=\"M191,-83.3799C191,-75.1745 191,-65.7679 191,-56.8786\" fill=\"none\" stroke=\"#000000\"/>\n<polygon fill=\"#000000\" points=\"194.5001,-56.784 191,-46.784 187.5001,-56.784 194.5001,-56.784\" stroke=\"#000000\"/>\n</g>\n</g>\n</svg>"
          },
          "metadata": {},
          "execution_count": 64
        }
      ]
    },
    {
      "cell_type": "code",
      "source": [
        "# get the prediction labels and outlier scores of the training data\n",
        "y_train_pred = clf.labels_  # binary labels (0: inliers, 1: outliers)\n",
        "y_train_scores = clf.decision_scores_  # raw outlier scores\n",
        "\n",
        "# get the prediction on the test data\n",
        "y_test_pred = clf.predict(X_test)  # outlier labels (0 or 1)\n",
        "y_test_scores = clf.decision_function(X_test)  # outlier scores"
      ],
      "metadata": {
        "id": "uDLDYPWx58ez"
      },
      "execution_count": 65,
      "outputs": []
    },
    {
      "cell_type": "code",
      "source": [
        "from pyod.utils.data import evaluate_print\n",
        "\n",
        "# evaluate and print the results\n",
        "print(\"\\nOn Training Data:\")\n",
        "evaluate_print(clf_name, y_train, y_train_scores)\n",
        "print(\"\\nOn Test Data:\")\n",
        "evaluate_print(clf_name, y_test, y_test_scores)"
      ],
      "metadata": {
        "colab": {
          "base_uri": "https://localhost:8080/"
        },
        "id": "SGiU1-xJ6AXD",
        "outputId": "dde79a4f-711d-4666-adca-fc96d8819778"
      },
      "execution_count": 66,
      "outputs": [
        {
          "output_type": "stream",
          "name": "stdout",
          "text": [
            "\n",
            "On Training Data:\n",
            "DeepSVD ROC:0.4986, precision @ rank n:0.0\n",
            "\n",
            "On Test Data:\n",
            "DeepSVD ROC:0.5164, precision @ rank n:1.0\n"
          ]
        },
        {
          "output_type": "stream",
          "name": "stderr",
          "text": [
            "/usr/local/lib/python3.7/dist-packages/sklearn/metrics/_classification.py:1308: UndefinedMetricWarning: Precision is ill-defined and being set to 0.0 due to no predicted samples. Use `zero_division` parameter to control this behavior.\n",
            "  _warn_prf(average, modifier, msg_start, len(result))\n"
          ]
        }
      ]
    },
    {
      "cell_type": "code",
      "source": [
        "!pip3 install scikit-plot"
      ],
      "metadata": {
        "id": "Me727v5xwvLb"
      },
      "execution_count": null,
      "outputs": []
    },
    {
      "cell_type": "code",
      "source": [
        "import scikitplot as skplt\n",
        "\n",
        "# plot the comfusion matrix in the test set \n",
        "skplt.metrics.plot_confusion_matrix(y_test,y_test_pred, normalize=False, title=\"Consfusion Matrix on Test Set\")\n",
        "plt.show()"
      ],
      "metadata": {
        "colab": {
          "base_uri": "https://localhost:8080/",
          "height": 522
        },
        "id": "9OZXnfKn6DMb",
        "outputId": "665505b6-4830-4d09-b4b2-dea0ce4656d3"
      },
      "execution_count": 67,
      "outputs": [
        {
          "output_type": "display_data",
          "data": {
            "image/png": "[encoded data removed]",
            "text/plain": [
              "<Figure size 864x576 with 2 Axes>"
            ]
          },
          "metadata": {}
        }
      ]
    },
    {
      "cell_type": "code",
      "source": [
        "from pyod.utils.example import visualize\n",
        "\n",
        "# visualize the results\n",
        "visualize(clf_name, X_train, y_train, X_test, y_test, y_train_pred,\n",
        "              y_test_pred, show_figure=True, save_figure=False)"
      ],
      "metadata": {
        "colab": {
          "base_uri": "https://localhost:8080/",
          "height": 646
        },
        "id": "XDmoq24Y6F7U",
        "outputId": "085656f1-031b-414a-9267-82454c1e78cf"
      },
      "execution_count": 37,
      "outputs": [
        {
          "output_type": "display_data",
          "data": {
            "image/png": "[encoded data removed]",
            "text/plain": [
              "<Figure size 864x720 with 4 Axes>"
            ]
          },
          "metadata": {}
        }
      ]
    },
    {
      "cell_type": "markdown",
      "source": [
        "#**Combining Anomaly Detection Models Using SUOD**"
      ],
      "metadata": {
        "id": "xfGA2o9_rpvQ"
      }
    },
    {
      "cell_type": "code",
      "source": [
        "!pip3 install suod"
      ],
      "metadata": {
        "id": "xf3N3wd00-kt"
      },
      "execution_count": null,
      "outputs": []
    },
    {
      "cell_type": "code",
      "source": [
        "from pyod.models.suod import SUOD"
      ],
      "metadata": {
        "id": "3ndkcj3G0oor"
      },
      "execution_count": null,
      "outputs": []
    },
    {
      "cell_type": "markdown",
      "source": [
        "**Import some anomaly detection models from PyOD**"
      ],
      "metadata": {
        "id": "jO-5IycU28g1"
      }
    },
    {
      "cell_type": "code",
      "source": [
        "from pyod.models.lof import LOF\n",
        "from pyod.models.copod import COPOD\n",
        "from pyod.models.iforest import IForest"
      ],
      "metadata": {
        "id": "i-pxoUrQ1wYo"
      },
      "execution_count": null,
      "outputs": []
    },
    {
      "cell_type": "code",
      "source": [
        "# train SUOD\n",
        "clf_name = 'SUOD'\n",
        "\n",
        "# initialize a group of outlier detectors for acceleration\n",
        "detector_list = [LOF(n_neighbors=15), LOF(n_neighbors=20),\n",
        "                 LOF(n_neighbors=25), LOF(n_neighbors=35),\n",
        "                 COPOD(), IForest(n_estimators=100),\n",
        "                 IForest(n_estimators=200)]"
      ],
      "metadata": {
        "id": "cEnz2_Bj1Rdc"
      },
      "execution_count": null,
      "outputs": []
    },
    {
      "cell_type": "code",
      "source": [
        "# decide the number of parallel process, and the combination method\n",
        "clf = SUOD(base_estimators=detector_list, n_jobs=2, combination='average', verbose=False)\n",
        "\n",
        "# or to use the default detectors\n",
        "# clf = SUOD(n_jobs=2, combination='average', verbose=False)"
      ],
      "metadata": {
        "id": "On7PImdKBTpE"
      },
      "execution_count": null,
      "outputs": []
    },
    {
      "cell_type": "code",
      "source": [
        "# Train the model\n",
        "clf.fit(X_train)"
      ],
      "metadata": {
        "colab": {
          "base_uri": "https://localhost:8080/"
        },
        "id": "kv_HHQhb13Db",
        "outputId": "e6351355-eac6-4eaa-e5e7-6fd2cedd0ccc"
      },
      "execution_count": null,
      "outputs": [
        {
          "output_type": "stream",
          "name": "stdout",
          "text": [
            "\n"
          ]
        },
        {
          "output_type": "stream",
          "name": "stderr",
          "text": [
            "[Parallel(n_jobs=2)]: Using backend LokyBackend with 2 concurrent workers.\n",
            "[Parallel(n_jobs=2)]: Done   2 out of   2 | elapsed:    4.4s remaining:    0.0s\n",
            "[Parallel(n_jobs=2)]: Done   2 out of   2 | elapsed:    4.4s finished\n",
            "[Parallel(n_jobs=2)]: Using backend LokyBackend with 2 concurrent workers.\n",
            "[Parallel(n_jobs=2)]: Done   2 out of   2 | elapsed:    5.6s remaining:    0.0s\n",
            "[Parallel(n_jobs=2)]: Done   2 out of   2 | elapsed:    5.6s finished\n"
          ]
        },
        {
          "output_type": "execute_result",
          "data": {
            "text/plain": [
              "SUOD(approx_clf=None, approx_clf_list=None, approx_flag_global=True,\n",
              "   approx_ng_clf_list=None,\n",
              "   base_estimators=[LOF(algorithm='auto', contamination=0.1, leaf_size=30, metric='minkowski',\n",
              "  metric_params=None, n_jobs=1, n_neighbors=15, novelty=True, p=2), LOF(algorithm='auto', contamination=0.1, leaf_size=30, metric='minkowski',\n",
              "  metric_params=None, n_jobs=1, n_neighbors=20, novelty=True, p=2...features=1.0,\n",
              "    max_samples='auto', n_estimators=200, n_jobs=1, random_state=None,\n",
              "    verbose=0)],\n",
              "   bps_flag=True, combination='average', contamination=0.1,\n",
              "   cost_forecast_loc_fit=None, cost_forecast_loc_pred=None,\n",
              "   jl_method='basic', n_jobs=2, rp_clf_list=None, rp_flag_global=True,\n",
              "   rp_ng_clf_list=None, target_dim_frac=0.5, verbose=False)"
            ]
          },
          "metadata": {},
          "execution_count": 123
        }
      ]
    },
    {
      "cell_type": "code",
      "source": [
        "# get the prediction labels and outlier scores of the training data\n",
        "y_train_pred = clf.labels_  # binary labels (0: inliers, 1: outliers)\n",
        "y_train_scores = clf.decision_scores_  # raw outlier scores\n",
        "\n",
        "# get the prediction on the test data\n",
        "y_test_pred = clf.predict(X_test)  # outlier labels (0 or 1)\n",
        "y_test_scores = clf.decision_function(X_test)  # outlier scores"
      ],
      "metadata": {
        "colab": {
          "base_uri": "https://localhost:8080/"
        },
        "id": "xgT9pNvu2O9k",
        "outputId": "2425c080-4510-4a74-fc21-38d7eb3d2bec"
      },
      "execution_count": null,
      "outputs": [
        {
          "output_type": "stream",
          "name": "stdout",
          "text": [
            "\n"
          ]
        },
        {
          "output_type": "stream",
          "name": "stderr",
          "text": [
            "[Parallel(n_jobs=2)]: Using backend LokyBackend with 2 concurrent workers.\n",
            "[Parallel(n_jobs=2)]: Done   2 out of   2 | elapsed:    4.0s remaining:    0.0s\n",
            "[Parallel(n_jobs=2)]: Done   2 out of   2 | elapsed:    4.0s finished\n",
            "[Parallel(n_jobs=2)]: Using backend LokyBackend with 2 concurrent workers.\n"
          ]
        },
        {
          "output_type": "stream",
          "name": "stdout",
          "text": [
            "\n"
          ]
        },
        {
          "output_type": "stream",
          "name": "stderr",
          "text": [
            "[Parallel(n_jobs=2)]: Done   2 out of   2 | elapsed:    1.2s remaining:    0.0s\n",
            "[Parallel(n_jobs=2)]: Done   2 out of   2 | elapsed:    1.2s finished\n"
          ]
        }
      ]
    },
    {
      "cell_type": "code",
      "source": [
        "from pyod.utils.data import evaluate_print\n",
        "\n",
        "# evaluate and print the results\n",
        "print(\"\\nOn Training Data:\")\n",
        "evaluate_print(clf_name, y_train, y_train_scores)\n",
        "print(\"\\nOn Test Data:\")\n",
        "evaluate_print(clf_name, y_test, y_test_scores)"
      ],
      "metadata": {
        "colab": {
          "base_uri": "https://localhost:8080/"
        },
        "id": "VCWftwBZ2j7z",
        "outputId": "37070c57-9e6c-4388-d3d8-f4f8b0a21e38"
      },
      "execution_count": null,
      "outputs": [
        {
          "output_type": "stream",
          "name": "stdout",
          "text": [
            "\n",
            "On Training Data:\n",
            "SUOD ROC:0.9892, precision @ rank n:0.755\n",
            "\n",
            "On Test Data:\n",
            "SUOD ROC:0.9888, precision @ rank n:0.7368\n"
          ]
        }
      ]
    },
    {
      "cell_type": "code",
      "source": [
        "import scikitplot as skplt\n",
        "\n",
        "# plot the comfusion matrix in the test set \n",
        "skplt.metrics.plot_confusion_matrix(y_test,y_test_pred, normalize=False, title=\"Consfusion Matrix on Test Set\")\n",
        "plt.show()"
      ],
      "metadata": {
        "colab": {
          "base_uri": "https://localhost:8080/",
          "height": 522
        },
        "id": "kAzW64zy3oCL",
        "outputId": "d3094b79-ac36-43ae-e9a3-a7313d89a6fb"
      },
      "execution_count": null,
      "outputs": [
        {
          "output_type": "display_data",
          "data": {
            "image/png": "[encoded data removed]",
            "text/plain": [
              "<Figure size 864x576 with 2 Axes>"
            ]
          },
          "metadata": {}
        }
      ]
    },
    {
      "cell_type": "code",
      "source": [
        "from pyod.utils.example import visualize\n",
        "\n",
        "# visualize the results\n",
        "visualize(clf_name, X_train, y_train, X_test, y_test, y_train_pred,\n",
        "              y_test_pred, show_figure=True, save_figure=False)"
      ],
      "metadata": {
        "colab": {
          "base_uri": "https://localhost:8080/",
          "height": 646
        },
        "id": "2QWcmZln2pmL",
        "outputId": "30333553-cbe6-4829-d7f9-2f9b7837881b"
      },
      "execution_count": null,
      "outputs": [
        {
          "output_type": "display_data",
          "data": {
            "image/png": "[encoded data removed]",
            "text/plain": [
              "<Figure size 864x720 with 4 Axes>"
            ]
          },
          "metadata": {}
        }
      ]
    },
    {
      "cell_type": "markdown",
      "source": [
        "#**Model Combination using COMBO**\n",
        "\n",
        "Outlier detection often suffers from model instability due to its unsupervised nature. Thus, it is recommended to combine various detector outputs, e.g., by averaging, to improve its robustness."
      ],
      "metadata": {
        "id": "NuctV7nPz_qm"
      }
    },
    {
      "cell_type": "code",
      "source": [
        "!pip3 install combo"
      ],
      "metadata": {
        "colab": {
          "base_uri": "https://localhost:8080/"
        },
        "id": "PRUPVYbKzV61",
        "outputId": "9b6934cb-e905-4dc6-a8db-91fb84b3888d"
      },
      "execution_count": 48,
      "outputs": [
        {
          "output_type": "stream",
          "name": "stdout",
          "text": [
            "Collecting combo\n",
            "  Downloading combo-0.1.2.tar.gz (37 kB)\n",
            "Requirement already satisfied: joblib in /usr/local/lib/python3.7/dist-packages (from combo) (1.1.0)\n",
            "Requirement already satisfied: matplotlib in /usr/local/lib/python3.7/dist-packages (from combo) (3.2.2)\n",
            "Requirement already satisfied: numpy>=1.13 in /usr/local/lib/python3.7/dist-packages (from combo) (1.19.5)\n",
            "Requirement already satisfied: numba>=0.35 in /usr/local/lib/python3.7/dist-packages (from combo) (0.51.2)\n",
            "Requirement already satisfied: pyod in /usr/local/lib/python3.7/dist-packages (from combo) (0.9.5)\n",
            "Requirement already satisfied: scipy in /usr/local/lib/python3.7/dist-packages (from combo) (1.4.1)\n",
            "Requirement already satisfied: scikit_learn>=0.20 in /usr/local/lib/python3.7/dist-packages (from combo) (1.0.1)\n",
            "Requirement already satisfied: llvmlite<0.35,>=0.34.0.dev0 in /usr/local/lib/python3.7/dist-packages (from numba>=0.35->combo) (0.34.0)\n",
            "Requirement already satisfied: setuptools in /usr/local/lib/python3.7/dist-packages (from numba>=0.35->combo) (57.4.0)\n",
            "Requirement already satisfied: threadpoolctl>=2.0.0 in /usr/local/lib/python3.7/dist-packages (from scikit_learn>=0.20->combo) (3.0.0)\n",
            "Requirement already satisfied: pyparsing!=2.0.4,!=2.1.2,!=2.1.6,>=2.0.1 in /usr/local/lib/python3.7/dist-packages (from matplotlib->combo) (3.0.6)\n",
            "Requirement already satisfied: kiwisolver>=1.0.1 in /usr/local/lib/python3.7/dist-packages (from matplotlib->combo) (1.3.2)\n",
            "Requirement already satisfied: cycler>=0.10 in /usr/local/lib/python3.7/dist-packages (from matplotlib->combo) (0.11.0)\n",
            "Requirement already satisfied: python-dateutil>=2.1 in /usr/local/lib/python3.7/dist-packages (from matplotlib->combo) (2.8.2)\n",
            "Requirement already satisfied: six>=1.5 in /usr/local/lib/python3.7/dist-packages (from python-dateutil>=2.1->matplotlib->combo) (1.15.0)\n",
            "Requirement already satisfied: statsmodels in /usr/local/lib/python3.7/dist-packages (from pyod->combo) (0.10.2)\n",
            "Requirement already satisfied: patsy>=0.4.0 in /usr/local/lib/python3.7/dist-packages (from statsmodels->pyod->combo) (0.5.2)\n",
            "Requirement already satisfied: pandas>=0.19 in /usr/local/lib/python3.7/dist-packages (from statsmodels->pyod->combo) (1.1.5)\n",
            "Requirement already satisfied: pytz>=2017.2 in /usr/local/lib/python3.7/dist-packages (from pandas>=0.19->statsmodels->pyod->combo) (2018.9)\n",
            "Building wheels for collected packages: combo\n",
            "  Building wheel for combo (setup.py) ... \u001b[?25l\u001b[?25hdone\n",
            "  Created wheel for combo: filename=combo-0.1.2-py3-none-any.whl size=42025 sha256=1cf11d62a14beed031349bf95c685c7da83c6134d07e286e193634fb361bfbcd\n",
            "  Stored in directory: /root/.cache/pip/wheels/cf/2e/45/d4cb985fb061e3ab636d350b76114d2639d84eab16225c7776\n",
            "Successfully built combo\n",
            "Installing collected packages: combo\n",
            "Successfully installed combo-0.1.2\n"
          ]
        }
      ]
    },
    {
      "cell_type": "markdown",
      "source": [
        "There are four score combination mechanisms:\n",
        "\n",
        "**Average**: average scores of all detectors.\n",
        "\n",
        "**maximizatio**n: maximum score across all detectors.\n",
        "\n",
        "**Average of Maximum (AOM)**: divide base detectors into subgroups and take the maximum score for each subgroup. The final score is the average of all subgroup scores.\n",
        "\n",
        "**Maximum of Average (MOA)**: divide base detectors into subgroups and take the average score for each subgroup. The final score is the maximum of all subgroup scores."
      ],
      "metadata": {
        "id": "44qYoVqE0Hfm"
      }
    },
    {
      "cell_type": "code",
      "source": [
        "from pyod.models.knn import KNN\n",
        "from pyod.models.combination import aom, moa, average, maximization"
      ],
      "metadata": {
        "id": "9C5TnDhRyGLf"
      },
      "execution_count": 54,
      "outputs": []
    },
    {
      "cell_type": "code",
      "source": [
        "# initialize 20 base detectors for combination\n",
        "k_list = [10, 20, 30, 40, 50, 60, 70, 80, 90, 100, 110, 120, 130, 140,\n",
        "            150, 160, 170, 180, 190, 200]\n",
        "n_clf = len(k_list) # Number of classifiers being trained\n",
        "\n",
        "train_scores = np.zeros([X_train.shape[0], n_clf])\n",
        "test_scores = np.zeros([X_test.shape[0], n_clf])\n",
        "\n",
        "for i in range(n_clf):\n",
        "    k = k_list[i]\n",
        "\n",
        "    clf = KNN(n_neighbors=k, method='largest')\n",
        "    clf.fit(X_train)\n",
        "\n",
        "    train_scores[:, i] = clf.decision_scores_\n",
        "    test_scores[:, i] = clf.decision_function(X_test)"
      ],
      "metadata": {
        "id": "fscuxL-6yO6N"
      },
      "execution_count": 55,
      "outputs": []
    },
    {
      "cell_type": "markdown",
      "source": [
        "Then the output scores are standardized into zero average and unit std before combination. This step is crucial to adjust the detector outputs to the same scale."
      ],
      "metadata": {
        "id": "kOJLtE0dzlGl"
      }
    },
    {
      "cell_type": "code",
      "source": [
        "from pyod.utils.utility import standardizer\n",
        "\n",
        "# scores have to be normalized before combination\n",
        "train_scores_norm, test_scores_norm = standardizer(train_scores, test_scores)"
      ],
      "metadata": {
        "id": "SpEDsM3pzKHm"
      },
      "execution_count": 56,
      "outputs": []
    },
    {
      "cell_type": "markdown",
      "source": [
        "Four different combination algorithms are applied"
      ],
      "metadata": {
        "id": "LrEziNK8zh2u"
      }
    },
    {
      "cell_type": "code",
      "source": [
        "# Combination by average\n",
        "y_by_average = average(test_scores_norm)\n",
        "evaluate_print('Combination by Average', y_test, y_by_average)\n",
        "\n",
        "# Combination by max\n",
        "y_by_maximization = maximization(test_scores_norm)\n",
        "evaluate_print('Combination by Maximization', y_test, y_by_maximization)\n",
        "\n",
        "# Combination by aom using 5 groups\n",
        "y_by_aom = aom(test_scores_norm, n_buckets=5)\n",
        "evaluate_print('Combination by AOM', y_test, y_by_aom)\n",
        "\n",
        "# Combination by moa using 5 groups\n",
        "y_by_moa = moa(test_scores_norm, n_buckets=5)\n",
        "evaluate_print('Combination by MOA', y_test, y_by_moa)"
      ],
      "metadata": {
        "colab": {
          "base_uri": "https://localhost:8080/"
        },
        "id": "BN59J_F60rbm",
        "outputId": "faf7c891-e573-46ad-d100-d9f325945efc"
      },
      "execution_count": 60,
      "outputs": [
        {
          "output_type": "stream",
          "name": "stdout",
          "text": [
            "Combination by Average ROC:0.9992, precision @ rank n:0.9342\n",
            "Combination by Maximization ROC:0.9989, precision @ rank n:0.9342\n",
            "Combination by AOM ROC:0.999, precision @ rank n:0.9342\n",
            "Combination by MOA ROC:0.9991, precision @ rank n:0.9342\n"
          ]
        }
      ]
    },
    {
      "cell_type": "markdown",
      "metadata": {
        "id": "EydQdLZ2qKZP"
      },
      "source": [
        "#**Extra: Autoencoders with Keras**"
      ]
    },
    {
      "cell_type": "code",
      "metadata": {
        "id": "HB077oITqAlg"
      },
      "source": [
        "from keras.models import Model\n",
        "from keras.layers import Input, Dense\n",
        "from keras import regularizers"
      ],
      "execution_count": 58,
      "outputs": []
    },
    {
      "cell_type": "code",
      "metadata": {
        "id": "nJCK2oKRpCh5"
      },
      "source": [
        "# Autoencocer\n",
        "\n",
        "no_epochs = 50\n",
        "batch_size = 32\n",
        "input_dim = X_train.shape[1]\n",
        "\n",
        "encoding_dim = 10\n",
        "hidden_dim = encoding_dim / 2 # keeping hidden half\n",
        "learning_rate = 1e-7\n",
        "\n",
        "\n",
        "#model starts here\n",
        "input_layer = Input(shape=(input_dim, ))\n",
        "encoder = Dense(encoding_dim, activation = 'tanh', activity_regularizer = regularizers.l1(learning_rate)) (input_layer)\n",
        "encoder = Dense(hidden_dim, activation = 'relu')(encoder)\n",
        "decoder = Dense(hidden_dim, activation = 'tanh')(encoder)\n",
        "decoder = Dense(input_dim, activation = 'relu')(decoder)\n",
        "\n",
        "autoencoder = Model(inputs = input_layer, outputs = decoder)"
      ],
      "execution_count": null,
      "outputs": []
    },
    {
      "cell_type": "code",
      "metadata": {
        "id": "ZrEuuQhCqcMQ"
      },
      "source": [
        "# compile and run the model\n",
        "autoencoder.compile(metrics = ['accuracy'],\n",
        "                   loss = 'mean_squared_error',\n",
        "                   optimizer = 'adam')\n",
        "\n",
        "hist = autoencoder.fit(X_train, X_train,\n",
        "                      epochs =no_epochs,\n",
        "                      batch_size = batch_size,\n",
        "                      shuffle = True,\n",
        "                      validation_data = (X_test, X_test))"
      ],
      "execution_count": null,
      "outputs": []
    },
    {
      "cell_type": "code",
      "metadata": {
        "colab": {
          "base_uri": "https://localhost:8080/"
        },
        "id": "qG2Wvjy7q1tn",
        "outputId": "e257301e-e7b5-47d7-977c-01dbe3b07cfa"
      },
      "source": [
        "print('The accuracy is {0:.2f}% '.format(100*hist.history['accuracy'][-1]))"
      ],
      "execution_count": null,
      "outputs": [
        {
          "output_type": "stream",
          "name": "stdout",
          "text": [
            "The accuracy is 100.00% \n"
          ]
        }
      ]
    },
    {
      "cell_type": "code",
      "metadata": {
        "colab": {
          "base_uri": "https://localhost:8080/",
          "height": 518
        },
        "id": "RtHEjdIoq5K_",
        "outputId": "acde8605-ad4c-4660-fa0d-97fc20cd815c"
      },
      "source": [
        "# Plotting model loss\n",
        "plt.plot(hist.history['loss'], linewidth =3, label = 'Train')\n",
        "plt.plot(hist.history['val_loss'], linewidth =3, label = 'Test')\n",
        "\n",
        "plt.title('Model loss')\n",
        "plt.xlabel('Epoch')\n",
        "plt.ylabel('Loss')\n",
        "plt.legend()\n",
        "plt.show()"
      ],
      "execution_count": null,
      "outputs": [
        {
          "output_type": "display_data",
          "data": {
            "image/png": "[encoded data removed]",
            "text/plain": [
              "<Figure size 864x576 with 1 Axes>"
            ]
          },
          "metadata": {}
        }
      ]
    },
    {
      "cell_type": "code",
      "metadata": {
        "colab": {
          "base_uri": "https://localhost:8080/",
          "height": 300
        },
        "id": "a27uLt8HrCdB",
        "outputId": "3beeb7a9-3a7e-45dd-a12a-a92ef64e3b9b"
      },
      "source": [
        "#making predictions\n",
        "\n",
        "X_test_pred = autoencoder.predict(X_test)\n",
        "mse_pred = np.mean(np.power(X_test - X_test_pred, 2), axis =1)\n",
        "\n",
        "df_error = pd.DataFrame({'Error': mse_pred, 'True_class': y_test})\n",
        "\n",
        "df_error.describe()"
      ],
      "execution_count": null,
      "outputs": [
        {
          "output_type": "execute_result",
          "data": {
            "text/html": [
              "<div>\n",
              "<style scoped>\n",
              "    .dataframe tbody tr th:only-of-type {\n",
              "        vertical-align: middle;\n",
              "    }\n",
              "\n",
              "    .dataframe tbody tr th {\n",
              "        vertical-align: top;\n",
              "    }\n",
              "\n",
              "    .dataframe thead th {\n",
              "        text-align: right;\n",
              "    }\n",
              "</style>\n",
              "<table border=\"1\" class=\"dataframe\">\n",
              "  <thead>\n",
              "    <tr style=\"text-align: right;\">\n",
              "      <th></th>\n",
              "      <th>Error</th>\n",
              "      <th>True_class</th>\n",
              "    </tr>\n",
              "  </thead>\n",
              "  <tbody>\n",
              "    <tr>\n",
              "      <th>count</th>\n",
              "      <td>1.999000e+03</td>\n",
              "      <td>1999.000000</td>\n",
              "    </tr>\n",
              "    <tr>\n",
              "      <th>mean</th>\n",
              "      <td>2.437855e-05</td>\n",
              "      <td>0.013007</td>\n",
              "    </tr>\n",
              "    <tr>\n",
              "      <th>std</th>\n",
              "      <td>1.031828e-03</td>\n",
              "      <td>0.113330</td>\n",
              "    </tr>\n",
              "    <tr>\n",
              "      <th>min</th>\n",
              "      <td>1.103772e-08</td>\n",
              "      <td>0.000000</td>\n",
              "    </tr>\n",
              "    <tr>\n",
              "      <th>25%</th>\n",
              "      <td>6.072482e-08</td>\n",
              "      <td>0.000000</td>\n",
              "    </tr>\n",
              "    <tr>\n",
              "      <th>50%</th>\n",
              "      <td>9.606304e-08</td>\n",
              "      <td>0.000000</td>\n",
              "    </tr>\n",
              "    <tr>\n",
              "      <th>75%</th>\n",
              "      <td>1.111760e-07</td>\n",
              "      <td>0.000000</td>\n",
              "    </tr>\n",
              "    <tr>\n",
              "      <th>max</th>\n",
              "      <td>4.611521e-02</td>\n",
              "      <td>1.000000</td>\n",
              "    </tr>\n",
              "  </tbody>\n",
              "</table>\n",
              "</div>"
            ],
            "text/plain": [
              "              Error   True_class\n",
              "count  1.999000e+03  1999.000000\n",
              "mean   2.437855e-05     0.013007\n",
              "std    1.031828e-03     0.113330\n",
              "min    1.103772e-08     0.000000\n",
              "25%    6.072482e-08     0.000000\n",
              "50%    9.606304e-08     0.000000\n",
              "75%    1.111760e-07     0.000000\n",
              "max    4.611521e-02     1.000000"
            ]
          },
          "metadata": {},
          "execution_count": 176
        }
      ]
    },
    {
      "cell_type": "code",
      "metadata": {
        "colab": {
          "base_uri": "https://localhost:8080/"
        },
        "id": "he-aqPnIrPh_",
        "outputId": "3dd2c0a2-7374-49b6-f052-eda315e30317"
      },
      "source": [
        "df_error.info()"
      ],
      "execution_count": null,
      "outputs": [
        {
          "output_type": "stream",
          "name": "stdout",
          "text": [
            "<class 'pandas.core.frame.DataFrame'>\n",
            "Int64Index: 1999 entries, 8865 to 8128\n",
            "Data columns (total 2 columns):\n",
            " #   Column      Non-Null Count  Dtype  \n",
            "---  ------      --------------  -----  \n",
            " 0   Error       1999 non-null   float64\n",
            " 1   True_class  1999 non-null   int64  \n",
            "dtypes: float64(1), int64(1)\n",
            "memory usage: 46.9 KB\n"
          ]
        }
      ]
    },
    {
      "cell_type": "code",
      "metadata": {
        "colab": {
          "base_uri": "https://localhost:8080/",
          "height": 206
        },
        "id": "pBO5jNT0rSZ_",
        "outputId": "8a384e2f-4d61-4c13-cb4b-02ca79d7f632"
      },
      "source": [
        "df_error.head()"
      ],
      "execution_count": null,
      "outputs": [
        {
          "output_type": "execute_result",
          "data": {
            "text/html": [
              "<div>\n",
              "<style scoped>\n",
              "    .dataframe tbody tr th:only-of-type {\n",
              "        vertical-align: middle;\n",
              "    }\n",
              "\n",
              "    .dataframe tbody tr th {\n",
              "        vertical-align: top;\n",
              "    }\n",
              "\n",
              "    .dataframe thead th {\n",
              "        text-align: right;\n",
              "    }\n",
              "</style>\n",
              "<table border=\"1\" class=\"dataframe\">\n",
              "  <thead>\n",
              "    <tr style=\"text-align: right;\">\n",
              "      <th></th>\n",
              "      <th>Error</th>\n",
              "      <th>True_class</th>\n",
              "    </tr>\n",
              "  </thead>\n",
              "  <tbody>\n",
              "    <tr>\n",
              "      <th>8865</th>\n",
              "      <td>9.458260e-08</td>\n",
              "      <td>0</td>\n",
              "    </tr>\n",
              "    <tr>\n",
              "      <th>4049</th>\n",
              "      <td>2.395478e-08</td>\n",
              "      <td>0</td>\n",
              "    </tr>\n",
              "    <tr>\n",
              "      <th>11</th>\n",
              "      <td>8.668558e-08</td>\n",
              "      <td>0</td>\n",
              "    </tr>\n",
              "    <tr>\n",
              "      <th>7505</th>\n",
              "      <td>1.346877e-07</td>\n",
              "      <td>0</td>\n",
              "    </tr>\n",
              "    <tr>\n",
              "      <th>2102</th>\n",
              "      <td>7.120266e-08</td>\n",
              "      <td>0</td>\n",
              "    </tr>\n",
              "  </tbody>\n",
              "</table>\n",
              "</div>"
            ],
            "text/plain": [
              "             Error  True_class\n",
              "8865  9.458260e-08           0\n",
              "4049  2.395478e-08           0\n",
              "11    8.668558e-08           0\n",
              "7505  1.346877e-07           0\n",
              "2102  7.120266e-08           0"
            ]
          },
          "metadata": {},
          "execution_count": 178
        }
      ]
    },
    {
      "cell_type": "code",
      "metadata": {
        "colab": {
          "base_uri": "https://localhost:8080/",
          "height": 518
        },
        "id": "p8fcAtAorrkH",
        "outputId": "7f70c9b4-9875-4ce5-91ef-89304864900a"
      },
      "source": [
        "# plotting roc curve\n",
        "\n",
        "false_pos_rate , true_pos_rate, thresholds = roc_curve(df_error['True_class'], df_error['Error'])\n",
        "roc_auc = auc(false_pos_rate, true_pos_rate)\n",
        "\n",
        "plt.plot(false_pos_rate, true_pos_rate, linewidth = 3, label = 'AUC = %0.3f'% roc_auc)\n",
        "plt.plot([0,1], [0,1],linewidth = 3)\n",
        "plt.xlabel('False Positive Rate')\n",
        "plt.ylabel('True Positive Rate')\n",
        "plt.title('Receiver Operating Curve')\n",
        "\n",
        "plt.legend();"
      ],
      "execution_count": null,
      "outputs": [
        {
          "output_type": "display_data",
          "data": {
            "image/png": "[encoded data removed]",
            "text/plain": [
              "<Figure size 864x576 with 1 Axes>"
            ]
          },
          "metadata": {}
        }
      ]
    }
  ]
}