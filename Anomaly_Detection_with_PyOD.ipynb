{
  "nbformat": 4,
  "nbformat_minor": 0,
  "metadata": {
    "colab": {
      "name": "Anomaly Detection with PyOD.ipynb",
      "provenance": [],
      "collapsed_sections": [],
      "authorship_tag": "ABX9TyOPK/unJQRSVARearu01Xa7",
      "include_colab_link": true
    },
    "kernelspec": {
      "name": "python3",
      "display_name": "Python 3"
    },
    "language_info": {
      "name": "python"
    },
    "widgets": {
      "application/vnd.jupyter.widget-state+json": {
        "f2936f555ddd42879e0630a7589fdda6": {
          "model_module": "@jupyter-widgets/controls",
          "model_name": "IntProgressModel",
          "model_module_version": "1.5.0",
          "state": {
            "_view_name": "ProgressView",
            "style": "IPY_MODEL_7efce5eada95441f82f6aa5329c3e9ec",
            "_dom_classes": [],
            "description": "Processing: ",
            "_model_name": "IntProgressModel",
            "bar_style": "",
            "max": 3,
            "_view_module": "@jupyter-widgets/controls",
            "_model_module_version": "1.5.0",
            "value": 3,
            "_view_count": null,
            "_view_module_version": "1.5.0",
            "orientation": "horizontal",
            "min": 0,
            "description_tooltip": null,
            "_model_module": "@jupyter-widgets/controls",
            "layout": "IPY_MODEL_755588831fe64e24ac55bf4604ff7e1b"
          }
        },
        "7efce5eada95441f82f6aa5329c3e9ec": {
          "model_module": "@jupyter-widgets/controls",
          "model_name": "ProgressStyleModel",
          "model_module_version": "1.5.0",
          "state": {
            "_view_name": "StyleView",
            "_model_name": "ProgressStyleModel",
            "description_width": "",
            "_view_module": "@jupyter-widgets/base",
            "_model_module_version": "1.5.0",
            "_view_count": null,
            "_view_module_version": "1.2.0",
            "bar_color": null,
            "_model_module": "@jupyter-widgets/controls"
          }
        },
        "755588831fe64e24ac55bf4604ff7e1b": {
          "model_module": "@jupyter-widgets/base",
          "model_name": "LayoutModel",
          "model_module_version": "1.2.0",
          "state": {
            "_view_name": "LayoutView",
            "grid_template_rows": null,
            "right": null,
            "justify_content": null,
            "_view_module": "@jupyter-widgets/base",
            "overflow": null,
            "_model_module_version": "1.2.0",
            "_view_count": null,
            "flex_flow": null,
            "width": null,
            "min_width": null,
            "border": null,
            "align_items": null,
            "bottom": null,
            "_model_module": "@jupyter-widgets/base",
            "top": null,
            "grid_column": null,
            "overflow_y": null,
            "overflow_x": null,
            "grid_auto_flow": null,
            "grid_area": null,
            "grid_template_columns": null,
            "flex": null,
            "_model_name": "LayoutModel",
            "justify_items": null,
            "grid_row": null,
            "max_height": null,
            "align_content": null,
            "visibility": null,
            "align_self": null,
            "height": null,
            "min_height": null,
            "padding": null,
            "grid_auto_rows": null,
            "grid_gap": null,
            "max_width": null,
            "order": null,
            "_view_module_version": "1.2.0",
            "grid_template_areas": null,
            "object_position": null,
            "object_fit": null,
            "grid_auto_columns": null,
            "margin": null,
            "display": null,
            "left": null
          }
        },
        "1326bca4c0414fb0b2c2fc11b2670da0": {
          "model_module": "@jupyter-widgets/controls",
          "model_name": "TextModel",
          "model_module_version": "1.5.0",
          "state": {
            "_view_name": "TextView",
            "style": "IPY_MODEL_26343301971d4227aea20403e1f48914",
            "_dom_classes": [],
            "description": "",
            "_model_name": "TextModel",
            "placeholder": "​",
            "_view_module": "@jupyter-widgets/controls",
            "_model_module_version": "1.5.0",
            "value": "Following data types have been inferred automatically, if they are correct press enter to continue or type 'quit' otherwise.",
            "_view_count": null,
            "disabled": false,
            "_view_module_version": "1.5.0",
            "continuous_update": true,
            "description_tooltip": null,
            "_model_module": "@jupyter-widgets/controls",
            "layout": "IPY_MODEL_1ccab507c9e746848fa811adaf17a1c8"
          }
        },
        "26343301971d4227aea20403e1f48914": {
          "model_module": "@jupyter-widgets/controls",
          "model_name": "DescriptionStyleModel",
          "model_module_version": "1.5.0",
          "state": {
            "_view_name": "StyleView",
            "_model_name": "DescriptionStyleModel",
            "description_width": "",
            "_view_module": "@jupyter-widgets/base",
            "_model_module_version": "1.5.0",
            "_view_count": null,
            "_view_module_version": "1.2.0",
            "_model_module": "@jupyter-widgets/controls"
          }
        },
        "1ccab507c9e746848fa811adaf17a1c8": {
          "model_module": "@jupyter-widgets/base",
          "model_name": "LayoutModel",
          "model_module_version": "1.2.0",
          "state": {
            "_view_name": "LayoutView",
            "grid_template_rows": null,
            "right": null,
            "justify_content": null,
            "_view_module": "@jupyter-widgets/base",
            "overflow": null,
            "_model_module_version": "1.2.0",
            "_view_count": null,
            "flex_flow": null,
            "width": "100%",
            "min_width": null,
            "border": null,
            "align_items": null,
            "bottom": null,
            "_model_module": "@jupyter-widgets/base",
            "top": null,
            "grid_column": null,
            "overflow_y": null,
            "overflow_x": null,
            "grid_auto_flow": null,
            "grid_area": null,
            "grid_template_columns": null,
            "flex": null,
            "_model_name": "LayoutModel",
            "justify_items": null,
            "grid_row": null,
            "max_height": null,
            "align_content": null,
            "visibility": null,
            "align_self": null,
            "height": null,
            "min_height": null,
            "padding": null,
            "grid_auto_rows": null,
            "grid_gap": null,
            "max_width": null,
            "order": null,
            "_view_module_version": "1.2.0",
            "grid_template_areas": null,
            "object_position": null,
            "object_fit": null,
            "grid_auto_columns": null,
            "margin": null,
            "display": null,
            "left": null
          }
        },
        "0678742ba5b641ff966a533d8d34e8da": {
          "model_module": "@jupyter-widgets/controls",
          "model_name": "IntProgressModel",
          "model_module_version": "1.5.0",
          "state": {
            "_view_name": "ProgressView",
            "style": "IPY_MODEL_1f97908b273b46b6b0c5782121c492fe",
            "_dom_classes": [],
            "description": "Processing: ",
            "_model_name": "IntProgressModel",
            "bar_style": "",
            "max": 4,
            "_view_module": "@jupyter-widgets/controls",
            "_model_module_version": "1.5.0",
            "value": 4,
            "_view_count": null,
            "_view_module_version": "1.5.0",
            "orientation": "horizontal",
            "min": 0,
            "description_tooltip": null,
            "_model_module": "@jupyter-widgets/controls",
            "layout": "IPY_MODEL_839ea25e80fa414697f630c7fb2069d3"
          }
        },
        "1f97908b273b46b6b0c5782121c492fe": {
          "model_module": "@jupyter-widgets/controls",
          "model_name": "ProgressStyleModel",
          "model_module_version": "1.5.0",
          "state": {
            "_view_name": "StyleView",
            "_model_name": "ProgressStyleModel",
            "description_width": "",
            "_view_module": "@jupyter-widgets/base",
            "_model_module_version": "1.5.0",
            "_view_count": null,
            "_view_module_version": "1.2.0",
            "bar_color": null,
            "_model_module": "@jupyter-widgets/controls"
          }
        },
        "839ea25e80fa414697f630c7fb2069d3": {
          "model_module": "@jupyter-widgets/base",
          "model_name": "LayoutModel",
          "model_module_version": "1.2.0",
          "state": {
            "_view_name": "LayoutView",
            "grid_template_rows": null,
            "right": null,
            "justify_content": null,
            "_view_module": "@jupyter-widgets/base",
            "overflow": null,
            "_model_module_version": "1.2.0",
            "_view_count": null,
            "flex_flow": null,
            "width": null,
            "min_width": null,
            "border": null,
            "align_items": null,
            "bottom": null,
            "_model_module": "@jupyter-widgets/base",
            "top": null,
            "grid_column": null,
            "overflow_y": null,
            "overflow_x": null,
            "grid_auto_flow": null,
            "grid_area": null,
            "grid_template_columns": null,
            "flex": null,
            "_model_name": "LayoutModel",
            "justify_items": null,
            "grid_row": null,
            "max_height": null,
            "align_content": null,
            "visibility": null,
            "align_self": null,
            "height": null,
            "min_height": null,
            "padding": null,
            "grid_auto_rows": null,
            "grid_gap": null,
            "max_width": null,
            "order": null,
            "_view_module_version": "1.2.0",
            "grid_template_areas": null,
            "object_position": null,
            "object_fit": null,
            "grid_auto_columns": null,
            "margin": null,
            "display": null,
            "left": null
          }
        },
        "ee1b125dc3674d44be3ee9889ea609d0": {
          "model_module": "@jupyter-widgets/controls",
          "model_name": "VBoxModel",
          "model_module_version": "1.5.0",
          "state": {
            "_view_name": "VBoxView",
            "_dom_classes": [
              "widget-interact"
            ],
            "_model_name": "VBoxModel",
            "_view_module": "@jupyter-widgets/controls",
            "_model_module_version": "1.5.0",
            "_view_count": null,
            "_view_module_version": "1.5.0",
            "box_style": "",
            "layout": "IPY_MODEL_c64bdb4310ca40ddbe9d12ef8fef4a1c",
            "_model_module": "@jupyter-widgets/controls",
            "children": [
              "IPY_MODEL_30780373eed94e91ba26b35332269b40",
              "IPY_MODEL_3463846c9ec841e4886f843306f8f3c8"
            ]
          }
        },
        "c64bdb4310ca40ddbe9d12ef8fef4a1c": {
          "model_module": "@jupyter-widgets/base",
          "model_name": "LayoutModel",
          "model_module_version": "1.2.0",
          "state": {
            "_view_name": "LayoutView",
            "grid_template_rows": null,
            "right": null,
            "justify_content": null,
            "_view_module": "@jupyter-widgets/base",
            "overflow": null,
            "_model_module_version": "1.2.0",
            "_view_count": null,
            "flex_flow": null,
            "width": null,
            "min_width": null,
            "border": null,
            "align_items": null,
            "bottom": null,
            "_model_module": "@jupyter-widgets/base",
            "top": null,
            "grid_column": null,
            "overflow_y": null,
            "overflow_x": null,
            "grid_auto_flow": null,
            "grid_area": null,
            "grid_template_columns": null,
            "flex": null,
            "_model_name": "LayoutModel",
            "justify_items": null,
            "grid_row": null,
            "max_height": null,
            "align_content": null,
            "visibility": null,
            "align_self": null,
            "height": null,
            "min_height": null,
            "padding": null,
            "grid_auto_rows": null,
            "grid_gap": null,
            "max_width": null,
            "order": null,
            "_view_module_version": "1.2.0",
            "grid_template_areas": null,
            "object_position": null,
            "object_fit": null,
            "grid_auto_columns": null,
            "margin": null,
            "display": null,
            "left": null
          }
        },
        "30780373eed94e91ba26b35332269b40": {
          "model_module": "@jupyter-widgets/controls",
          "model_name": "ToggleButtonsModel",
          "model_module_version": "1.5.0",
          "state": {
            "_options_labels": [
              "Hyperparameters",
              "AUC",
              "Confusion Matrix",
              "Threshold",
              "Precision Recall",
              "Prediction Error",
              "Class Report",
              "Feature Selection",
              "Learning Curve",
              "Manifold Learning",
              "Calibration Curve",
              "Validation Curve",
              "Dimensions",
              "Feature Importance",
              "Feature Importance (All)",
              "Decision Boundary",
              "Lift Chart",
              "Gain Chart",
              "Decision Tree",
              "KS Statistic Plot"
            ],
            "_view_name": "ToggleButtonsView",
            "style": "IPY_MODEL_48470d9d3d3e4bf285240c8a657e09ee",
            "_dom_classes": [],
            "description": "Plot Type:",
            "_model_name": "ToggleButtonsModel",
            "tooltips": [],
            "index": 2,
            "button_style": "",
            "_view_module": "@jupyter-widgets/controls",
            "_model_module_version": "1.5.0",
            "_view_count": null,
            "disabled": false,
            "_view_module_version": "1.5.0",
            "icons": [
              ""
            ],
            "description_tooltip": null,
            "_model_module": "@jupyter-widgets/controls",
            "layout": "IPY_MODEL_0493cb9d330343a79dc7575cf036d4de"
          }
        },
        "3463846c9ec841e4886f843306f8f3c8": {
          "model_module": "@jupyter-widgets/output",
          "model_name": "OutputModel",
          "model_module_version": "1.0.0",
          "state": {
            "_view_name": "OutputView",
            "msg_id": "",
            "_dom_classes": [],
            "_model_name": "OutputModel",
            "outputs": [
              {
                "output_type": "display_data",
                "data": {
                  "image/png": "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\n",
                  "text/plain": "<Figure size 576x396 with 1 Axes>"
                },
                "metadata": {}
              }
            ],
            "_view_module": "@jupyter-widgets/output",
            "_model_module_version": "1.0.0",
            "_view_count": null,
            "_view_module_version": "1.0.0",
            "layout": "IPY_MODEL_835651a0b76f4fe8b1e2d93e64cd6a40",
            "_model_module": "@jupyter-widgets/output"
          }
        },
        "48470d9d3d3e4bf285240c8a657e09ee": {
          "model_module": "@jupyter-widgets/controls",
          "model_name": "ToggleButtonsStyleModel",
          "model_module_version": "1.5.0",
          "state": {
            "_view_name": "StyleView",
            "button_width": "",
            "_model_name": "ToggleButtonsStyleModel",
            "description_width": "",
            "_view_module": "@jupyter-widgets/base",
            "_model_module_version": "1.5.0",
            "_view_count": null,
            "font_weight": "",
            "_view_module_version": "1.2.0",
            "_model_module": "@jupyter-widgets/controls"
          }
        },
        "0493cb9d330343a79dc7575cf036d4de": {
          "model_module": "@jupyter-widgets/base",
          "model_name": "LayoutModel",
          "model_module_version": "1.2.0",
          "state": {
            "_view_name": "LayoutView",
            "grid_template_rows": null,
            "right": null,
            "justify_content": null,
            "_view_module": "@jupyter-widgets/base",
            "overflow": null,
            "_model_module_version": "1.2.0",
            "_view_count": null,
            "flex_flow": null,
            "width": null,
            "min_width": null,
            "border": null,
            "align_items": null,
            "bottom": null,
            "_model_module": "@jupyter-widgets/base",
            "top": null,
            "grid_column": null,
            "overflow_y": null,
            "overflow_x": null,
            "grid_auto_flow": null,
            "grid_area": null,
            "grid_template_columns": null,
            "flex": null,
            "_model_name": "LayoutModel",
            "justify_items": null,
            "grid_row": null,
            "max_height": null,
            "align_content": null,
            "visibility": null,
            "align_self": null,
            "height": null,
            "min_height": null,
            "padding": null,
            "grid_auto_rows": null,
            "grid_gap": null,
            "max_width": null,
            "order": null,
            "_view_module_version": "1.2.0",
            "grid_template_areas": null,
            "object_position": null,
            "object_fit": null,
            "grid_auto_columns": null,
            "margin": null,
            "display": null,
            "left": null
          }
        },
        "835651a0b76f4fe8b1e2d93e64cd6a40": {
          "model_module": "@jupyter-widgets/base",
          "model_name": "LayoutModel",
          "model_module_version": "1.2.0",
          "state": {
            "_view_name": "LayoutView",
            "grid_template_rows": null,
            "right": null,
            "justify_content": null,
            "_view_module": "@jupyter-widgets/base",
            "overflow": null,
            "_model_module_version": "1.2.0",
            "_view_count": null,
            "flex_flow": null,
            "width": null,
            "min_width": null,
            "border": null,
            "align_items": null,
            "bottom": null,
            "_model_module": "@jupyter-widgets/base",
            "top": null,
            "grid_column": null,
            "overflow_y": null,
            "overflow_x": null,
            "grid_auto_flow": null,
            "grid_area": null,
            "grid_template_columns": null,
            "flex": null,
            "_model_name": "LayoutModel",
            "justify_items": null,
            "grid_row": null,
            "max_height": null,
            "align_content": null,
            "visibility": null,
            "align_self": null,
            "height": null,
            "min_height": null,
            "padding": null,
            "grid_auto_rows": null,
            "grid_gap": null,
            "max_width": null,
            "order": null,
            "_view_module_version": "1.2.0",
            "grid_template_areas": null,
            "object_position": null,
            "object_fit": null,
            "grid_auto_columns": null,
            "margin": null,
            "display": null,
            "left": null
          }
        },
        "346a7e52f80b4c3286db1f4104120f04": {
          "model_module": "@jupyter-widgets/controls",
          "model_name": "IntProgressModel",
          "model_module_version": "1.5.0",
          "state": {
            "_view_name": "ProgressView",
            "style": "IPY_MODEL_78964c3575334153bb3c754597867482",
            "_dom_classes": [],
            "description": "Processing: ",
            "_model_name": "IntProgressModel",
            "bar_style": "",
            "max": 5,
            "_view_module": "@jupyter-widgets/controls",
            "_model_module_version": "1.5.0",
            "value": 3,
            "_view_count": null,
            "_view_module_version": "1.5.0",
            "orientation": "horizontal",
            "min": 0,
            "description_tooltip": null,
            "_model_module": "@jupyter-widgets/controls",
            "layout": "IPY_MODEL_1a2bb6684c044b8089ddd8162241a150"
          }
        },
        "78964c3575334153bb3c754597867482": {
          "model_module": "@jupyter-widgets/controls",
          "model_name": "ProgressStyleModel",
          "model_module_version": "1.5.0",
          "state": {
            "_view_name": "StyleView",
            "_model_name": "ProgressStyleModel",
            "description_width": "",
            "_view_module": "@jupyter-widgets/base",
            "_model_module_version": "1.5.0",
            "_view_count": null,
            "_view_module_version": "1.2.0",
            "bar_color": null,
            "_model_module": "@jupyter-widgets/controls"
          }
        },
        "1a2bb6684c044b8089ddd8162241a150": {
          "model_module": "@jupyter-widgets/base",
          "model_name": "LayoutModel",
          "model_module_version": "1.2.0",
          "state": {
            "_view_name": "LayoutView",
            "grid_template_rows": null,
            "right": null,
            "justify_content": null,
            "_view_module": "@jupyter-widgets/base",
            "overflow": null,
            "_model_module_version": "1.2.0",
            "_view_count": null,
            "flex_flow": null,
            "width": null,
            "min_width": null,
            "border": null,
            "align_items": null,
            "bottom": null,
            "_model_module": "@jupyter-widgets/base",
            "top": null,
            "grid_column": null,
            "overflow_y": null,
            "overflow_x": null,
            "grid_auto_flow": null,
            "grid_area": null,
            "grid_template_columns": null,
            "flex": null,
            "_model_name": "LayoutModel",
            "justify_items": null,
            "grid_row": null,
            "max_height": null,
            "align_content": null,
            "visibility": null,
            "align_self": null,
            "height": null,
            "min_height": null,
            "padding": null,
            "grid_auto_rows": null,
            "grid_gap": null,
            "max_width": null,
            "order": null,
            "_view_module_version": "1.2.0",
            "grid_template_areas": null,
            "object_position": null,
            "object_fit": null,
            "grid_auto_columns": null,
            "margin": null,
            "display": null,
            "left": null
          }
        },
        "f2a9fe03a3cf4973b219f7aa8f928a43": {
          "model_module": "@jupyter-widgets/controls",
          "model_name": "IntProgressModel",
          "model_module_version": "1.5.0",
          "state": {
            "_view_name": "ProgressView",
            "style": "IPY_MODEL_57c452ea02d9417fb66bbb14bd909d39",
            "_dom_classes": [],
            "description": "Processing: ",
            "_model_name": "IntProgressModel",
            "bar_style": "",
            "max": 5,
            "_view_module": "@jupyter-widgets/controls",
            "_model_module_version": "1.5.0",
            "value": 5,
            "_view_count": null,
            "_view_module_version": "1.5.0",
            "orientation": "horizontal",
            "min": 0,
            "description_tooltip": null,
            "_model_module": "@jupyter-widgets/controls",
            "layout": "IPY_MODEL_f90ebd41e3124af69377a5650cf1738f"
          }
        },
        "57c452ea02d9417fb66bbb14bd909d39": {
          "model_module": "@jupyter-widgets/controls",
          "model_name": "ProgressStyleModel",
          "model_module_version": "1.5.0",
          "state": {
            "_view_name": "StyleView",
            "_model_name": "ProgressStyleModel",
            "description_width": "",
            "_view_module": "@jupyter-widgets/base",
            "_model_module_version": "1.5.0",
            "_view_count": null,
            "_view_module_version": "1.2.0",
            "bar_color": null,
            "_model_module": "@jupyter-widgets/controls"
          }
        },
        "f90ebd41e3124af69377a5650cf1738f": {
          "model_module": "@jupyter-widgets/base",
          "model_name": "LayoutModel",
          "model_module_version": "1.2.0",
          "state": {
            "_view_name": "LayoutView",
            "grid_template_rows": null,
            "right": null,
            "justify_content": null,
            "_view_module": "@jupyter-widgets/base",
            "overflow": null,
            "_model_module_version": "1.2.0",
            "_view_count": null,
            "flex_flow": null,
            "width": null,
            "min_width": null,
            "border": null,
            "align_items": null,
            "bottom": null,
            "_model_module": "@jupyter-widgets/base",
            "top": null,
            "grid_column": null,
            "overflow_y": null,
            "overflow_x": null,
            "grid_auto_flow": null,
            "grid_area": null,
            "grid_template_columns": null,
            "flex": null,
            "_model_name": "LayoutModel",
            "justify_items": null,
            "grid_row": null,
            "max_height": null,
            "align_content": null,
            "visibility": null,
            "align_self": null,
            "height": null,
            "min_height": null,
            "padding": null,
            "grid_auto_rows": null,
            "grid_gap": null,
            "max_width": null,
            "order": null,
            "_view_module_version": "1.2.0",
            "grid_template_areas": null,
            "object_position": null,
            "object_fit": null,
            "grid_auto_columns": null,
            "margin": null,
            "display": null,
            "left": null
          }
        },
        "bc71e7889c154ee58dfa08e8ac864dd6": {
          "model_module": "@jupyter-widgets/controls",
          "model_name": "IntProgressModel",
          "model_module_version": "1.5.0",
          "state": {
            "_view_name": "ProgressView",
            "style": "IPY_MODEL_7b8023a82446448ba05fbab3ba0b1e81",
            "_dom_classes": [],
            "description": "Processing: ",
            "_model_name": "IntProgressModel",
            "bar_style": "",
            "max": 5,
            "_view_module": "@jupyter-widgets/controls",
            "_model_module_version": "1.5.0",
            "value": 5,
            "_view_count": null,
            "_view_module_version": "1.5.0",
            "orientation": "horizontal",
            "min": 0,
            "description_tooltip": null,
            "_model_module": "@jupyter-widgets/controls",
            "layout": "IPY_MODEL_ee5e24cac3634766be59227915fd97ce"
          }
        },
        "7b8023a82446448ba05fbab3ba0b1e81": {
          "model_module": "@jupyter-widgets/controls",
          "model_name": "ProgressStyleModel",
          "model_module_version": "1.5.0",
          "state": {
            "_view_name": "StyleView",
            "_model_name": "ProgressStyleModel",
            "description_width": "",
            "_view_module": "@jupyter-widgets/base",
            "_model_module_version": "1.5.0",
            "_view_count": null,
            "_view_module_version": "1.2.0",
            "bar_color": null,
            "_model_module": "@jupyter-widgets/controls"
          }
        },
        "ee5e24cac3634766be59227915fd97ce": {
          "model_module": "@jupyter-widgets/base",
          "model_name": "LayoutModel",
          "model_module_version": "1.2.0",
          "state": {
            "_view_name": "LayoutView",
            "grid_template_rows": null,
            "right": null,
            "justify_content": null,
            "_view_module": "@jupyter-widgets/base",
            "overflow": null,
            "_model_module_version": "1.2.0",
            "_view_count": null,
            "flex_flow": null,
            "width": null,
            "min_width": null,
            "border": null,
            "align_items": null,
            "bottom": null,
            "_model_module": "@jupyter-widgets/base",
            "top": null,
            "grid_column": null,
            "overflow_y": null,
            "overflow_x": null,
            "grid_auto_flow": null,
            "grid_area": null,
            "grid_template_columns": null,
            "flex": null,
            "_model_name": "LayoutModel",
            "justify_items": null,
            "grid_row": null,
            "max_height": null,
            "align_content": null,
            "visibility": null,
            "align_self": null,
            "height": null,
            "min_height": null,
            "padding": null,
            "grid_auto_rows": null,
            "grid_gap": null,
            "max_width": null,
            "order": null,
            "_view_module_version": "1.2.0",
            "grid_template_areas": null,
            "object_position": null,
            "object_fit": null,
            "grid_auto_columns": null,
            "margin": null,
            "display": null,
            "left": null
          }
        }
      }
    },
    "accelerator": "GPU"
  },
  "cells": [
    {
      "cell_type": "markdown",
      "metadata": {
        "id": "view-in-github",
        "colab_type": "text"
      },
      "source": [
        "<a href=\"https://colab.research.google.com/github/myconcordia/A2I2/blob/main/Anomaly_Detection_with_PyOD.ipynb\" target=\"_parent\"><img src=\"https://colab.research.google.com/assets/colab-badge.svg\" alt=\"Open In Colab\"/></a>"
      ]
    },
    {
      "cell_type": "markdown",
      "metadata": {
        "id": "HTHTUdomQiVs"
      },
      "source": [
        "#**Anomaly Detection with PyOD**"
      ]
    },
    {
      "cell_type": "markdown",
      "metadata": {
        "id": "JnPOb8gTPv1z"
      },
      "source": [
        "**Installing PyOD**\n",
        "\n",
        "PyOD is a comprehensive and scalable Python toolkit for detecting outlying objects in multivariate data. "
      ]
    },
    {
      "cell_type": "code",
      "metadata": {
        "id": "7VQCplo2PUdi"
      },
      "source": [
        "!pip3 install pyod"
      ],
      "execution_count": null,
      "outputs": []
    },
    {
      "cell_type": "markdown",
      "metadata": {
        "id": "ZHiyy5Ubf5I1"
      },
      "source": [
        "**Import Libraries**"
      ]
    },
    {
      "cell_type": "code",
      "metadata": {
        "id": "4N37Pegcf4ft"
      },
      "source": [
        "from sklearn.preprocessing import StandardScaler\n",
        "from sklearn.preprocessing import MinMaxScaler\n",
        "import numpy as np\n",
        "from numpy import percentile\n",
        "import matplotlib\n",
        "from scipy import stats\n",
        "import matplotlib.pyplot as plt\n",
        "import seaborn as sns\n",
        "sns.set_theme(style=\"darkgrid\")\n",
        "import pandas as pd\n",
        "plt.rcParams['figure.figsize'] = (12,8)\n",
        "\n",
        "from sklearn.metrics import confusion_matrix, precision_recall_curve, recall_score\n",
        "from sklearn.metrics import classification_report, auc, roc_curve, f1_score \n",
        "\n",
        "from pyod.models.abod import ABOD\n",
        "from pyod.models.cblof import CBLOF\n",
        "from pyod.models.hbos import HBOS\n",
        "from pyod.models.iforest import IForest\n",
        "from pyod.models.knn import KNN\n",
        "from pyod.models.lof import LOF"
      ],
      "execution_count": 106,
      "outputs": []
    },
    {
      "cell_type": "markdown",
      "metadata": {
        "id": "jNo8n9cvP9or"
      },
      "source": [
        "**Dataset**\n",
        "\n",
        "This is simple data set of US superstore from 2014-2018."
      ]
    },
    {
      "cell_type": "code",
      "metadata": {
        "colab": {
          "base_uri": "https://localhost:8080/",
          "height": 556
        },
        "id": "8aN7mI-2e7z1",
        "outputId": "4f8670df-0407-435e-c113-0325d2faf781"
      },
      "source": [
        "#read cvs file into dataframe\n",
        "df = pd.read_csv('https://raw.githubusercontent.com/myconcordia/A2I2/main/Superstore.csv')\n",
        "df.head()"
      ],
      "execution_count": 33,
      "outputs": [
        {
          "output_type": "execute_result",
          "data": {
            "text/html": [
              "<div>\n",
              "<style scoped>\n",
              "    .dataframe tbody tr th:only-of-type {\n",
              "        vertical-align: middle;\n",
              "    }\n",
              "\n",
              "    .dataframe tbody tr th {\n",
              "        vertical-align: top;\n",
              "    }\n",
              "\n",
              "    .dataframe thead th {\n",
              "        text-align: right;\n",
              "    }\n",
              "</style>\n",
              "<table border=\"1\" class=\"dataframe\">\n",
              "  <thead>\n",
              "    <tr style=\"text-align: right;\">\n",
              "      <th></th>\n",
              "      <th>Row ID</th>\n",
              "      <th>Order ID</th>\n",
              "      <th>Order Date</th>\n",
              "      <th>Ship Date</th>\n",
              "      <th>Ship Mode</th>\n",
              "      <th>Customer ID</th>\n",
              "      <th>Customer Name</th>\n",
              "      <th>Segment</th>\n",
              "      <th>Country</th>\n",
              "      <th>City</th>\n",
              "      <th>State</th>\n",
              "      <th>Postal Code</th>\n",
              "      <th>Region</th>\n",
              "      <th>Product ID</th>\n",
              "      <th>Category</th>\n",
              "      <th>Sub-Category</th>\n",
              "      <th>Product Name</th>\n",
              "      <th>Sales</th>\n",
              "      <th>Quantity</th>\n",
              "      <th>Discount</th>\n",
              "      <th>Profit</th>\n",
              "    </tr>\n",
              "  </thead>\n",
              "  <tbody>\n",
              "    <tr>\n",
              "      <th>0</th>\n",
              "      <td>1</td>\n",
              "      <td>CA-2016-152156</td>\n",
              "      <td>2016-11-08</td>\n",
              "      <td>2016-11-11</td>\n",
              "      <td>Second Class</td>\n",
              "      <td>CG-12520</td>\n",
              "      <td>Claire Gute</td>\n",
              "      <td>Consumer</td>\n",
              "      <td>United States</td>\n",
              "      <td>Henderson</td>\n",
              "      <td>Kentucky</td>\n",
              "      <td>42420</td>\n",
              "      <td>South</td>\n",
              "      <td>FUR-BO-10001798</td>\n",
              "      <td>Furniture</td>\n",
              "      <td>Bookcases</td>\n",
              "      <td>Bush Somerset Collection Bookcase</td>\n",
              "      <td>261.9600</td>\n",
              "      <td>2</td>\n",
              "      <td>0.00</td>\n",
              "      <td>41.9136</td>\n",
              "    </tr>\n",
              "    <tr>\n",
              "      <th>1</th>\n",
              "      <td>2</td>\n",
              "      <td>CA-2016-152156</td>\n",
              "      <td>2016-11-08</td>\n",
              "      <td>2016-11-11</td>\n",
              "      <td>Second Class</td>\n",
              "      <td>CG-12520</td>\n",
              "      <td>Claire Gute</td>\n",
              "      <td>Consumer</td>\n",
              "      <td>United States</td>\n",
              "      <td>Henderson</td>\n",
              "      <td>Kentucky</td>\n",
              "      <td>42420</td>\n",
              "      <td>South</td>\n",
              "      <td>FUR-CH-10000454</td>\n",
              "      <td>Furniture</td>\n",
              "      <td>Chairs</td>\n",
              "      <td>Hon Deluxe Fabric Upholstered Stacking Chairs,...</td>\n",
              "      <td>731.9400</td>\n",
              "      <td>3</td>\n",
              "      <td>0.00</td>\n",
              "      <td>219.5820</td>\n",
              "    </tr>\n",
              "    <tr>\n",
              "      <th>2</th>\n",
              "      <td>3</td>\n",
              "      <td>CA-2016-138688</td>\n",
              "      <td>2016-06-12</td>\n",
              "      <td>2016-06-16</td>\n",
              "      <td>Second Class</td>\n",
              "      <td>DV-13045</td>\n",
              "      <td>Darrin Van Huff</td>\n",
              "      <td>Corporate</td>\n",
              "      <td>United States</td>\n",
              "      <td>Los Angeles</td>\n",
              "      <td>California</td>\n",
              "      <td>90036</td>\n",
              "      <td>West</td>\n",
              "      <td>OFF-LA-10000240</td>\n",
              "      <td>Office Supplies</td>\n",
              "      <td>Labels</td>\n",
              "      <td>Self-Adhesive Address Labels for Typewriters b...</td>\n",
              "      <td>14.6200</td>\n",
              "      <td>2</td>\n",
              "      <td>0.00</td>\n",
              "      <td>6.8714</td>\n",
              "    </tr>\n",
              "    <tr>\n",
              "      <th>3</th>\n",
              "      <td>4</td>\n",
              "      <td>US-2015-108966</td>\n",
              "      <td>2015-10-11</td>\n",
              "      <td>2015-10-18</td>\n",
              "      <td>Standard Class</td>\n",
              "      <td>SO-20335</td>\n",
              "      <td>Sean O'Donnell</td>\n",
              "      <td>Consumer</td>\n",
              "      <td>United States</td>\n",
              "      <td>Fort Lauderdale</td>\n",
              "      <td>Florida</td>\n",
              "      <td>33311</td>\n",
              "      <td>South</td>\n",
              "      <td>FUR-TA-10000577</td>\n",
              "      <td>Furniture</td>\n",
              "      <td>Tables</td>\n",
              "      <td>Bretford CR4500 Series Slim Rectangular Table</td>\n",
              "      <td>957.5775</td>\n",
              "      <td>5</td>\n",
              "      <td>0.45</td>\n",
              "      <td>-383.0310</td>\n",
              "    </tr>\n",
              "    <tr>\n",
              "      <th>4</th>\n",
              "      <td>5</td>\n",
              "      <td>US-2015-108966</td>\n",
              "      <td>2015-10-11</td>\n",
              "      <td>2015-10-18</td>\n",
              "      <td>Standard Class</td>\n",
              "      <td>SO-20335</td>\n",
              "      <td>Sean O'Donnell</td>\n",
              "      <td>Consumer</td>\n",
              "      <td>United States</td>\n",
              "      <td>Fort Lauderdale</td>\n",
              "      <td>Florida</td>\n",
              "      <td>33311</td>\n",
              "      <td>South</td>\n",
              "      <td>OFF-ST-10000760</td>\n",
              "      <td>Office Supplies</td>\n",
              "      <td>Storage</td>\n",
              "      <td>Eldon Fold 'N Roll Cart System</td>\n",
              "      <td>22.3680</td>\n",
              "      <td>2</td>\n",
              "      <td>0.20</td>\n",
              "      <td>2.5164</td>\n",
              "    </tr>\n",
              "  </tbody>\n",
              "</table>\n",
              "</div>"
            ],
            "text/plain": [
              "   Row ID        Order ID  Order Date  ... Quantity Discount    Profit\n",
              "0       1  CA-2016-152156  2016-11-08  ...        2     0.00   41.9136\n",
              "1       2  CA-2016-152156  2016-11-08  ...        3     0.00  219.5820\n",
              "2       3  CA-2016-138688  2016-06-12  ...        2     0.00    6.8714\n",
              "3       4  US-2015-108966  2015-10-11  ...        5     0.45 -383.0310\n",
              "4       5  US-2015-108966  2015-10-11  ...        2     0.20    2.5164\n",
              "\n",
              "[5 rows x 21 columns]"
            ]
          },
          "metadata": {},
          "execution_count": 33
        }
      ]
    },
    {
      "cell_type": "code",
      "metadata": {
        "colab": {
          "base_uri": "https://localhost:8080/"
        },
        "id": "6OYopyWLgJs0",
        "outputId": "04b32a18-38de-4be8-ae9b-36d4ff25a50a"
      },
      "source": [
        "df.info()"
      ],
      "execution_count": 34,
      "outputs": [
        {
          "output_type": "stream",
          "name": "stdout",
          "text": [
            "<class 'pandas.core.frame.DataFrame'>\n",
            "RangeIndex: 9994 entries, 0 to 9993\n",
            "Data columns (total 21 columns):\n",
            " #   Column         Non-Null Count  Dtype  \n",
            "---  ------         --------------  -----  \n",
            " 0   Row ID         9994 non-null   int64  \n",
            " 1   Order ID       9994 non-null   object \n",
            " 2   Order Date     9994 non-null   object \n",
            " 3   Ship Date      9994 non-null   object \n",
            " 4   Ship Mode      9994 non-null   object \n",
            " 5   Customer ID    9994 non-null   object \n",
            " 6   Customer Name  9994 non-null   object \n",
            " 7   Segment        9994 non-null   object \n",
            " 8   Country        9994 non-null   object \n",
            " 9   City           9994 non-null   object \n",
            " 10  State          9994 non-null   object \n",
            " 11  Postal Code    9994 non-null   int64  \n",
            " 12  Region         9994 non-null   object \n",
            " 13  Product ID     9994 non-null   object \n",
            " 14  Category       9994 non-null   object \n",
            " 15  Sub-Category   9994 non-null   object \n",
            " 16  Product Name   9994 non-null   object \n",
            " 17  Sales          9994 non-null   float64\n",
            " 18  Quantity       9994 non-null   int64  \n",
            " 19  Discount       9994 non-null   float64\n",
            " 20  Profit         9994 non-null   float64\n",
            "dtypes: float64(3), int64(3), object(15)\n",
            "memory usage: 1.6+ MB\n"
          ]
        }
      ]
    },
    {
      "cell_type": "code",
      "metadata": {
        "colab": {
          "base_uri": "https://localhost:8080/",
          "height": 483
        },
        "id": "vTss3iAWhKMl",
        "outputId": "2365b2d3-d629-407d-faee-65337bda086b"
      },
      "source": [
        "# Pie Chart for Sub-Category\n",
        "\n",
        "plt.figure.figsize = (20,20)\n",
        "sub_cat_val = df.groupby('Sub-Category')['Sales'].sum()\n",
        "\n",
        "sub_cat_val.plot(kind = 'pie', autopct='%1.1f%%', label = 'sub_cat_val.index' )"
      ],
      "execution_count": 35,
      "outputs": [
        {
          "output_type": "execute_result",
          "data": {
            "text/plain": [
              "<matplotlib.axes._subplots.AxesSubplot at 0x7efd857f8790>"
            ]
          },
          "metadata": {},
          "execution_count": 35
        },
        {
          "output_type": "display_data",
          "data": {
            "image/png": "[encoded data removed]",
            "text/plain": [
              "<Figure size 864x576 with 1 Axes>"
            ]
          },
          "metadata": {}
        }
      ]
    },
    {
      "cell_type": "code",
      "metadata": {
        "colab": {
          "base_uri": "https://localhost:8080/",
          "height": 611
        },
        "id": "yE8XrZErhb9e",
        "outputId": "fda26859-d7c2-4d81-81f0-d92af9c077be"
      },
      "source": [
        "# group by Sub-Category\n",
        "df.groupby('Sub-Category')['Sales', 'Profit'].sum().plot.bar();"
      ],
      "execution_count": 36,
      "outputs": [
        {
          "output_type": "stream",
          "name": "stderr",
          "text": [
            "/usr/local/lib/python3.7/dist-packages/ipykernel_launcher.py:2: FutureWarning: Indexing with multiple keys (implicitly converted to a tuple of keys) will be deprecated, use a list instead.\n",
            "  \n"
          ]
        },
        {
          "output_type": "display_data",
          "data": {
            "image/png": "[encoded data removed]",
            "text/plain": [
              "<Figure size 864x576 with 1 Axes>"
            ]
          },
          "metadata": {}
        }
      ]
    },
    {
      "cell_type": "code",
      "metadata": {
        "colab": {
          "base_uri": "https://localhost:8080/",
          "height": 518
        },
        "id": "zqbid_07h9Yf",
        "outputId": "20c06e6b-3b1b-4640-f57a-94881bca2994"
      },
      "source": [
        "# lets check Sales\n",
        "sales_sorted = np.sort(df['Sales'].values)\n",
        "\n",
        "plt.scatter(range(df.shape[0]), sales_sorted)\n",
        "plt.xlabel('Index')\n",
        "plt.ylabel('Sales')\n",
        "plt.title('Sales distribution');"
      ],
      "execution_count": 37,
      "outputs": [
        {
          "output_type": "display_data",
          "data": {
            "image/png": "[encoded data removed]",
            "text/plain": [
              "<Figure size 864x576 with 1 Axes>"
            ]
          },
          "metadata": {}
        }
      ]
    },
    {
      "cell_type": "code",
      "metadata": {
        "colab": {
          "base_uri": "https://localhost:8080/",
          "height": 572
        },
        "id": "kExddAIBiDpe",
        "outputId": "f7faca9c-48ea-40e6-c496-7598ba76995b"
      },
      "source": [
        "#histogram\n",
        "sns.distplot(df['Sales'])\n",
        "plt.title('Sales distribution');"
      ],
      "execution_count": 38,
      "outputs": [
        {
          "output_type": "stream",
          "name": "stderr",
          "text": [
            "/usr/local/lib/python3.7/dist-packages/seaborn/distributions.py:2619: FutureWarning: `distplot` is a deprecated function and will be removed in a future version. Please adapt your code to use either `displot` (a figure-level function with similar flexibility) or `histplot` (an axes-level function for histograms).\n",
            "  warnings.warn(msg, FutureWarning)\n"
          ]
        },
        {
          "output_type": "display_data",
          "data": {
            "image/png": "[encoded data removed]",
            "text/plain": [
              "<Figure size 864x576 with 1 Axes>"
            ]
          },
          "metadata": {}
        }
      ]
    },
    {
      "cell_type": "markdown",
      "metadata": {
        "id": "wQX80ehEiHTO"
      },
      "source": [
        "**Observations:**\n",
        "\n",
        "(1) Any Sales more than 10000 should be considered as outlier.\n",
        "\n",
        "(2) Phones generate the maximum revenew but copier bring more profit."
      ]
    },
    {
      "cell_type": "code",
      "metadata": {
        "colab": {
          "base_uri": "https://localhost:8080/"
        },
        "id": "v0cdTuIGiRze",
        "outputId": "fd0b957e-d572-4ee9-e51a-6717ac265679"
      },
      "source": [
        "# check skewness and Kurtosis\n",
        "print('Skewness is :',df['Sales'].skew())\n",
        "print('Kurtosis is :',df['Sales'].kurt())"
      ],
      "execution_count": 39,
      "outputs": [
        {
          "output_type": "stream",
          "name": "stdout",
          "text": [
            "Skewness is : 12.97275234181623\n",
            "Kurtosis is : 305.311753246823\n"
          ]
        }
      ]
    },
    {
      "cell_type": "markdown",
      "metadata": {
        "id": "WK9c6m-qibdW"
      },
      "source": [
        "Skewness assesses the extent to which a variable’s distribution is symmetrical. If the distribution of responses for a variable stretches toward the right or left tail of the distribution, then the distribution is referred to as skewed. Kurtosis is a measure of whether the distribution is too peaked (a very narrow distribution with most of the responses in the center)."
      ]
    },
    {
      "cell_type": "markdown",
      "metadata": {
        "id": "tBM0LsSWisue"
      },
      "source": [
        "#**Univariate Anomaly Detection**\n",
        "\n",
        "**Isolation Forest**\n",
        "\n",
        "(1) Similiar to Random Forest as it is build on an ensemble of trees.\n",
        "\n",
        "(2) Good for large dataset\n",
        "\n",
        "(3) Outlier will have its own leaf. Isolation forest detects that leaf."
      ]
    },
    {
      "cell_type": "code",
      "metadata": {
        "colab": {
          "base_uri": "https://localhost:8080/"
        },
        "id": "P65WB7Y9i1J-",
        "outputId": "9181d832-80ec-4b78-a5a3-4d87765e74fb"
      },
      "source": [
        "from sklearn.ensemble import IsolationForest\n",
        "\n",
        "# IsloationForest on sales\n",
        "clf = IsolationForest(n_estimators = 100)\n",
        "clf.fit(df['Sales'].values.reshape(-1,1))"
      ],
      "execution_count": 40,
      "outputs": [
        {
          "output_type": "execute_result",
          "data": {
            "text/plain": [
              "IsolationForest()"
            ]
          },
          "metadata": {},
          "execution_count": 40
        }
      ]
    },
    {
      "cell_type": "code",
      "metadata": {
        "colab": {
          "base_uri": "https://localhost:8080/",
          "height": 611
        },
        "id": "9MO-HbU1jGze",
        "outputId": "8a1f1ea0-f151-4746-b3db-7497b4e2a401"
      },
      "source": [
        "# fit the model\n",
        "# clf = IsolationForest(max_samples=100, random_state=rng)\n",
        "# clf.fit(X_train)\n",
        "xx = np.linspace(df['Sales'].min(), df['Sales'].max(), len(df)).reshape(-1,1)\n",
        "anomaly_score = clf.decision_function(xx)\n",
        "outlier = clf.predict(xx)\n",
        "plt.figure(figsize=(20,10))\n",
        "plt.plot(xx, anomaly_score, color= 'r', linewidth =3, label='anomaly score')\n",
        "# plt.fill_between(xx.T[0], np.min(anomaly_score), np.max(anomaly_score), \n",
        "#                  where=outlier==-1, color='r', \n",
        "#                  alpha=.4, label='outlier region')\n",
        "plt.fill_between(xx.T[0], np.min(anomaly_score), np.max(anomaly_score),\n",
        "                alpha = 0.4, where = outlier == -1,\n",
        "                label = 'outlier_region')\n",
        "plt.legend()\n",
        "plt.ylabel('anomaly score')\n",
        "plt.xlabel('Sales')\n",
        "plt.show()"
      ],
      "execution_count": 41,
      "outputs": [
        {
          "output_type": "display_data",
          "data": {
            "image/png": "[encoded data removed]",
            "text/plain": [
              "<Figure size 1440x720 with 1 Axes>"
            ]
          },
          "metadata": {}
        }
      ]
    },
    {
      "cell_type": "markdown",
      "metadata": {
        "id": "Rsjx7HCJjdpe"
      },
      "source": [
        "#**Multivariate Anomaly Detection**"
      ]
    },
    {
      "cell_type": "code",
      "metadata": {
        "colab": {
          "base_uri": "https://localhost:8080/",
          "height": 206
        },
        "id": "NC9cyuQSly3D",
        "outputId": "ff6e32ff-6c1f-4a25-f941-d1e3e0c78b8b"
      },
      "source": [
        "# keeping only Sales and Profit\n",
        "cols = ['Sales', 'Profit']\n",
        "df[cols].head()"
      ],
      "execution_count": 42,
      "outputs": [
        {
          "output_type": "execute_result",
          "data": {
            "text/html": [
              "<div>\n",
              "<style scoped>\n",
              "    .dataframe tbody tr th:only-of-type {\n",
              "        vertical-align: middle;\n",
              "    }\n",
              "\n",
              "    .dataframe tbody tr th {\n",
              "        vertical-align: top;\n",
              "    }\n",
              "\n",
              "    .dataframe thead th {\n",
              "        text-align: right;\n",
              "    }\n",
              "</style>\n",
              "<table border=\"1\" class=\"dataframe\">\n",
              "  <thead>\n",
              "    <tr style=\"text-align: right;\">\n",
              "      <th></th>\n",
              "      <th>Sales</th>\n",
              "      <th>Profit</th>\n",
              "    </tr>\n",
              "  </thead>\n",
              "  <tbody>\n",
              "    <tr>\n",
              "      <th>0</th>\n",
              "      <td>261.9600</td>\n",
              "      <td>41.9136</td>\n",
              "    </tr>\n",
              "    <tr>\n",
              "      <th>1</th>\n",
              "      <td>731.9400</td>\n",
              "      <td>219.5820</td>\n",
              "    </tr>\n",
              "    <tr>\n",
              "      <th>2</th>\n",
              "      <td>14.6200</td>\n",
              "      <td>6.8714</td>\n",
              "    </tr>\n",
              "    <tr>\n",
              "      <th>3</th>\n",
              "      <td>957.5775</td>\n",
              "      <td>-383.0310</td>\n",
              "    </tr>\n",
              "    <tr>\n",
              "      <th>4</th>\n",
              "      <td>22.3680</td>\n",
              "      <td>2.5164</td>\n",
              "    </tr>\n",
              "  </tbody>\n",
              "</table>\n",
              "</div>"
            ],
            "text/plain": [
              "      Sales    Profit\n",
              "0  261.9600   41.9136\n",
              "1  731.9400  219.5820\n",
              "2   14.6200    6.8714\n",
              "3  957.5775 -383.0310\n",
              "4   22.3680    2.5164"
            ]
          },
          "metadata": {},
          "execution_count": 42
        }
      ]
    },
    {
      "cell_type": "code",
      "metadata": {
        "colab": {
          "base_uri": "https://localhost:8080/",
          "height": 206
        },
        "id": "fhpVwhwbl3fp",
        "outputId": "82534cff-4169-445a-d55d-a8fc69c25351"
      },
      "source": [
        "# Scale features\n",
        "minmax = MinMaxScaler(feature_range = (0, 1))\n",
        "df[['Sales', 'Profit']] = minmax.fit_transform(df[['Sales', 'Profit']])\n",
        "df[['Sales', 'Profit']].head()"
      ],
      "execution_count": 48,
      "outputs": [
        {
          "output_type": "execute_result",
          "data": {
            "text/html": [
              "<div>\n",
              "<style scoped>\n",
              "    .dataframe tbody tr th:only-of-type {\n",
              "        vertical-align: middle;\n",
              "    }\n",
              "\n",
              "    .dataframe tbody tr th {\n",
              "        vertical-align: top;\n",
              "    }\n",
              "\n",
              "    .dataframe thead th {\n",
              "        text-align: right;\n",
              "    }\n",
              "</style>\n",
              "<table border=\"1\" class=\"dataframe\">\n",
              "  <thead>\n",
              "    <tr style=\"text-align: right;\">\n",
              "      <th></th>\n",
              "      <th>Sales</th>\n",
              "      <th>Profit</th>\n",
              "    </tr>\n",
              "  </thead>\n",
              "  <tbody>\n",
              "    <tr>\n",
              "      <th>0</th>\n",
              "      <td>0.011552</td>\n",
              "      <td>0.442794</td>\n",
              "    </tr>\n",
              "    <tr>\n",
              "      <th>1</th>\n",
              "      <td>0.032313</td>\n",
              "      <td>0.454639</td>\n",
              "    </tr>\n",
              "    <tr>\n",
              "      <th>2</th>\n",
              "      <td>0.000626</td>\n",
              "      <td>0.440458</td>\n",
              "    </tr>\n",
              "    <tr>\n",
              "      <th>3</th>\n",
              "      <td>0.042280</td>\n",
              "      <td>0.414464</td>\n",
              "    </tr>\n",
              "    <tr>\n",
              "      <th>4</th>\n",
              "      <td>0.000968</td>\n",
              "      <td>0.440168</td>\n",
              "    </tr>\n",
              "  </tbody>\n",
              "</table>\n",
              "</div>"
            ],
            "text/plain": [
              "      Sales    Profit\n",
              "0  0.011552  0.442794\n",
              "1  0.032313  0.454639\n",
              "2  0.000626  0.440458\n",
              "3  0.042280  0.414464\n",
              "4  0.000968  0.440168"
            ]
          },
          "metadata": {},
          "execution_count": 48
        }
      ]
    },
    {
      "cell_type": "code",
      "metadata": {
        "colab": {
          "base_uri": "https://localhost:8080/",
          "height": 502
        },
        "id": "vSkRp8bPmIkh",
        "outputId": "37f4c480-8b98-4546-b8ff-65f220fb31f5"
      },
      "source": [
        "# Multi-variate Analysis using Sales and Profit\n",
        "sns.regplot(x = 'Sales', y = 'Profit', data = df)\n",
        "sns.despine();"
      ],
      "execution_count": 49,
      "outputs": [
        {
          "output_type": "display_data",
          "data": {
            "image/png": "[encoded data removed]",
            "text/plain": [
              "<Figure size 864x576 with 1 Axes>"
            ]
          },
          "metadata": {}
        }
      ]
    },
    {
      "cell_type": "code",
      "metadata": {
        "id": "SQOEsniLmV7p",
        "colab": {
          "base_uri": "https://localhost:8080/"
        },
        "outputId": "d7aecc6d-d3dc-45f6-dca4-24e8a82bfaab"
      },
      "source": [
        "X1 = df['Sales'].values.reshape(-1,1)\n",
        "X2 = df['Profit'].values.reshape(-1,1)\n",
        "X = np.concatenate((X1,X2),axis=1)\n",
        "X"
      ],
      "execution_count": 57,
      "outputs": [
        {
          "output_type": "execute_result",
          "data": {
            "text/plain": [
              "array([[0.01155206, 0.44279413],\n",
              "       [0.0323127 , 0.45463873],\n",
              "       [0.0006262 , 0.44045798],\n",
              "       ...,\n",
              "       [0.01140258, 0.44129277],\n",
              "       [0.00128792, 0.44088789],\n",
              "       [0.0107216 , 0.4448631 ]])"
            ]
          },
          "metadata": {},
          "execution_count": 57
        }
      ]
    },
    {
      "cell_type": "markdown",
      "metadata": {
        "id": "bLC-dZ1YmgfQ"
      },
      "source": [
        "**Isolation forest**\n",
        "\n",
        "Isolate observations through random feature selection\n",
        "\n",
        "Random select a split value between max and min values of selected feature"
      ]
    },
    {
      "cell_type": "code",
      "metadata": {
        "colab": {
          "base_uri": "https://localhost:8080/",
          "height": 518
        },
        "id": "P_8OMTEqmuro",
        "outputId": "11c9ea2d-1da4-4f59-af9c-ca622c9cc728"
      },
      "source": [
        "outliers_fraction = 0.01\n",
        "xx , yy = np.meshgrid(np.linspace(0, 1, 100), np.linspace(0, 1, 100))\n",
        "clf = IForest(contamination=outliers_fraction,random_state=0)\n",
        "clf.fit(X)\n",
        "scores_pred = clf.decision_function(X) * -1\n",
        "\n",
        "y = clf.predict(X)  #Labels\n",
        "n_inliers = len(y) - np.count_nonzero(y)\n",
        "n_outliers = np.count_nonzero(y == 1)\n",
        "plt.figure(figsize=(8, 8))\n",
        "\n",
        "df1 = df\n",
        "df1['outlier'] = y.tolist()\n",
        "    \n",
        "# sales - inlier feature 1,  profit - inlier feature 2\n",
        "inliers_sales = np.array(df1['Sales'][df1['outlier'] == 0]).reshape(-1,1)\n",
        "inliers_profit = np.array(df1['Profit'][df1['outlier'] == 0]).reshape(-1,1)\n",
        "    \n",
        "# sales - outlier feature 1, profit - outlier feature 2\n",
        "outliers_sales = df1['Sales'][df1['outlier'] == 1].values.reshape(-1,1)\n",
        "outliers_profit = df1['Profit'][df1['outlier'] == 1].values.reshape(-1,1)\n",
        "         \n",
        "print('OUTLIERS: ',n_outliers,'INLIERS: ',n_inliers)\n",
        "\n",
        "threshold = percentile(scores_pred, 100 * outliers_fraction)\n",
        "Z = clf.decision_function(np.c_[xx.ravel(), yy.ravel()]) * -1\n",
        "Z = Z.reshape(xx.shape)\n",
        "plt.contourf(xx, yy, Z, levels=np.linspace(Z.min(), threshold, 7),cmap=plt.cm.Blues_r)\n",
        "a = plt.contour(xx, yy, Z, levels=[threshold],linewidths=2, colors='red')\n",
        "plt.contourf(xx, yy, Z, levels=[threshold, Z.max()],colors='orange')\n",
        "b = plt.scatter(inliers_sales, inliers_profit, c='white',s=20, edgecolor='k')\n",
        "    \n",
        "c = plt.scatter(outliers_sales, outliers_profit, c='black',s=20, edgecolor='k')\n",
        "       \n",
        "plt.axis('tight')\n",
        "plt.legend([a.collections[0], b,c], ['learned decision function', 'inliers','outliers'],\n",
        "           prop=matplotlib.font_manager.FontProperties(size=20),loc='lower right')      \n",
        "plt.xlim((0, 1))\n",
        "plt.ylim((0, 1))\n",
        "plt.title('Isolation Forest')\n",
        "plt.show();"
      ],
      "execution_count": 127,
      "outputs": [
        {
          "output_type": "stream",
          "name": "stdout",
          "text": [
            "OUTLIERS:  100 INLIERS:  9894\n"
          ]
        },
        {
          "output_type": "display_data",
          "data": {
            "image/png": "[encoded data removed]",
            "text/plain": [
              "<Figure size 576x576 with 1 Axes>"
            ]
          },
          "metadata": {}
        }
      ]
    },
    {
      "cell_type": "code",
      "metadata": {
        "colab": {
          "base_uri": "https://localhost:8080/",
          "height": 1000
        },
        "id": "0kvISIMm2R-B",
        "outputId": "8777ca98-c952-4971-bfc4-e4aa420a1356"
      },
      "source": [
        "from pyod.models.auto_encoder import AutoEncoder\n",
        "\n",
        "outliers_fraction = 0.01\n",
        "xx , yy = np.meshgrid(np.linspace(0, 1, 100), np.linspace(0, 1, 100))\n",
        "clf = AutoEncoder(hidden_neurons =[25,10,2,10,25],hidden_activation='relu',output_activation='sigmoid',\n",
        "                  loss='mean_squared_error',optimizer='adam',dropout_rate=0.2,\n",
        "                  epochs=100,batch_size=32,l2_regularizer=0.1,validation_size=0.1,contamination=outliers_fraction)\n",
        "clf.fit(X)\n",
        "scores_pred = clf.decision_function(X) * -1\n",
        "\n",
        "y = clf.predict(X)  #Labels\n",
        "n_inliers = len(y) - np.count_nonzero(y)\n",
        "n_outliers = np.count_nonzero(y == 1)\n",
        "plt.figure(figsize=(8, 8))\n",
        "\n",
        "df1 = df\n",
        "df1['outlier'] = y.tolist()\n",
        "    \n",
        "# sales - inlier feature 1,  profit - inlier feature 2\n",
        "inliers_sales = np.array(df1['Sales'][df1['outlier'] == 0]).reshape(-1,1)\n",
        "inliers_profit = np.array(df1['Profit'][df1['outlier'] == 0]).reshape(-1,1)\n",
        "    \n",
        "# sales - outlier feature 1, profit - outlier feature 2\n",
        "outliers_sales = df1['Sales'][df1['outlier'] == 1].values.reshape(-1,1)\n",
        "outliers_profit = df1['Profit'][df1['outlier'] == 1].values.reshape(-1,1)\n",
        "         \n",
        "print('OUTLIERS: ',n_outliers,'INLIERS: ',n_inliers)\n",
        "\n",
        "threshold = percentile(scores_pred, 100 * outliers_fraction)\n",
        "Z = clf.decision_function(np.c_[xx.ravel(), yy.ravel()]) * -1\n",
        "Z = Z.reshape(xx.shape)\n",
        "plt.contourf(xx, yy, Z, levels=np.linspace(Z.min(), threshold, 7),cmap=plt.cm.Blues_r)\n",
        "a = plt.contour(xx, yy, Z, levels=[threshold],linewidths=2, colors='red')\n",
        "plt.contourf(xx, yy, Z, levels=[threshold, Z.max()],colors='orange')\n",
        "b = plt.scatter(inliers_sales, inliers_profit, c='white',s=20, edgecolor='k')\n",
        "    \n",
        "c = plt.scatter(outliers_sales, outliers_profit, c='black',s=20, edgecolor='k')\n",
        "       \n",
        "plt.axis('tight')\n",
        "plt.legend([a.collections[0], b,c], ['learned decision function', 'inliers','outliers'],\n",
        "           prop=matplotlib.font_manager.FontProperties(size=20),loc='lower right')      \n",
        "plt.xlim((0, 1))\n",
        "plt.ylim((0, 1))\n",
        "plt.title('Autoencoder')\n",
        "plt.show();"
      ],
      "execution_count": 145,
      "outputs": [
        {
          "output_type": "stream",
          "name": "stdout",
          "text": [
            "Model: \"sequential\"\n",
            "_________________________________________________________________\n",
            " Layer (type)                Output Shape              Param #   \n",
            "=================================================================\n",
            " dense_24 (Dense)            (None, 2)                 6         \n",
            "                                                                 \n",
            " dropout (Dropout)           (None, 2)                 0         \n",
            "                                                                 \n",
            " dense_25 (Dense)            (None, 2)                 6         \n",
            "                                                                 \n",
            " dropout_1 (Dropout)         (None, 2)                 0         \n",
            "                                                                 \n",
            " dense_26 (Dense)            (None, 25)                75        \n",
            "                                                                 \n",
            " dropout_2 (Dropout)         (None, 25)                0         \n",
            "                                                                 \n",
            " dense_27 (Dense)            (None, 10)                260       \n",
            "                                                                 \n",
            " dropout_3 (Dropout)         (None, 10)                0         \n",
            "                                                                 \n",
            " dense_28 (Dense)            (None, 2)                 22        \n",
            "                                                                 \n",
            " dropout_4 (Dropout)         (None, 2)                 0         \n",
            "                                                                 \n",
            " dense_29 (Dense)            (None, 10)                30        \n",
            "                                                                 \n",
            " dropout_5 (Dropout)         (None, 10)                0         \n",
            "                                                                 \n",
            " dense_30 (Dense)            (None, 25)                275       \n",
            "                                                                 \n",
            " dropout_6 (Dropout)         (None, 25)                0         \n",
            "                                                                 \n",
            " dense_31 (Dense)            (None, 2)                 52        \n",
            "                                                                 \n",
            "=================================================================\n",
            "Total params: 726\n",
            "Trainable params: 726\n",
            "Non-trainable params: 0\n",
            "_________________________________________________________________\n",
            "None\n",
            "Epoch 1/100\n",
            "282/282 [==============================] - 4s 10ms/step - loss: 1.1582 - val_loss: 1.4921\n",
            "Epoch 2/100\n",
            "282/282 [==============================] - 2s 9ms/step - loss: 1.0541 - val_loss: 1.4593\n",
            "Epoch 3/100\n",
            "282/282 [==============================] - 2s 8ms/step - loss: 1.0295 - val_loss: 1.4443\n",
            "Epoch 4/100\n",
            "282/282 [==============================] - 3s 9ms/step - loss: 1.0150 - val_loss: 1.4340\n",
            "Epoch 5/100\n",
            "282/282 [==============================] - 2s 9ms/step - loss: 1.0045 - val_loss: 1.4273\n",
            "Epoch 6/100\n",
            "282/282 [==============================] - 2s 9ms/step - loss: 0.9978 - val_loss: 1.4218\n",
            "Epoch 7/100\n",
            "282/282 [==============================] - 2s 9ms/step - loss: 0.9919 - val_loss: 1.4173\n",
            "Epoch 8/100\n",
            "282/282 [==============================] - 2s 9ms/step - loss: 0.9866 - val_loss: 1.4139\n",
            "Epoch 9/100\n",
            "282/282 [==============================] - 2s 9ms/step - loss: 0.9827 - val_loss: 1.4113\n",
            "Epoch 10/100\n",
            "282/282 [==============================] - 2s 9ms/step - loss: 0.9795 - val_loss: 1.4090\n",
            "Epoch 11/100\n",
            "282/282 [==============================] - 2s 9ms/step - loss: 0.9764 - val_loss: 1.4066\n",
            "Epoch 12/100\n",
            "282/282 [==============================] - 2s 9ms/step - loss: 0.9736 - val_loss: 1.4050\n",
            "Epoch 13/100\n",
            "282/282 [==============================] - 3s 9ms/step - loss: 0.9725 - val_loss: 1.4036\n",
            "Epoch 14/100\n",
            "282/282 [==============================] - 2s 8ms/step - loss: 0.9704 - val_loss: 1.4022\n",
            "Epoch 15/100\n",
            "282/282 [==============================] - 2s 8ms/step - loss: 0.9687 - val_loss: 1.4009\n",
            "Epoch 16/100\n",
            "282/282 [==============================] - 2s 9ms/step - loss: 0.9674 - val_loss: 1.4002\n",
            "Epoch 17/100\n",
            "282/282 [==============================] - 2s 9ms/step - loss: 0.9661 - val_loss: 1.3992\n",
            "Epoch 18/100\n",
            "282/282 [==============================] - 3s 9ms/step - loss: 0.9655 - val_loss: 1.3986\n",
            "Epoch 19/100\n",
            "282/282 [==============================] - 2s 9ms/step - loss: 0.9649 - val_loss: 1.3981\n",
            "Epoch 20/100\n",
            "282/282 [==============================] - 2s 9ms/step - loss: 0.9635 - val_loss: 1.3969\n",
            "Epoch 21/100\n",
            "282/282 [==============================] - 2s 9ms/step - loss: 0.9628 - val_loss: 1.3967\n",
            "Epoch 22/100\n",
            "282/282 [==============================] - 2s 9ms/step - loss: 0.9624 - val_loss: 1.3961\n",
            "Epoch 23/100\n",
            "282/282 [==============================] - 2s 9ms/step - loss: 0.9617 - val_loss: 1.3957\n",
            "Epoch 24/100\n",
            "282/282 [==============================] - 2s 8ms/step - loss: 0.9611 - val_loss: 1.3955\n",
            "Epoch 25/100\n",
            "282/282 [==============================] - 2s 9ms/step - loss: 0.9610 - val_loss: 1.3954\n",
            "Epoch 26/100\n",
            "282/282 [==============================] - 2s 9ms/step - loss: 0.9604 - val_loss: 1.3953\n",
            "Epoch 27/100\n",
            "282/282 [==============================] - 2s 9ms/step - loss: 0.9599 - val_loss: 1.3950\n",
            "Epoch 28/100\n",
            "282/282 [==============================] - 3s 9ms/step - loss: 0.9598 - val_loss: 1.3945\n",
            "Epoch 29/100\n",
            "282/282 [==============================] - 2s 9ms/step - loss: 0.9596 - val_loss: 1.3947\n",
            "Epoch 30/100\n",
            "282/282 [==============================] - 2s 9ms/step - loss: 0.9594 - val_loss: 1.3944\n",
            "Epoch 31/100\n",
            "282/282 [==============================] - 2s 9ms/step - loss: 0.9591 - val_loss: 1.3941\n",
            "Epoch 32/100\n",
            "282/282 [==============================] - 2s 9ms/step - loss: 0.9589 - val_loss: 1.3945\n",
            "Epoch 33/100\n",
            "282/282 [==============================] - 2s 9ms/step - loss: 0.9587 - val_loss: 1.3940\n",
            "Epoch 34/100\n",
            "282/282 [==============================] - 2s 9ms/step - loss: 0.9584 - val_loss: 1.3937\n",
            "Epoch 35/100\n",
            "282/282 [==============================] - 2s 9ms/step - loss: 0.9584 - val_loss: 1.3937\n",
            "Epoch 36/100\n",
            "282/282 [==============================] - 2s 8ms/step - loss: 0.9581 - val_loss: 1.3936\n",
            "Epoch 37/100\n",
            "282/282 [==============================] - 3s 9ms/step - loss: 0.9581 - val_loss: 1.3935\n",
            "Epoch 38/100\n",
            "282/282 [==============================] - 3s 9ms/step - loss: 0.9580 - val_loss: 1.3936\n",
            "Epoch 39/100\n",
            "282/282 [==============================] - 2s 8ms/step - loss: 0.9578 - val_loss: 1.3934\n",
            "Epoch 40/100\n",
            "282/282 [==============================] - 2s 9ms/step - loss: 0.9578 - val_loss: 1.3935\n",
            "Epoch 41/100\n",
            "282/282 [==============================] - 2s 9ms/step - loss: 0.9577 - val_loss: 1.3935\n",
            "Epoch 42/100\n",
            "282/282 [==============================] - 2s 9ms/step - loss: 0.9576 - val_loss: 1.3933\n",
            "Epoch 43/100\n",
            "282/282 [==============================] - 2s 9ms/step - loss: 0.9575 - val_loss: 1.3932\n",
            "Epoch 44/100\n",
            "282/282 [==============================] - 2s 9ms/step - loss: 0.9575 - val_loss: 1.3936\n",
            "Epoch 45/100\n",
            "282/282 [==============================] - 2s 9ms/step - loss: 0.9574 - val_loss: 1.3934\n",
            "Epoch 46/100\n",
            "282/282 [==============================] - 2s 9ms/step - loss: 0.9573 - val_loss: 1.3933\n",
            "Epoch 47/100\n",
            "282/282 [==============================] - 2s 8ms/step - loss: 0.9573 - val_loss: 1.3931\n",
            "Epoch 48/100\n",
            "282/282 [==============================] - 2s 9ms/step - loss: 0.9572 - val_loss: 1.3934\n",
            "Epoch 49/100\n",
            "282/282 [==============================] - 2s 8ms/step - loss: 0.9572 - val_loss: 1.3931\n",
            "Epoch 50/100\n",
            "282/282 [==============================] - 2s 9ms/step - loss: 0.9572 - val_loss: 1.3932\n",
            "Epoch 51/100\n",
            "282/282 [==============================] - 2s 8ms/step - loss: 0.9571 - val_loss: 1.3931\n",
            "Epoch 52/100\n",
            "282/282 [==============================] - 2s 8ms/step - loss: 0.9573 - val_loss: 1.3930\n",
            "Epoch 53/100\n",
            "282/282 [==============================] - 2s 8ms/step - loss: 0.9572 - val_loss: 1.3930\n",
            "Epoch 54/100\n",
            "282/282 [==============================] - 2s 8ms/step - loss: 0.9571 - val_loss: 1.3930\n",
            "Epoch 55/100\n",
            "282/282 [==============================] - 2s 9ms/step - loss: 0.9569 - val_loss: 1.3930\n",
            "Epoch 56/100\n",
            "282/282 [==============================] - 2s 8ms/step - loss: 0.9570 - val_loss: 1.3930\n",
            "Epoch 57/100\n",
            "282/282 [==============================] - 2s 8ms/step - loss: 0.9569 - val_loss: 1.3930\n",
            "Epoch 58/100\n",
            "282/282 [==============================] - 2s 8ms/step - loss: 0.9569 - val_loss: 1.3930\n",
            "Epoch 59/100\n",
            "282/282 [==============================] - 2s 9ms/step - loss: 0.9568 - val_loss: 1.3930\n",
            "Epoch 60/100\n",
            "282/282 [==============================] - 2s 9ms/step - loss: 0.9568 - val_loss: 1.3930\n",
            "Epoch 61/100\n",
            "282/282 [==============================] - 2s 8ms/step - loss: 0.9567 - val_loss: 1.3930\n",
            "Epoch 62/100\n",
            "282/282 [==============================] - 2s 9ms/step - loss: 0.9569 - val_loss: 1.3930\n",
            "Epoch 63/100\n",
            "282/282 [==============================] - 2s 8ms/step - loss: 0.9567 - val_loss: 1.3930\n",
            "Epoch 64/100\n",
            "282/282 [==============================] - 2s 8ms/step - loss: 0.9567 - val_loss: 1.3930\n",
            "Epoch 65/100\n",
            "282/282 [==============================] - 2s 8ms/step - loss: 0.9567 - val_loss: 1.3930\n",
            "Epoch 66/100\n",
            "282/282 [==============================] - 2s 8ms/step - loss: 0.9566 - val_loss: 1.3930\n",
            "Epoch 67/100\n",
            "282/282 [==============================] - 2s 9ms/step - loss: 0.9566 - val_loss: 1.3930\n",
            "Epoch 68/100\n",
            "282/282 [==============================] - 2s 8ms/step - loss: 0.9566 - val_loss: 1.3930\n",
            "Epoch 69/100\n",
            "282/282 [==============================] - 2s 9ms/step - loss: 0.9566 - val_loss: 1.3930\n",
            "Epoch 70/100\n",
            "282/282 [==============================] - 2s 9ms/step - loss: 0.9566 - val_loss: 1.3931\n",
            "Epoch 71/100\n",
            "282/282 [==============================] - 2s 9ms/step - loss: 0.9565 - val_loss: 1.3931\n",
            "Epoch 72/100\n",
            "282/282 [==============================] - 2s 8ms/step - loss: 0.9565 - val_loss: 1.3931\n",
            "Epoch 73/100\n",
            "282/282 [==============================] - 2s 9ms/step - loss: 0.9565 - val_loss: 1.3931\n",
            "Epoch 74/100\n",
            "282/282 [==============================] - 3s 9ms/step - loss: 0.9565 - val_loss: 1.3931\n",
            "Epoch 75/100\n",
            "282/282 [==============================] - 3s 9ms/step - loss: 0.9565 - val_loss: 1.3931\n",
            "Epoch 76/100\n",
            "282/282 [==============================] - 2s 9ms/step - loss: 0.9565 - val_loss: 1.3931\n",
            "Epoch 77/100\n",
            "282/282 [==============================] - 2s 9ms/step - loss: 0.9565 - val_loss: 1.3931\n",
            "Epoch 78/100\n",
            "282/282 [==============================] - 3s 9ms/step - loss: 0.9565 - val_loss: 1.3931\n",
            "Epoch 79/100\n",
            "282/282 [==============================] - 3s 9ms/step - loss: 0.9565 - val_loss: 1.3931\n",
            "Epoch 80/100\n",
            "282/282 [==============================] - 3s 9ms/step - loss: 0.9565 - val_loss: 1.3931\n",
            "Epoch 81/100\n",
            "282/282 [==============================] - 2s 9ms/step - loss: 0.9564 - val_loss: 1.3931\n",
            "Epoch 82/100\n",
            "282/282 [==============================] - 2s 9ms/step - loss: 0.9564 - val_loss: 1.3932\n",
            "Epoch 83/100\n",
            "282/282 [==============================] - 2s 8ms/step - loss: 0.9564 - val_loss: 1.3932\n",
            "Epoch 84/100\n",
            "282/282 [==============================] - 3s 9ms/step - loss: 0.9564 - val_loss: 1.3932\n",
            "Epoch 85/100\n",
            "282/282 [==============================] - 3s 9ms/step - loss: 0.9564 - val_loss: 1.3932\n",
            "Epoch 86/100\n",
            "282/282 [==============================] - 2s 9ms/step - loss: 0.9564 - val_loss: 1.3932\n",
            "Epoch 87/100\n",
            "282/282 [==============================] - 2s 9ms/step - loss: 0.9564 - val_loss: 1.3932\n",
            "Epoch 88/100\n",
            "282/282 [==============================] - 2s 9ms/step - loss: 0.9564 - val_loss: 1.3932\n",
            "Epoch 89/100\n",
            "282/282 [==============================] - 2s 9ms/step - loss: 0.9564 - val_loss: 1.3932\n",
            "Epoch 90/100\n",
            "282/282 [==============================] - 2s 9ms/step - loss: 0.9564 - val_loss: 1.3932\n",
            "Epoch 91/100\n",
            "282/282 [==============================] - 2s 9ms/step - loss: 0.9564 - val_loss: 1.3932\n",
            "Epoch 92/100\n",
            "282/282 [==============================] - 2s 8ms/step - loss: 0.9564 - val_loss: 1.3932\n",
            "Epoch 93/100\n",
            "282/282 [==============================] - 2s 9ms/step - loss: 0.9564 - val_loss: 1.3932\n",
            "Epoch 94/100\n",
            "282/282 [==============================] - 2s 9ms/step - loss: 0.9564 - val_loss: 1.3932\n",
            "Epoch 95/100\n",
            "282/282 [==============================] - 2s 9ms/step - loss: 0.9564 - val_loss: 1.3932\n",
            "Epoch 96/100\n",
            "282/282 [==============================] - 2s 9ms/step - loss: 0.9564 - val_loss: 1.3932\n",
            "Epoch 97/100\n",
            "282/282 [==============================] - 2s 9ms/step - loss: 0.9564 - val_loss: 1.3932\n",
            "Epoch 98/100\n",
            "282/282 [==============================] - 2s 9ms/step - loss: 0.9564 - val_loss: 1.3932\n",
            "Epoch 99/100\n",
            "282/282 [==============================] - 2s 8ms/step - loss: 0.9564 - val_loss: 1.3932\n",
            "Epoch 100/100\n",
            "282/282 [==============================] - 2s 9ms/step - loss: 0.9563 - val_loss: 1.3932\n",
            "OUTLIERS:  100 INLIERS:  9894\n"
          ]
        },
        {
          "output_type": "display_data",
          "data": {
            "image/png": "[encoded data removed]",
            "text/plain": [
              "<Figure size 576x576 with 1 Axes>"
            ]
          },
          "metadata": {}
        }
      ]
    },
    {
      "cell_type": "markdown",
      "metadata": {
        "id": "ZY1IpV-4o-rm"
      },
      "source": [
        "**Labels**"
      ]
    },
    {
      "cell_type": "code",
      "metadata": {
        "colab": {
          "base_uri": "https://localhost:8080/"
        },
        "id": "IBk2rp9XoNgn",
        "outputId": "56f95132-58e3-4209-92dc-fd099a10d83d"
      },
      "source": [
        "y"
      ],
      "execution_count": 146,
      "outputs": [
        {
          "output_type": "execute_result",
          "data": {
            "text/plain": [
              "array([0, 0, 0, ..., 0, 0, 0])"
            ]
          },
          "metadata": {},
          "execution_count": 146
        }
      ]
    },
    {
      "cell_type": "code",
      "metadata": {
        "id": "t2YvXjStknzH"
      },
      "source": [
        "#Determine the number of anomalous and normal instances in the dataset.\n",
        "\n",
        "anomalous = y[y == 1]\n",
        "normal = y[y == 0]\n",
        "outlier_fraction = len(anomalous)/float(len(normal))"
      ],
      "execution_count": 147,
      "outputs": []
    },
    {
      "cell_type": "code",
      "metadata": {
        "colab": {
          "base_uri": "https://localhost:8080/"
        },
        "id": "w3Z6dwFamixb",
        "outputId": "84c3fe51-e8d9-473b-ec34-5c5cccb9e517"
      },
      "source": [
        "#Now let us print the outlier fraction and number of anomalous and normal instances\n",
        "\n",
        "print(outlier_fraction)\n",
        "print(\"Anomalous Instances : {}\".format(len(anomalous)))\n",
        "print(\"Normal Instances : {}\".format(len(normal)))"
      ],
      "execution_count": 148,
      "outputs": [
        {
          "output_type": "stream",
          "name": "stdout",
          "text": [
            "0.01010713563776026\n",
            "Anomalous Instances : 100\n",
            "Normal Instances : 9894\n"
          ]
        }
      ]
    },
    {
      "cell_type": "markdown",
      "metadata": {
        "id": "UEzatlmaaE95"
      },
      "source": [
        "Show the counts of observations in each categorical bin using bars."
      ]
    },
    {
      "cell_type": "code",
      "metadata": {
        "colab": {
          "base_uri": "https://localhost:8080/",
          "height": 502
        },
        "id": "sAF0tWcGTzGn",
        "outputId": "ebabd88c-d228-4ca0-f55c-b898f85db826"
      },
      "source": [
        "sns.countplot(y, data = pd.DataFrame(y))"
      ],
      "execution_count": 152,
      "outputs": [
        {
          "output_type": "execute_result",
          "data": {
            "text/plain": [
              "<matplotlib.axes._subplots.AxesSubplot at 0x7efc9509e0d0>"
            ]
          },
          "metadata": {},
          "execution_count": 152
        },
        {
          "output_type": "display_data",
          "data": {
            "image/png": "[encoded data removed]",
            "text/plain": [
              "<Figure size 864x576 with 1 Axes>"
            ]
          },
          "metadata": {}
        }
      ]
    },
    {
      "cell_type": "code",
      "metadata": {
        "colab": {
          "base_uri": "https://localhost:8080/",
          "height": 556
        },
        "id": "vY3OkVuCtqCn",
        "outputId": "ff29f17c-ab1c-4dfa-a9cb-5a61a7eb0b78"
      },
      "source": [
        "#Add new column with labels\n",
        "df['Labels'] = y\n",
        "df.head()"
      ],
      "execution_count": 153,
      "outputs": [
        {
          "output_type": "execute_result",
          "data": {
            "text/html": [
              "<div>\n",
              "<style scoped>\n",
              "    .dataframe tbody tr th:only-of-type {\n",
              "        vertical-align: middle;\n",
              "    }\n",
              "\n",
              "    .dataframe tbody tr th {\n",
              "        vertical-align: top;\n",
              "    }\n",
              "\n",
              "    .dataframe thead th {\n",
              "        text-align: right;\n",
              "    }\n",
              "</style>\n",
              "<table border=\"1\" class=\"dataframe\">\n",
              "  <thead>\n",
              "    <tr style=\"text-align: right;\">\n",
              "      <th></th>\n",
              "      <th>Row ID</th>\n",
              "      <th>Order ID</th>\n",
              "      <th>Order Date</th>\n",
              "      <th>Ship Date</th>\n",
              "      <th>Ship Mode</th>\n",
              "      <th>Customer ID</th>\n",
              "      <th>Customer Name</th>\n",
              "      <th>Segment</th>\n",
              "      <th>Country</th>\n",
              "      <th>City</th>\n",
              "      <th>State</th>\n",
              "      <th>Postal Code</th>\n",
              "      <th>Region</th>\n",
              "      <th>Product ID</th>\n",
              "      <th>Category</th>\n",
              "      <th>Sub-Category</th>\n",
              "      <th>Product Name</th>\n",
              "      <th>Sales</th>\n",
              "      <th>Quantity</th>\n",
              "      <th>Discount</th>\n",
              "      <th>Profit</th>\n",
              "      <th>outlier</th>\n",
              "      <th>Labels</th>\n",
              "    </tr>\n",
              "  </thead>\n",
              "  <tbody>\n",
              "    <tr>\n",
              "      <th>0</th>\n",
              "      <td>1</td>\n",
              "      <td>CA-2016-152156</td>\n",
              "      <td>2016-11-08</td>\n",
              "      <td>2016-11-11</td>\n",
              "      <td>Second Class</td>\n",
              "      <td>CG-12520</td>\n",
              "      <td>Claire Gute</td>\n",
              "      <td>Consumer</td>\n",
              "      <td>United States</td>\n",
              "      <td>Henderson</td>\n",
              "      <td>Kentucky</td>\n",
              "      <td>42420</td>\n",
              "      <td>South</td>\n",
              "      <td>FUR-BO-10001798</td>\n",
              "      <td>Furniture</td>\n",
              "      <td>Bookcases</td>\n",
              "      <td>Bush Somerset Collection Bookcase</td>\n",
              "      <td>0.011552</td>\n",
              "      <td>2</td>\n",
              "      <td>0.00</td>\n",
              "      <td>0.442794</td>\n",
              "      <td>0</td>\n",
              "      <td>0</td>\n",
              "    </tr>\n",
              "    <tr>\n",
              "      <th>1</th>\n",
              "      <td>2</td>\n",
              "      <td>CA-2016-152156</td>\n",
              "      <td>2016-11-08</td>\n",
              "      <td>2016-11-11</td>\n",
              "      <td>Second Class</td>\n",
              "      <td>CG-12520</td>\n",
              "      <td>Claire Gute</td>\n",
              "      <td>Consumer</td>\n",
              "      <td>United States</td>\n",
              "      <td>Henderson</td>\n",
              "      <td>Kentucky</td>\n",
              "      <td>42420</td>\n",
              "      <td>South</td>\n",
              "      <td>FUR-CH-10000454</td>\n",
              "      <td>Furniture</td>\n",
              "      <td>Chairs</td>\n",
              "      <td>Hon Deluxe Fabric Upholstered Stacking Chairs,...</td>\n",
              "      <td>0.032313</td>\n",
              "      <td>3</td>\n",
              "      <td>0.00</td>\n",
              "      <td>0.454639</td>\n",
              "      <td>0</td>\n",
              "      <td>0</td>\n",
              "    </tr>\n",
              "    <tr>\n",
              "      <th>2</th>\n",
              "      <td>3</td>\n",
              "      <td>CA-2016-138688</td>\n",
              "      <td>2016-06-12</td>\n",
              "      <td>2016-06-16</td>\n",
              "      <td>Second Class</td>\n",
              "      <td>DV-13045</td>\n",
              "      <td>Darrin Van Huff</td>\n",
              "      <td>Corporate</td>\n",
              "      <td>United States</td>\n",
              "      <td>Los Angeles</td>\n",
              "      <td>California</td>\n",
              "      <td>90036</td>\n",
              "      <td>West</td>\n",
              "      <td>OFF-LA-10000240</td>\n",
              "      <td>Office Supplies</td>\n",
              "      <td>Labels</td>\n",
              "      <td>Self-Adhesive Address Labels for Typewriters b...</td>\n",
              "      <td>0.000626</td>\n",
              "      <td>2</td>\n",
              "      <td>0.00</td>\n",
              "      <td>0.440458</td>\n",
              "      <td>0</td>\n",
              "      <td>0</td>\n",
              "    </tr>\n",
              "    <tr>\n",
              "      <th>3</th>\n",
              "      <td>4</td>\n",
              "      <td>US-2015-108966</td>\n",
              "      <td>2015-10-11</td>\n",
              "      <td>2015-10-18</td>\n",
              "      <td>Standard Class</td>\n",
              "      <td>SO-20335</td>\n",
              "      <td>Sean O'Donnell</td>\n",
              "      <td>Consumer</td>\n",
              "      <td>United States</td>\n",
              "      <td>Fort Lauderdale</td>\n",
              "      <td>Florida</td>\n",
              "      <td>33311</td>\n",
              "      <td>South</td>\n",
              "      <td>FUR-TA-10000577</td>\n",
              "      <td>Furniture</td>\n",
              "      <td>Tables</td>\n",
              "      <td>Bretford CR4500 Series Slim Rectangular Table</td>\n",
              "      <td>0.042280</td>\n",
              "      <td>5</td>\n",
              "      <td>0.45</td>\n",
              "      <td>0.414464</td>\n",
              "      <td>0</td>\n",
              "      <td>0</td>\n",
              "    </tr>\n",
              "    <tr>\n",
              "      <th>4</th>\n",
              "      <td>5</td>\n",
              "      <td>US-2015-108966</td>\n",
              "      <td>2015-10-11</td>\n",
              "      <td>2015-10-18</td>\n",
              "      <td>Standard Class</td>\n",
              "      <td>SO-20335</td>\n",
              "      <td>Sean O'Donnell</td>\n",
              "      <td>Consumer</td>\n",
              "      <td>United States</td>\n",
              "      <td>Fort Lauderdale</td>\n",
              "      <td>Florida</td>\n",
              "      <td>33311</td>\n",
              "      <td>South</td>\n",
              "      <td>OFF-ST-10000760</td>\n",
              "      <td>Office Supplies</td>\n",
              "      <td>Storage</td>\n",
              "      <td>Eldon Fold 'N Roll Cart System</td>\n",
              "      <td>0.000968</td>\n",
              "      <td>2</td>\n",
              "      <td>0.20</td>\n",
              "      <td>0.440168</td>\n",
              "      <td>0</td>\n",
              "      <td>0</td>\n",
              "    </tr>\n",
              "  </tbody>\n",
              "</table>\n",
              "</div>"
            ],
            "text/plain": [
              "   Row ID        Order ID  Order Date  ...    Profit outlier Labels\n",
              "0       1  CA-2016-152156  2016-11-08  ...  0.442794       0      0\n",
              "1       2  CA-2016-152156  2016-11-08  ...  0.454639       0      0\n",
              "2       3  CA-2016-138688  2016-06-12  ...  0.440458       0      0\n",
              "3       4  US-2015-108966  2015-10-11  ...  0.414464       0      0\n",
              "4       5  US-2015-108966  2015-10-11  ...  0.440168       0      0\n",
              "\n",
              "[5 rows x 23 columns]"
            ]
          },
          "metadata": {},
          "execution_count": 153
        }
      ]
    },
    {
      "cell_type": "code",
      "metadata": {
        "id": "mUcBFzGSmyCv"
      },
      "source": [
        "# split into independent variables and target variable \n",
        "X = df[['Sales','Profit']]\n",
        "y = df['Labels']"
      ],
      "execution_count": 154,
      "outputs": []
    },
    {
      "cell_type": "markdown",
      "metadata": {
        "id": "kel0P9MKjAzw"
      },
      "source": [
        "**Check Anomalies**"
      ]
    },
    {
      "cell_type": "code",
      "metadata": {
        "colab": {
          "base_uri": "https://localhost:8080/",
          "height": 521
        },
        "id": "2Sy6II9-ZVSo",
        "outputId": "fb7d2a26-4962-4046-e081-1aec1627bd46"
      },
      "source": [
        "df[df['Labels'] == 1].head()"
      ],
      "execution_count": 155,
      "outputs": [
        {
          "output_type": "execute_result",
          "data": {
            "text/html": [
              "<div>\n",
              "<style scoped>\n",
              "    .dataframe tbody tr th:only-of-type {\n",
              "        vertical-align: middle;\n",
              "    }\n",
              "\n",
              "    .dataframe tbody tr th {\n",
              "        vertical-align: top;\n",
              "    }\n",
              "\n",
              "    .dataframe thead th {\n",
              "        text-align: right;\n",
              "    }\n",
              "</style>\n",
              "<table border=\"1\" class=\"dataframe\">\n",
              "  <thead>\n",
              "    <tr style=\"text-align: right;\">\n",
              "      <th></th>\n",
              "      <th>Row ID</th>\n",
              "      <th>Order ID</th>\n",
              "      <th>Order Date</th>\n",
              "      <th>Ship Date</th>\n",
              "      <th>Ship Mode</th>\n",
              "      <th>Customer ID</th>\n",
              "      <th>Customer Name</th>\n",
              "      <th>Segment</th>\n",
              "      <th>Country</th>\n",
              "      <th>City</th>\n",
              "      <th>State</th>\n",
              "      <th>Postal Code</th>\n",
              "      <th>Region</th>\n",
              "      <th>Product ID</th>\n",
              "      <th>Category</th>\n",
              "      <th>Sub-Category</th>\n",
              "      <th>Product Name</th>\n",
              "      <th>Sales</th>\n",
              "      <th>Quantity</th>\n",
              "      <th>Discount</th>\n",
              "      <th>Profit</th>\n",
              "      <th>outlier</th>\n",
              "      <th>Labels</th>\n",
              "    </tr>\n",
              "  </thead>\n",
              "  <tbody>\n",
              "    <tr>\n",
              "      <th>27</th>\n",
              "      <td>28</td>\n",
              "      <td>US-2015-150630</td>\n",
              "      <td>2015-09-17</td>\n",
              "      <td>2015-09-21</td>\n",
              "      <td>Standard Class</td>\n",
              "      <td>TB-21520</td>\n",
              "      <td>Tracy Blumstein</td>\n",
              "      <td>Consumer</td>\n",
              "      <td>United States</td>\n",
              "      <td>Philadelphia</td>\n",
              "      <td>Pennsylvania</td>\n",
              "      <td>19140</td>\n",
              "      <td>East</td>\n",
              "      <td>FUR-BO-10004834</td>\n",
              "      <td>Furniture</td>\n",
              "      <td>Bookcases</td>\n",
              "      <td>Riverside Palais Royal Lawyers Bookcase, Royal...</td>\n",
              "      <td>0.136186</td>\n",
              "      <td>7</td>\n",
              "      <td>0.5</td>\n",
              "      <td>0.328996</td>\n",
              "      <td>1</td>\n",
              "      <td>1</td>\n",
              "    </tr>\n",
              "    <tr>\n",
              "      <th>165</th>\n",
              "      <td>166</td>\n",
              "      <td>CA-2014-139892</td>\n",
              "      <td>2014-09-08</td>\n",
              "      <td>2014-09-12</td>\n",
              "      <td>Standard Class</td>\n",
              "      <td>BM-11140</td>\n",
              "      <td>Becky Martin</td>\n",
              "      <td>Consumer</td>\n",
              "      <td>United States</td>\n",
              "      <td>San Antonio</td>\n",
              "      <td>Texas</td>\n",
              "      <td>78207</td>\n",
              "      <td>Central</td>\n",
              "      <td>TEC-MA-10000822</td>\n",
              "      <td>Technology</td>\n",
              "      <td>Machines</td>\n",
              "      <td>Lexmark MX611dhe Monochrome Laser Printer</td>\n",
              "      <td>0.360434</td>\n",
              "      <td>8</td>\n",
              "      <td>0.4</td>\n",
              "      <td>0.349333</td>\n",
              "      <td>1</td>\n",
              "      <td>1</td>\n",
              "    </tr>\n",
              "    <tr>\n",
              "      <th>251</th>\n",
              "      <td>252</td>\n",
              "      <td>CA-2016-145625</td>\n",
              "      <td>2016-09-11</td>\n",
              "      <td>2016-09-17</td>\n",
              "      <td>Standard Class</td>\n",
              "      <td>KC-16540</td>\n",
              "      <td>Kelly Collister</td>\n",
              "      <td>Consumer</td>\n",
              "      <td>United States</td>\n",
              "      <td>San Diego</td>\n",
              "      <td>California</td>\n",
              "      <td>92037</td>\n",
              "      <td>West</td>\n",
              "      <td>TEC-AC-10003832</td>\n",
              "      <td>Technology</td>\n",
              "      <td>Accessories</td>\n",
              "      <td>Logitech P710e Mobile Speakerphone</td>\n",
              "      <td>0.147845</td>\n",
              "      <td>13</td>\n",
              "      <td>0.0</td>\n",
              "      <td>0.482400</td>\n",
              "      <td>1</td>\n",
              "      <td>1</td>\n",
              "    </tr>\n",
              "    <tr>\n",
              "      <th>262</th>\n",
              "      <td>263</td>\n",
              "      <td>US-2014-106992</td>\n",
              "      <td>2014-09-19</td>\n",
              "      <td>2014-09-21</td>\n",
              "      <td>Second Class</td>\n",
              "      <td>SB-20290</td>\n",
              "      <td>Sean Braxton</td>\n",
              "      <td>Corporate</td>\n",
              "      <td>United States</td>\n",
              "      <td>Houston</td>\n",
              "      <td>Texas</td>\n",
              "      <td>77036</td>\n",
              "      <td>Central</td>\n",
              "      <td>TEC-MA-10000822</td>\n",
              "      <td>Technology</td>\n",
              "      <td>Machines</td>\n",
              "      <td>Lexmark MX611dhe Monochrome Laser Printer</td>\n",
              "      <td>0.135150</td>\n",
              "      <td>3</td>\n",
              "      <td>0.4</td>\n",
              "      <td>0.406000</td>\n",
              "      <td>1</td>\n",
              "      <td>1</td>\n",
              "    </tr>\n",
              "    <tr>\n",
              "      <th>318</th>\n",
              "      <td>319</td>\n",
              "      <td>CA-2014-164973</td>\n",
              "      <td>2014-11-04</td>\n",
              "      <td>2014-11-09</td>\n",
              "      <td>Standard Class</td>\n",
              "      <td>NM-18445</td>\n",
              "      <td>Nathan Mautz</td>\n",
              "      <td>Home Office</td>\n",
              "      <td>United States</td>\n",
              "      <td>New York City</td>\n",
              "      <td>New York</td>\n",
              "      <td>10024</td>\n",
              "      <td>East</td>\n",
              "      <td>TEC-MA-10002927</td>\n",
              "      <td>Technology</td>\n",
              "      <td>Machines</td>\n",
              "      <td>Canon imageCLASS MF7460 Monochrome Digital Las...</td>\n",
              "      <td>0.176320</td>\n",
              "      <td>2</td>\n",
              "      <td>0.0</td>\n",
              "      <td>0.573066</td>\n",
              "      <td>1</td>\n",
              "      <td>1</td>\n",
              "    </tr>\n",
              "  </tbody>\n",
              "</table>\n",
              "</div>"
            ],
            "text/plain": [
              "     Row ID        Order ID  Order Date  ...    Profit outlier Labels\n",
              "27       28  US-2015-150630  2015-09-17  ...  0.328996       1      1\n",
              "165     166  CA-2014-139892  2014-09-08  ...  0.349333       1      1\n",
              "251     252  CA-2016-145625  2016-09-11  ...  0.482400       1      1\n",
              "262     263  US-2014-106992  2014-09-19  ...  0.406000       1      1\n",
              "318     319  CA-2014-164973  2014-11-04  ...  0.573066       1      1\n",
              "\n",
              "[5 rows x 23 columns]"
            ]
          },
          "metadata": {},
          "execution_count": 155
        }
      ]
    },
    {
      "cell_type": "markdown",
      "metadata": {
        "id": "7OfqNNdFXbBw"
      },
      "source": [
        "#**Data Splitting with Labels**"
      ]
    },
    {
      "cell_type": "code",
      "metadata": {
        "colab": {
          "base_uri": "https://localhost:8080/"
        },
        "id": "VTHiSkIXWWcH",
        "outputId": "411bf327-71a4-4cf4-f017-3ceb2209f60f"
      },
      "source": [
        "#from sklearn.metrics import f1_score, precision_score, recall_score, confusion_matrix\n",
        "from sklearn.model_selection import train_test_split\n",
        "\n",
        "X_train, X_test, y_train, y_test = train_test_split(X, y, test_size = 0.2, random_state = 21)\n",
        "\n",
        "print('Training Data for Modeling: ' + str(X_train.shape))\n",
        "print('Test Data For Predictions: ' + str(X_test.shape))"
      ],
      "execution_count": 156,
      "outputs": [
        {
          "output_type": "stream",
          "name": "stdout",
          "text": [
            "Training Data for Modeling: (7995, 2)\n",
            "Test Data For Predictions: (1999, 2)\n"
          ]
        }
      ]
    },
    {
      "cell_type": "code",
      "metadata": {
        "colab": {
          "base_uri": "https://localhost:8080/"
        },
        "id": "SVhNMiK11Ov7",
        "outputId": "03406edb-a379-4277-9582-ccb2f195bafb"
      },
      "source": [
        "from pyod.models.iforest import IForest\n",
        "# train an outlier detector\n",
        "clf_name = 'IForest'\n",
        "clf = IForest()\n",
        "clf.fit(X_train)"
      ],
      "execution_count": 157,
      "outputs": [
        {
          "output_type": "execute_result",
          "data": {
            "text/plain": [
              "IForest(behaviour='old', bootstrap=False, contamination=0.1, max_features=1.0,\n",
              "    max_samples='auto', n_estimators=100, n_jobs=1, random_state=None,\n",
              "    verbose=0)"
            ]
          },
          "metadata": {},
          "execution_count": 157
        }
      ]
    },
    {
      "cell_type": "code",
      "metadata": {
        "colab": {
          "base_uri": "https://localhost:8080/"
        },
        "id": "DrHIBrKbxFjR",
        "outputId": "c06be7e7-4a02-4b1b-e4fc-87cc00c662fd"
      },
      "source": [
        "from pyod.models.auto_encoder import AutoEncoder\n",
        "clf_name = 'Autoencoder'\n",
        "clf = AutoEncoder(hidden_neurons =[25,10,2,10,25],hidden_activation='relu',output_activation='sigmoid',\n",
        "                  loss='mean_squared_error',optimizer='adam',dropout_rate=0.2,\n",
        "                  epochs=100,batch_size=32,l2_regularizer=0.1,validation_size=0.1,contamination=outliers_fraction)\n",
        "clf.fit(X_train)"
      ],
      "execution_count": 161,
      "outputs": [
        {
          "output_type": "stream",
          "name": "stdout",
          "text": [
            "Model: \"sequential_1\"\n",
            "_________________________________________________________________\n",
            " Layer (type)                Output Shape              Param #   \n",
            "=================================================================\n",
            " dense_32 (Dense)            (None, 2)                 6         \n",
            "                                                                 \n",
            " dropout_7 (Dropout)         (None, 2)                 0         \n",
            "                                                                 \n",
            " dense_33 (Dense)            (None, 2)                 6         \n",
            "                                                                 \n",
            " dropout_8 (Dropout)         (None, 2)                 0         \n",
            "                                                                 \n",
            " dense_34 (Dense)            (None, 25)                75        \n",
            "                                                                 \n",
            " dropout_9 (Dropout)         (None, 25)                0         \n",
            "                                                                 \n",
            " dense_35 (Dense)            (None, 10)                260       \n",
            "                                                                 \n",
            " dropout_10 (Dropout)        (None, 10)                0         \n",
            "                                                                 \n",
            " dense_36 (Dense)            (None, 2)                 22        \n",
            "                                                                 \n",
            " dropout_11 (Dropout)        (None, 2)                 0         \n",
            "                                                                 \n",
            " dense_37 (Dense)            (None, 10)                30        \n",
            "                                                                 \n",
            " dropout_12 (Dropout)        (None, 10)                0         \n",
            "                                                                 \n",
            " dense_38 (Dense)            (None, 25)                275       \n",
            "                                                                 \n",
            " dropout_13 (Dropout)        (None, 25)                0         \n",
            "                                                                 \n",
            " dense_39 (Dense)            (None, 2)                 52        \n",
            "                                                                 \n",
            "=================================================================\n",
            "Total params: 726\n",
            "Trainable params: 726\n",
            "Non-trainable params: 0\n",
            "_________________________________________________________________\n",
            "None\n",
            "Epoch 1/100\n",
            "225/225 [==============================] - 4s 10ms/step - loss: 1.3392 - val_loss: 0.6698\n",
            "Epoch 2/100\n",
            "225/225 [==============================] - 2s 9ms/step - loss: 1.1940 - val_loss: 0.6049\n",
            "Epoch 3/100\n",
            "225/225 [==============================] - 2s 8ms/step - loss: 1.1268 - val_loss: 0.5714\n",
            "Epoch 4/100\n",
            "225/225 [==============================] - 2s 9ms/step - loss: 1.0955 - val_loss: 0.5485\n",
            "Epoch 5/100\n",
            "225/225 [==============================] - 2s 9ms/step - loss: 1.0869 - val_loss: 0.5294\n",
            "Epoch 6/100\n",
            "225/225 [==============================] - 2s 8ms/step - loss: 1.0648 - val_loss: 0.5156\n",
            "Epoch 7/100\n",
            "225/225 [==============================] - 2s 8ms/step - loss: 1.0649 - val_loss: 0.5018\n",
            "Epoch 8/100\n",
            "225/225 [==============================] - 2s 9ms/step - loss: 1.0451 - val_loss: 0.4955\n",
            "Epoch 9/100\n",
            "225/225 [==============================] - 2s 8ms/step - loss: 1.0398 - val_loss: 0.4833\n",
            "Epoch 10/100\n",
            "225/225 [==============================] - 2s 8ms/step - loss: 1.0246 - val_loss: 0.4720\n",
            "Epoch 11/100\n",
            "225/225 [==============================] - 2s 8ms/step - loss: 1.0168 - val_loss: 0.4671\n",
            "Epoch 12/100\n",
            "225/225 [==============================] - 2s 8ms/step - loss: 1.0203 - val_loss: 0.4620\n",
            "Epoch 13/100\n",
            "225/225 [==============================] - 2s 8ms/step - loss: 1.0061 - val_loss: 0.4485\n",
            "Epoch 14/100\n",
            "225/225 [==============================] - 2s 8ms/step - loss: 0.9964 - val_loss: 0.4448\n",
            "Epoch 15/100\n",
            "225/225 [==============================] - 2s 8ms/step - loss: 0.9814 - val_loss: 0.4434\n",
            "Epoch 16/100\n",
            "225/225 [==============================] - 2s 8ms/step - loss: 0.9819 - val_loss: 0.4395\n",
            "Epoch 17/100\n",
            "225/225 [==============================] - 2s 8ms/step - loss: 0.9856 - val_loss: 0.4395\n",
            "Epoch 18/100\n",
            "225/225 [==============================] - 2s 8ms/step - loss: 0.9863 - val_loss: 0.4359\n",
            "Epoch 19/100\n",
            "225/225 [==============================] - 2s 9ms/step - loss: 0.9782 - val_loss: 0.4251\n",
            "Epoch 20/100\n",
            "225/225 [==============================] - 2s 9ms/step - loss: 0.9814 - val_loss: 0.4248\n",
            "Epoch 21/100\n",
            "225/225 [==============================] - 2s 8ms/step - loss: 0.9897 - val_loss: 0.4274\n",
            "Epoch 22/100\n",
            "225/225 [==============================] - 2s 9ms/step - loss: 0.9683 - val_loss: 0.4181\n",
            "Epoch 23/100\n",
            "225/225 [==============================] - 2s 8ms/step - loss: 0.9706 - val_loss: 0.4249\n",
            "Epoch 24/100\n",
            "225/225 [==============================] - 2s 8ms/step - loss: 0.9709 - val_loss: 0.4237\n",
            "Epoch 25/100\n",
            "225/225 [==============================] - 2s 8ms/step - loss: 0.9657 - val_loss: 0.4351\n",
            "Epoch 26/100\n",
            "225/225 [==============================] - 2s 8ms/step - loss: 0.9679 - val_loss: 0.4398\n",
            "Epoch 27/100\n",
            "225/225 [==============================] - 2s 8ms/step - loss: 0.9588 - val_loss: 0.4146\n",
            "Epoch 28/100\n",
            "225/225 [==============================] - 2s 8ms/step - loss: 0.9678 - val_loss: 0.4166\n",
            "Epoch 29/100\n",
            "225/225 [==============================] - 2s 9ms/step - loss: 0.9631 - val_loss: 0.4169\n",
            "Epoch 30/100\n",
            "225/225 [==============================] - 2s 8ms/step - loss: 0.9593 - val_loss: 0.4144\n",
            "Epoch 31/100\n",
            "225/225 [==============================] - 2s 8ms/step - loss: 0.9642 - val_loss: 0.4192\n",
            "Epoch 32/100\n",
            "225/225 [==============================] - 2s 9ms/step - loss: 0.9714 - val_loss: 0.4101\n",
            "Epoch 33/100\n",
            "225/225 [==============================] - 2s 8ms/step - loss: 0.9671 - val_loss: 0.4106\n",
            "Epoch 34/100\n",
            "225/225 [==============================] - 2s 8ms/step - loss: 0.9502 - val_loss: 0.4233\n",
            "Epoch 35/100\n",
            "225/225 [==============================] - 2s 8ms/step - loss: 0.9614 - val_loss: 0.4112\n",
            "Epoch 36/100\n",
            "225/225 [==============================] - 2s 8ms/step - loss: 0.9459 - val_loss: 0.4046\n",
            "Epoch 37/100\n",
            "225/225 [==============================] - 2s 9ms/step - loss: 0.9511 - val_loss: 0.4078\n",
            "Epoch 38/100\n",
            "225/225 [==============================] - 2s 8ms/step - loss: 0.9436 - val_loss: 0.4172\n",
            "Epoch 39/100\n",
            "225/225 [==============================] - 2s 8ms/step - loss: 0.9470 - val_loss: 0.4180\n",
            "Epoch 40/100\n",
            "225/225 [==============================] - 2s 8ms/step - loss: 0.9384 - val_loss: 0.4050\n",
            "Epoch 41/100\n",
            "225/225 [==============================] - 2s 8ms/step - loss: 0.9534 - val_loss: 0.4114\n",
            "Epoch 42/100\n",
            "225/225 [==============================] - 2s 9ms/step - loss: 0.9365 - val_loss: 0.4067\n",
            "Epoch 43/100\n",
            "225/225 [==============================] - 2s 8ms/step - loss: 0.9441 - val_loss: 0.4049\n",
            "Epoch 44/100\n",
            "225/225 [==============================] - 2s 8ms/step - loss: 0.9629 - val_loss: 0.3983\n",
            "Epoch 45/100\n",
            "225/225 [==============================] - 2s 8ms/step - loss: 0.9452 - val_loss: 0.4012\n",
            "Epoch 46/100\n",
            "225/225 [==============================] - 2s 8ms/step - loss: 0.9492 - val_loss: 0.4017\n",
            "Epoch 47/100\n",
            "225/225 [==============================] - 2s 8ms/step - loss: 0.9315 - val_loss: 0.4081\n",
            "Epoch 48/100\n",
            "225/225 [==============================] - 2s 9ms/step - loss: 0.9512 - val_loss: 0.3973\n",
            "Epoch 49/100\n",
            "225/225 [==============================] - 2s 8ms/step - loss: 0.9696 - val_loss: 0.3951\n",
            "Epoch 50/100\n",
            "225/225 [==============================] - 2s 8ms/step - loss: 0.9425 - val_loss: 0.4042\n",
            "Epoch 51/100\n",
            "225/225 [==============================] - 2s 8ms/step - loss: 0.9582 - val_loss: 0.3993\n",
            "Epoch 52/100\n",
            "225/225 [==============================] - 2s 8ms/step - loss: 0.9385 - val_loss: 0.4298\n",
            "Epoch 53/100\n",
            "225/225 [==============================] - 2s 8ms/step - loss: 0.9600 - val_loss: 0.4044\n",
            "Epoch 54/100\n",
            "225/225 [==============================] - 2s 9ms/step - loss: 0.9481 - val_loss: 0.3973\n",
            "Epoch 55/100\n",
            "225/225 [==============================] - 2s 8ms/step - loss: 0.9557 - val_loss: 0.4051\n",
            "Epoch 56/100\n",
            "225/225 [==============================] - 2s 8ms/step - loss: 0.9452 - val_loss: 0.4149\n",
            "Epoch 57/100\n",
            "225/225 [==============================] - 2s 8ms/step - loss: 0.9448 - val_loss: 0.4044\n",
            "Epoch 58/100\n",
            "225/225 [==============================] - 2s 8ms/step - loss: 0.9584 - val_loss: 0.4026\n",
            "Epoch 59/100\n",
            "225/225 [==============================] - 2s 8ms/step - loss: 0.9534 - val_loss: 0.3938\n",
            "Epoch 60/100\n",
            "225/225 [==============================] - 2s 8ms/step - loss: 0.9543 - val_loss: 0.4021\n",
            "Epoch 61/100\n",
            "225/225 [==============================] - 2s 8ms/step - loss: 0.9534 - val_loss: 0.4120\n",
            "Epoch 62/100\n",
            "225/225 [==============================] - 2s 8ms/step - loss: 0.9505 - val_loss: 0.3907\n",
            "Epoch 63/100\n",
            "225/225 [==============================] - 2s 9ms/step - loss: 0.9521 - val_loss: 0.4052\n",
            "Epoch 64/100\n",
            "225/225 [==============================] - 2s 9ms/step - loss: 0.9514 - val_loss: 0.3913\n",
            "Epoch 65/100\n",
            "225/225 [==============================] - 2s 8ms/step - loss: 0.9453 - val_loss: 0.3985\n",
            "Epoch 66/100\n",
            "225/225 [==============================] - 2s 8ms/step - loss: 0.9422 - val_loss: 0.4004\n",
            "Epoch 67/100\n",
            "225/225 [==============================] - 2s 9ms/step - loss: 0.9571 - val_loss: 0.3902\n",
            "Epoch 68/100\n",
            "225/225 [==============================] - 2s 9ms/step - loss: 0.9583 - val_loss: 0.3971\n",
            "Epoch 69/100\n",
            "225/225 [==============================] - 2s 9ms/step - loss: 0.9263 - val_loss: 0.4002\n",
            "Epoch 70/100\n",
            "225/225 [==============================] - 2s 9ms/step - loss: 0.9332 - val_loss: 0.3998\n",
            "Epoch 71/100\n",
            "225/225 [==============================] - 2s 9ms/step - loss: 0.9483 - val_loss: 0.3952\n",
            "Epoch 72/100\n",
            "225/225 [==============================] - 2s 9ms/step - loss: 0.9470 - val_loss: 0.3930\n",
            "Epoch 73/100\n",
            "225/225 [==============================] - 2s 8ms/step - loss: 0.9406 - val_loss: 0.4077\n",
            "Epoch 74/100\n",
            "225/225 [==============================] - 2s 8ms/step - loss: 0.9247 - val_loss: 0.4138\n",
            "Epoch 75/100\n",
            "225/225 [==============================] - 2s 8ms/step - loss: 0.9613 - val_loss: 0.4007\n",
            "Epoch 76/100\n",
            "225/225 [==============================] - 2s 9ms/step - loss: 0.9579 - val_loss: 0.4083\n",
            "Epoch 77/100\n",
            "225/225 [==============================] - 2s 9ms/step - loss: 0.9424 - val_loss: 0.3992\n",
            "Epoch 78/100\n",
            "225/225 [==============================] - 2s 8ms/step - loss: 0.9571 - val_loss: 0.4040\n",
            "Epoch 79/100\n",
            "225/225 [==============================] - 2s 9ms/step - loss: 0.9447 - val_loss: 0.3984\n",
            "Epoch 80/100\n",
            "225/225 [==============================] - 2s 9ms/step - loss: 0.9332 - val_loss: 0.4003\n",
            "Epoch 81/100\n",
            "225/225 [==============================] - 2s 9ms/step - loss: 0.9459 - val_loss: 0.4043\n",
            "Epoch 82/100\n",
            "225/225 [==============================] - 2s 9ms/step - loss: 0.9527 - val_loss: 0.3954\n",
            "Epoch 83/100\n",
            "225/225 [==============================] - 2s 9ms/step - loss: 0.9346 - val_loss: 0.4013\n",
            "Epoch 84/100\n",
            "225/225 [==============================] - 2s 8ms/step - loss: 0.9384 - val_loss: 0.4107\n",
            "Epoch 85/100\n",
            "225/225 [==============================] - 2s 9ms/step - loss: 0.9511 - val_loss: 0.4074\n",
            "Epoch 86/100\n",
            "225/225 [==============================] - 2s 9ms/step - loss: 0.9375 - val_loss: 0.3925\n",
            "Epoch 87/100\n",
            "225/225 [==============================] - 2s 9ms/step - loss: 0.9353 - val_loss: 0.3985\n",
            "Epoch 88/100\n",
            "225/225 [==============================] - 2s 8ms/step - loss: 0.9473 - val_loss: 0.3979\n",
            "Epoch 89/100\n",
            "225/225 [==============================] - 2s 8ms/step - loss: 0.9493 - val_loss: 0.3969\n",
            "Epoch 90/100\n",
            "225/225 [==============================] - 2s 9ms/step - loss: 0.9447 - val_loss: 0.3983\n",
            "Epoch 91/100\n",
            "225/225 [==============================] - 2s 8ms/step - loss: 0.9591 - val_loss: 0.4003\n",
            "Epoch 92/100\n",
            "225/225 [==============================] - 2s 8ms/step - loss: 0.9475 - val_loss: 0.3867\n",
            "Epoch 93/100\n",
            "225/225 [==============================] - 2s 8ms/step - loss: 0.9382 - val_loss: 0.3992\n",
            "Epoch 94/100\n",
            "225/225 [==============================] - 2s 8ms/step - loss: 0.9425 - val_loss: 0.3904\n",
            "Epoch 95/100\n",
            "225/225 [==============================] - 2s 9ms/step - loss: 0.9266 - val_loss: 0.3952\n",
            "Epoch 96/100\n",
            "225/225 [==============================] - 2s 8ms/step - loss: 0.9393 - val_loss: 0.3922\n",
            "Epoch 97/100\n",
            "225/225 [==============================] - 2s 9ms/step - loss: 0.9357 - val_loss: 0.3903\n",
            "Epoch 98/100\n",
            "225/225 [==============================] - 2s 8ms/step - loss: 0.9435 - val_loss: 0.4028\n",
            "Epoch 99/100\n",
            "225/225 [==============================] - 2s 9ms/step - loss: 0.9226 - val_loss: 0.3888\n",
            "Epoch 100/100\n",
            "225/225 [==============================] - 2s 9ms/step - loss: 0.9315 - val_loss: 0.4013\n"
          ]
        },
        {
          "output_type": "execute_result",
          "data": {
            "text/plain": [
              "AutoEncoder(batch_size=32, contamination=0.01, dropout_rate=0.2, epochs=100,\n",
              "      hidden_activation='relu', hidden_neurons=[25, 10, 2, 10, 25],\n",
              "      l2_regularizer=0.1, loss='mean_squared_error', optimizer='adam',\n",
              "      output_activation='sigmoid', preprocessing=True, random_state=None,\n",
              "      validation_size=0.1, verbose=1)"
            ]
          },
          "metadata": {},
          "execution_count": 161
        }
      ]
    },
    {
      "cell_type": "code",
      "metadata": {
        "colab": {
          "base_uri": "https://localhost:8080/"
        },
        "id": "2-eYSTEQxU-p",
        "outputId": "4aff7920-c479-4bf3-b6f5-a219a87ba749"
      },
      "source": [
        "# get the prediction labels and outlier scores of the training data\n",
        "y_train_pred = clf.labels_  # binary labels (0: inliers, 1: outliers)\n",
        "y_train_scores = clf.decision_scores_  # raw outlier scores\n",
        "y_train_pred"
      ],
      "execution_count": 162,
      "outputs": [
        {
          "output_type": "execute_result",
          "data": {
            "text/plain": [
              "array([0, 0, 0, ..., 0, 0, 0])"
            ]
          },
          "metadata": {},
          "execution_count": 162
        }
      ]
    },
    {
      "cell_type": "code",
      "metadata": {
        "id": "ezeJSFE4tzih"
      },
      "source": [
        "!pip3 install scikit-plot"
      ],
      "execution_count": null,
      "outputs": []
    },
    {
      "cell_type": "code",
      "metadata": {
        "colab": {
          "base_uri": "https://localhost:8080/",
          "height": 522
        },
        "id": "d8IJhusxsvzY",
        "outputId": "794697bd-ef14-47f0-9c99-e9b9076f94b9"
      },
      "source": [
        "import scikitplot as skplt\n",
        "\n",
        "# plot the comfusion matrix in the training set \n",
        "skplt.metrics.plot_confusion_matrix(y_train,y_train_pred, normalize=False, title=\"Consfusion Matrix on Training Set\")\n",
        "plt.show()"
      ],
      "execution_count": 163,
      "outputs": [
        {
          "output_type": "display_data",
          "data": {
            "image/png": "[encoded data removed]",
            "text/plain": [
              "<Figure size 864x576 with 2 Axes>"
            ]
          },
          "metadata": {}
        }
      ]
    },
    {
      "cell_type": "code",
      "metadata": {
        "colab": {
          "base_uri": "https://localhost:8080/"
        },
        "id": "ZHfTuFaqz-Qd",
        "outputId": "afdec5eb-3044-4550-e19f-4abcb3253562"
      },
      "source": [
        "import warnings\n",
        "warnings.filterwarnings('ignore')\n",
        "\n",
        "# get the prediction on the test data\n",
        "y_test_pred = clf.predict(X_test)  # outlier labels (0 or 1)\n",
        "y_test_scores = clf.decision_function(X_test)  # outlier scores\n",
        "y_test_pred"
      ],
      "execution_count": 164,
      "outputs": [
        {
          "output_type": "execute_result",
          "data": {
            "text/plain": [
              "array([0, 0, 0, ..., 0, 0, 0])"
            ]
          },
          "metadata": {},
          "execution_count": 164
        }
      ]
    },
    {
      "cell_type": "code",
      "metadata": {
        "colab": {
          "base_uri": "https://localhost:8080/"
        },
        "id": "Lzup3lOr0LmV",
        "outputId": "3e763c37-2cb1-48fb-cb3c-dd4db34f5925"
      },
      "source": [
        "from pyod.utils.data import evaluate_print\n",
        "# evaluate and print the results\n",
        "print(\"\\nOn Training Data:\")\n",
        "evaluate_print(clf_name, y_train, y_train_scores)\n",
        "print(\"\\nOn Test Data:\")\n",
        "evaluate_print(clf_name, y_test, y_test_scores)"
      ],
      "execution_count": 165,
      "outputs": [
        {
          "output_type": "stream",
          "name": "stdout",
          "text": [
            "\n",
            "On Training Data:\n",
            "Autoencoder ROC:0.9999, precision @ rank n:0.9595\n",
            "\n",
            "On Test Data:\n",
            "Autoencoder ROC:0.9999, precision @ rank n:0.9615\n"
          ]
        }
      ]
    },
    {
      "cell_type": "code",
      "metadata": {
        "colab": {
          "base_uri": "https://localhost:8080/",
          "height": 522
        },
        "id": "7VTWV-XUsoWY",
        "outputId": "0db4f15c-0005-4660-bc94-8b9f148cf718"
      },
      "source": [
        "import scikitplot as skplt\n",
        "\n",
        "# plot the comfusion matrix in the test set \n",
        "skplt.metrics.plot_confusion_matrix(y_test,y_test_pred, normalize=False, title=\"Consfusion Matrix on Test Set\")\n",
        "plt.show()"
      ],
      "execution_count": 166,
      "outputs": [
        {
          "output_type": "display_data",
          "data": {
            "image/png": "[encoded data removed]",
            "text/plain": [
              "<Figure size 864x576 with 2 Axes>"
            ]
          },
          "metadata": {}
        }
      ]
    },
    {
      "cell_type": "code",
      "metadata": {
        "colab": {
          "base_uri": "https://localhost:8080/",
          "height": 646
        },
        "id": "nL_DrbLR1Y9a",
        "outputId": "4453b7ac-45d5-4861-afc4-53c2dd50bc73"
      },
      "source": [
        "from pyod.utils.example import visualize\n",
        "\n",
        "#Visualize the outliers\n",
        "visualize(clf_name, X_train, y_train, X_test, y_test, y_train_pred,\n",
        "          y_test_pred, show_figure=True, save_figure=False)"
      ],
      "execution_count": 167,
      "outputs": [
        {
          "output_type": "display_data",
          "data": {
            "image/png": "[encoded data removed]",
            "text/plain": [
              "<Figure size 864x720 with 4 Axes>"
            ]
          },
          "metadata": {}
        }
      ]
    },
    {
      "cell_type": "markdown",
      "metadata": {
        "id": "EydQdLZ2qKZP"
      },
      "source": [
        "**Autoencoders with Keras**"
      ]
    },
    {
      "cell_type": "code",
      "metadata": {
        "id": "HB077oITqAlg"
      },
      "source": [
        "from keras.models import Model\n",
        "from keras.layers import Input, Dense\n",
        "from keras import regularizers"
      ],
      "execution_count": 170,
      "outputs": []
    },
    {
      "cell_type": "code",
      "metadata": {
        "id": "nJCK2oKRpCh5"
      },
      "source": [
        "# Autoencocer\n",
        "\n",
        "no_epochs = 50\n",
        "batch_size = 32\n",
        "input_dim = X_train.shape[1]\n",
        "\n",
        "encoding_dim = 10\n",
        "hidden_dim = encoding_dim / 2 # keeping hidden half\n",
        "learning_rate = 1e-7\n",
        "\n",
        "\n",
        "#model starts here\n",
        "input_layer = Input(shape=(input_dim, ))\n",
        "encoder = Dense(encoding_dim, activation = 'tanh', activity_regularizer = regularizers.l1(learning_rate)) (input_layer)\n",
        "encoder = Dense(hidden_dim, activation = 'relu')(encoder)\n",
        "decoder = Dense(hidden_dim, activation = 'tanh')(encoder)\n",
        "decoder = Dense(input_dim, activation = 'relu')(decoder)\n",
        "\n",
        "autoencoder = Model(inputs = input_layer, outputs = decoder)"
      ],
      "execution_count": 172,
      "outputs": []
    },
    {
      "cell_type": "code",
      "metadata": {
        "colab": {
          "base_uri": "https://localhost:8080/"
        },
        "id": "ZrEuuQhCqcMQ",
        "outputId": "9c417650-ea62-441f-db7a-d534e47477d9"
      },
      "source": [
        "# compile and run the model\n",
        "autoencoder.compile(metrics = ['accuracy'],\n",
        "                   loss = 'mean_squared_error',\n",
        "                   optimizer = 'adam')\n",
        "\n",
        "hist = autoencoder.fit(X_train, X_train,\n",
        "                      epochs =no_epochs,\n",
        "                      batch_size = batch_size,\n",
        "                      shuffle = True,\n",
        "                      validation_data = (X_test, X_test))"
      ],
      "execution_count": 173,
      "outputs": [
        {
          "output_type": "stream",
          "name": "stdout",
          "text": [
            "Epoch 1/50\n",
            "250/250 [==============================] - 2s 6ms/step - loss: 0.0070 - accuracy: 0.9996 - val_loss: 7.0671e-04 - val_accuracy: 0.9995\n",
            "Epoch 2/50\n",
            "250/250 [==============================] - 2s 6ms/step - loss: 4.4294e-04 - accuracy: 0.9996 - val_loss: 7.0346e-04 - val_accuracy: 0.9995\n",
            "Epoch 3/50\n",
            "250/250 [==============================] - 1s 5ms/step - loss: 4.4017e-04 - accuracy: 0.9996 - val_loss: 7.0057e-04 - val_accuracy: 0.9995\n",
            "Epoch 4/50\n",
            "250/250 [==============================] - 1s 5ms/step - loss: 4.3734e-04 - accuracy: 0.9996 - val_loss: 6.9759e-04 - val_accuracy: 0.9995\n",
            "Epoch 5/50\n",
            "250/250 [==============================] - 1s 5ms/step - loss: 4.3490e-04 - accuracy: 0.9996 - val_loss: 6.9564e-04 - val_accuracy: 0.9995\n",
            "Epoch 6/50\n",
            "250/250 [==============================] - 1s 5ms/step - loss: 4.3274e-04 - accuracy: 0.9996 - val_loss: 6.9361e-04 - val_accuracy: 0.9995\n",
            "Epoch 7/50\n",
            "250/250 [==============================] - 1s 5ms/step - loss: 4.3005e-04 - accuracy: 0.9996 - val_loss: 6.9250e-04 - val_accuracy: 0.9995\n",
            "Epoch 8/50\n",
            "250/250 [==============================] - 1s 6ms/step - loss: 4.2728e-04 - accuracy: 0.9996 - val_loss: 6.8896e-04 - val_accuracy: 0.9995\n",
            "Epoch 9/50\n",
            "250/250 [==============================] - 1s 5ms/step - loss: 4.2451e-04 - accuracy: 0.9996 - val_loss: 6.8520e-04 - val_accuracy: 0.9995\n",
            "Epoch 10/50\n",
            "250/250 [==============================] - 1s 5ms/step - loss: 4.2201e-04 - accuracy: 0.9996 - val_loss: 6.8186e-04 - val_accuracy: 0.9995\n",
            "Epoch 11/50\n",
            "250/250 [==============================] - 1s 5ms/step - loss: 4.1838e-04 - accuracy: 0.9996 - val_loss: 6.7740e-04 - val_accuracy: 0.9995\n",
            "Epoch 12/50\n",
            "250/250 [==============================] - 1s 5ms/step - loss: 4.1477e-04 - accuracy: 0.9996 - val_loss: 6.7281e-04 - val_accuracy: 0.9995\n",
            "Epoch 13/50\n",
            "250/250 [==============================] - 1s 5ms/step - loss: 4.1080e-04 - accuracy: 0.9996 - val_loss: 6.6974e-04 - val_accuracy: 0.9995\n",
            "Epoch 14/50\n",
            "250/250 [==============================] - 1s 6ms/step - loss: 4.0645e-04 - accuracy: 0.9996 - val_loss: 6.6178e-04 - val_accuracy: 0.9995\n",
            "Epoch 15/50\n",
            "250/250 [==============================] - 1s 6ms/step - loss: 4.0162e-04 - accuracy: 0.9996 - val_loss: 6.5484e-04 - val_accuracy: 0.9995\n",
            "Epoch 16/50\n",
            "250/250 [==============================] - 1s 5ms/step - loss: 3.9719e-04 - accuracy: 0.9996 - val_loss: 6.4731e-04 - val_accuracy: 0.9995\n",
            "Epoch 17/50\n",
            "250/250 [==============================] - 1s 5ms/step - loss: 3.9320e-04 - accuracy: 0.9996 - val_loss: 6.3537e-04 - val_accuracy: 0.9995\n",
            "Epoch 18/50\n",
            "250/250 [==============================] - 1s 5ms/step - loss: 3.8801e-04 - accuracy: 0.9996 - val_loss: 6.2841e-04 - val_accuracy: 0.9995\n",
            "Epoch 19/50\n",
            "250/250 [==============================] - 2s 6ms/step - loss: 3.7559e-04 - accuracy: 0.9996 - val_loss: 5.7458e-04 - val_accuracy: 0.9995\n",
            "Epoch 20/50\n",
            "250/250 [==============================] - 1s 6ms/step - loss: 3.4912e-04 - accuracy: 0.9997 - val_loss: 5.0098e-04 - val_accuracy: 0.9995\n",
            "Epoch 21/50\n",
            "250/250 [==============================] - 1s 5ms/step - loss: 1.6475e-04 - accuracy: 0.9999 - val_loss: 6.4498e-05 - val_accuracy: 1.0000\n",
            "Epoch 22/50\n",
            "250/250 [==============================] - 1s 6ms/step - loss: 7.8977e-06 - accuracy: 1.0000 - val_loss: 4.1814e-05 - val_accuracy: 1.0000\n",
            "Epoch 23/50\n",
            "250/250 [==============================] - 1s 5ms/step - loss: 5.1911e-06 - accuracy: 1.0000 - val_loss: 4.0316e-05 - val_accuracy: 1.0000\n",
            "Epoch 24/50\n",
            "250/250 [==============================] - 1s 5ms/step - loss: 4.5818e-06 - accuracy: 1.0000 - val_loss: 3.9376e-05 - val_accuracy: 1.0000\n",
            "Epoch 25/50\n",
            "250/250 [==============================] - 1s 6ms/step - loss: 4.3131e-06 - accuracy: 1.0000 - val_loss: 3.7503e-05 - val_accuracy: 1.0000\n",
            "Epoch 26/50\n",
            "250/250 [==============================] - 1s 6ms/step - loss: 4.1041e-06 - accuracy: 1.0000 - val_loss: 3.6473e-05 - val_accuracy: 1.0000\n",
            "Epoch 27/50\n",
            "250/250 [==============================] - 1s 5ms/step - loss: 3.9615e-06 - accuracy: 1.0000 - val_loss: 3.4040e-05 - val_accuracy: 1.0000\n",
            "Epoch 28/50\n",
            "250/250 [==============================] - 1s 5ms/step - loss: 3.5513e-06 - accuracy: 1.0000 - val_loss: 3.3653e-05 - val_accuracy: 1.0000\n",
            "Epoch 29/50\n",
            "250/250 [==============================] - 1s 6ms/step - loss: 3.1681e-06 - accuracy: 1.0000 - val_loss: 3.2606e-05 - val_accuracy: 1.0000\n",
            "Epoch 30/50\n",
            "250/250 [==============================] - 1s 6ms/step - loss: 3.7249e-06 - accuracy: 1.0000 - val_loss: 3.2113e-05 - val_accuracy: 1.0000\n",
            "Epoch 31/50\n",
            "250/250 [==============================] - 1s 6ms/step - loss: 3.5002e-06 - accuracy: 1.0000 - val_loss: 2.9117e-05 - val_accuracy: 1.0000\n",
            "Epoch 32/50\n",
            "250/250 [==============================] - 1s 5ms/step - loss: 3.1463e-06 - accuracy: 1.0000 - val_loss: 2.9422e-05 - val_accuracy: 1.0000\n",
            "Epoch 33/50\n",
            "250/250 [==============================] - 1s 6ms/step - loss: 3.0968e-06 - accuracy: 1.0000 - val_loss: 2.8570e-05 - val_accuracy: 1.0000\n",
            "Epoch 34/50\n",
            "250/250 [==============================] - 1s 5ms/step - loss: 2.7886e-06 - accuracy: 1.0000 - val_loss: 2.6553e-05 - val_accuracy: 1.0000\n",
            "Epoch 35/50\n",
            "250/250 [==============================] - 1s 6ms/step - loss: 2.7404e-06 - accuracy: 1.0000 - val_loss: 2.8541e-05 - val_accuracy: 1.0000\n",
            "Epoch 36/50\n",
            "250/250 [==============================] - 1s 5ms/step - loss: 2.9297e-06 - accuracy: 1.0000 - val_loss: 2.5676e-05 - val_accuracy: 1.0000\n",
            "Epoch 37/50\n",
            "250/250 [==============================] - 1s 6ms/step - loss: 2.9122e-06 - accuracy: 1.0000 - val_loss: 2.5257e-05 - val_accuracy: 1.0000\n",
            "Epoch 38/50\n",
            "250/250 [==============================] - 1s 5ms/step - loss: 2.2367e-06 - accuracy: 1.0000 - val_loss: 2.5438e-05 - val_accuracy: 1.0000\n",
            "Epoch 39/50\n",
            "250/250 [==============================] - 1s 5ms/step - loss: 2.6171e-06 - accuracy: 1.0000 - val_loss: 2.4753e-05 - val_accuracy: 1.0000\n",
            "Epoch 40/50\n",
            "250/250 [==============================] - 1s 5ms/step - loss: 2.5717e-06 - accuracy: 1.0000 - val_loss: 2.4699e-05 - val_accuracy: 1.0000\n",
            "Epoch 41/50\n",
            "250/250 [==============================] - 1s 6ms/step - loss: 2.8142e-06 - accuracy: 1.0000 - val_loss: 2.4178e-05 - val_accuracy: 1.0000\n",
            "Epoch 42/50\n",
            "250/250 [==============================] - 1s 5ms/step - loss: 2.0986e-06 - accuracy: 1.0000 - val_loss: 2.4854e-05 - val_accuracy: 1.0000\n",
            "Epoch 43/50\n",
            "250/250 [==============================] - 1s 5ms/step - loss: 2.5237e-06 - accuracy: 1.0000 - val_loss: 2.4776e-05 - val_accuracy: 1.0000\n",
            "Epoch 44/50\n",
            "250/250 [==============================] - 1s 5ms/step - loss: 2.0987e-06 - accuracy: 1.0000 - val_loss: 2.4612e-05 - val_accuracy: 1.0000\n",
            "Epoch 45/50\n",
            "250/250 [==============================] - 1s 5ms/step - loss: 2.3819e-06 - accuracy: 1.0000 - val_loss: 2.4272e-05 - val_accuracy: 1.0000\n",
            "Epoch 46/50\n",
            "250/250 [==============================] - 1s 6ms/step - loss: 2.2385e-06 - accuracy: 1.0000 - val_loss: 2.3766e-05 - val_accuracy: 1.0000\n",
            "Epoch 47/50\n",
            "250/250 [==============================] - 1s 5ms/step - loss: 2.3378e-06 - accuracy: 1.0000 - val_loss: 2.4793e-05 - val_accuracy: 1.0000\n",
            "Epoch 48/50\n",
            "250/250 [==============================] - 1s 6ms/step - loss: 1.9236e-06 - accuracy: 1.0000 - val_loss: 2.4348e-05 - val_accuracy: 1.0000\n",
            "Epoch 49/50\n",
            "250/250 [==============================] - 1s 5ms/step - loss: 1.9757e-06 - accuracy: 1.0000 - val_loss: 2.4227e-05 - val_accuracy: 1.0000\n",
            "Epoch 50/50\n",
            "250/250 [==============================] - 1s 5ms/step - loss: 2.5651e-06 - accuracy: 1.0000 - val_loss: 2.4518e-05 - val_accuracy: 1.0000\n"
          ]
        }
      ]
    },
    {
      "cell_type": "code",
      "metadata": {
        "colab": {
          "base_uri": "https://localhost:8080/"
        },
        "id": "qG2Wvjy7q1tn",
        "outputId": "e257301e-e7b5-47d7-977c-01dbe3b07cfa"
      },
      "source": [
        "print('The accuracy is {0:.2f}% '.format(100*hist.history['accuracy'][-1]))"
      ],
      "execution_count": 174,
      "outputs": [
        {
          "output_type": "stream",
          "name": "stdout",
          "text": [
            "The accuracy is 100.00% \n"
          ]
        }
      ]
    },
    {
      "cell_type": "code",
      "metadata": {
        "colab": {
          "base_uri": "https://localhost:8080/",
          "height": 518
        },
        "id": "RtHEjdIoq5K_",
        "outputId": "acde8605-ad4c-4660-fa0d-97fc20cd815c"
      },
      "source": [
        "# Plotting model loss\n",
        "plt.plot(hist.history['loss'], linewidth =3, label = 'Train')\n",
        "plt.plot(hist.history['val_loss'], linewidth =3, label = 'Test')\n",
        "\n",
        "plt.title('Model loss')\n",
        "plt.xlabel('Epoch')\n",
        "plt.ylabel('Loss')\n",
        "plt.legend()\n",
        "plt.show()"
      ],
      "execution_count": 175,
      "outputs": [
        {
          "output_type": "display_data",
          "data": {
            "image/png": "[encoded data removed]",
            "text/plain": [
              "<Figure size 864x576 with 1 Axes>"
            ]
          },
          "metadata": {}
        }
      ]
    },
    {
      "cell_type": "code",
      "metadata": {
        "colab": {
          "base_uri": "https://localhost:8080/",
          "height": 300
        },
        "id": "a27uLt8HrCdB",
        "outputId": "3beeb7a9-3a7e-45dd-a12a-a92ef64e3b9b"
      },
      "source": [
        "#making predictions\n",
        "\n",
        "X_test_pred = autoencoder.predict(X_test)\n",
        "mse_pred = np.mean(np.power(X_test - X_test_pred, 2), axis =1)\n",
        "\n",
        "df_error = pd.DataFrame({'Error': mse_pred, 'True_class': y_test})\n",
        "\n",
        "df_error.describe()"
      ],
      "execution_count": 176,
      "outputs": [
        {
          "output_type": "execute_result",
          "data": {
            "text/html": [
              "<div>\n",
              "<style scoped>\n",
              "    .dataframe tbody tr th:only-of-type {\n",
              "        vertical-align: middle;\n",
              "    }\n",
              "\n",
              "    .dataframe tbody tr th {\n",
              "        vertical-align: top;\n",
              "    }\n",
              "\n",
              "    .dataframe thead th {\n",
              "        text-align: right;\n",
              "    }\n",
              "</style>\n",
              "<table border=\"1\" class=\"dataframe\">\n",
              "  <thead>\n",
              "    <tr style=\"text-align: right;\">\n",
              "      <th></th>\n",
              "      <th>Error</th>\n",
              "      <th>True_class</th>\n",
              "    </tr>\n",
              "  </thead>\n",
              "  <tbody>\n",
              "    <tr>\n",
              "      <th>count</th>\n",
              "      <td>1.999000e+03</td>\n",
              "      <td>1999.000000</td>\n",
              "    </tr>\n",
              "    <tr>\n",
              "      <th>mean</th>\n",
              "      <td>2.437855e-05</td>\n",
              "      <td>0.013007</td>\n",
              "    </tr>\n",
              "    <tr>\n",
              "      <th>std</th>\n",
              "      <td>1.031828e-03</td>\n",
              "      <td>0.113330</td>\n",
              "    </tr>\n",
              "    <tr>\n",
              "      <th>min</th>\n",
              "      <td>1.103772e-08</td>\n",
              "      <td>0.000000</td>\n",
              "    </tr>\n",
              "    <tr>\n",
              "      <th>25%</th>\n",
              "      <td>6.072482e-08</td>\n",
              "      <td>0.000000</td>\n",
              "    </tr>\n",
              "    <tr>\n",
              "      <th>50%</th>\n",
              "      <td>9.606304e-08</td>\n",
              "      <td>0.000000</td>\n",
              "    </tr>\n",
              "    <tr>\n",
              "      <th>75%</th>\n",
              "      <td>1.111760e-07</td>\n",
              "      <td>0.000000</td>\n",
              "    </tr>\n",
              "    <tr>\n",
              "      <th>max</th>\n",
              "      <td>4.611521e-02</td>\n",
              "      <td>1.000000</td>\n",
              "    </tr>\n",
              "  </tbody>\n",
              "</table>\n",
              "</div>"
            ],
            "text/plain": [
              "              Error   True_class\n",
              "count  1.999000e+03  1999.000000\n",
              "mean   2.437855e-05     0.013007\n",
              "std    1.031828e-03     0.113330\n",
              "min    1.103772e-08     0.000000\n",
              "25%    6.072482e-08     0.000000\n",
              "50%    9.606304e-08     0.000000\n",
              "75%    1.111760e-07     0.000000\n",
              "max    4.611521e-02     1.000000"
            ]
          },
          "metadata": {},
          "execution_count": 176
        }
      ]
    },
    {
      "cell_type": "code",
      "metadata": {
        "colab": {
          "base_uri": "https://localhost:8080/"
        },
        "id": "he-aqPnIrPh_",
        "outputId": "3dd2c0a2-7374-49b6-f052-eda315e30317"
      },
      "source": [
        "df_error.info()"
      ],
      "execution_count": 177,
      "outputs": [
        {
          "output_type": "stream",
          "name": "stdout",
          "text": [
            "<class 'pandas.core.frame.DataFrame'>\n",
            "Int64Index: 1999 entries, 8865 to 8128\n",
            "Data columns (total 2 columns):\n",
            " #   Column      Non-Null Count  Dtype  \n",
            "---  ------      --------------  -----  \n",
            " 0   Error       1999 non-null   float64\n",
            " 1   True_class  1999 non-null   int64  \n",
            "dtypes: float64(1), int64(1)\n",
            "memory usage: 46.9 KB\n"
          ]
        }
      ]
    },
    {
      "cell_type": "code",
      "metadata": {
        "colab": {
          "base_uri": "https://localhost:8080/",
          "height": 206
        },
        "id": "pBO5jNT0rSZ_",
        "outputId": "8a384e2f-4d61-4c13-cb4b-02ca79d7f632"
      },
      "source": [
        "df_error.head()"
      ],
      "execution_count": 178,
      "outputs": [
        {
          "output_type": "execute_result",
          "data": {
            "text/html": [
              "<div>\n",
              "<style scoped>\n",
              "    .dataframe tbody tr th:only-of-type {\n",
              "        vertical-align: middle;\n",
              "    }\n",
              "\n",
              "    .dataframe tbody tr th {\n",
              "        vertical-align: top;\n",
              "    }\n",
              "\n",
              "    .dataframe thead th {\n",
              "        text-align: right;\n",
              "    }\n",
              "</style>\n",
              "<table border=\"1\" class=\"dataframe\">\n",
              "  <thead>\n",
              "    <tr style=\"text-align: right;\">\n",
              "      <th></th>\n",
              "      <th>Error</th>\n",
              "      <th>True_class</th>\n",
              "    </tr>\n",
              "  </thead>\n",
              "  <tbody>\n",
              "    <tr>\n",
              "      <th>8865</th>\n",
              "      <td>9.458260e-08</td>\n",
              "      <td>0</td>\n",
              "    </tr>\n",
              "    <tr>\n",
              "      <th>4049</th>\n",
              "      <td>2.395478e-08</td>\n",
              "      <td>0</td>\n",
              "    </tr>\n",
              "    <tr>\n",
              "      <th>11</th>\n",
              "      <td>8.668558e-08</td>\n",
              "      <td>0</td>\n",
              "    </tr>\n",
              "    <tr>\n",
              "      <th>7505</th>\n",
              "      <td>1.346877e-07</td>\n",
              "      <td>0</td>\n",
              "    </tr>\n",
              "    <tr>\n",
              "      <th>2102</th>\n",
              "      <td>7.120266e-08</td>\n",
              "      <td>0</td>\n",
              "    </tr>\n",
              "  </tbody>\n",
              "</table>\n",
              "</div>"
            ],
            "text/plain": [
              "             Error  True_class\n",
              "8865  9.458260e-08           0\n",
              "4049  2.395478e-08           0\n",
              "11    8.668558e-08           0\n",
              "7505  1.346877e-07           0\n",
              "2102  7.120266e-08           0"
            ]
          },
          "metadata": {},
          "execution_count": 178
        }
      ]
    },
    {
      "cell_type": "code",
      "metadata": {
        "colab": {
          "base_uri": "https://localhost:8080/",
          "height": 518
        },
        "id": "p8fcAtAorrkH",
        "outputId": "7f70c9b4-9875-4ce5-91ef-89304864900a"
      },
      "source": [
        "# plotting roc curve\n",
        "\n",
        "false_pos_rate , true_pos_rate, thresholds = roc_curve(df_error['True_class'], df_error['Error'])\n",
        "roc_auc = auc(false_pos_rate, true_pos_rate)\n",
        "\n",
        "plt.plot(false_pos_rate, true_pos_rate, linewidth = 3, label = 'AUC = %0.3f'% roc_auc)\n",
        "plt.plot([0,1], [0,1],linewidth = 3)\n",
        "plt.xlabel('False Positive Rate')\n",
        "plt.ylabel('True Positive Rate')\n",
        "plt.title('Receiver Operating Curve')\n",
        "\n",
        "plt.legend();"
      ],
      "execution_count": 179,
      "outputs": [
        {
          "output_type": "display_data",
          "data": {
            "image/png": "[encoded data removed]",
            "text/plain": [
              "<Figure size 864x576 with 1 Axes>"
            ]
          },
          "metadata": {}
        }
      ]
    },
    {
      "cell_type": "markdown",
      "metadata": {
        "id": "yT9CJREgygcX"
      },
      "source": [
        "**Using PyCaret**"
      ]
    },
    {
      "cell_type": "code",
      "metadata": {
        "id": "0lp_G6XRvORE"
      },
      "source": [
        "# install slim version (default)\n",
        "!pip3 install pycaret"
      ],
      "execution_count": null,
      "outputs": []
    },
    {
      "cell_type": "code",
      "metadata": {
        "colab": {
          "base_uri": "https://localhost:8080/"
        },
        "id": "eLNjALtMv2Gk",
        "outputId": "73b26f71-855e-439e-ea78-64e8de7af0e0"
      },
      "source": [
        "!pip3 install statsmodels --upgrade "
      ],
      "execution_count": null,
      "outputs": [
        {
          "output_type": "stream",
          "name": "stdout",
          "text": [
            "Requirement already satisfied: statsmodels in /usr/local/lib/python3.7/dist-packages (0.13.1)\n",
            "Requirement already satisfied: patsy>=0.5.2 in /usr/local/lib/python3.7/dist-packages (from statsmodels) (0.5.2)\n",
            "Requirement already satisfied: scipy>=1.3 in /usr/local/lib/python3.7/dist-packages (from statsmodels) (1.5.4)\n",
            "Requirement already satisfied: pandas>=0.25 in /usr/local/lib/python3.7/dist-packages (from statsmodels) (1.1.5)\n",
            "Requirement already satisfied: numpy>=1.17 in /usr/local/lib/python3.7/dist-packages (from statsmodels) (1.19.5)\n",
            "Requirement already satisfied: python-dateutil>=2.7.3 in /usr/local/lib/python3.7/dist-packages (from pandas>=0.25->statsmodels) (2.8.2)\n",
            "Requirement already satisfied: pytz>=2017.2 in /usr/local/lib/python3.7/dist-packages (from pandas>=0.25->statsmodels) (2018.9)\n",
            "Requirement already satisfied: six in /usr/local/lib/python3.7/dist-packages (from patsy>=0.5.2->statsmodels) (1.15.0)\n"
          ]
        }
      ]
    },
    {
      "cell_type": "code",
      "metadata": {
        "colab": {
          "base_uri": "https://localhost:8080/",
          "height": 1000,
          "referenced_widgets": [
            "f2936f555ddd42879e0630a7589fdda6",
            "7efce5eada95441f82f6aa5329c3e9ec",
            "755588831fe64e24ac55bf4604ff7e1b",
            "1326bca4c0414fb0b2c2fc11b2670da0",
            "26343301971d4227aea20403e1f48914",
            "1ccab507c9e746848fa811adaf17a1c8"
          ]
        },
        "id": "F2koZs20g0sp",
        "outputId": "f788e59a-d211-494b-c85c-d86bbcec41be"
      },
      "source": [
        "from pycaret.classification import *\n",
        "exp_clf101 = setup(data = df, target = 'Labels', session_id=123) "
      ],
      "execution_count": null,
      "outputs": [
        {
          "output_type": "display_data",
          "data": {
            "text/html": [
              "<div>\n",
              "<style scoped>\n",
              "    .dataframe tbody tr th:only-of-type {\n",
              "        vertical-align: middle;\n",
              "    }\n",
              "\n",
              "    .dataframe tbody tr th {\n",
              "        vertical-align: top;\n",
              "    }\n",
              "\n",
              "    .dataframe thead th {\n",
              "        text-align: right;\n",
              "    }\n",
              "</style>\n",
              "<table border=\"1\" class=\"dataframe\">\n",
              "  <thead>\n",
              "    <tr style=\"text-align: right;\">\n",
              "      <th></th>\n",
              "      <th>Description</th>\n",
              "      <th>Value</th>\n",
              "    </tr>\n",
              "  </thead>\n",
              "  <tbody>\n",
              "    <tr>\n",
              "      <th>0</th>\n",
              "      <td>session_id</td>\n",
              "      <td>123</td>\n",
              "    </tr>\n",
              "    <tr>\n",
              "      <th>1</th>\n",
              "      <td>Target</td>\n",
              "      <td>Labels</td>\n",
              "    </tr>\n",
              "    <tr>\n",
              "      <th>2</th>\n",
              "      <td>Target Type</td>\n",
              "      <td>Binary</td>\n",
              "    </tr>\n",
              "    <tr>\n",
              "      <th>3</th>\n",
              "      <td>Label Encoded</td>\n",
              "      <td>None</td>\n",
              "    </tr>\n",
              "    <tr>\n",
              "      <th>4</th>\n",
              "      <td>Original Data</td>\n",
              "      <td>(9994, 23)</td>\n",
              "    </tr>\n",
              "    <tr>\n",
              "      <th>5</th>\n",
              "      <td>Missing Values</td>\n",
              "      <td>False</td>\n",
              "    </tr>\n",
              "    <tr>\n",
              "      <th>6</th>\n",
              "      <td>Numeric Features</td>\n",
              "      <td>5</td>\n",
              "    </tr>\n",
              "    <tr>\n",
              "      <th>7</th>\n",
              "      <td>Categorical Features</td>\n",
              "      <td>15</td>\n",
              "    </tr>\n",
              "    <tr>\n",
              "      <th>8</th>\n",
              "      <td>Ordinal Features</td>\n",
              "      <td>False</td>\n",
              "    </tr>\n",
              "    <tr>\n",
              "      <th>9</th>\n",
              "      <td>High Cardinality Features</td>\n",
              "      <td>False</td>\n",
              "    </tr>\n",
              "    <tr>\n",
              "      <th>10</th>\n",
              "      <td>High Cardinality Method</td>\n",
              "      <td>None</td>\n",
              "    </tr>\n",
              "    <tr>\n",
              "      <th>11</th>\n",
              "      <td>Transformed Train Set</td>\n",
              "      <td>(6995, 7115)</td>\n",
              "    </tr>\n",
              "    <tr>\n",
              "      <th>12</th>\n",
              "      <td>Transformed Test Set</td>\n",
              "      <td>(2999, 7115)</td>\n",
              "    </tr>\n",
              "    <tr>\n",
              "      <th>13</th>\n",
              "      <td>Shuffle Train-Test</td>\n",
              "      <td>True</td>\n",
              "    </tr>\n",
              "    <tr>\n",
              "      <th>14</th>\n",
              "      <td>Stratify Train-Test</td>\n",
              "      <td>False</td>\n",
              "    </tr>\n",
              "    <tr>\n",
              "      <th>15</th>\n",
              "      <td>Fold Generator</td>\n",
              "      <td>StratifiedKFold</td>\n",
              "    </tr>\n",
              "    <tr>\n",
              "      <th>16</th>\n",
              "      <td>Fold Number</td>\n",
              "      <td>10</td>\n",
              "    </tr>\n",
              "    <tr>\n",
              "      <th>17</th>\n",
              "      <td>CPU Jobs</td>\n",
              "      <td>-1</td>\n",
              "    </tr>\n",
              "    <tr>\n",
              "      <th>18</th>\n",
              "      <td>Use GPU</td>\n",
              "      <td>False</td>\n",
              "    </tr>\n",
              "    <tr>\n",
              "      <th>19</th>\n",
              "      <td>Log Experiment</td>\n",
              "      <td>False</td>\n",
              "    </tr>\n",
              "    <tr>\n",
              "      <th>20</th>\n",
              "      <td>Experiment Name</td>\n",
              "      <td>clf-default-name</td>\n",
              "    </tr>\n",
              "    <tr>\n",
              "      <th>21</th>\n",
              "      <td>USI</td>\n",
              "      <td>7a0f</td>\n",
              "    </tr>\n",
              "    <tr>\n",
              "      <th>22</th>\n",
              "      <td>Imputation Type</td>\n",
              "      <td>simple</td>\n",
              "    </tr>\n",
              "    <tr>\n",
              "      <th>23</th>\n",
              "      <td>Iterative Imputation Iteration</td>\n",
              "      <td>None</td>\n",
              "    </tr>\n",
              "    <tr>\n",
              "      <th>24</th>\n",
              "      <td>Numeric Imputer</td>\n",
              "      <td>mean</td>\n",
              "    </tr>\n",
              "    <tr>\n",
              "      <th>25</th>\n",
              "      <td>Iterative Imputation Numeric Model</td>\n",
              "      <td>None</td>\n",
              "    </tr>\n",
              "    <tr>\n",
              "      <th>26</th>\n",
              "      <td>Categorical Imputer</td>\n",
              "      <td>constant</td>\n",
              "    </tr>\n",
              "    <tr>\n",
              "      <th>27</th>\n",
              "      <td>Iterative Imputation Categorical Model</td>\n",
              "      <td>None</td>\n",
              "    </tr>\n",
              "    <tr>\n",
              "      <th>28</th>\n",
              "      <td>Unknown Categoricals Handling</td>\n",
              "      <td>least_frequent</td>\n",
              "    </tr>\n",
              "    <tr>\n",
              "      <th>29</th>\n",
              "      <td>Normalize</td>\n",
              "      <td>False</td>\n",
              "    </tr>\n",
              "    <tr>\n",
              "      <th>30</th>\n",
              "      <td>Normalize Method</td>\n",
              "      <td>None</td>\n",
              "    </tr>\n",
              "    <tr>\n",
              "      <th>31</th>\n",
              "      <td>Transformation</td>\n",
              "      <td>False</td>\n",
              "    </tr>\n",
              "    <tr>\n",
              "      <th>32</th>\n",
              "      <td>Transformation Method</td>\n",
              "      <td>None</td>\n",
              "    </tr>\n",
              "    <tr>\n",
              "      <th>33</th>\n",
              "      <td>PCA</td>\n",
              "      <td>False</td>\n",
              "    </tr>\n",
              "    <tr>\n",
              "      <th>34</th>\n",
              "      <td>PCA Method</td>\n",
              "      <td>None</td>\n",
              "    </tr>\n",
              "    <tr>\n",
              "      <th>35</th>\n",
              "      <td>PCA Components</td>\n",
              "      <td>None</td>\n",
              "    </tr>\n",
              "    <tr>\n",
              "      <th>36</th>\n",
              "      <td>Ignore Low Variance</td>\n",
              "      <td>False</td>\n",
              "    </tr>\n",
              "    <tr>\n",
              "      <th>37</th>\n",
              "      <td>Combine Rare Levels</td>\n",
              "      <td>False</td>\n",
              "    </tr>\n",
              "    <tr>\n",
              "      <th>38</th>\n",
              "      <td>Rare Level Threshold</td>\n",
              "      <td>None</td>\n",
              "    </tr>\n",
              "    <tr>\n",
              "      <th>39</th>\n",
              "      <td>Numeric Binning</td>\n",
              "      <td>False</td>\n",
              "    </tr>\n",
              "    <tr>\n",
              "      <th>40</th>\n",
              "      <td>Remove Outliers</td>\n",
              "      <td>False</td>\n",
              "    </tr>\n",
              "    <tr>\n",
              "      <th>41</th>\n",
              "      <td>Outliers Threshold</td>\n",
              "      <td>None</td>\n",
              "    </tr>\n",
              "    <tr>\n",
              "      <th>42</th>\n",
              "      <td>Remove Multicollinearity</td>\n",
              "      <td>False</td>\n",
              "    </tr>\n",
              "    <tr>\n",
              "      <th>43</th>\n",
              "      <td>Multicollinearity Threshold</td>\n",
              "      <td>None</td>\n",
              "    </tr>\n",
              "    <tr>\n",
              "      <th>44</th>\n",
              "      <td>Remove Perfect Collinearity</td>\n",
              "      <td>True</td>\n",
              "    </tr>\n",
              "    <tr>\n",
              "      <th>45</th>\n",
              "      <td>Clustering</td>\n",
              "      <td>False</td>\n",
              "    </tr>\n",
              "    <tr>\n",
              "      <th>46</th>\n",
              "      <td>Clustering Iteration</td>\n",
              "      <td>None</td>\n",
              "    </tr>\n",
              "    <tr>\n",
              "      <th>47</th>\n",
              "      <td>Polynomial Features</td>\n",
              "      <td>False</td>\n",
              "    </tr>\n",
              "    <tr>\n",
              "      <th>48</th>\n",
              "      <td>Polynomial Degree</td>\n",
              "      <td>None</td>\n",
              "    </tr>\n",
              "    <tr>\n",
              "      <th>49</th>\n",
              "      <td>Trignometry Features</td>\n",
              "      <td>False</td>\n",
              "    </tr>\n",
              "    <tr>\n",
              "      <th>50</th>\n",
              "      <td>Polynomial Threshold</td>\n",
              "      <td>None</td>\n",
              "    </tr>\n",
              "    <tr>\n",
              "      <th>51</th>\n",
              "      <td>Group Features</td>\n",
              "      <td>False</td>\n",
              "    </tr>\n",
              "    <tr>\n",
              "      <th>52</th>\n",
              "      <td>Feature Selection</td>\n",
              "      <td>False</td>\n",
              "    </tr>\n",
              "    <tr>\n",
              "      <th>53</th>\n",
              "      <td>Feature Selection Method</td>\n",
              "      <td>classic</td>\n",
              "    </tr>\n",
              "    <tr>\n",
              "      <th>54</th>\n",
              "      <td>Features Selection Threshold</td>\n",
              "      <td>None</td>\n",
              "    </tr>\n",
              "    <tr>\n",
              "      <th>55</th>\n",
              "      <td>Feature Interaction</td>\n",
              "      <td>False</td>\n",
              "    </tr>\n",
              "    <tr>\n",
              "      <th>56</th>\n",
              "      <td>Feature Ratio</td>\n",
              "      <td>False</td>\n",
              "    </tr>\n",
              "    <tr>\n",
              "      <th>57</th>\n",
              "      <td>Interaction Threshold</td>\n",
              "      <td>None</td>\n",
              "    </tr>\n",
              "    <tr>\n",
              "      <th>58</th>\n",
              "      <td>Fix Imbalance</td>\n",
              "      <td>False</td>\n",
              "    </tr>\n",
              "    <tr>\n",
              "      <th>59</th>\n",
              "      <td>Fix Imbalance Method</td>\n",
              "      <td>SMOTE</td>\n",
              "    </tr>\n",
              "  </tbody>\n",
              "</table>\n",
              "</div>"
            ],
            "text/plain": [
              "                               Description             Value\n",
              "0                               session_id               123\n",
              "1                                   Target            Labels\n",
              "2                              Target Type            Binary\n",
              "3                            Label Encoded              None\n",
              "4                            Original Data        (9994, 23)\n",
              "5                           Missing Values             False\n",
              "6                         Numeric Features                 5\n",
              "7                     Categorical Features                15\n",
              "8                         Ordinal Features             False\n",
              "9                High Cardinality Features             False\n",
              "10                 High Cardinality Method              None\n",
              "11                   Transformed Train Set      (6995, 7115)\n",
              "12                    Transformed Test Set      (2999, 7115)\n",
              "13                      Shuffle Train-Test              True\n",
              "14                     Stratify Train-Test             False\n",
              "15                          Fold Generator   StratifiedKFold\n",
              "16                             Fold Number                10\n",
              "17                                CPU Jobs                -1\n",
              "18                                 Use GPU             False\n",
              "19                          Log Experiment             False\n",
              "20                         Experiment Name  clf-default-name\n",
              "21                                     USI              7a0f\n",
              "22                         Imputation Type            simple\n",
              "23          Iterative Imputation Iteration              None\n",
              "24                         Numeric Imputer              mean\n",
              "25      Iterative Imputation Numeric Model              None\n",
              "26                     Categorical Imputer          constant\n",
              "27  Iterative Imputation Categorical Model              None\n",
              "28           Unknown Categoricals Handling    least_frequent\n",
              "29                               Normalize             False\n",
              "30                        Normalize Method              None\n",
              "31                          Transformation             False\n",
              "32                   Transformation Method              None\n",
              "33                                     PCA             False\n",
              "34                              PCA Method              None\n",
              "35                          PCA Components              None\n",
              "36                     Ignore Low Variance             False\n",
              "37                     Combine Rare Levels             False\n",
              "38                    Rare Level Threshold              None\n",
              "39                         Numeric Binning             False\n",
              "40                         Remove Outliers             False\n",
              "41                      Outliers Threshold              None\n",
              "42                Remove Multicollinearity             False\n",
              "43             Multicollinearity Threshold              None\n",
              "44             Remove Perfect Collinearity              True\n",
              "45                              Clustering             False\n",
              "46                    Clustering Iteration              None\n",
              "47                     Polynomial Features             False\n",
              "48                       Polynomial Degree              None\n",
              "49                    Trignometry Features             False\n",
              "50                    Polynomial Threshold              None\n",
              "51                          Group Features             False\n",
              "52                       Feature Selection             False\n",
              "53                Feature Selection Method           classic\n",
              "54            Features Selection Threshold              None\n",
              "55                     Feature Interaction             False\n",
              "56                           Feature Ratio             False\n",
              "57                   Interaction Threshold              None\n",
              "58                           Fix Imbalance             False\n",
              "59                    Fix Imbalance Method             SMOTE"
            ]
          },
          "metadata": {}
        }
      ]
    },
    {
      "cell_type": "markdown",
      "metadata": {
        "id": "juaXvadshllf"
      },
      "source": [
        "**Comparing All Models**\n",
        "\n",
        "Comparing all models to evaluate performance is the recommended starting point for modeling once the setup is completed (unless you exactly know what kind of model you need, which is often not the case). This function trains all models in the model library and scores them using stratified cross validation for metric evaluation. The output prints a score grid that shows average Accuracy, AUC, Recall, Precision, F1 and Kappa accross the folds (10 by default) of all the available models in the model library."
      ]
    },
    {
      "cell_type": "code",
      "metadata": {
        "id": "q8yszvBihcey"
      },
      "source": [
        "compare_models()"
      ],
      "execution_count": null,
      "outputs": []
    },
    {
      "cell_type": "markdown",
      "metadata": {
        "id": "skphsOflh-_L"
      },
      "source": [
        "**Create a Model**\n",
        "\n",
        "There are 18 classifiers available in the model library of PyCaret. For example, we can use the random forest classifier.\n"
      ]
    },
    {
      "cell_type": "code",
      "metadata": {
        "colab": {
          "base_uri": "https://localhost:8080/",
          "height": 426,
          "referenced_widgets": [
            "0678742ba5b641ff966a533d8d34e8da",
            "1f97908b273b46b6b0c5782121c492fe",
            "839ea25e80fa414697f630c7fb2069d3"
          ]
        },
        "id": "PIw9wDo1h5Ai",
        "outputId": "95b683c6-65a0-4f2e-b8eb-297a93c16953"
      },
      "source": [
        "knn = create_model('knn')"
      ],
      "execution_count": null,
      "outputs": [
        {
          "output_type": "display_data",
          "data": {
            "text/html": [
              "<div>\n",
              "<style scoped>\n",
              "    .dataframe tbody tr th:only-of-type {\n",
              "        vertical-align: middle;\n",
              "    }\n",
              "\n",
              "    .dataframe tbody tr th {\n",
              "        vertical-align: top;\n",
              "    }\n",
              "\n",
              "    .dataframe thead th {\n",
              "        text-align: right;\n",
              "    }\n",
              "</style>\n",
              "<table border=\"1\" class=\"dataframe\">\n",
              "  <thead>\n",
              "    <tr style=\"text-align: right;\">\n",
              "      <th></th>\n",
              "      <th>Accuracy</th>\n",
              "      <th>AUC</th>\n",
              "      <th>Recall</th>\n",
              "      <th>Prec.</th>\n",
              "      <th>F1</th>\n",
              "      <th>Kappa</th>\n",
              "      <th>MCC</th>\n",
              "    </tr>\n",
              "  </thead>\n",
              "  <tbody>\n",
              "    <tr>\n",
              "      <th>0</th>\n",
              "      <td>0.8858</td>\n",
              "      <td>0.4922</td>\n",
              "      <td>0.0000</td>\n",
              "      <td>0.00</td>\n",
              "      <td>0.0000</td>\n",
              "      <td>-0.0249</td>\n",
              "      <td>-0.0396</td>\n",
              "    </tr>\n",
              "    <tr>\n",
              "      <th>1</th>\n",
              "      <td>0.8893</td>\n",
              "      <td>0.4330</td>\n",
              "      <td>0.0000</td>\n",
              "      <td>0.00</td>\n",
              "      <td>0.0000</td>\n",
              "      <td>-0.0192</td>\n",
              "      <td>-0.0342</td>\n",
              "    </tr>\n",
              "    <tr>\n",
              "      <th>2</th>\n",
              "      <td>0.8997</td>\n",
              "      <td>0.5060</td>\n",
              "      <td>0.0000</td>\n",
              "      <td>0.00</td>\n",
              "      <td>0.0000</td>\n",
              "      <td>0.0000</td>\n",
              "      <td>0.0000</td>\n",
              "    </tr>\n",
              "    <tr>\n",
              "      <th>3</th>\n",
              "      <td>0.8997</td>\n",
              "      <td>0.4725</td>\n",
              "      <td>0.0345</td>\n",
              "      <td>0.50</td>\n",
              "      <td>0.0645</td>\n",
              "      <td>0.0522</td>\n",
              "      <td>0.1110</td>\n",
              "    </tr>\n",
              "    <tr>\n",
              "      <th>4</th>\n",
              "      <td>0.8997</td>\n",
              "      <td>0.4558</td>\n",
              "      <td>0.0000</td>\n",
              "      <td>0.00</td>\n",
              "      <td>0.0000</td>\n",
              "      <td>0.0000</td>\n",
              "      <td>0.0000</td>\n",
              "    </tr>\n",
              "    <tr>\n",
              "      <th>5</th>\n",
              "      <td>0.8858</td>\n",
              "      <td>0.4001</td>\n",
              "      <td>0.0000</td>\n",
              "      <td>0.00</td>\n",
              "      <td>0.0000</td>\n",
              "      <td>-0.0192</td>\n",
              "      <td>-0.0349</td>\n",
              "    </tr>\n",
              "    <tr>\n",
              "      <th>6</th>\n",
              "      <td>0.8962</td>\n",
              "      <td>0.3448</td>\n",
              "      <td>0.0000</td>\n",
              "      <td>0.00</td>\n",
              "      <td>0.0000</td>\n",
              "      <td>0.0000</td>\n",
              "      <td>0.0000</td>\n",
              "    </tr>\n",
              "    <tr>\n",
              "      <th>7</th>\n",
              "      <td>0.8962</td>\n",
              "      <td>0.5261</td>\n",
              "      <td>0.0000</td>\n",
              "      <td>0.00</td>\n",
              "      <td>0.0000</td>\n",
              "      <td>0.0000</td>\n",
              "      <td>0.0000</td>\n",
              "    </tr>\n",
              "    <tr>\n",
              "      <th>8</th>\n",
              "      <td>0.8858</td>\n",
              "      <td>0.4438</td>\n",
              "      <td>0.0000</td>\n",
              "      <td>0.00</td>\n",
              "      <td>0.0000</td>\n",
              "      <td>-0.0192</td>\n",
              "      <td>-0.0349</td>\n",
              "    </tr>\n",
              "    <tr>\n",
              "      <th>9</th>\n",
              "      <td>0.8958</td>\n",
              "      <td>0.4743</td>\n",
              "      <td>0.0000</td>\n",
              "      <td>0.00</td>\n",
              "      <td>0.0000</td>\n",
              "      <td>-0.0068</td>\n",
              "      <td>-0.0198</td>\n",
              "    </tr>\n",
              "    <tr>\n",
              "      <th>Mean</th>\n",
              "      <td>0.8934</td>\n",
              "      <td>0.4549</td>\n",
              "      <td>0.0034</td>\n",
              "      <td>0.05</td>\n",
              "      <td>0.0065</td>\n",
              "      <td>-0.0037</td>\n",
              "      <td>-0.0052</td>\n",
              "    </tr>\n",
              "    <tr>\n",
              "      <th>SD</th>\n",
              "      <td>0.0057</td>\n",
              "      <td>0.0505</td>\n",
              "      <td>0.0103</td>\n",
              "      <td>0.15</td>\n",
              "      <td>0.0194</td>\n",
              "      <td>0.0209</td>\n",
              "      <td>0.0420</td>\n",
              "    </tr>\n",
              "  </tbody>\n",
              "</table>\n",
              "</div>"
            ],
            "text/plain": [
              "      Accuracy     AUC  Recall  Prec.      F1   Kappa     MCC\n",
              "0       0.8858  0.4922  0.0000   0.00  0.0000 -0.0249 -0.0396\n",
              "1       0.8893  0.4330  0.0000   0.00  0.0000 -0.0192 -0.0342\n",
              "2       0.8997  0.5060  0.0000   0.00  0.0000  0.0000  0.0000\n",
              "3       0.8997  0.4725  0.0345   0.50  0.0645  0.0522  0.1110\n",
              "4       0.8997  0.4558  0.0000   0.00  0.0000  0.0000  0.0000\n",
              "5       0.8858  0.4001  0.0000   0.00  0.0000 -0.0192 -0.0349\n",
              "6       0.8962  0.3448  0.0000   0.00  0.0000  0.0000  0.0000\n",
              "7       0.8962  0.5261  0.0000   0.00  0.0000  0.0000  0.0000\n",
              "8       0.8858  0.4438  0.0000   0.00  0.0000 -0.0192 -0.0349\n",
              "9       0.8958  0.4743  0.0000   0.00  0.0000 -0.0068 -0.0198\n",
              "Mean    0.8934  0.4549  0.0034   0.05  0.0065 -0.0037 -0.0052\n",
              "SD      0.0057  0.0505  0.0103   0.15  0.0194  0.0209  0.0420"
            ]
          },
          "metadata": {}
        }
      ]
    },
    {
      "cell_type": "markdown",
      "metadata": {
        "id": "wsMinFkajONq"
      },
      "source": [
        "**Plot a Model**\n",
        "\n",
        "Before model finalization, the plot_model() function can be used to analyze the performance across different aspects such as AUC, confusion_matrix, decision boundary etc. This function takes a trained model object and returns a plot based on the test / hold-out set.\n",
        "\n",
        "There are 15 different plots available, please see the plot_model() docstring for the list of available plots."
      ]
    },
    {
      "cell_type": "code",
      "metadata": {
        "colab": {
          "base_uri": "https://localhost:8080/",
          "height": 492,
          "referenced_widgets": [
            "ee1b125dc3674d44be3ee9889ea609d0",
            "c64bdb4310ca40ddbe9d12ef8fef4a1c",
            "30780373eed94e91ba26b35332269b40",
            "3463846c9ec841e4886f843306f8f3c8",
            "48470d9d3d3e4bf285240c8a657e09ee",
            "0493cb9d330343a79dc7575cf036d4de",
            "835651a0b76f4fe8b1e2d93e64cd6a40",
            "346a7e52f80b4c3286db1f4104120f04",
            "78964c3575334153bb3c754597867482",
            "1a2bb6684c044b8089ddd8162241a150",
            "f2a9fe03a3cf4973b219f7aa8f928a43",
            "57c452ea02d9417fb66bbb14bd909d39",
            "f90ebd41e3124af69377a5650cf1738f",
            "bc71e7889c154ee58dfa08e8ac864dd6",
            "7b8023a82446448ba05fbab3ba0b1e81",
            "ee5e24cac3634766be59227915fd97ce"
          ]
        },
        "id": "fciyLdPEjQSa",
        "outputId": "c143f8c7-8bb9-42a9-8c6a-758029ce1d44"
      },
      "source": [
        "evaluate_model(knn)"
      ],
      "execution_count": null,
      "outputs": [
        {
          "output_type": "display_data",
          "data": {
            "application/vnd.jupyter.widget-view+json": {
              "model_id": "ee1b125dc3674d44be3ee9889ea609d0",
              "version_minor": 0,
              "version_major": 2
            },
            "text/plain": [
              "interactive(children=(ToggleButtons(description='Plot Type:', icons=('',), options=(('Hyperparameters', 'param…"
            ]
          },
          "metadata": {}
        }
      ]
    },
    {
      "cell_type": "markdown",
      "metadata": {
        "id": "t8S-UI93nWrr"
      },
      "source": [
        "**Predict on unseen data**\n",
        "\n",
        "The predict_model() function is also used to predict on the unseen dataset."
      ]
    },
    {
      "cell_type": "code",
      "metadata": {
        "colab": {
          "base_uri": "https://localhost:8080/",
          "height": 80
        },
        "id": "7oSBoGiJn2aM",
        "outputId": "c4f4afd5-fd6e-49f3-9ca0-b9be739cde45"
      },
      "source": [
        "predict_model(knn);"
      ],
      "execution_count": null,
      "outputs": [
        {
          "output_type": "display_data",
          "data": {
            "text/html": [
              "<div>\n",
              "<style scoped>\n",
              "    .dataframe tbody tr th:only-of-type {\n",
              "        vertical-align: middle;\n",
              "    }\n",
              "\n",
              "    .dataframe tbody tr th {\n",
              "        vertical-align: top;\n",
              "    }\n",
              "\n",
              "    .dataframe thead th {\n",
              "        text-align: right;\n",
              "    }\n",
              "</style>\n",
              "<table border=\"1\" class=\"dataframe\">\n",
              "  <thead>\n",
              "    <tr style=\"text-align: right;\">\n",
              "      <th></th>\n",
              "      <th>Model</th>\n",
              "      <th>Accuracy</th>\n",
              "      <th>AUC</th>\n",
              "      <th>Recall</th>\n",
              "      <th>Prec.</th>\n",
              "      <th>F1</th>\n",
              "      <th>Kappa</th>\n",
              "      <th>MCC</th>\n",
              "    </tr>\n",
              "  </thead>\n",
              "  <tbody>\n",
              "    <tr>\n",
              "      <th>0</th>\n",
              "      <td>K Neighbors Classifier</td>\n",
              "      <td>0.8935</td>\n",
              "      <td>0.4691</td>\n",
              "      <td>0.0</td>\n",
              "      <td>0.0</td>\n",
              "      <td>0.0</td>\n",
              "      <td>-0.0093</td>\n",
              "      <td>-0.0235</td>\n",
              "    </tr>\n",
              "  </tbody>\n",
              "</table>\n",
              "</div>"
            ],
            "text/plain": [
              "                    Model  Accuracy     AUC  Recall  Prec.   F1   Kappa     MCC\n",
              "0  K Neighbors Classifier    0.8935  0.4691     0.0    0.0  0.0 -0.0093 -0.0235"
            ]
          },
          "metadata": {}
        }
      ]
    },
    {
      "cell_type": "markdown",
      "metadata": {
        "id": "yXcq-pUvoGOk"
      },
      "source": [
        "**Finalize Model for Deployment**\n",
        "\n",
        "Model finalization is the last step in the experiment. A normal machine learning workflow in PyCaret starts with setup(), followed by comparing all models using compare_models() and shortlisting a few candidate models (based on the metric of interest) to perform several modeling techniques such as hyperparameter tuning, ensembling, stacking etc."
      ]
    },
    {
      "cell_type": "code",
      "metadata": {
        "colab": {
          "base_uri": "https://localhost:8080/",
          "height": 80
        },
        "id": "X3VWVWxpoIRE",
        "outputId": "efa51cd1-563c-4817-b27a-72a6702c27cb"
      },
      "source": [
        "knn = finalize_model(knn)\n",
        "predict_model(knn);"
      ],
      "execution_count": null,
      "outputs": [
        {
          "output_type": "display_data",
          "data": {
            "text/html": [
              "<div>\n",
              "<style scoped>\n",
              "    .dataframe tbody tr th:only-of-type {\n",
              "        vertical-align: middle;\n",
              "    }\n",
              "\n",
              "    .dataframe tbody tr th {\n",
              "        vertical-align: top;\n",
              "    }\n",
              "\n",
              "    .dataframe thead th {\n",
              "        text-align: right;\n",
              "    }\n",
              "</style>\n",
              "<table border=\"1\" class=\"dataframe\">\n",
              "  <thead>\n",
              "    <tr style=\"text-align: right;\">\n",
              "      <th></th>\n",
              "      <th>Model</th>\n",
              "      <th>Accuracy</th>\n",
              "      <th>AUC</th>\n",
              "      <th>Recall</th>\n",
              "      <th>Prec.</th>\n",
              "      <th>F1</th>\n",
              "      <th>Kappa</th>\n",
              "      <th>MCC</th>\n",
              "    </tr>\n",
              "  </thead>\n",
              "  <tbody>\n",
              "    <tr>\n",
              "      <th>0</th>\n",
              "      <td>K Neighbors Classifier</td>\n",
              "      <td>0.8991</td>\n",
              "      <td>0.8895</td>\n",
              "      <td>0.0159</td>\n",
              "      <td>0.6667</td>\n",
              "      <td>0.031</td>\n",
              "      <td>0.0264</td>\n",
              "      <td>0.0921</td>\n",
              "    </tr>\n",
              "  </tbody>\n",
              "</table>\n",
              "</div>"
            ],
            "text/plain": [
              "                    Model  Accuracy     AUC  ...     F1   Kappa     MCC\n",
              "0  K Neighbors Classifier    0.8991  0.8895  ...  0.031  0.0264  0.0921\n",
              "\n",
              "[1 rows x 8 columns]"
            ]
          },
          "metadata": {}
        }
      ]
    },
    {
      "cell_type": "markdown",
      "metadata": {
        "id": "ftXjSkZuoXIM"
      },
      "source": [
        "The predict_model() function is also used to predict on the unseen dataset. "
      ]
    },
    {
      "cell_type": "code",
      "metadata": {
        "colab": {
          "base_uri": "https://localhost:8080/",
          "height": 237
        },
        "id": "ZMWuesO3my3L",
        "outputId": "4b6d4db8-070c-47e3-a3f1-0ad97f4cb58a"
      },
      "source": [
        "unseen_predictions = predict_model(knn, data=test_data)\n",
        "unseen_predictions.head()"
      ],
      "execution_count": null,
      "outputs": [
        {
          "output_type": "execute_result",
          "data": {
            "text/html": [
              "<div>\n",
              "<style scoped>\n",
              "    .dataframe tbody tr th:only-of-type {\n",
              "        vertical-align: middle;\n",
              "    }\n",
              "\n",
              "    .dataframe tbody tr th {\n",
              "        vertical-align: top;\n",
              "    }\n",
              "\n",
              "    .dataframe thead th {\n",
              "        text-align: right;\n",
              "    }\n",
              "</style>\n",
              "<table border=\"1\" class=\"dataframe\">\n",
              "  <thead>\n",
              "    <tr style=\"text-align: right;\">\n",
              "      <th></th>\n",
              "      <th>value</th>\n",
              "      <th>day</th>\n",
              "      <th>day_name</th>\n",
              "      <th>day_of_year</th>\n",
              "      <th>week_of_year</th>\n",
              "      <th>hour</th>\n",
              "      <th>is_weekday</th>\n",
              "      <th>Labels</th>\n",
              "      <th>Anomaly_Score</th>\n",
              "      <th>Label</th>\n",
              "      <th>Score</th>\n",
              "    </tr>\n",
              "    <tr>\n",
              "      <th>timestamp</th>\n",
              "      <th></th>\n",
              "      <th></th>\n",
              "      <th></th>\n",
              "      <th></th>\n",
              "      <th></th>\n",
              "      <th></th>\n",
              "      <th></th>\n",
              "      <th></th>\n",
              "      <th></th>\n",
              "      <th></th>\n",
              "      <th></th>\n",
              "    </tr>\n",
              "  </thead>\n",
              "  <tbody>\n",
              "    <tr>\n",
              "      <th>2014-09-28 09:00:00</th>\n",
              "      <td>23095</td>\n",
              "      <td>28</td>\n",
              "      <td>Sunday</td>\n",
              "      <td>271</td>\n",
              "      <td>39</td>\n",
              "      <td>9</td>\n",
              "      <td>7</td>\n",
              "      <td>0</td>\n",
              "      <td>0.116206</td>\n",
              "      <td>0</td>\n",
              "      <td>0.6</td>\n",
              "    </tr>\n",
              "    <tr>\n",
              "      <th>2015-01-08 11:00:00</th>\n",
              "      <td>33154</td>\n",
              "      <td>8</td>\n",
              "      <td>Thursday</td>\n",
              "      <td>8</td>\n",
              "      <td>2</td>\n",
              "      <td>11</td>\n",
              "      <td>4</td>\n",
              "      <td>1</td>\n",
              "      <td>0.609937</td>\n",
              "      <td>0</td>\n",
              "      <td>1.0</td>\n",
              "    </tr>\n",
              "    <tr>\n",
              "      <th>2015-01-26 10:00:00</th>\n",
              "      <td>27690</td>\n",
              "      <td>26</td>\n",
              "      <td>Monday</td>\n",
              "      <td>26</td>\n",
              "      <td>5</td>\n",
              "      <td>10</td>\n",
              "      <td>1</td>\n",
              "      <td>0</td>\n",
              "      <td>0.201843</td>\n",
              "      <td>0</td>\n",
              "      <td>0.8</td>\n",
              "    </tr>\n",
              "    <tr>\n",
              "      <th>2014-09-16 09:00:00</th>\n",
              "      <td>40648</td>\n",
              "      <td>16</td>\n",
              "      <td>Tuesday</td>\n",
              "      <td>259</td>\n",
              "      <td>38</td>\n",
              "      <td>9</td>\n",
              "      <td>2</td>\n",
              "      <td>0</td>\n",
              "      <td>0.290219</td>\n",
              "      <td>0</td>\n",
              "      <td>0.6</td>\n",
              "    </tr>\n",
              "    <tr>\n",
              "      <th>2014-11-20 03:00:00</th>\n",
              "      <td>5568</td>\n",
              "      <td>20</td>\n",
              "      <td>Thursday</td>\n",
              "      <td>324</td>\n",
              "      <td>47</td>\n",
              "      <td>3</td>\n",
              "      <td>4</td>\n",
              "      <td>1</td>\n",
              "      <td>0.704642</td>\n",
              "      <td>0</td>\n",
              "      <td>1.0</td>\n",
              "    </tr>\n",
              "  </tbody>\n",
              "</table>\n",
              "</div>"
            ],
            "text/plain": [
              "                     value  day  day_name  ...  Anomaly_Score  Label  Score\n",
              "timestamp                                  ...                             \n",
              "2014-09-28 09:00:00  23095   28    Sunday  ...       0.116206      0    0.6\n",
              "2015-01-08 11:00:00  33154    8  Thursday  ...       0.609937      0    1.0\n",
              "2015-01-26 10:00:00  27690   26    Monday  ...       0.201843      0    0.8\n",
              "2014-09-16 09:00:00  40648   16   Tuesday  ...       0.290219      0    0.6\n",
              "2014-11-20 03:00:00   5568   20  Thursday  ...       0.704642      0    1.0\n",
              "\n",
              "[5 rows x 11 columns]"
            ]
          },
          "metadata": {},
          "execution_count": 179
        }
      ]
    },
    {
      "cell_type": "markdown",
      "metadata": {
        "id": "nZrJtPL1nRBY"
      },
      "source": [
        "The Label and Score columns are added onto the data_unseen set. Label is the prediction and score is the probability of the prediction. Notice that predicted results are concatenated to the original dataset while all the transformations are automatically performed in the background."
      ]
    }
  ]
}